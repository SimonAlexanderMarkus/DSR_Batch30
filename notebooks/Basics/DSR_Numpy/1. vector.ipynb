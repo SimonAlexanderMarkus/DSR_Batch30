{
 "cells": [
  {
   "cell_type": "code",
   "execution_count": 2,
   "metadata": {},
   "outputs": [],
   "source": [
    "import numpy as np\n",
    "import matplotlib.pyplot as plt\n",
    "import pandas as pd\n",
    "import sys"
   ]
  },
  {
   "cell_type": "markdown",
   "metadata": {
    "tags": []
   },
   "source": [
    "# Vectors\n",
    "\n",
    "This notebook uses many images from the excellent [A Visual Intro to NumPy and Data Representation](https://jalammar.github.io/visual-numpy/) from [Jay Alammar](https://jalammar.github.io/).\n",
    "\n",
    "## Axes\n",
    "\n",
    "Axes == dimension\n",
    "\n",
    "i.e. three axes == three dimensions\n",
    "\n",
    "## Scalars, vectors, matricies and tensors\n",
    "\n",
    "See Chapter 2 of [Deep Learning](https://www.deeplearningbook.org/).\n",
    "\n",
    "Being specific about how we use these terms (there is no solid concensus - many people (including me) will use array and/or tensor).\n",
    "\n",
    "### Scalar\n",
    "\n",
    "$\\textit{x}$\n",
    "\n",
    "- single number\n",
    "- lowercase, italic $\\textit{x}$\n",
    "- point\n",
    "\n",
    "### Vector\n",
    "\n",
    "$\\textbf{x} = \\begin{bmatrix}x_{1} \\\\ x_{2} \\\\ \\vdots \\\\ x_{n} \\end{bmatrix}$\n",
    "\n",
    "- array of $n$ numbers\n",
    "- lowercase, bold \n",
    "- $x_{1}$ = first element\n",
    "- line\n",
    "\n",
    "### Matrix\n",
    "\n",
    "$\\textbf{A}_{2, 2} = \\begin{bmatrix}A_{1, 1} & A_{1, 2} \\\\ A_{2, 1} & A_{2, 2}\\end{bmatrix}$\n",
    "\n",
    "- two dimensional\n",
    "- uppercase, bold $\\textbf{A}_{m, n}$\n",
    "- $A_{1, 1}$ = first element\n",
    "- area\n",
    "\n",
    "### Tensor\n",
    "\n",
    "- n-dimensional\n",
    "- 3 = volume\n",
    "- uppercase, bold $\\textbf{A}_{i,j,k}$\n",
    "\n",
    "## When `numpy`\n",
    "\n",
    "Linear algebra, non-tabular data processing, deep learning\n",
    "\n",
    "## When *NOT* `numpy`\n",
    "Tabular data, data analysis \n",
    "\n",
    "Pandas sits on top of `numpy`:\n",
    "\n",
    "> has data headers -> pandas (e.g. tabular), data (-columns) without header -> numpy (e.g. bitmap)"
   ]
  },
  {
   "cell_type": "code",
   "execution_count": null,
   "metadata": {},
   "outputs": [],
   "source": []
  },
  {
   "cell_type": "markdown",
   "metadata": {},
   "source": [
    "## What is `numpy`\n",
    "\n",
    "Library for working with n-dimensional data\n",
    "- **store and operate on data using C structures**\n",
    "\n",
    "<img src=\"assets/c.png\" alt=\"\" width=\"350\"/>\n",
    "\n",
    "## Why `numpy`\n",
    "\n",
    "Functionality - There is nothing that cannot be done with python lists that can be done with numpy arrays. It is sometimes just nicer to use\n",
    "- vector, matrix & tensor operations\n",
    "\n",
    "Uses less memory\n",
    "- fixed data types (can also be a drawback)\n",
    "\n",
    "Speed\n",
    "- fixed data types (benefit from static typing)\n",
    "- C implementation\n",
    "\n",
    "Below we implement a sum operation using a Python loop:"
   ]
  },
  {
   "cell_type": "code",
   "execution_count": 3,
   "metadata": {},
   "outputs": [
    {
     "data": {
      "text/plain": [
       "'2.98 seconds'"
      ]
     },
     "execution_count": 3,
     "metadata": {},
     "output_type": "execute_result"
    }
   ],
   "source": [
    "def loop(left, right):\n",
    "    data = np.zeros(left.shape[0])\n",
    "    for i in range(data.shape[0]):\n",
    "        data[i] = left[i] + right[i]\n",
    "    return data\n",
    "\n",
    "left = np.arange(10000000)\n",
    "right = np.arange(10000000)\n",
    "\n",
    "#  excuse the horrbile hack here\n",
    "#  want to always print the time in seconds\n",
    "res = %timeit -qo loop(left, right)\n",
    "\n",
    "'{:.2f} seconds'.format(res.average)"
   ]
  },
  {
   "cell_type": "markdown",
   "metadata": {},
   "source": [
    "Now lets try it using `numpy` addition:"
   ]
  },
  {
   "cell_type": "code",
   "execution_count": 4,
   "metadata": {},
   "outputs": [
    {
     "data": {
      "text/plain": [
       "'0.02 seconds'"
      ]
     },
     "execution_count": 4,
     "metadata": {},
     "output_type": "execute_result"
    }
   ],
   "source": [
    "res = %timeit -qo left + right\n",
    "\n",
    "'{:.2f} seconds'.format(res.average)"
   ]
  },
  {
   "cell_type": "markdown",
   "metadata": {},
   "source": [
    "Numpy arrays also take way less storage compared to python lists, consider that example:"
   ]
  },
  {
   "cell_type": "code",
   "execution_count": 28,
   "metadata": {},
   "outputs": [
    {
     "name": "stdout",
     "output_type": "stream",
     "text": [
      "Storage size of python lists is 3.5 times bigger than numpy arrays\n"
     ]
    }
   ],
   "source": [
    "py_arr = [1,2,3,4,5,6] # Normal python list\n",
    "numpy_arr = np.array([1,2,3,4,5,6]) # Numpy array \n",
    "\n",
    "sizeof_py_arr = sys.getsizeof(1) * len(py_arr)           # Calculating size for python list\n",
    "sizeof_numpy_arr = numpy_arr.itemsize * numpy_arr.size   # Calculating size for numpy array\n",
    "\n",
    "# Printing the ratio of python list to numpy array\n",
    "print(\"Storage size of python lists is \" + str(sizeof_py_arr / sizeof_numpy_arr) + \" times bigger than numpy arrays\")\n"
   ]
  },
  {
   "cell_type": "markdown",
   "metadata": {},
   "source": [
    "Note that not only is `numpy` quicker, it is **more readable**!\n",
    "\n",
    "The reason that `numpy` is faster is **vectorization**\n",
    "- running multiple operations from a single instruction\n",
    "\n",
    "Many CPU's have operation that run in parallel (modern x86 chips have the SSE instructions)\n",
    "\n",
    "Vectorization is\n",
    "- the process of rewriting a loop \n",
    "- instead of processing a single element of an array N times\n",
    "- it processes 4 elements of the array simultaneously N/4 times"
   ]
  },
  {
   "cell_type": "markdown",
   "metadata": {},
   "source": [
    "## `list` versus `np.array`\n",
    "\n",
    "Python list\n",
    "- general-purpose container - can hold different data types\n",
    "- support (fairly) efficient insertion, deletion, appending, and concatenation\n",
    "- list comprehensions make them easy to construct and manipulate\n",
    "- only a few list operations can be carried out in C (because of the need for type checking)\n",
    "- the list holds pointers to items scattered across memory\n",
    "\n",
    "Numpy array\n",
    "- **only one data type**\n",
    "- less flexible\n",
    "- vectorized operations\n",
    "- fixed size\n",
    "- data in one place in memory\n",
    "\n",
    "Only holding one data type means that numpy can efficiently store data in memory\n",
    "\n",
    "A list doesn't know what the next object will be - this makes storing it in memory challenging\n",
    "\n",
    "```python\n",
    "[0, 1.0, '2.0']\n",
    "```\n",
    "\n",
    "We can make an array from a list - `numpy` will make assumptions about what datatype the array should hold:"
   ]
  },
  {
   "cell_type": "code",
   "execution_count": 10,
   "metadata": {},
   "outputs": [
    {
     "name": "stdout",
     "output_type": "stream",
     "text": [
      "[10. 20.  0.]\n",
      "float64\n",
      "<class 'numpy.ndarray'>\n"
     ]
    }
   ],
   "source": [
    "a = np.array([10, 20.0, 0])\n",
    "print(a)\n",
    "print(a.dtype)\n",
    "print(type(a))"
   ]
  },
  {
   "cell_type": "markdown",
   "metadata": {},
   "source": [
    "We can see the data type by accessing the `.dtype` attribute:"
   ]
  },
  {
   "cell_type": "code",
   "execution_count": 11,
   "metadata": {},
   "outputs": [
    {
     "data": {
      "text/plain": [
       "dtype('float64')"
      ]
     },
     "execution_count": 11,
     "metadata": {},
     "output_type": "execute_result"
    }
   ],
   "source": [
    "a.dtype"
   ]
  },
  {
   "cell_type": "markdown",
   "metadata": {},
   "source": [
    "We can change the datatype of an array:"
   ]
  },
  {
   "cell_type": "code",
   "execution_count": 14,
   "metadata": {},
   "outputs": [
    {
     "data": {
      "text/plain": [
       "array([10, 20,  3])"
      ]
     },
     "execution_count": 14,
     "metadata": {},
     "output_type": "execute_result"
    }
   ],
   "source": [
    "b = np.array([10, 20.0, 3.4], copy=False).astype(\"int\")\n",
    "b"
   ]
  },
  {
   "cell_type": "markdown",
   "metadata": {},
   "source": [
    "Note that changing the datatype will by default create a newly allocated array (new location in memory) - you can control this using a an argument:"
   ]
  },
  {
   "cell_type": "code",
   "execution_count": 13,
   "metadata": {},
   "outputs": [
    {
     "data": {
      "text/plain": [
       "3"
      ]
     },
     "execution_count": 13,
     "metadata": {},
     "output_type": "execute_result"
    }
   ],
   "source": [
    "a.size"
   ]
  },
  {
   "cell_type": "code",
   "execution_count": 15,
   "metadata": {},
   "outputs": [
    {
     "data": {
      "text/plain": [
       "3"
      ]
     },
     "execution_count": 15,
     "metadata": {},
     "output_type": "execute_result"
    }
   ],
   "source": [
    "b.size"
   ]
  },
  {
   "cell_type": "code",
   "execution_count": null,
   "metadata": {},
   "outputs": [],
   "source": []
  },
  {
   "cell_type": "markdown",
   "metadata": {},
   "source": [
    "We can see the number of elements in an array:"
   ]
  },
  {
   "cell_type": "code",
   "execution_count": null,
   "metadata": {},
   "outputs": [],
   "source": []
  },
  {
   "cell_type": "markdown",
   "metadata": {},
   "source": [
    "For a vector the size will be the same as the shape:"
   ]
  },
  {
   "cell_type": "code",
   "execution_count": null,
   "metadata": {},
   "outputs": [],
   "source": []
  },
  {
   "cell_type": "markdown",
   "metadata": {},
   "source": [
    "We can also get the number of elements in a vector using the Python bulitin `len`:"
   ]
  },
  {
   "cell_type": "code",
   "execution_count": null,
   "metadata": {},
   "outputs": [],
   "source": []
  },
  {
   "cell_type": "markdown",
   "metadata": {},
   "source": [
    "## Vectors\n",
    "\n",
    "$\\begin{bmatrix}x_{1} & x_{2} & \\cdots & x_{n} \\end{bmatrix}$\n",
    "\n",
    "- array of $n$ numbers\n",
    "- lowercase, bold $\\textbf{x}$\n",
    "- $x_{1}$ = first element\n",
    "- line"
   ]
  },
  {
   "cell_type": "markdown",
   "metadata": {},
   "source": [
    "We can visualize a vector as a line:"
   ]
  },
  {
   "cell_type": "code",
   "execution_count": 28,
   "metadata": {},
   "outputs": [
    {
     "name": "stdout",
     "output_type": "stream",
     "text": [
      "[[[[  0.   1.   2.   3.   4.]\n",
      "   [  5.   6.   7.   8.   9.]\n",
      "   [ 10.  11.  12.  13.  14.]\n",
      "   [ 15.  16.  17.  18.  19.]]\n",
      "\n",
      "  [[ 20.  21.  22.  23.  24.]\n",
      "   [ 25.  26.  27.  28.  29.]\n",
      "   [ 30.  31.  32.  33.  34.]\n",
      "   [ 35.  36.  37.  38.  39.]]\n",
      "\n",
      "  [[ 40.  41.  42.  43.  44.]\n",
      "   [ 45.  46.  47.  48.  49.]\n",
      "   [ 50.  51.  52.  53.  54.]\n",
      "   [ 55.  56.  57.  58.  59.]]]\n",
      "\n",
      "\n",
      " [[[ 60.  61.  62.  63.  64.]\n",
      "   [ 65.  66.  67.  68.  69.]\n",
      "   [ 70.  71.  72.  73.  74.]\n",
      "   [ 75.  76.  77.  78.  79.]]\n",
      "\n",
      "  [[ 80.  81.  82.  83.  84.]\n",
      "   [ 85.  86.  87.  88.  89.]\n",
      "   [ 90.  91.  92.  93.  94.]\n",
      "   [ 95.  96.  97.  98.  99.]]\n",
      "\n",
      "  [[100. 101. 102. 103. 104.]\n",
      "   [105. 106. 107. 108. 109.]\n",
      "   [110. 111. 112. 113. 114.]\n",
      "   [115. 116. 117. 118. 119.]]]]\n",
      "size: 120, shape: (2, 3, 4, 5), dtype: float64, strides: (480, 160, 40, 8)\n"
     ]
    }
   ],
   "source": [
    "dims = (2,3,4,5)\n",
    "x = np.arange(np.prod(dims)).reshape(dims).astype(\"float64\")\n",
    "print(x)\n",
    "print(f'size: {x.size}, shape: {x.shape}, dtype: {x.dtype}, strides: {x.strides}')"
   ]
  },
  {
   "cell_type": "code",
   "execution_count": 29,
   "metadata": {},
   "outputs": [
    {
     "data": {
      "text/plain": [
       "[<matplotlib.lines.Line2D at 0x7f575f3ff6a0>]"
      ]
     },
     "execution_count": 29,
     "metadata": {},
     "output_type": "execute_result"
    },
    {
     "data": {
      "image/png": "[encoded data removed]",
      "text/plain": [
       "<Figure size 432x288 with 1 Axes>"
      ]
     },
     "metadata": {
      "needs_background": "light"
     },
     "output_type": "display_data"
    }
   ],
   "source": [
    "data = np.array([4, 5, 6, 4, 3, 1])\n",
    "plt.plot(data)"
   ]
  },
  {
   "cell_type": "markdown",
   "metadata": {},
   "source": [
    "## Vector Arithmetic\n",
    "\n",
    "In Python when we add iterables together they are joined:"
   ]
  },
  {
   "cell_type": "code",
   "execution_count": 33,
   "metadata": {},
   "outputs": [
    {
     "data": {
      "text/plain": [
       "array([2., 3., 4.])"
      ]
     },
     "execution_count": 33,
     "metadata": {},
     "output_type": "execute_result"
    }
   ],
   "source": [
    "data = np.array([1, 2, 3])\n",
    "ones = np.ones(data.size)\n",
    "data + ones"
   ]
  },
  {
   "cell_type": "markdown",
   "metadata": {},
   "source": [
    "`numpy` works differently - addition works **element wise**:\n",
    "\n",
    "<img src=\"assets/add.png\" alt=\"\" width=\"300\"/>"
   ]
  },
  {
   "cell_type": "code",
   "execution_count": null,
   "metadata": {},
   "outputs": [],
   "source": []
  },
  {
   "cell_type": "markdown",
   "metadata": {},
   "source": [
    "All of the logic above holds for subtraction, multiplication etc:"
   ]
  },
  {
   "cell_type": "code",
   "execution_count": 35,
   "metadata": {},
   "outputs": [
    {
     "data": {
      "text/plain": [
       "array([1, 4, 9])"
      ]
     },
     "execution_count": 35,
     "metadata": {},
     "output_type": "execute_result"
    }
   ],
   "source": [
    "data ** 2"
   ]
  },
  {
   "cell_type": "code",
   "execution_count": 36,
   "metadata": {},
   "outputs": [
    {
     "data": {
      "text/plain": [
       "array([[ 8, 10, 12]])"
      ]
     },
     "execution_count": 36,
     "metadata": {},
     "output_type": "execute_result"
    }
   ],
   "source": [
    "data + np.array([[7, 8, 9]])"
   ]
  },
  {
   "cell_type": "code",
   "execution_count": 42,
   "metadata": {},
   "outputs": [
    {
     "data": {
      "text/plain": [
       "array([[2],\n",
       "       [4],\n",
       "       [7],\n",
       "       [9]])"
      ]
     },
     "execution_count": 42,
     "metadata": {},
     "output_type": "execute_result"
    }
   ],
   "source": [
    "data3 = np.array([[2], [4], [7], [9]])\n",
    "data3"
   ]
  },
  {
   "cell_type": "code",
   "execution_count": 43,
   "metadata": {},
   "outputs": [
    {
     "name": "stdout",
     "output_type": "stream",
     "text": [
      "[1 2 3]\n",
      "[[2]\n",
      " [4]\n",
      " [7]\n",
      " [9]]\n"
     ]
    },
    {
     "data": {
      "text/plain": [
       "array([[ 3,  4,  5],\n",
       "       [ 5,  6,  7],\n",
       "       [ 8,  9, 10],\n",
       "       [10, 11, 12]])"
      ]
     },
     "execution_count": 43,
     "metadata": {},
     "output_type": "execute_result"
    }
   ],
   "source": [
    "print(data)\n",
    "print(data3)\n",
    "data + data3"
   ]
  },
  {
   "cell_type": "code",
   "execution_count": null,
   "metadata": {},
   "outputs": [],
   "source": [
    "data2 = np.array([4, 5, 6, 7])\n",
    "data2"
   ]
  },
  {
   "cell_type": "markdown",
   "metadata": {},
   "source": [
    "Common problem to multiply every number of a list with a scalar represents way more work using lists compared to np arrays"
   ]
  },
  {
   "cell_type": "code",
   "execution_count": null,
   "metadata": {},
   "outputs": [],
   "source": []
  },
  {
   "cell_type": "markdown",
   "metadata": {},
   "source": [
    "Next to vector summing, of course it is also possible to take the product"
   ]
  },
  {
   "cell_type": "code",
   "execution_count": 45,
   "metadata": {},
   "outputs": [
    {
     "data": {
      "text/plain": [
       "[2, 4, 6]"
      ]
     },
     "execution_count": 45,
     "metadata": {},
     "output_type": "execute_result"
    }
   ],
   "source": [
    "lst = [2, 4, 6]\n",
    "lst"
   ]
  },
  {
   "cell_type": "code",
   "execution_count": 48,
   "metadata": {},
   "outputs": [
    {
     "data": {
      "text/plain": [
       "[4, 8, 12]"
      ]
     },
     "execution_count": 48,
     "metadata": {},
     "output_type": "execute_result"
    }
   ],
   "source": [
    "[2*x for x in lst]"
   ]
  },
  {
   "cell_type": "markdown",
   "metadata": {},
   "source": [
    "## Broadcasting\n",
    "\n",
    "The smaller array will be broadcast across the larger array\n",
    "\n",
    "<img src=\"assets/broad.png\" alt=\"\" width=\"300\"/>"
   ]
  },
  {
   "cell_type": "code",
   "execution_count": 49,
   "metadata": {},
   "outputs": [
    {
     "data": {
      "text/plain": [
       "array([[4, 5],\n",
       "       [5, 6],\n",
       "       [6, 7]])"
      ]
     },
     "execution_count": 49,
     "metadata": {},
     "output_type": "execute_result"
    }
   ],
   "source": [
    "np.array([1, 2]) + np.array([[3],[4], [5]])"
   ]
  },
  {
   "cell_type": "markdown",
   "metadata": {},
   "source": [
    "Note how different adding lists together is:"
   ]
  },
  {
   "cell_type": "code",
   "execution_count": null,
   "metadata": {},
   "outputs": [],
   "source": []
  },
  {
   "cell_type": "markdown",
   "metadata": {},
   "source": [
    "Broadcasting is important because the larger array **keep its shape**\n",
    "- matrix multiplication (ie dot products) often result in differently shaped arrays"
   ]
  },
  {
   "cell_type": "markdown",
   "metadata": {},
   "source": [
    "## Working in a single dimension\n",
    "\n",
    "Vectors - flat lists\n",
    "\n",
    "### Indexing\n",
    "\n",
    "<img src=\"assets/idx.png\" alt=\"\" width=\"500\"/>\n",
    "\n",
    "### Aggregation\n",
    "\n",
    "<img src=\"assets/agg.png\" alt=\"\" width=\"800\"/>"
   ]
  },
  {
   "cell_type": "markdown",
   "metadata": {},
   "source": [
    "## Practical \n",
    "\n",
    "Calculate the absolute difference between the sum of squared numbers between 1 and 100 and the square of their sum, once in pure python and with numpy arrays: \n",
    "$$ |(1^2 + 2^2 + 3^2 + ...) - (1 + 2 + 3 + ...)^2|$$ \n"
   ]
  },
  {
   "cell_type": "markdown",
   "metadata": {},
   "source": [
    "### Pure python:"
   ]
  },
  {
   "cell_type": "code",
   "execution_count": 62,
   "metadata": {},
   "outputs": [
    {
     "name": "stdout",
     "output_type": "stream",
     "text": [
      "338350\n",
      "25502500\n",
      "25164150\n"
     ]
    }
   ],
   "source": [
    "n = 100\n",
    "lst = list(range(1,n+1))\n",
    "lst_square = [x**2 for x in lst]\n",
    "result_square = 0\n",
    "for x in lst_square:\n",
    "    result_square += x\n",
    "    \n",
    "result_simple = 0\n",
    "for x in lst:\n",
    "    result_simple += x\n",
    "\n",
    "result_simple *= result_simple    \n",
    "\n",
    "result = np.abs(result_simple - result_square)\n",
    "\n",
    "print(result_square)\n",
    "print(result_simple)\n",
    "print(result)"
   ]
  },
  {
   "cell_type": "markdown",
   "metadata": {},
   "source": [
    "### Numpy array"
   ]
  },
  {
   "cell_type": "code",
   "execution_count": 68,
   "metadata": {
    "tags": []
   },
   "outputs": [
    {
     "data": {
      "text/plain": [
       "25164150"
      ]
     },
     "execution_count": 68,
     "metadata": {},
     "output_type": "execute_result"
    }
   ],
   "source": [
    "np_lst = np.arange(n + 1)\n",
    "result = np.abs(np.sum(np_lst * np_lst) - np.sum(np_lst) ** 2)\n",
    "result"
   ]
  },
  {
   "cell_type": "markdown",
   "metadata": {},
   "source": [
    "## Answers:\n",
    "You are encouraged to look at the solutions after you gave it a serious try "
   ]
  },
  {
   "cell_type": "code",
   "execution_count": null,
   "metadata": {},
   "outputs": [],
   "source": []
  },
  {
   "cell_type": "code",
   "execution_count": null,
   "metadata": {},
   "outputs": [],
   "source": []
  },
  {
   "cell_type": "markdown",
   "metadata": {},
   "source": [
    "## Making vectors\n",
    "\n",
    "`np.arange` - similar to the Python builtin `range`"
   ]
  },
  {
   "cell_type": "code",
   "execution_count": null,
   "metadata": {},
   "outputs": [],
   "source": []
  },
  {
   "cell_type": "markdown",
   "metadata": {},
   "source": [
    "`np.linspace` - evenly spaced between two points"
   ]
  },
  {
   "cell_type": "code",
   "execution_count": 69,
   "metadata": {},
   "outputs": [
    {
     "data": {
      "text/plain": [
       "array([ 42.        ,  48.27272727,  54.54545455,  60.81818182,\n",
       "        67.09090909,  73.36363636,  79.63636364,  85.90909091,\n",
       "        92.18181818,  98.45454545, 104.72727273, 111.        ,\n",
       "       117.27272727, 123.54545455, 129.81818182, 136.09090909,\n",
       "       142.36363636, 148.63636364, 154.90909091, 161.18181818,\n",
       "       167.45454545, 173.72727273, 180.        ])"
      ]
     },
     "execution_count": 69,
     "metadata": {},
     "output_type": "execute_result"
    }
   ],
   "source": [
    "np.linspace(42, 180, 23)"
   ]
  },
  {
   "cell_type": "markdown",
   "metadata": {},
   "source": [
    "## Sampling random uniform\n",
    "\n",
    "This can be done two ways\n",
    "- `np.random.random`\n",
    "- `np.random.rand`\n",
    "\n",
    "Only difference is the shape argument is not a tuple\n",
    "- saves writing the brackets\n",
    "\n",
    "Sample uniformly across the interval [0, 1)"
   ]
  },
  {
   "cell_type": "code",
   "execution_count": 72,
   "metadata": {},
   "outputs": [
    {
     "data": {
      "text/plain": [
       "array([[0.99435891, 0.67527657, 0.23702054],\n",
       "       [0.270965  , 0.38509666, 0.28806566]])"
      ]
     },
     "execution_count": 72,
     "metadata": {},
     "output_type": "execute_result"
    }
   ],
   "source": [
    "np.random.random((2,3))"
   ]
  },
  {
   "cell_type": "code",
   "execution_count": 79,
   "metadata": {},
   "outputs": [
    {
     "data": {
      "text/plain": [
       "array([[[[0.81406819, 0.11983087, 0.02652017, 0.93725285],\n",
       "         [0.2521172 , 0.53626873, 0.79604148, 0.28121204]],\n",
       "\n",
       "        [[0.64731964, 0.57413263, 0.08754835, 0.57022724],\n",
       "         [0.52785146, 0.33114833, 0.89110079, 0.04105524]],\n",
       "\n",
       "        [[0.11711268, 0.92521844, 0.48254175, 0.65802737],\n",
       "         [0.11719759, 0.28785547, 0.00864916, 0.90713192]]],\n",
       "\n",
       "\n",
       "       [[[0.05839803, 0.86463661, 0.76061286, 0.33114019],\n",
       "         [0.33075839, 0.14960768, 0.5993249 , 0.8934288 ]],\n",
       "\n",
       "        [[0.30647822, 0.55015849, 0.70727101, 0.69250738],\n",
       "         [0.93161486, 0.4922647 , 0.78740665, 0.21757174]],\n",
       "\n",
       "        [[0.94704897, 0.13831968, 0.3866113 , 0.34244918],\n",
       "         [0.29982169, 0.13565243, 0.91549717, 0.71339486]]]])"
      ]
     },
     "execution_count": 79,
     "metadata": {},
     "output_type": "execute_result"
    }
   ],
   "source": [
    "np.random.rand(2,3,2,4)"
   ]
  },
  {
   "cell_type": "markdown",
   "metadata": {},
   "source": [
    "## Sample from a standard normal\n",
    "\n",
    "`np.random.randn`\n",
    "\n",
    "$\\mathcal{N}(0,1)$"
   ]
  },
  {
   "cell_type": "code",
   "execution_count": 80,
   "metadata": {},
   "outputs": [
    {
     "data": {
      "text/plain": [
       "array([-0.06280987,  0.49951804,  1.27422128])"
      ]
     },
     "execution_count": 80,
     "metadata": {},
     "output_type": "execute_result"
    }
   ],
   "source": [
    "np.random.randn(3)"
   ]
  },
  {
   "cell_type": "markdown",
   "metadata": {},
   "source": [
    "## Sample from a Gaussian\n",
    "\n",
    "`np.random.normal`\n",
    "\n",
    "$\\mathcal{N}(\\mu,\\sigma)$\n",
    "\n",
    "We choose the statistics (mean & standard deviation)"
   ]
  },
  {
   "cell_type": "code",
   "execution_count": 81,
   "metadata": {},
   "outputs": [
    {
     "data": {
      "text/plain": [
       "array([[11.96379487, 11.88408121, 12.16637319, 12.21551007, 12.01613838,\n",
       "        11.9571872 , 11.77858574, 12.10629245, 12.01884147, 12.03965448],\n",
       "       [11.97065859, 11.95382423, 11.83511156, 12.12101631, 11.78344553,\n",
       "        11.85613922, 12.04709406, 11.97816389, 11.93336917, 12.1092064 ]])"
      ]
     },
     "execution_count": 81,
     "metadata": {},
     "output_type": "execute_result"
    }
   ],
   "source": [
    "np.random.normal(12, 0.1, (2,10))"
   ]
  },
  {
   "cell_type": "markdown",
   "metadata": {},
   "source": [
    "## Changing order of a numpy array\n",
    "In case the order of the array is desired to be reversed, there are intuitive commands for that"
   ]
  },
  {
   "cell_type": "code",
   "execution_count": 83,
   "metadata": {},
   "outputs": [
    {
     "name": "stdout",
     "output_type": "stream",
     "text": [
      "[[1 2]\n",
      " [3 4]]\n"
     ]
    },
    {
     "data": {
      "text/plain": [
       "array([[2, 1],\n",
       "       [4, 3]])"
      ]
     },
     "execution_count": 83,
     "metadata": {},
     "output_type": "execute_result"
    }
   ],
   "source": [
    "ar1 = np.array([1, 2, 3, 4]).reshape(2,2)\n",
    "print(ar1)\n",
    "np.fliplr(ar1)"
   ]
  },
  {
   "cell_type": "markdown",
   "metadata": {},
   "source": [
    "# Practical: Finding the biggest product"
   ]
  },
  {
   "cell_type": "markdown",
   "metadata": {},
   "source": [
    "In the 20×20 grid below, four numbers along a diagonal line have been marked in red.\n",
    "\n",
    "<img src=\"assets/number.png\" alt=\"\" width=\"500\"/>\n",
    "\n",
    "The product of these numbers is 26 × 63 × 78 × 14 = 1788696.\n",
    "\n",
    "What is the greatest product of four adjacent numbers in the same direction (up, down, left, right, or diagonally) in the 20×20 grid?"
   ]
  },
  {
   "cell_type": "markdown",
   "metadata": {},
   "source": [
    "### Potential approach\n",
    "1. Getting the numbers in a workable format - (from string to integers, in a list, etc)\n",
    "2. Writing a loop to extract a 4x4 matrix of the grid\n",
    "3. Writing a function to calculate all potential products"
   ]
  },
  {
   "cell_type": "code",
   "execution_count": 84,
   "metadata": {},
   "outputs": [],
   "source": [
    "num = (\"\"\"\n",
    "08 02 22 97 38 15 00 40 00 75 04 05 07 78 52 12 50 77 91 08\n",
    "49 49 99 40 17 81 18 57 60 87 17 40 98 43 69 48 04 56 62 00\n",
    "81 49 31 73 55 79 14 29 93 71 40 67 53 88 30 03 49 13 36 65\n",
    "52 70 95 23 04 60 11 42 69 24 68 56 01 32 56 71 37 02 36 91\n",
    "22 31 16 71 51 67 63 89 41 92 36 54 22 40 40 28 66 33 13 80\n",
    "24 47 32 60 99 03 45 02 44 75 33 53 78 36 84 20 35 17 12 50\n",
    "32 98 81 28 64 23 67 10 26 38 40 67 59 54 70 66 18 38 64 70\n",
    "67 26 20 68 02 62 12 20 95 63 94 39 63 08 40 91 66 49 94 21\n",
    "24 55 58 05 66 73 99 26 97 17 78 78 96 83 14 88 34 89 63 72\n",
    "21 36 23 09 75 00 76 44 20 45 35 14 00 61 33 97 34 31 33 95\n",
    "78 17 53 28 22 75 31 67 15 94 03 80 04 62 16 14 09 53 56 92\n",
    "16 39 05 42 96 35 31 47 55 58 88 24 00 17 54 24 36 29 85 57\n",
    "86 56 00 48 35 71 89 07 05 44 44 37 44 60 21 58 51 54 17 58\n",
    "19 80 81 68 05 94 47 69 28 73 92 13 86 52 17 77 04 89 55 40\n",
    "04 52 08 83 97 35 99 16 07 97 57 32 16 26 26 79 33 27 98 66\n",
    "88 36 68 87 57 62 20 72 03 46 33 67 46 55 12 32 63 93 53 69\n",
    "04 42 16 73 38 25 39 11 24 94 72 18 08 46 29 32 40 62 76 36\n",
    "20 69 36 41 72 30 23 88 34 62 99 69 82 67 59 85 74 04 36 16\n",
    "20 73 35 29 78 31 90 01 74 31 49 71 48 86 81 16 23 57 05 54\n",
    "01 70 54 71 83 51 54 69 16 92 33 48 61 43 52 01 89 19 67 48\"\"\".replace(\"\\n\", \" \"))"
   ]
  },
  {
   "cell_type": "code",
   "execution_count": 118,
   "metadata": {},
   "outputs": [
    {
     "name": "stdout",
     "output_type": "stream",
     "text": [
      "{'coord': (8, 10), 'prod': 48477312}\n",
      "{'coord': (6, 15), 'prod': 51267216}\n",
      "{'coord': (2, 1), 'prod': 32719995}\n",
      "{'coord': (12, 6), 'prod': 70600674}\n"
     ]
    },
    {
     "data": {
      "text/plain": [
       "70600674"
      ]
     },
     "execution_count": 118,
     "metadata": {},
     "output_type": "execute_result"
    }
   ],
   "source": [
    "lst = num.split(\" \")\n",
    "arr = np.array([int(x) for x in num.split(\" \") if x != \"\"]).reshape((20, 20))\n",
    "max_hor = {\"coord\": (-1, -1), \"prod\": 0}\n",
    "max_vert = {\"coord\": (-1, -1), \"prod\": 0}\n",
    "max_diag1 = {\"coord\": (-1, -1), \"prod\": 0}\n",
    "max_diag2 = {\"coord\": (-1, -1), \"prod\": 0}\n",
    "for row in range(20):\n",
    "    for col in range(20):\n",
    "        if col < 16:\n",
    "            prod_hor = np.prod(arr[row, col : col + 4])\n",
    "            if prod_hor > max_hor[\"prod\"]:\n",
    "                max_hor[\"coord\"] = (row, col)\n",
    "                max_hor[\"prod\"] = prod_hor\n",
    "        if row < 16:\n",
    "            prod_vert = np.prod(arr[row : row + 4, col])\n",
    "            if prod_vert > max_vert[\"prod\"]:\n",
    "                max_vert[\"coord\"] = (row, col)\n",
    "                max_vert[\"prod\"] = prod_vert\n",
    "        if (col < 16) and (row < 16):\n",
    "            prod_diag1 = (\n",
    "                arr[row, col]\n",
    "                * arr[row + 1, col + 1]\n",
    "                * arr[row + 2, col + 2]\n",
    "                * arr[row + 3, col + 3]\n",
    "            )\n",
    "            if prod_diag1 > max_diag1[\"prod\"]:\n",
    "                max_diag1[\"coord\"] = (row, col)\n",
    "                max_diag1[\"prod\"] = prod_diag1\n",
    "        if (col >= 3) and (row < 16):\n",
    "            prod_diag2 = (\n",
    "                arr[row, col]\n",
    "                * arr[row + 1, col - 1]\n",
    "                * arr[row + 2, col - 2]\n",
    "                * arr[row + 3, col - 3]\n",
    "            )\n",
    "            if prod_diag2 > max_diag2[\"prod\"]:\n",
    "                max_diag2[\"coord\"] = (row, col)\n",
    "                max_diag2[\"prod\"] = prod_diag2\n",
    "\n",
    "max(max_hor[\"prod\"], max_vert[\"prod\"], max_diag1[\"prod\"], max_diag2[\"prod\"])"
   ]
  },
  {
   "cell_type": "code",
   "execution_count": 121,
   "metadata": {},
   "outputs": [
    {
     "data": {
      "text/plain": [
       "[8, 49, 31, 23]"
      ]
     },
     "execution_count": 121,
     "metadata": {},
     "output_type": "execute_result"
    }
   ],
   "source": [
    "[arr[0, 0], arr[1, 1], arr[2, 2], arr[3, 3]]"
   ]
  },
  {
   "cell_type": "code",
   "execution_count": 127,
   "metadata": {},
   "outputs": [],
   "source": [
    "coord = [(0, 0), (1, 1), (2, 2), (3, 3)]\n"
   ]
  },
  {
   "cell_type": "code",
   "execution_count": 129,
   "metadata": {},
   "outputs": [
    {
     "data": {
      "text/plain": [
       "[8, 49, 31, 23]"
      ]
     },
     "execution_count": 129,
     "metadata": {},
     "output_type": "execute_result"
    }
   ],
   "source": [
    "[arr[r, r] for r in range(4)]"
   ]
  },
  {
   "cell_type": "markdown",
   "metadata": {},
   "source": [
    "## Answer:\n",
    "Here you can check whether your results matches the solutions. You are encouraged to look at the code after you gave it a serious try"
   ]
  },
  {
   "cell_type": "code",
   "execution_count": null,
   "metadata": {},
   "outputs": [],
   "source": []
  },
  {
   "cell_type": "code",
   "execution_count": null,
   "metadata": {},
   "outputs": [],
   "source": []
  }
 ],
 "metadata": {
  "kernelspec": {
   "display_name": "Python 3 (ipykernel)",
   "language": "python",
   "name": "python3"
  },
  "language_info": {
   "codemirror_mode": {
    "name": "ipython",
    "version": 3
   },
   "file_extension": ".py",
   "mimetype": "text/x-python",
   "name": "python",
   "nbconvert_exporter": "python",
   "pygments_lexer": "ipython3",
   "version": "3.9.7"
  },
  "varInspector": {
   "cols": {
    "lenName": 16,
    "lenType": 16,
    "lenVar": 40
   },
   "kernels_config": {
    "python": {
     "delete_cmd_postfix": "",
     "delete_cmd_prefix": "del ",
     "library": "var_list.py",
     "varRefreshCmd": "print(var_dic_list())"
    },
    "r": {
     "delete_cmd_postfix": ") ",
     "delete_cmd_prefix": "rm(",
     "library": "var_list.r",
     "varRefreshCmd": "cat(var_dic_list()) "
    }
   },
   "types_to_exclude": [
    "module",
    "function",
    "builtin_function_or_method",
    "instance",
    "_Feature"
   ],
   "window_display": false
  }
 },
 "nbformat": 4,
 "nbformat_minor": 4
}
