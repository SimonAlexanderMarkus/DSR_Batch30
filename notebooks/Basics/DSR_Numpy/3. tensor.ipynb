{
 "cells": [
  {
   "cell_type": "code",
   "execution_count": 3,
   "metadata": {},
   "outputs": [],
   "source": [
    "import numpy as np\n",
    "from PIL import Image"
   ]
  },
  {
   "cell_type": "markdown",
   "metadata": {},
   "source": [
    "# Tensors\n",
    "\n",
    "In the first notebook ([vector.ipynb](https://github.com/ADGEfficiency/teaching-monolith/blob/master/numpy/1.vector.ipynb)) we dealt with vectors (one dimensional).  In the second notebook ([matrix.ipynb](https://github.com/ADGEfficiency/teaching-monolith/blob/master/numpy/2.matrix.ipynb)) we looked at arrays with two dimensions.\n",
    "\n",
    "Now we deal with **Tensors** - arrays that can have many dimensions.\n",
    "\n",
    "- n-dimensional arrays\n",
    "- 3 = volume\n",
    "- uppercase, bold $\\textbf{A}_{i,j,k}$\n",
    "\n",
    "## Working in three dimensions\n",
    "\n",
    "Extension of two dimensions\n",
    "- everything we saw in the previous notebook holds\n",
    "\n",
    "Images\n",
    "- height\n",
    "- width\n",
    "- channels (colors)\n",
    "\n",
    "Sequential models\n",
    "- (batch_size, num_timesteps, *features)"
   ]
  },
  {
   "cell_type": "code",
   "execution_count": 2,
   "metadata": {},
   "outputs": [],
   "source": [
    "image = np.random.rand(3,3,3)"
   ]
  },
  {
   "cell_type": "markdown",
   "metadata": {},
   "source": [
    "## PNG to Numpy array"
   ]
  },
  {
   "cell_type": "code",
   "execution_count": 5,
   "metadata": {},
   "outputs": [],
   "source": [
    "im = Image.open(\"./data/abbyroad.png\")\n",
    "im_array = np.array(im)"
   ]
  },
  {
   "cell_type": "code",
   "execution_count": 6,
   "metadata": {},
   "outputs": [
    {
     "data": {
      "text/plain": [
       "(2048, 2048, 3)"
      ]
     },
     "execution_count": 6,
     "metadata": {},
     "output_type": "execute_result"
    }
   ],
   "source": [
    "im_array.shape"
   ]
  },
  {
   "cell_type": "markdown",
   "metadata": {},
   "source": [
    "To see how this picture looks like in RGB code, we apply the following function:"
   ]
  },
  {
   "cell_type": "code",
   "execution_count": 7,
   "metadata": {
    "tags": []
   },
   "outputs": [
    {
     "data": {
      "text/plain": [
       "array([[[ 15,  13,  16],\n",
       "        [ 15,  13,  16],\n",
       "        [ 15,  13,  16],\n",
       "        ...,\n",
       "        [ 20,  20,  18],\n",
       "        [ 17,  17,  15],\n",
       "        [ 16,  16,  14]],\n",
       "\n",
       "       [[ 16,  14,  17],\n",
       "        [ 16,  14,  17],\n",
       "        [ 16,  14,  17],\n",
       "        ...,\n",
       "        [ 21,  21,  19],\n",
       "        [ 20,  20,  18],\n",
       "        [ 20,  20,  18]],\n",
       "\n",
       "       [[ 17,  15,  18],\n",
       "        [ 17,  15,  18],\n",
       "        [ 16,  14,  17],\n",
       "        ...,\n",
       "        [ 21,  21,  19],\n",
       "        [ 21,  23,  20],\n",
       "        [ 22,  24,  21]],\n",
       "\n",
       "       ...,\n",
       "\n",
       "       [[202, 194, 171],\n",
       "        [199, 191, 168],\n",
       "        [196, 188, 165],\n",
       "        ...,\n",
       "        [205, 195, 159],\n",
       "        [209, 199, 163],\n",
       "        [213, 203, 167]],\n",
       "\n",
       "       [[201, 193, 170],\n",
       "        [197, 189, 166],\n",
       "        [195, 187, 164],\n",
       "        ...,\n",
       "        [206, 198, 161],\n",
       "        [208, 200, 163],\n",
       "        [213, 205, 168]],\n",
       "\n",
       "       [[200, 192, 169],\n",
       "        [196, 188, 165],\n",
       "        [194, 186, 163],\n",
       "        ...,\n",
       "        [209, 201, 164],\n",
       "        [210, 202, 165],\n",
       "        [214, 206, 169]]], dtype=uint8)"
      ]
     },
     "execution_count": 7,
     "metadata": {},
     "output_type": "execute_result"
    }
   ],
   "source": [
    "im_array"
   ]
  },
  {
   "cell_type": "markdown",
   "metadata": {},
   "source": [
    "## Practical\n",
    "Now create the negative version and grayscale version of that picture and save it in the data folder"
   ]
  },
  {
   "cell_type": "code",
   "execution_count": null,
   "metadata": {},
   "outputs": [],
   "source": [
    "# Inverse Color (by Rachel)\n",
    "def inverse_color(png_array):\n",
    "    # creating the inverse of the RGB color code\n",
    "    inverse_array = 255 - png_array\n",
    "    invimage = Image.fromarray(inverse_array)\n",
    "    invimage.save(“./data/inverted.png”)\n",
    "    invimage.show()\n",
    "inverse_color(img_array)`"
   ]
  },
  {
   "cell_type": "code",
   "execution_count": 42,
   "metadata": {},
   "outputs": [],
   "source": [
    "# Inverse Color\n",
    "im_array_invert = 255 - im_array\n",
    "im_inv = Image.fromarray(im_array_invert)\n",
    "im_inv.save(\"./data/abbyroad_inv.png\")"
   ]
  },
  {
   "cell_type": "code",
   "execution_count": 57,
   "metadata": {},
   "outputs": [
    {
     "ename": "SyntaxError",
     "evalue": "invalid character '“' (U+201C) (384014900.py, line 7)",
     "output_type": "error",
     "traceback": [
      "\u001b[0;36m  File \u001b[0;32m\"/tmp/ipykernel_10553/384014900.py\"\u001b[0;36m, line \u001b[0;32m7\u001b[0m\n\u001b[0;31m    black_white_image = black_white_image.convert(“L”)\u001b[0m\n\u001b[0m                                                  ^\u001b[0m\n\u001b[0;31mSyntaxError\u001b[0m\u001b[0;31m:\u001b[0m invalid character '“' (U+201C)\n"
     ]
    }
   ],
   "source": [
    "# Grayscale Picture (by Rachel)\n",
    "def rgb2gray(color_image_array):\n",
    "        return np.dot(color_image_array[...,:3], [0.2989, 0.5870, 0.1140])\n",
    "def grayscale(png_array):\n",
    "    black_white = rgb2gray(png_array)\n",
    "    black_white_image = Image.fromarray(black_white)\n",
    "    black_white_image = black_white_image.convert(“L”)\n",
    "    black_white_image.save(“./data/blackwhite.png”)\n",
    "    black_white_image.show()\n",
    "grayscale(img_array)"
   ]
  },
  {
   "cell_type": "code",
   "execution_count": 48,
   "metadata": {},
   "outputs": [],
   "source": [
    "# Grayscale Picture\n",
    "im_array_gray = np.mean(im_array, axis=2, keepdims=True, dtype=\"uint8\")\n",
    "im_array_gray = np.tile(im_array_gray, 3)\n",
    "im_gray = Image.fromarray(im_array_gray)\n",
    "im_gray.save(\"./data/abbyroad_gray.png\")\n",
    "im_gray.show()"
   ]
  },
  {
   "cell_type": "code",
   "execution_count": 56,
   "metadata": {
    "tags": []
   },
   "outputs": [],
   "source": [
    "# Grayscale Picture 2\n",
    "im_array_gray = np.mean(im_array, axis=2, keepdims=True, dtype=\"uint8\")\n",
    "im_array_gray = im_array_gray[:,:,0]\n",
    "im_array_gray.shape\n",
    "im_gray = Image.fromarray(im_array_gray)\n",
    "im_gray.save(\"./data/abbyroad_gray2.png\")\n",
    "im_gray.show()"
   ]
  },
  {
   "cell_type": "code",
   "execution_count": null,
   "metadata": {},
   "outputs": [],
   "source": [
    "img_array = im_array\n",
    "# Grayscale Picture (by Sebastian)\n",
    "reduce_dim = img_array[:,:,1]\n",
    "grayscale_Img = Image.fromarray(reduce_dim)\n",
    "grayscale_Img.show()"
   ]
  },
  {
   "cell_type": "code",
   "execution_count": 47,
   "metadata": {},
   "outputs": [
    {
     "data": {
      "text/plain": [
       "(2048, 2048)"
      ]
     },
     "execution_count": 47,
     "metadata": {},
     "output_type": "execute_result"
    }
   ],
   "source": [
    "reduce_dim.shape"
   ]
  },
  {
   "cell_type": "markdown",
   "metadata": {},
   "source": [
    "## Answers\n",
    "You are encourage to give it a try before you look at the solution"
   ]
  },
  {
   "cell_type": "code",
   "execution_count": null,
   "metadata": {},
   "outputs": [],
   "source": []
  },
  {
   "cell_type": "code",
   "execution_count": null,
   "metadata": {},
   "outputs": [],
   "source": []
  }
 ],
 "metadata": {
  "kernelspec": {
   "display_name": "Python 3 (ipykernel)",
   "language": "python",
   "name": "python3"
  },
  "language_info": {
   "codemirror_mode": {
    "name": "ipython",
    "version": 3
   },
   "file_extension": ".py",
   "mimetype": "text/x-python",
   "name": "python",
   "nbconvert_exporter": "python",
   "pygments_lexer": "ipython3",
   "version": "3.9.7"
  },
  "varInspector": {
   "cols": {
    "lenName": 16,
    "lenType": 16,
    "lenVar": 40
   },
   "kernels_config": {
    "python": {
     "delete_cmd_postfix": "",
     "delete_cmd_prefix": "del ",
     "library": "var_list.py",
     "varRefreshCmd": "print(var_dic_list())"
    },
    "r": {
     "delete_cmd_postfix": ") ",
     "delete_cmd_prefix": "rm(",
     "library": "var_list.r",
     "varRefreshCmd": "cat(var_dic_list()) "
    }
   },
   "types_to_exclude": [
    "module",
    "function",
    "builtin_function_or_method",
    "instance",
    "_Feature"
   ],
   "window_display": false
  }
 },
 "nbformat": 4,
 "nbformat_minor": 4
}
