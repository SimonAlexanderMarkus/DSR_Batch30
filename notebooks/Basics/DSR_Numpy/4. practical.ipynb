{
 "cells": [
  {
   "cell_type": "markdown",
   "id": "a050ef1d-6610-49ee-9ef5-7b9e861d04b9",
   "metadata": {},
   "source": [
    "# Practical Exercises \n",
    "For practicing the numpy skills learned so far "
   ]
  },
  {
   "cell_type": "markdown",
   "id": "ebbf6203-2856-4efa-998c-b0d08aa2dc9c",
   "metadata": {},
   "source": [
    "## 1. Working with API Image Data in Numpy and Matplotlib\n",
    "- Write a program to download the images from the [Metropolitan Museum of Art API](https://metmuseum.github.io)\n",
    "\n",
    "- Generate an image (like the one shown below) by plotting random images from the collection\n",
    "\n",
    "<img src=\"assets/met_example_image.png\" alt=\"\" width=\"500\"/>"
   ]
  },
  {
   "cell_type": "code",
   "execution_count": 1,
   "id": "4f3909c0-f2b8-4df1-a682-3feac982cecb",
   "metadata": {},
   "outputs": [],
   "source": [
    "import requests\n",
    "import json\n",
    "import numpy as np\n",
    "from PIL import Image"
   ]
  },
  {
   "cell_type": "code",
   "execution_count": 2,
   "id": "3aa677cf-c4b5-45ff-8781-ceae4ca17440",
   "metadata": {},
   "outputs": [
    {
     "name": "stdout",
     "output_type": "stream",
     "text": [
      "Number of object-IDs: 478014\n"
     ]
    }
   ],
   "source": [
    "url_objects = \"https://collectionapi.metmuseum.org/public/collection/v1/objects\"\n",
    "response = requests.get(url_objects)\n",
    "data_objects = response.json()\n",
    "objectIDs_all = data_objects[\"objectIDs\"]\n",
    "objectIDs_all_count = len(objectIDs_all)\n",
    "print(f\"Number of object-IDs: {objectIDs_all_count}\")"
   ]
  },
  {
   "cell_type": "code",
   "execution_count": 3,
   "id": "6257b21d-90b1-49cf-a500-50fce3383e53",
   "metadata": {},
   "outputs": [],
   "source": [
    "image_counts = (8, 4) # Colums, Rows (corresponds with Width, Height)\n",
    "max_loops = image_counts[0] * image_counts[1] * 10\n"
   ]
  },
  {
   "cell_type": "code",
   "execution_count": 6,
   "id": "77b1018c-1988-40b4-a5cf-90b1f0e96cca",
   "metadata": {
    "tags": []
   },
   "outputs": [
    {
     "name": "stdout",
     "output_type": "stream",
     "text": [
      "Starting Loop. Searching for     8 x 4 =     32 images. Loop-max: 320\n",
      "images: ||||||||||||||||||||||||||||||||Loaded images: 32 of 32\n"
     ]
    }
   ],
   "source": [
    "image_counter = 0\n",
    "loop_counter = 0\n",
    "images = []\n",
    "\n",
    "print(\n",
    "    f\"Starting Loop. Searching for \\\n",
    "    {image_counts[0]} x {image_counts[1]} = \\\n",
    "    {image_counts[0] * image_counts[1]} images. Loop-max: {max_loops}\"\n",
    ")\n",
    "print(\"images: \", end=\"\")\n",
    "\n",
    "while (image_counter < image_counts[0] * image_counts[1]) and (loop_counter < max_loops):\n",
    "    loop_counter += 1\n",
    "\n",
    "    # get random object-ID\n",
    "    objectID = objectIDs_all[np.random.randint(0, objectIDs_all_count)]\n",
    "\n",
    "    # get data for object\n",
    "    url = f\"https://collectionapi.metmuseum.org/public/collection/v1/objects/{objectID}\"\n",
    "    response = requests.get(url)\n",
    "    data = response.json()\n",
    "    image_url = data[\"primaryImageSmall\"]\n",
    "\n",
    "    # load image if possible\n",
    "\n",
    "    if image_url != \"\":\n",
    "        im = Image.open(requests.get(image_url, stream=True).raw)\n",
    "        images.append(im)\n",
    "        image_counter += 1\n",
    "        print(\"|\", end=\"\")\n",
    "        \n",
    "print(f\"Loaded images: {image_counter} of {image_counts[0] * image_counts[1]}\")"
   ]
  },
  {
   "cell_type": "code",
   "execution_count": 6,
   "id": "f660d9b9-d01b-4d9f-842f-a971478b512d",
   "metadata": {},
   "outputs": [
    {
     "data": {
      "text/plain": [
       "[array([   0,  500, 1000, 1500, 2000, 2500, 3000, 3500,    0,  500, 1000,\n",
       "        1500, 2000, 2500, 3000, 3500,    0,  500, 1000, 1500, 2000, 2500,\n",
       "        3000, 3500,    0,  500, 1000, 1500, 2000, 2500, 3000, 3500]),\n",
       " array([   0,    0,    0,    0,    0,    0,    0,    0,  500,  500,  500,\n",
       "         500,  500,  500,  500,  500, 1000, 1000, 1000, 1000, 1000, 1000,\n",
       "        1000, 1000, 1500, 1500, 1500, 1500, 1500, 1500, 1500, 1500])]"
      ]
     },
     "execution_count": 6,
     "metadata": {},
     "output_type": "execute_result"
    }
   ],
   "source": [
    "image_size = (500, 500)  # Width, Height\n",
    "picture_size = (image_counts[0] * image_size[0], image_counts[1] * image_size[1])\n",
    "\n",
    "pos_x = np.linspace(0, picture_size[0], image_counts[0], endpoint=False)\n",
    "pos_y = np.linspace(0, picture_size[1], image_counts[1], endpoint=False)\n",
    "pos = np.array(np.meshgrid(pos_x, pos_y), dtype=\"int\")\n",
    "coords = [pos[0].ravel(), pos[1].ravel()]\n",
    "\n",
    "picture = Image.new(\"RGBA\", picture_size)\n",
    "coords"
   ]
  },
  {
   "cell_type": "code",
   "execution_count": 8,
   "id": "7008a616-3539-44e7-940d-69fc74a9825f",
   "metadata": {},
   "outputs": [],
   "source": [
    "for i in range(len(images)):\n",
    "    image = images[i]\n",
    "    image = image.resize(image_size)\n",
    "    picture.paste(image, box = (coords[0][i], coords[1][i]))\n",
    "\n",
    "picture.show()"
   ]
  },
  {
   "cell_type": "markdown",
   "id": "3a6449e3-4fa5-4cc3-abdc-4879445be319",
   "metadata": {},
   "source": [
    "# 2. Regression factors\n",
    "The formula for the regression coefficients is\n",
    "\n",
    "$\\beta = (X'X)^{(-1)}X'Y $\n",
    "\n",
    "But the data is a bit messed up, meaning that the format of the independent variables are saved in a flat array. That means we have a 1xN vector. I.e. the data was changed from that: \n",
    "\n",
    "<img src=\"assets/data_before.png\" alt=\"\" width=\"500\"/>\n",
    "\n",
    "to that:\n",
    "\n",
    "<img src=\"assets/data_after.png\" alt=\"\" width=\"700\"/>\n",
    "\n",
    "The array contains the following variables: \n",
    "\n",
    "- Sale (in Dollars) - Amount of money received by the store\n",
    "- Pack Size - Number of bottles per item\n",
    "- State Bottle Cost - Cost of producing the bottle \n",
    "- Packs Sold - Amount of bottles sold\n",
    "- Bottle Volume (in ml) - How many ml each bottle has\n",
    "\n",
    "\n",
    "\n",
    "Question: Determine the regression coefficents of the following OLS regression\n",
    "\n",
    "$Sale = \\beta_0 + \\beta_1 * (Pack Size) + \\beta_2 * (State Bottle Cost) + \\beta_3 * (Packs Sold) + \\beta_4 * (Bottle Volume) + \\epsilon $"
   ]
  },
  {
   "cell_type": "code",
   "execution_count": null,
   "id": "5360ff3b-a456-4752-a298-5beba4875925",
   "metadata": {},
   "outputs": [],
   "source": []
  },
  {
   "cell_type": "code",
   "execution_count": null,
   "id": "f5a3714e-2d21-462e-a263-1cd59bffc9c2",
   "metadata": {},
   "outputs": [],
   "source": []
  }
 ],
 "metadata": {
  "kernelspec": {
   "display_name": "Python 3 (ipykernel)",
   "language": "python",
   "name": "python3"
  },
  "language_info": {
   "codemirror_mode": {
    "name": "ipython",
    "version": 3
   },
   "file_extension": ".py",
   "mimetype": "text/x-python",
   "name": "python",
   "nbconvert_exporter": "python",
   "pygments_lexer": "ipython3",
   "version": "3.9.7"
  }
 },
 "nbformat": 4,
 "nbformat_minor": 5
}
