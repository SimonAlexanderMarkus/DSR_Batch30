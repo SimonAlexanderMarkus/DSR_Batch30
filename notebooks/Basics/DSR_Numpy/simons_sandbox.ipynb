{
 "cells": [
  {
   "cell_type": "code",
   "execution_count": 1,
   "id": "fe23a4ae-8228-4f66-9f6a-bf5d29f768b5",
   "metadata": {},
   "outputs": [],
   "source": [
    "import numpy as np\n",
    "import matplotlib.pyplot as plt\n",
    "import pandas as pd\n",
    "import sys"
   ]
  },
  {
   "cell_type": "code",
   "execution_count": 8,
   "id": "543f772f-6532-4f16-90b1-0141245a7e79",
   "metadata": {
    "tags": []
   },
   "outputs": [
    {
     "data": {
      "text/plain": [
       "array([0, 1, 3])"
      ]
     },
     "execution_count": 8,
     "metadata": {},
     "output_type": "execute_result"
    }
   ],
   "source": [
    "v = np.array([0, 1, 3])\n",
    "v"
   ]
  },
  {
   "cell_type": "code",
   "execution_count": 5,
   "id": "9c1d0db4-9197-4686-affe-05bea089d220",
   "metadata": {},
   "outputs": [
    {
     "name": "stdout",
     "output_type": "stream",
     "text": [
      "Object `np.strides` not found.\n"
     ]
    }
   ],
   "source": [
    "np.strides?"
   ]
  },
  {
   "cell_type": "code",
   "execution_count": 10,
   "id": "8e70c81e-6805-4fa7-8dfa-cf637c494200",
   "metadata": {},
   "outputs": [
    {
     "data": {
      "text/plain": [
       "\u001b[0;31mType:\u001b[0m        tuple\n",
       "\u001b[0;31mString form:\u001b[0m (8,)\n",
       "\u001b[0;31mLength:\u001b[0m      1\n",
       "\u001b[0;31mDocstring:\u001b[0m  \n",
       "Built-in immutable sequence.\n",
       "\n",
       "If no argument is given, the constructor returns an empty tuple.\n",
       "If iterable is specified the tuple is initialized from iterable's items.\n",
       "\n",
       "If the argument is a tuple, the return value is the same object.\n"
      ]
     },
     "metadata": {},
     "output_type": "display_data"
    }
   ],
   "source": [
    "v.strides?"
   ]
  },
  {
   "cell_type": "code",
   "execution_count": null,
   "id": "341266d0-2875-4e12-9da0-5e0f28823348",
   "metadata": {},
   "outputs": [],
   "source": []
  },
  {
   "cell_type": "code",
   "execution_count": 12,
   "id": "e3475900-78ec-4528-9be1-c534f04d94da",
   "metadata": {},
   "outputs": [
    {
     "data": {
      "text/plain": [
       "array([[ 0,  1,  2],\n",
       "       [ 3,  4,  5],\n",
       "       [ 6,  7,  8],\n",
       "       [ 9, 10, 11]])"
      ]
     },
     "execution_count": 12,
     "metadata": {},
     "output_type": "execute_result"
    }
   ],
   "source": [
    "x = np.reshape(np.arange(12), (4,3))\n",
    "x"
   ]
  },
  {
   "cell_type": "code",
   "execution_count": 16,
   "id": "9ae95757-43ed-407d-98ae-3adf23606461",
   "metadata": {},
   "outputs": [
    {
     "name": "stderr",
     "output_type": "stream",
     "text": [
      "/tmp/ipykernel_3879/609649815.py:2: FutureWarning: Using a non-tuple sequence for multidimensional indexing is deprecated; use `arr[tuple(seq)]` instead of `arr[seq]`. In the future this will be interpreted as an array index, `arr[np.array(seq)]`, which will result either in an error or a different result.\n",
      "  x[coord]\n"
     ]
    },
    {
     "data": {
      "text/plain": [
       "array([1, 1])"
      ]
     },
     "execution_count": 16,
     "metadata": {},
     "output_type": "execute_result"
    }
   ],
   "source": [
    "coord = \n",
    "x[coord]"
   ]
  },
  {
   "cell_type": "code",
   "execution_count": 33,
   "id": "2bdfb964-5972-48ad-97df-cc2b86493e03",
   "metadata": {},
   "outputs": [
    {
     "name": "stdout",
     "output_type": "stream",
     "text": [
      "[[[ 0  1  2]\n",
      "  [ 3  4  5]\n",
      "  [ 6  7  8]\n",
      "  [ 9 10 11]]\n",
      "\n",
      " [[12 13 14]\n",
      "  [15 16 17]\n",
      "  [18 19 20]\n",
      "  [21 22 23]]\n",
      "\n",
      " [[24 25 26]\n",
      "  [27 28 29]\n",
      "  [30 31 32]\n",
      "  [33 34 35]]\n",
      "\n",
      " [[36 37 38]\n",
      "  [39 40 41]\n",
      "  [42 43 44]\n",
      "  [45 46 47]]]\n"
     ]
    }
   ],
   "source": [
    "n = 4\n",
    "a = np.array(np.arange(n*n*3)).reshape(n,n,3)\n",
    "print(a)"
   ]
  },
  {
   "cell_type": "code",
   "execution_count": 34,
   "id": "303f4f91-9fc4-4b89-a2cd-a50d3e0789a7",
   "metadata": {},
   "outputs": [
    {
     "name": "stdout",
     "output_type": "stream",
     "text": [
      "[[[ 0  1  2]\n",
      "  [ 3  4  5]\n",
      "  [ 6  7  8]\n",
      "  [ 9 10 11]]\n",
      "\n",
      " [[12 13 14]\n",
      "  [15 16 17]\n",
      "  [18 19 20]\n",
      "  [21 22 23]]\n",
      "\n",
      " [[24 25 26]\n",
      "  [27 28 29]\n",
      "  [30 31 32]\n",
      "  [33 34 35]]\n",
      "\n",
      " [[36 37 38]\n",
      "  [39 40 41]\n",
      "  [42 43 44]\n",
      "  [45 46 47]]]\n"
     ]
    }
   ],
   "source": [
    "print(a[...,:3])"
   ]
  },
  {
   "cell_type": "code",
   "execution_count": 13,
   "id": "be6c824f-5a03-401a-a8ae-614765fcf87e",
   "metadata": {},
   "outputs": [
    {
     "name": "stdout",
     "output_type": "stream",
     "text": [
      "(300, 1000)\n"
     ]
    }
   ],
   "source": [
    "image_size = (100, 500)  # Width, Height\n",
    "image_counts = (3, 2) # Colums, Rows (corresponds with Width, Height)\n",
    "picture_size = (image_counts[0] * image_size[0], image_counts[1] * image_size[1])\n",
    "print(picture_size)"
   ]
  },
  {
   "cell_type": "code",
   "execution_count": 14,
   "id": "5ed41634-ca63-4ac1-882a-54885acb0cb4",
   "metadata": {},
   "outputs": [
    {
     "name": "stdout",
     "output_type": "stream",
     "text": [
      "[0.0, 100.0, 200.0]\n",
      "[0.0, 500.0]\n"
     ]
    }
   ],
   "source": [
    "pos_x = np.linspace(0, picture_size[0], image_counts[0], endpoint=False)\n",
    "print(list(pos_x))\n",
    "pos_y = np.linspace(0, picture_size[1], image_counts[1], endpoint=False)\n",
    "print(list(pos_y))"
   ]
  },
  {
   "cell_type": "code",
   "execution_count": 15,
   "id": "56069995-c6c4-4d3d-b693-bd871e789695",
   "metadata": {},
   "outputs": [
    {
     "data": {
      "text/plain": [
       "[array([[  0., 100., 200.],\n",
       "        [  0., 100., 200.]]),\n",
       " array([[  0.,   0.,   0.],\n",
       "        [500., 500., 500.]])]"
      ]
     },
     "execution_count": 15,
     "metadata": {},
     "output_type": "execute_result"
    }
   ],
   "source": [
    "pos = np.meshgrid(pos_x, pos_y)\n",
    "pos"
   ]
  },
  {
   "cell_type": "code",
   "execution_count": 28,
   "id": "3607f7af-dad9-4e49-a096-d422493e9126",
   "metadata": {},
   "outputs": [
    {
     "data": {
      "text/plain": [
       "array([  0., 100., 200.,   0., 100., 200.])"
      ]
     },
     "execution_count": 28,
     "metadata": {},
     "output_type": "execute_result"
    }
   ],
   "source": [
    "pos[0].ravel()"
   ]
  },
  {
   "cell_type": "code",
   "execution_count": 29,
   "id": "08975729-e5fd-4841-9e20-5ca213192e99",
   "metadata": {},
   "outputs": [
    {
     "data": {
      "text/plain": [
       "array([  0.,   0.,   0., 500., 500., 500.])"
      ]
     },
     "execution_count": 29,
     "metadata": {},
     "output_type": "execute_result"
    }
   ],
   "source": [
    "pos[1].ravel()"
   ]
  },
  {
   "cell_type": "code",
   "execution_count": 16,
   "id": "ea13d8bc-f983-4eb7-b310-c12b6dad572a",
   "metadata": {},
   "outputs": [],
   "source": [
    "xx, yy = pos"
   ]
  },
  {
   "cell_type": "code",
   "execution_count": 17,
   "id": "bc4d2d42-00a8-4c5b-ad73-8d439a74a185",
   "metadata": {},
   "outputs": [
    {
     "data": {
      "text/plain": [
       "array([[  0., 100., 200.],\n",
       "       [  0., 100., 200.]])"
      ]
     },
     "execution_count": 17,
     "metadata": {},
     "output_type": "execute_result"
    }
   ],
   "source": [
    "xx"
   ]
  },
  {
   "cell_type": "code",
   "execution_count": 18,
   "id": "a12e76e2-0761-4c2e-964d-134375cc1736",
   "metadata": {},
   "outputs": [
    {
     "data": {
      "text/plain": [
       "array([[  0.,   0.,   0.],\n",
       "       [500., 500., 500.]])"
      ]
     },
     "execution_count": 18,
     "metadata": {},
     "output_type": "execute_result"
    }
   ],
   "source": [
    "yy"
   ]
  },
  {
   "cell_type": "code",
   "execution_count": 20,
   "id": "1f7bb06a-af85-4bb2-848c-cbfe5afe8f6a",
   "metadata": {},
   "outputs": [
    {
     "data": {
      "text/plain": [
       "[(array([  0., 100., 200.]), array([0., 0., 0.])),\n",
       " (array([  0., 100., 200.]), array([500., 500., 500.]))]"
      ]
     },
     "execution_count": 20,
     "metadata": {},
     "output_type": "execute_result"
    }
   ],
   "source": [
    "list(zip(xx, yy))"
   ]
  }
 ],
 "metadata": {
  "kernelspec": {
   "display_name": "dsr-setup",
   "language": "python",
   "name": "dsr-setup"
  },
  "language_info": {
   "codemirror_mode": {
    "name": "ipython",
    "version": 3
   },
   "file_extension": ".py",
   "mimetype": "text/x-python",
   "name": "python",
   "nbconvert_exporter": "python",
   "pygments_lexer": "ipython3",
   "version": "3.8.13"
  }
 },
 "nbformat": 4,
 "nbformat_minor": 5
}
