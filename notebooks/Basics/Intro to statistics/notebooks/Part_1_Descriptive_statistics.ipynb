{
 "cells": [
  {
   "cell_type": "markdown",
   "metadata": {},
   "source": [
    "# STATISTICS Applied to data science\n",
    "\n",
    "## Exercises PART 1: Descriptive statistics and data exploration\n",
    "\n",
    "Employing descriptive statistics is one of the main steps of the POC stage (proof-of-concept) and extremely helpful during model evaluation.  \n",
    "A sound knowledge of statistics will help you design your machine learning experiments and interpret the results easily.   \n",
    "In this notebook you'll find some common routines for descriptive statistics in Python, and exercises about data transformation and scaling. \n",
    "\n",
    "![Image](../images/data_1.jpg)"
   ]
  },
  {
   "cell_type": "markdown",
   "metadata": {},
   "source": [
    "### Libraries and configs"
   ]
  },
  {
   "cell_type": "code",
   "execution_count": 1,
   "metadata": {},
   "outputs": [],
   "source": [
    "import numpy as np\n",
    "from numpy import random\n",
    "import pandas as pd\n",
    "from numpy.random import seed, randn\n",
    "import matplotlib.pyplot as plt\n",
    "import math\n",
    "plt.rcParams['figure.figsize'] = (8, 5)\n",
    "#%matplotlib inline\n",
    "from sklearn.datasets import load_boston\n",
    "from scipy import stats\n",
    "\n",
    "# jupyter lab configs\n",
    "from IPython.core.interactiveshell import InteractiveShell\n",
    "InteractiveShell.ast_node_interactivity = \"all\"\n",
    "\n",
    "# precision options\n",
    "pd.set_option('display.float_format', lambda x: '%.2f' % x)\n",
    "%precision 4\n",
    "np.set_printoptions(precision=4, suppress=True)"
   ]
  },
  {
   "cell_type": "code",
   "execution_count": 2,
   "metadata": {},
   "outputs": [],
   "source": [
    "import warnings\n",
    "warnings.filterwarnings('ignore')"
   ]
  },
  {
   "cell_type": "markdown",
   "metadata": {
    "tags": []
   },
   "source": [
    "# Exercise 1 - Write your own summary statistics and descriptors"
   ]
  },
  {
   "cell_type": "markdown",
   "metadata": {},
   "source": [
    "Implement code for the functions below. In each function, make sure you call the function written before. E.g., in `my_rmse()` use the values returned by `my_mse()`. The aim of this exercise is just to understand how these diferent metrics are related, and which aspect of the data they are representing.   \n",
    "\n",
    "**You can use the map below to see the relationships between metrics and then plan how to structure your functions** \n",
    "\n",
    "![Image](../images/map.png)"
   ]
  },
  {
   "cell_type": "code",
   "execution_count": 9,
   "metadata": {},
   "outputs": [],
   "source": [
    "def my_mean(x):\n",
    "    if len(x)>0:\n",
    "        return sum(x)/len(x)\n",
    "\n",
    "def my_sum_squares(x):\n",
    "    mean_x = my_mean(x)\n",
    "    return np.sum((x - mean_x)**2)\n",
    "\n",
    "def my_mse(x):\n",
    "    # mean squared error\n",
    "    if len(x)>0:\n",
    "        return (1./len(x)) * my_sum_squares(x)\n",
    "\n",
    "def my_rmse(x):\n",
    "    # rooted mean squared error\n",
    "    return np.sqrt(my_mse(x))\n",
    "\n",
    "def my_variance():\n",
    "    pass\n",
    "\n",
    "def my_std_dev():\n",
    "    pass\n",
    "\n",
    "def my_std_error():\n",
    "    pass\n",
    "\n",
    "def my_confidence_95():\n",
    "    pass\n",
    "    \n",
    "def my_covariance():\n",
    "    pass\n",
    "\n",
    "def my_coeficient_variation(data):\n",
    "    pass"
   ]
  },
  {
   "cell_type": "markdown",
   "metadata": {},
   "source": [
    "### Make sure it works!! In Python use `assert`"
   ]
  },
  {
   "cell_type": "code",
   "execution_count": 10,
   "metadata": {},
   "outputs": [],
   "source": [
    "x = random.randint(500, size=(32))\n",
    "assert my_mean(x) == np.mean(x)"
   ]
  },
  {
   "cell_type": "markdown",
   "metadata": {},
   "source": [
    "---"
   ]
  },
  {
   "cell_type": "markdown",
   "metadata": {},
   "source": [
    "# Exercise 2. Practice data description and summarization with pandas\n",
    "\n",
    "### Here's a collection of `pandas` functions I find most useful during the data exploration stage:\n",
    "* `.describe()`  and `.describe(include=np.object)` \n",
    "* `.info()`\n",
    "* `.unique()` and `.nunique()`\n",
    "* `.count_values()`\n",
    "* `.group_by().agg()`\n",
    "* `.pd.cut()` and `pd.qcut()` for binning continuous vars into discrete"
   ]
  },
  {
   "cell_type": "code",
   "execution_count": 11,
   "metadata": {},
   "outputs": [],
   "source": [
    "# load a dataset\n",
    "dt = load_boston(return_X_y=False)"
   ]
  },
  {
   "cell_type": "markdown",
   "metadata": {},
   "source": [
    "BOSTON DATASET  \n",
    "\n",
    "**INFORMATION ABOUT THE HOUSES**     \n",
    "`ZN` proportion of residential land zoned for lots over 25,000 sq.ft.    \n",
    "`INDUS` proportion of non-retail business acres per town  \n",
    "`CHAS` Charles River dummy variable (= 1 if tract bounds river; 0 otherwise)   \n",
    "`NOX` nitric oxides concentration (parts per 10 million)   \n",
    "`RM` average number of rooms per dwelling      \n",
    "`AGE` proportion of owner-occupied units built prior to 1940    \n",
    "`DIS` weighted distances to five Boston employment centres       \n",
    "`RAD` index of accessibility to radial highways    \n",
    "`TAX` full-value property-tax rate per $10,000"
   ]
  },
  {
   "cell_type": "code",
   "execution_count": 12,
   "metadata": {},
   "outputs": [],
   "source": [
    "# Load Boston house prices data - CONTINUOUS DATA\n",
    "dt = load_boston(return_X_y=False)\n",
    "df = pd.DataFrame(data = np.c_[dt['data'],dt['target']])\n",
    "df.columns = np.append(dt['feature_names'], 'MED_VALUE')\n",
    "df.drop(['B', 'LSTAT', 'CRIM', 'MED_VALUE', 'PTRATIO'], inplace=True, axis=1)"
   ]
  },
  {
   "cell_type": "code",
   "execution_count": 13,
   "metadata": {},
   "outputs": [
    {
     "name": "stdout",
     "output_type": "stream",
     "text": [
      "This dataset has 506 records\n"
     ]
    }
   ],
   "source": [
    "print(f'This dataset has {len(df)} records')"
   ]
  },
  {
   "cell_type": "markdown",
   "metadata": {},
   "source": [
    "## Evaluate central tendency, skewness and outliers\n",
    "You can start by using pandas `describe()` for continuous data and `describe(include=np.object)` for categorical.  "
   ]
  },
  {
   "cell_type": "code",
   "execution_count": 14,
   "metadata": {},
   "outputs": [],
   "source": [
    "mystats = df.describe().transpose()"
   ]
  },
  {
   "cell_type": "code",
   "execution_count": 15,
   "metadata": {},
   "outputs": [
    {
     "data": {
      "text/html": [
       "<div>\n",
       "<style scoped>\n",
       "    .dataframe tbody tr th:only-of-type {\n",
       "        vertical-align: middle;\n",
       "    }\n",
       "\n",
       "    .dataframe tbody tr th {\n",
       "        vertical-align: top;\n",
       "    }\n",
       "\n",
       "    .dataframe thead th {\n",
       "        text-align: right;\n",
       "    }\n",
       "</style>\n",
       "<table border=\"1\" class=\"dataframe\">\n",
       "  <thead>\n",
       "    <tr style=\"text-align: right;\">\n",
       "      <th></th>\n",
       "      <th>count</th>\n",
       "      <th>mean</th>\n",
       "      <th>std</th>\n",
       "      <th>min</th>\n",
       "      <th>25%</th>\n",
       "      <th>50%</th>\n",
       "      <th>75%</th>\n",
       "      <th>max</th>\n",
       "    </tr>\n",
       "  </thead>\n",
       "  <tbody>\n",
       "    <tr>\n",
       "      <th>ZN</th>\n",
       "      <td>506.00</td>\n",
       "      <td>11.36</td>\n",
       "      <td>23.32</td>\n",
       "      <td>0.00</td>\n",
       "      <td>0.00</td>\n",
       "      <td>0.00</td>\n",
       "      <td>12.50</td>\n",
       "      <td>100.00</td>\n",
       "    </tr>\n",
       "    <tr>\n",
       "      <th>INDUS</th>\n",
       "      <td>506.00</td>\n",
       "      <td>11.14</td>\n",
       "      <td>6.86</td>\n",
       "      <td>0.46</td>\n",
       "      <td>5.19</td>\n",
       "      <td>9.69</td>\n",
       "      <td>18.10</td>\n",
       "      <td>27.74</td>\n",
       "    </tr>\n",
       "    <tr>\n",
       "      <th>CHAS</th>\n",
       "      <td>506.00</td>\n",
       "      <td>0.07</td>\n",
       "      <td>0.25</td>\n",
       "      <td>0.00</td>\n",
       "      <td>0.00</td>\n",
       "      <td>0.00</td>\n",
       "      <td>0.00</td>\n",
       "      <td>1.00</td>\n",
       "    </tr>\n",
       "    <tr>\n",
       "      <th>NOX</th>\n",
       "      <td>506.00</td>\n",
       "      <td>0.55</td>\n",
       "      <td>0.12</td>\n",
       "      <td>0.39</td>\n",
       "      <td>0.45</td>\n",
       "      <td>0.54</td>\n",
       "      <td>0.62</td>\n",
       "      <td>0.87</td>\n",
       "    </tr>\n",
       "    <tr>\n",
       "      <th>RM</th>\n",
       "      <td>506.00</td>\n",
       "      <td>6.28</td>\n",
       "      <td>0.70</td>\n",
       "      <td>3.56</td>\n",
       "      <td>5.89</td>\n",
       "      <td>6.21</td>\n",
       "      <td>6.62</td>\n",
       "      <td>8.78</td>\n",
       "    </tr>\n",
       "    <tr>\n",
       "      <th>AGE</th>\n",
       "      <td>506.00</td>\n",
       "      <td>68.57</td>\n",
       "      <td>28.15</td>\n",
       "      <td>2.90</td>\n",
       "      <td>45.02</td>\n",
       "      <td>77.50</td>\n",
       "      <td>94.07</td>\n",
       "      <td>100.00</td>\n",
       "    </tr>\n",
       "    <tr>\n",
       "      <th>DIS</th>\n",
       "      <td>506.00</td>\n",
       "      <td>3.80</td>\n",
       "      <td>2.11</td>\n",
       "      <td>1.13</td>\n",
       "      <td>2.10</td>\n",
       "      <td>3.21</td>\n",
       "      <td>5.19</td>\n",
       "      <td>12.13</td>\n",
       "    </tr>\n",
       "    <tr>\n",
       "      <th>RAD</th>\n",
       "      <td>506.00</td>\n",
       "      <td>9.55</td>\n",
       "      <td>8.71</td>\n",
       "      <td>1.00</td>\n",
       "      <td>4.00</td>\n",
       "      <td>5.00</td>\n",
       "      <td>24.00</td>\n",
       "      <td>24.00</td>\n",
       "    </tr>\n",
       "    <tr>\n",
       "      <th>TAX</th>\n",
       "      <td>506.00</td>\n",
       "      <td>408.24</td>\n",
       "      <td>168.54</td>\n",
       "      <td>187.00</td>\n",
       "      <td>279.00</td>\n",
       "      <td>330.00</td>\n",
       "      <td>666.00</td>\n",
       "      <td>711.00</td>\n",
       "    </tr>\n",
       "  </tbody>\n",
       "</table>\n",
       "</div>"
      ],
      "text/plain": [
       "       count   mean    std    min    25%    50%    75%    max\n",
       "ZN    506.00  11.36  23.32   0.00   0.00   0.00  12.50 100.00\n",
       "INDUS 506.00  11.14   6.86   0.46   5.19   9.69  18.10  27.74\n",
       "CHAS  506.00   0.07   0.25   0.00   0.00   0.00   0.00   1.00\n",
       "NOX   506.00   0.55   0.12   0.39   0.45   0.54   0.62   0.87\n",
       "RM    506.00   6.28   0.70   3.56   5.89   6.21   6.62   8.78\n",
       "AGE   506.00  68.57  28.15   2.90  45.02  77.50  94.07 100.00\n",
       "DIS   506.00   3.80   2.11   1.13   2.10   3.21   5.19  12.13\n",
       "RAD   506.00   9.55   8.71   1.00   4.00   5.00  24.00  24.00\n",
       "TAX   506.00 408.24 168.54 187.00 279.00 330.00 666.00 711.00"
      ]
     },
     "execution_count": 15,
     "metadata": {},
     "output_type": "execute_result"
    }
   ],
   "source": [
    "mystats"
   ]
  },
  {
   "cell_type": "markdown",
   "metadata": {},
   "source": [
    "### Which column above is telling you the `MEDIAN`?"
   ]
  },
  {
   "cell_type": "markdown",
   "metadata": {},
   "source": [
    "column \"50%\""
   ]
  },
  {
   "cell_type": "markdown",
   "metadata": {},
   "source": [
    "### You can also add any percentile you want to `pd.describe()`:"
   ]
  },
  {
   "cell_type": "code",
   "execution_count": 21,
   "metadata": {},
   "outputs": [
    {
     "data": {
      "text/plain": [
       "0.00    471\n",
       "1.00     35\n",
       "Name: CHAS, dtype: int64"
      ]
     },
     "execution_count": 21,
     "metadata": {},
     "output_type": "execute_result"
    }
   ],
   "source": [
    "df.CHAS.value_counts()"
   ]
  },
  {
   "cell_type": "code",
   "execution_count": 16,
   "metadata": {},
   "outputs": [],
   "source": [
    "df_descriptive_stats = df.describe(percentiles=[0.02, 0.05, .25, .5, .75, .95, .98, 0.99])\\\n",
    "                                                     .transpose().reset_index(drop=False)"
   ]
  },
  {
   "cell_type": "code",
   "execution_count": 17,
   "metadata": {},
   "outputs": [
    {
     "data": {
      "text/html": [
       "<div>\n",
       "<style scoped>\n",
       "    .dataframe tbody tr th:only-of-type {\n",
       "        vertical-align: middle;\n",
       "    }\n",
       "\n",
       "    .dataframe tbody tr th {\n",
       "        vertical-align: top;\n",
       "    }\n",
       "\n",
       "    .dataframe thead th {\n",
       "        text-align: right;\n",
       "    }\n",
       "</style>\n",
       "<table border=\"1\" class=\"dataframe\">\n",
       "  <thead>\n",
       "    <tr style=\"text-align: right;\">\n",
       "      <th></th>\n",
       "      <th>index</th>\n",
       "      <th>count</th>\n",
       "      <th>mean</th>\n",
       "      <th>std</th>\n",
       "      <th>min</th>\n",
       "      <th>2%</th>\n",
       "      <th>5%</th>\n",
       "      <th>25%</th>\n",
       "      <th>50%</th>\n",
       "      <th>75%</th>\n",
       "      <th>95%</th>\n",
       "      <th>98%</th>\n",
       "      <th>99%</th>\n",
       "      <th>max</th>\n",
       "    </tr>\n",
       "  </thead>\n",
       "  <tbody>\n",
       "    <tr>\n",
       "      <th>0</th>\n",
       "      <td>ZN</td>\n",
       "      <td>506.00</td>\n",
       "      <td>11.36</td>\n",
       "      <td>23.32</td>\n",
       "      <td>0.00</td>\n",
       "      <td>0.00</td>\n",
       "      <td>0.00</td>\n",
       "      <td>0.00</td>\n",
       "      <td>0.00</td>\n",
       "      <td>12.50</td>\n",
       "      <td>80.00</td>\n",
       "      <td>85.00</td>\n",
       "      <td>90.00</td>\n",
       "      <td>100.00</td>\n",
       "    </tr>\n",
       "    <tr>\n",
       "      <th>1</th>\n",
       "      <td>INDUS</td>\n",
       "      <td>506.00</td>\n",
       "      <td>11.14</td>\n",
       "      <td>6.86</td>\n",
       "      <td>0.46</td>\n",
       "      <td>1.52</td>\n",
       "      <td>2.18</td>\n",
       "      <td>5.19</td>\n",
       "      <td>9.69</td>\n",
       "      <td>18.10</td>\n",
       "      <td>21.89</td>\n",
       "      <td>25.65</td>\n",
       "      <td>25.65</td>\n",
       "      <td>27.74</td>\n",
       "    </tr>\n",
       "    <tr>\n",
       "      <th>2</th>\n",
       "      <td>CHAS</td>\n",
       "      <td>506.00</td>\n",
       "      <td>0.07</td>\n",
       "      <td>0.25</td>\n",
       "      <td>0.00</td>\n",
       "      <td>0.00</td>\n",
       "      <td>0.00</td>\n",
       "      <td>0.00</td>\n",
       "      <td>0.00</td>\n",
       "      <td>0.00</td>\n",
       "      <td>1.00</td>\n",
       "      <td>1.00</td>\n",
       "      <td>1.00</td>\n",
       "      <td>1.00</td>\n",
       "    </tr>\n",
       "    <tr>\n",
       "      <th>3</th>\n",
       "      <td>NOX</td>\n",
       "      <td>506.00</td>\n",
       "      <td>0.55</td>\n",
       "      <td>0.12</td>\n",
       "      <td>0.39</td>\n",
       "      <td>0.40</td>\n",
       "      <td>0.41</td>\n",
       "      <td>0.45</td>\n",
       "      <td>0.54</td>\n",
       "      <td>0.62</td>\n",
       "      <td>0.74</td>\n",
       "      <td>0.87</td>\n",
       "      <td>0.87</td>\n",
       "      <td>0.87</td>\n",
       "    </tr>\n",
       "    <tr>\n",
       "      <th>4</th>\n",
       "      <td>RM</td>\n",
       "      <td>506.00</td>\n",
       "      <td>6.28</td>\n",
       "      <td>0.70</td>\n",
       "      <td>3.56</td>\n",
       "      <td>4.91</td>\n",
       "      <td>5.31</td>\n",
       "      <td>5.89</td>\n",
       "      <td>6.21</td>\n",
       "      <td>6.62</td>\n",
       "      <td>7.59</td>\n",
       "      <td>8.07</td>\n",
       "      <td>8.33</td>\n",
       "      <td>8.78</td>\n",
       "    </tr>\n",
       "    <tr>\n",
       "      <th>5</th>\n",
       "      <td>AGE</td>\n",
       "      <td>506.00</td>\n",
       "      <td>68.57</td>\n",
       "      <td>28.15</td>\n",
       "      <td>2.90</td>\n",
       "      <td>8.99</td>\n",
       "      <td>17.73</td>\n",
       "      <td>45.02</td>\n",
       "      <td>77.50</td>\n",
       "      <td>94.07</td>\n",
       "      <td>100.00</td>\n",
       "      <td>100.00</td>\n",
       "      <td>100.00</td>\n",
       "      <td>100.00</td>\n",
       "    </tr>\n",
       "    <tr>\n",
       "      <th>6</th>\n",
       "      <td>DIS</td>\n",
       "      <td>506.00</td>\n",
       "      <td>3.80</td>\n",
       "      <td>2.11</td>\n",
       "      <td>1.13</td>\n",
       "      <td>1.34</td>\n",
       "      <td>1.46</td>\n",
       "      <td>2.10</td>\n",
       "      <td>3.21</td>\n",
       "      <td>5.19</td>\n",
       "      <td>7.83</td>\n",
       "      <td>8.91</td>\n",
       "      <td>9.22</td>\n",
       "      <td>12.13</td>\n",
       "    </tr>\n",
       "    <tr>\n",
       "      <th>7</th>\n",
       "      <td>RAD</td>\n",
       "      <td>506.00</td>\n",
       "      <td>9.55</td>\n",
       "      <td>8.71</td>\n",
       "      <td>1.00</td>\n",
       "      <td>1.00</td>\n",
       "      <td>2.00</td>\n",
       "      <td>4.00</td>\n",
       "      <td>5.00</td>\n",
       "      <td>24.00</td>\n",
       "      <td>24.00</td>\n",
       "      <td>24.00</td>\n",
       "      <td>24.00</td>\n",
       "      <td>24.00</td>\n",
       "    </tr>\n",
       "    <tr>\n",
       "      <th>8</th>\n",
       "      <td>TAX</td>\n",
       "      <td>506.00</td>\n",
       "      <td>408.24</td>\n",
       "      <td>168.54</td>\n",
       "      <td>187.00</td>\n",
       "      <td>193.00</td>\n",
       "      <td>222.00</td>\n",
       "      <td>279.00</td>\n",
       "      <td>330.00</td>\n",
       "      <td>666.00</td>\n",
       "      <td>666.00</td>\n",
       "      <td>666.00</td>\n",
       "      <td>666.00</td>\n",
       "      <td>711.00</td>\n",
       "    </tr>\n",
       "  </tbody>\n",
       "</table>\n",
       "</div>"
      ],
      "text/plain": [
       "   index  count   mean    std    min     2%     5%    25%    50%    75%  \\\n",
       "0     ZN 506.00  11.36  23.32   0.00   0.00   0.00   0.00   0.00  12.50   \n",
       "1  INDUS 506.00  11.14   6.86   0.46   1.52   2.18   5.19   9.69  18.10   \n",
       "2   CHAS 506.00   0.07   0.25   0.00   0.00   0.00   0.00   0.00   0.00   \n",
       "3    NOX 506.00   0.55   0.12   0.39   0.40   0.41   0.45   0.54   0.62   \n",
       "4     RM 506.00   6.28   0.70   3.56   4.91   5.31   5.89   6.21   6.62   \n",
       "5    AGE 506.00  68.57  28.15   2.90   8.99  17.73  45.02  77.50  94.07   \n",
       "6    DIS 506.00   3.80   2.11   1.13   1.34   1.46   2.10   3.21   5.19   \n",
       "7    RAD 506.00   9.55   8.71   1.00   1.00   2.00   4.00   5.00  24.00   \n",
       "8    TAX 506.00 408.24 168.54 187.00 193.00 222.00 279.00 330.00 666.00   \n",
       "\n",
       "     95%    98%    99%    max  \n",
       "0  80.00  85.00  90.00 100.00  \n",
       "1  21.89  25.65  25.65  27.74  \n",
       "2   1.00   1.00   1.00   1.00  \n",
       "3   0.74   0.87   0.87   0.87  \n",
       "4   7.59   8.07   8.33   8.78  \n",
       "5 100.00 100.00 100.00 100.00  \n",
       "6   7.83   8.91   9.22  12.13  \n",
       "7  24.00  24.00  24.00  24.00  \n",
       "8 666.00 666.00 666.00 711.00  "
      ]
     },
     "execution_count": 17,
     "metadata": {},
     "output_type": "execute_result"
    }
   ],
   "source": [
    "df_descriptive_stats"
   ]
  },
  {
   "cell_type": "markdown",
   "metadata": {},
   "source": [
    "`TO DO` Add the coefficient of variation to this sumary table:"
   ]
  },
  {
   "cell_type": "code",
   "execution_count": null,
   "metadata": {},
   "outputs": [],
   "source": []
  },
  {
   "cell_type": "markdown",
   "metadata": {},
   "source": [
    "Check the number of unique values per variable to understand which are continuous and which are discrete:"
   ]
  },
  {
   "cell_type": "code",
   "execution_count": null,
   "metadata": {},
   "outputs": [],
   "source": [
    "for c in df.columns:\n",
    "    print(c, 'has',  df[c].nunique(), 'unique values')"
   ]
  },
  {
   "cell_type": "markdown",
   "metadata": {},
   "source": [
    "`TO DO` Look at the table above and pay attention to the continuous variables you identified.   \n",
    "Just looking at the relationship between the **mean** and **std**, which variables seem to be normally distributed?"
   ]
  },
  {
   "cell_type": "code",
   "execution_count": null,
   "metadata": {},
   "outputs": [],
   "source": []
  },
  {
   "cell_type": "markdown",
   "metadata": {},
   "source": [
    "Which seem to be not normally distributed?"
   ]
  },
  {
   "cell_type": "code",
   "execution_count": null,
   "metadata": {},
   "outputs": [],
   "source": []
  },
  {
   "cell_type": "markdown",
   "metadata": {},
   "source": [
    "Use `value_counts()` to quickly find the **mode**:"
   ]
  },
  {
   "cell_type": "code",
   "execution_count": null,
   "metadata": {},
   "outputs": [],
   "source": [
    "df.RAD.value_counts()"
   ]
  },
  {
   "cell_type": "markdown",
   "metadata": {},
   "source": [
    "## Dealing with multimodal data\n",
    "\n",
    "### One possible solution is to discretize the data\n",
    "Let's create some categories in the data using `pd.cut()`.     \n",
    "Check the variable `NOX` that indicates a measure of pollution.    \n",
    "How many categories could we extract from this data?"
   ]
  },
  {
   "cell_type": "code",
   "execution_count": 30,
   "metadata": {},
   "outputs": [
    {
     "data": {
      "text/plain": [
       "<AxesSubplot:ylabel='Frequency'>"
      ]
     },
     "execution_count": 30,
     "metadata": {},
     "output_type": "execute_result"
    },
    {
     "data": {
      "image/png": "[encoded data removed]",
      "text/plain": [
       "<Figure size 576x360 with 1 Axes>"
      ]
     },
     "metadata": {
      "needs_background": "light"
     },
     "output_type": "display_data"
    }
   ],
   "source": [
    "df.NOX.plot.hist(bins=50)"
   ]
  },
  {
   "cell_type": "code",
   "execution_count": 23,
   "metadata": {},
   "outputs": [
    {
     "data": {
      "text/html": [
       "<div>\n",
       "<style scoped>\n",
       "    .dataframe tbody tr th:only-of-type {\n",
       "        vertical-align: middle;\n",
       "    }\n",
       "\n",
       "    .dataframe tbody tr th {\n",
       "        vertical-align: top;\n",
       "    }\n",
       "\n",
       "    .dataframe thead th {\n",
       "        text-align: right;\n",
       "    }\n",
       "</style>\n",
       "<table border=\"1\" class=\"dataframe\">\n",
       "  <thead>\n",
       "    <tr style=\"text-align: right;\">\n",
       "      <th></th>\n",
       "      <th>NOX</th>\n",
       "      <th>NOX_categories</th>\n",
       "    </tr>\n",
       "  </thead>\n",
       "  <tbody>\n",
       "    <tr>\n",
       "      <th>0</th>\n",
       "      <td>0.54</td>\n",
       "      <td>level2</td>\n",
       "    </tr>\n",
       "    <tr>\n",
       "      <th>1</th>\n",
       "      <td>0.47</td>\n",
       "      <td>level1</td>\n",
       "    </tr>\n",
       "    <tr>\n",
       "      <th>2</th>\n",
       "      <td>0.47</td>\n",
       "      <td>level1</td>\n",
       "    </tr>\n",
       "    <tr>\n",
       "      <th>3</th>\n",
       "      <td>0.46</td>\n",
       "      <td>level1</td>\n",
       "    </tr>\n",
       "    <tr>\n",
       "      <th>4</th>\n",
       "      <td>0.46</td>\n",
       "      <td>level1</td>\n",
       "    </tr>\n",
       "    <tr>\n",
       "      <th>5</th>\n",
       "      <td>0.46</td>\n",
       "      <td>level1</td>\n",
       "    </tr>\n",
       "    <tr>\n",
       "      <th>6</th>\n",
       "      <td>0.52</td>\n",
       "      <td>level2</td>\n",
       "    </tr>\n",
       "    <tr>\n",
       "      <th>7</th>\n",
       "      <td>0.52</td>\n",
       "      <td>level2</td>\n",
       "    </tr>\n",
       "    <tr>\n",
       "      <th>8</th>\n",
       "      <td>0.52</td>\n",
       "      <td>level2</td>\n",
       "    </tr>\n",
       "    <tr>\n",
       "      <th>9</th>\n",
       "      <td>0.52</td>\n",
       "      <td>level2</td>\n",
       "    </tr>\n",
       "  </tbody>\n",
       "</table>\n",
       "</div>"
      ],
      "text/plain": [
       "   NOX NOX_categories\n",
       "0 0.54         level2\n",
       "1 0.47         level1\n",
       "2 0.47         level1\n",
       "3 0.46         level1\n",
       "4 0.46         level1\n",
       "5 0.46         level1\n",
       "6 0.52         level2\n",
       "7 0.52         level2\n",
       "8 0.52         level2\n",
       "9 0.52         level2"
      ]
     },
     "execution_count": 23,
     "metadata": {},
     "output_type": "execute_result"
    }
   ],
   "source": [
    "bins = [0, 0.48, 0.58, 0.68, 0.78, 1]\n",
    "labels = ['level1', 'level2', 'level3', 'level4', 'level5']\n",
    "df['NOX_categories'] = pd.cut(df['NOX'], labels=labels, bins=bins)\n",
    "df[['NOX', 'NOX_categories']].head(10)"
   ]
  },
  {
   "cell_type": "markdown",
   "metadata": {},
   "source": [
    "Overview of the new variable `NOX_categories`"
   ]
  },
  {
   "cell_type": "code",
   "execution_count": 24,
   "metadata": {},
   "outputs": [
    {
     "data": {
      "text/plain": [
       "count        506\n",
       "unique         5\n",
       "top       level1\n",
       "freq         155\n",
       "Name: NOX_categories, dtype: object"
      ]
     },
     "execution_count": 24,
     "metadata": {},
     "output_type": "execute_result"
    },
    {
     "data": {
      "text/plain": [
       "level1    155\n",
       "level2    153\n",
       "level3    112\n",
       "level4     70\n",
       "level5     16\n",
       "Name: NOX_categories, dtype: int64"
      ]
     },
     "execution_count": 24,
     "metadata": {},
     "output_type": "execute_result"
    }
   ],
   "source": [
    "df.NOX_categories.describe(include=np.object)\n",
    "df.NOX_categories.value_counts()"
   ]
  },
  {
   "cell_type": "markdown",
   "metadata": {},
   "source": [
    "---"
   ]
  },
  {
   "cell_type": "markdown",
   "metadata": {},
   "source": [
    "# Working with probability distributions\n",
    "\n",
    "### Examples using the `stats` module of `scipy`:  \n",
    "\n",
    "**For the Normal distribution:**  \n",
    "mean, var, skew, kurt = `norm.stats(loc, scale, moments='mvsk')` (to obtain the mean, variance, skewness and kurtosis)  \n",
    "Probability function: `stats.norm.pmf(loc, scale)`  \n",
    "Cumulative function: `stats.norm.cdf(loc, scale, x)`  \n",
    "Generate samples: `stats.norm.rvs(loc, scale, size=5000)`  \n",
    "\n",
    "**NOTE:** `loc` is the mean and `scale` specifies the standard deviation \n",
    "\n",
    "\n",
    "**For the Poisson distribution:**  \n",
    "mean, var, skew, kurt = `stats.norm.stats(moments='mvsk')`  \n",
    "Probability function: `stats.poisson.pmf(k, mu)`  \n",
    "Cumulative function: `stats.poisson.cdf(k, mu)`  \n",
    "Generate samples: `stats.poisson.rvs(mu, size=5000)`  \n"
   ]
  },
  {
   "cell_type": "markdown",
   "metadata": {},
   "source": [
    "*Problem:*\n",
    "In a book publisher company, the average number of typos per book page follows a poisson distribution with lambda = 0.2.  \n",
    "What is the probability of finding a page with 2 typos?"
   ]
  },
  {
   "cell_type": "code",
   "execution_count": 31,
   "metadata": {},
   "outputs": [
    {
     "data": {
      "text/plain": [
       "0.0164"
      ]
     },
     "execution_count": 31,
     "metadata": {},
     "output_type": "execute_result"
    }
   ],
   "source": [
    "stats.poisson.pmf(2, 0.2)"
   ]
  },
  {
   "cell_type": "markdown",
   "metadata": {},
   "source": [
    "What is the probability of finding a page with up to 2 typos?"
   ]
  },
  {
   "cell_type": "code",
   "execution_count": 32,
   "metadata": {},
   "outputs": [
    {
     "data": {
      "text/plain": [
       "0.9989"
      ]
     },
     "execution_count": 32,
     "metadata": {},
     "output_type": "execute_result"
    }
   ],
   "source": [
    "stats.poisson.cdf(2, 0.2)"
   ]
  },
  {
   "cell_type": "markdown",
   "metadata": {},
   "source": [
    "In a certain marketing campaign, the number of clicks per add follows a poisson distribution with lambda = 8.  \n",
    "What is the probability of having 8 clicks in one add?"
   ]
  },
  {
   "cell_type": "code",
   "execution_count": 35,
   "metadata": {},
   "outputs": [
    {
     "data": {
      "text/plain": [
       "0.1396"
      ]
     },
     "execution_count": 35,
     "metadata": {},
     "output_type": "execute_result"
    }
   ],
   "source": [
    "stats.poisson.pmf(8, 8)"
   ]
  },
  {
   "cell_type": "markdown",
   "metadata": {},
   "source": [
    "What is the probability of having 11 clicks?"
   ]
  },
  {
   "cell_type": "code",
   "execution_count": 36,
   "metadata": {},
   "outputs": [
    {
     "data": {
      "text/plain": [
       "0.0722"
      ]
     },
     "execution_count": 36,
     "metadata": {},
     "output_type": "execute_result"
    }
   ],
   "source": [
    "stats.poisson.pmf(11, 8)"
   ]
  },
  {
   "cell_type": "markdown",
   "metadata": {},
   "source": [
    "What is the probability that an add gets no clicks?"
   ]
  },
  {
   "cell_type": "code",
   "execution_count": 37,
   "metadata": {},
   "outputs": [
    {
     "data": {
      "text/plain": [
       "0.0003"
      ]
     },
     "execution_count": 37,
     "metadata": {},
     "output_type": "execute_result"
    }
   ],
   "source": [
    "stats.poisson.pmf(0, 8)"
   ]
  },
  {
   "cell_type": "markdown",
   "metadata": {},
   "source": [
    "### Understanding kurtosis and skewness"
   ]
  },
  {
   "cell_type": "code",
   "execution_count": 45,
   "metadata": {},
   "outputs": [
    {
     "data": {
      "image/png": "[encoded data removed]",
      "text/plain": [
       "<Figure size 576x360 with 1 Axes>"
      ]
     },
     "metadata": {
      "needs_background": "light"
     },
     "output_type": "display_data"
    }
   ],
   "source": [
    "# generate samples from Poisson distribution and different lambdas and plot histograms\n",
    "lambdas = [1, 4, 10, 50]\n",
    "for l in lambdas:\n",
    "    p = plt.hist(stats.poisson.rvs(l, size=50000), bins='auto');"
   ]
  },
  {
   "cell_type": "markdown",
   "metadata": {},
   "source": [
    "Use the function `stats.poisson.stats()` to see how the skewness and kurtosis change depending on lambda"
   ]
  },
  {
   "cell_type": "code",
   "execution_count": 46,
   "metadata": {},
   "outputs": [
    {
     "data": {
      "text/plain": [
       "(array(4.), array(4.), array(0.5), array(0.25))"
      ]
     },
     "execution_count": 46,
     "metadata": {},
     "output_type": "execute_result"
    }
   ],
   "source": [
    "stats.poisson.stats(4, moments='mvsk')"
   ]
  },
  {
   "cell_type": "markdown",
   "metadata": {},
   "source": [
    "---"
   ]
  },
  {
   "cell_type": "markdown",
   "metadata": {},
   "source": [
    "# Three ways to check the distribution of your data"
   ]
  },
  {
   "cell_type": "markdown",
   "metadata": {},
   "source": [
    "## 1. Use histograms"
   ]
  },
  {
   "cell_type": "markdown",
   "metadata": {},
   "source": [
    "you can show the frequency as absolute values:"
   ]
  },
  {
   "cell_type": "code",
   "execution_count": 47,
   "metadata": {},
   "outputs": [
    {
     "data": {
      "text/plain": [
       "<AxesSubplot:ylabel='Frequency'>"
      ]
     },
     "execution_count": 47,
     "metadata": {},
     "output_type": "execute_result"
    },
    {
     "data": {
      "image/png": "[encoded data removed]",
      "text/plain": [
       "<Figure size 576x360 with 1 Axes>"
      ]
     },
     "metadata": {
      "needs_background": "light"
     },
     "output_type": "display_data"
    }
   ],
   "source": [
    "df.TAX.plot.hist(bins=100)"
   ]
  },
  {
   "cell_type": "markdown",
   "metadata": {},
   "source": [
    "...of you can show as percentages:"
   ]
  },
  {
   "cell_type": "code",
   "execution_count": 52,
   "metadata": {},
   "outputs": [
    {
     "data": {
      "text/plain": [
       "<AxesSubplot:ylabel='Frequency'>"
      ]
     },
     "execution_count": 52,
     "metadata": {},
     "output_type": "execute_result"
    },
    {
     "data": {
      "image/png": "[encoded data removed]",
      "text/plain": [
       "<Figure size 576x360 with 1 Axes>"
      ]
     },
     "metadata": {
      "needs_background": "light"
     },
     "output_type": "display_data"
    }
   ],
   "source": [
    "df.TAX.plot.hist(bins=30, density=True)"
   ]
  },
  {
   "cell_type": "markdown",
   "metadata": {},
   "source": [
    "## 2. Use hypothesis tests\n",
    "\n",
    "A common way of testing if a variable has a normal distribution is to use the **Shapiro-Wilk Test**.        \n",
    "In this test, the null hypothesis is that the data comes from a normal distribution.  \n",
    "When **p < 0.05** we can reject this hypothesis.  "
   ]
  },
  {
   "cell_type": "code",
   "execution_count": 109,
   "metadata": {},
   "outputs": [
    {
     "data": {
      "text/plain": [
       "ShapiroResult(statistic=0.8084708452224731, pvalue=2.2094671692229895e-07)"
      ]
     },
     "execution_count": 109,
     "metadata": {},
     "output_type": "execute_result"
    }
   ],
   "source": [
    "# import the test from scipy\n",
    "from scipy.stats import shapiro\n",
    "\n",
    "# create a variable by drawing from a normal distribution\n",
    "normal_data = np.concatenate((np.random.normal(8, 3.3, 30), np.random.normal(-8, 1, 30)))\n",
    "#normal_data = np.arange(0, 1, 50)\n",
    "# apply the test, which returns the statistic and the p-value\n",
    "shapiro(normal_data)"
   ]
  },
  {
   "cell_type": "markdown",
   "metadata": {},
   "source": [
    "The p-value is > 0.05 (by far), so what do we do? "
   ]
  },
  {
   "cell_type": "code",
   "execution_count": 113,
   "metadata": {},
   "outputs": [
    {
     "data": {
      "text/plain": [
       "array([0])"
      ]
     },
     "execution_count": 113,
     "metadata": {},
     "output_type": "execute_result"
    }
   ],
   "source": [
    "np.arange(0,6,10)"
   ]
  },
  {
   "cell_type": "code",
   "execution_count": 110,
   "metadata": {},
   "outputs": [
    {
     "data": {
      "text/plain": [
       "(array([25.,  5.,  0.,  0.,  2.,  3.,  6., 10.,  7.,  2.]),\n",
       " array([-9.6076, -7.0136, -4.4196, -1.8256,  0.7684,  3.3625,  5.9565,\n",
       "         8.5505, 11.1445, 13.7385, 16.3325]),\n",
       " <BarContainer object of 10 artists>)"
      ]
     },
     "execution_count": 110,
     "metadata": {},
     "output_type": "execute_result"
    },
    {
     "data": {
      "image/png": "[encoded data removed]",
      "text/plain": [
       "<Figure size 576x360 with 1 Axes>"
      ]
     },
     "metadata": {
      "needs_background": "light"
     },
     "output_type": "display_data"
    }
   ],
   "source": [
    "plt.hist(normal_data)"
   ]
  },
  {
   "cell_type": "markdown",
   "metadata": {},
   "source": [
    "**Now repeat the test using one of the dataset's variables:**"
   ]
  },
  {
   "cell_type": "code",
   "execution_count": null,
   "metadata": {},
   "outputs": [],
   "source": []
  },
  {
   "cell_type": "markdown",
   "metadata": {},
   "source": [
    "Is this variable normally distributed?  \n",
    "Try it yourself using the other variables in the dataset"
   ]
  },
  {
   "cell_type": "markdown",
   "metadata": {},
   "source": [
    "## 3. Use QQ-plots"
   ]
  },
  {
   "cell_type": "code",
   "execution_count": 101,
   "metadata": {},
   "outputs": [
    {
     "data": {
      "image/png": "[encoded data removed]",
      "text/plain": [
       "<Figure size 576x360 with 1 Axes>"
      ]
     },
     "metadata": {
      "needs_background": "light"
     },
     "output_type": "display_data"
    },
    {
     "data": {
      "image/png": "[encoded data removed]",
      "text/plain": [
       "<Figure size 576x360 with 1 Axes>"
      ]
     },
     "metadata": {
      "needs_background": "light"
     },
     "output_type": "display_data"
    },
    {
     "data": {
      "image/png": "[encoded data removed]",
      "text/plain": [
       "<Figure size 576x360 with 1 Axes>"
      ]
     },
     "metadata": {
      "needs_background": "light"
     },
     "output_type": "display_data"
    }
   ],
   "source": [
    "from statsmodels.graphics.gofplots import qqplot\n",
    "\n",
    "# example of a normally distributed variable\n",
    "p = qqplot(normal_data, line='s')\n",
    "\n",
    "\n",
    "# example of a variable approaches normality but has outliers\n",
    "q = qqplot(df.RM, line='s')\n",
    "\n",
    "# example of a very not-normally distributed variable\n",
    "r = qqplot(df.TAX, line='s')"
   ]
  },
  {
   "cell_type": "markdown",
   "metadata": {},
   "source": [
    "---"
   ]
  },
  {
   "cell_type": "markdown",
   "metadata": {},
   "source": [
    "# Data transformations\n",
    "\n",
    "## The most common procedures are *feature scaling* and *linearization*:\n",
    "\n",
    "1. `Feature scaling` means you transform the data so all quantitative features are, let's say, *speaking the same language*.   \n",
    "Common scaling techniques are:\n",
    "* Min-max (a.k.a. **normalization**)\n",
    "* z-score (a.k.a. **standardization**)  \n",
    "\n",
    "Particularly, I always use z-score, and this transformation is also the most common method employed in *unsupervised learning* such as PCA, clustering, etc.\n",
    "\n",
    "2. `Linearization` will be usually needed to transform the `target`, or `dependent` variable, i. e., what you are trying to model"
   ]
  },
  {
   "cell_type": "markdown",
   "metadata": {},
   "source": [
    "# Feature scaling (a.k.a. standardization, normalization)"
   ]
  },
  {
   "cell_type": "markdown",
   "metadata": {},
   "source": [
    "## Z-score transformation "
   ]
  },
  {
   "cell_type": "markdown",
   "metadata": {},
   "source": [
    "![Image](../images/zscore.gif)   \n",
    "\n",
    "\n",
    "\n",
    "You can use `scipy.stats.zscore()` or write your own function, which is way more fun:"
   ]
  },
  {
   "cell_type": "code",
   "execution_count": null,
   "metadata": {},
   "outputs": [],
   "source": [
    "def my_z_score(data):\n",
    "    \"\"\" Applies z-score transformation to a vector\"\"\"\n",
    "    return data"
   ]
  },
  {
   "cell_type": "code",
   "execution_count": null,
   "metadata": {},
   "outputs": [],
   "source": [
    "# generate some data and check the mean and sd before transformation\n",
    "data = randn(5)\n",
    "np.mean(data), np.std(data)"
   ]
  },
  {
   "cell_type": "markdown",
   "metadata": {},
   "source": [
    "Now check what happens to the mean and standard deviation after the z-score transformation:"
   ]
  },
  {
   "cell_type": "code",
   "execution_count": null,
   "metadata": {},
   "outputs": [],
   "source": [
    "data_std = my_z_score(data)\n",
    "np.mean(data_std), np.std(data_std)"
   ]
  },
  {
   "cell_type": "markdown",
   "metadata": {},
   "source": [
    "# Linearization\n",
    "## *Dealing with non-gaussian data* \n",
    "\n",
    "There's usually four ways of carrying on the analysis if you are working with regression problems and quantitative **target** variables that are not normally-distributed.\n",
    "1. Look for models that don't need linear relationships in the data (E. g. random forests, boosted trees)\n",
    "2. Look for models that can handle different distributions, like Poisson or Binomial (a.k.a. Generalized Linear Models)\n",
    "3. If you are using a hypothesis test, use bootstrapping to generate to generate the null model \n",
    "4. Apply transformations (log, sqrt, box-cox)"
   ]
  },
  {
   "cell_type": "markdown",
   "metadata": {},
   "source": [
    "**Warning!**  \n",
    "\n",
    "Log-transformation is a common tool in statistics. However, there is a pitfall in using log transformation of your data.  \n",
    "Especially if you have a wide numerical range in a feature, keep in mind that log will \"compress\" the data significantly more, and this can prevent the identification of interesting patterns."
   ]
  },
  {
   "cell_type": "code",
   "execution_count": 102,
   "metadata": {},
   "outputs": [
    {
     "data": {
      "text/plain": [
       "185.9166"
      ]
     },
     "execution_count": 102,
     "metadata": {},
     "output_type": "execute_result"
    },
    {
     "data": {
      "text/plain": [
       "10.4506"
      ]
     },
     "execution_count": 102,
     "metadata": {},
     "output_type": "execute_result"
    },
    {
     "data": {
      "text/plain": [
       "10.3441"
      ]
     },
     "execution_count": 102,
     "metadata": {},
     "output_type": "execute_result"
    },
    {
     "data": {
      "text/plain": [
       "4.6728"
      ]
     },
     "execution_count": 102,
     "metadata": {},
     "output_type": "execute_result"
    }
   ],
   "source": [
    "# difference betwee the log and sqrt transformation of a \"big\" value\n",
    "np.sqrt(34565)\n",
    "np.log(34565)\n",
    "\n",
    "# difference between the log and sqrt transformation of a \"small\" value\n",
    "np.sqrt(107)\n",
    "np.log(107)"
   ]
  },
  {
   "cell_type": "markdown",
   "metadata": {},
   "source": [
    "The function below plots the diagnostic plots **QQ Plots** for two sets of variables, like raw (unstransformed) and transformed data, for comparison. "
   ]
  },
  {
   "cell_type": "code",
   "execution_count": 105,
   "metadata": {},
   "outputs": [],
   "source": [
    "def plot_compare_transformations(raw_data, transformed_data, transformation_used):\n",
    "    fig = plt.figure(figsize = (14, 7))\n",
    "    ax1 = fig.add_subplot(211)\n",
    "    prob = stats.probplot(raw_data, dist=stats.norm, plot=ax1)\n",
    "    ax1.set_xlabel('')\n",
    "    ax1.set_title('Probplot against the normal distribution (line) ')\n",
    "    ax2 = fig.add_subplot(212)\n",
    "    prob = stats.probplot(transformed_data, dist=stats.norm, plot=ax2)\n",
    "    ax2.set_title('Probplot after ' + transformation_used + ' transformation')\n",
    "    plt.show()\n",
    "    "
   ]
  },
  {
   "cell_type": "markdown",
   "metadata": {},
   "source": [
    "### Example: \n",
    "Try **box-cox** (available in **scipy**)"
   ]
  },
  {
   "cell_type": "code",
   "execution_count": 104,
   "metadata": {},
   "outputs": [
    {
     "data": {
      "image/png": "[encoded data removed]",
      "text/plain": [
       "<Figure size 1008x504 with 2 Axes>"
      ]
     },
     "metadata": {
      "needs_background": "light"
     },
     "output_type": "display_data"
    }
   ],
   "source": [
    "# generate some data with noise\n",
    "raw_data = stats.loggamma.rvs(14, size=50) + 280\n",
    "\n",
    "# apply box-cox\n",
    "transformed_data, _ = stats.boxcox(raw_data)\n",
    "\n",
    "# plot and compare \n",
    "plot_compare_transformations(raw_data, transformed_data, 'box-cox')"
   ]
  },
  {
   "cell_type": "code",
   "execution_count": 106,
   "metadata": {},
   "outputs": [
    {
     "data": {
      "image/png": "[encoded data removed]",
      "text/plain": [
       "<Figure size 1008x504 with 2 Axes>"
      ]
     },
     "metadata": {
      "needs_background": "light"
     },
     "output_type": "display_data"
    }
   ],
   "source": [
    "# apply sqrt\n",
    "transformed_data, _ = stats.boxcox(df.RM)\n",
    "\n",
    "# plot and compare \n",
    "plot_compare_transformations(df.RM, transformed_data, 'box-cox')"
   ]
  },
  {
   "cell_type": "code",
   "execution_count": null,
   "metadata": {},
   "outputs": [],
   "source": [
    "# apply sqrt\n",
    "transformed_data = np.log(df.RM)\n",
    "\n",
    "# plot and compare \n",
    "plot_compare_transformations(df.RM, transformed_data, 'log')"
   ]
  },
  {
   "cell_type": "markdown",
   "metadata": {},
   "source": [
    "Now let's see the same effect in numbers:"
   ]
  },
  {
   "cell_type": "markdown",
   "metadata": {},
   "source": [
    "Example with **Shapiro-Wilks's** test:"
   ]
  },
  {
   "cell_type": "code",
   "execution_count": null,
   "metadata": {},
   "outputs": [],
   "source": [
    "print('Test of normal distribution with Shapiros Test')\n",
    "print('stat:', stats.shapiro(raw_data)[0],'p-value:', stats.shapiro(raw_data)[1])"
   ]
  },
  {
   "cell_type": "code",
   "execution_count": null,
   "metadata": {},
   "outputs": [],
   "source": [
    "print('Test of normal distribution with Shapiros Test')\n",
    "print('stat:', stats.shapiro(transformed_data)[0],'p-value:', stats.shapiro(transformed_data)[1])"
   ]
  },
  {
   "cell_type": "code",
   "execution_count": null,
   "metadata": {},
   "outputs": [],
   "source": []
  },
  {
   "cell_type": "markdown",
   "metadata": {},
   "source": [
    "----"
   ]
  },
  {
   "cell_type": "markdown",
   "metadata": {},
   "source": [
    "<a href='https://www.freepik.com/vectors/data'>Data vector created by stories - www.freepik.com</a>"
   ]
  }
 ],
 "metadata": {
  "kernelspec": {
   "display_name": "Python 3 (ipykernel)",
   "language": "python",
   "name": "python3"
  },
  "language_info": {
   "codemirror_mode": {
    "name": "ipython",
    "version": 3
   },
   "file_extension": ".py",
   "mimetype": "text/x-python",
   "name": "python",
   "nbconvert_exporter": "python",
   "pygments_lexer": "ipython3",
   "version": "3.8.13"
  }
 },
 "nbformat": 4,
 "nbformat_minor": 4
}
