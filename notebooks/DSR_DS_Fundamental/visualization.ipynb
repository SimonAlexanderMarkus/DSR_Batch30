{
 "cells": [
  {
   "cell_type": "markdown",
   "metadata": {},
   "source": [
    "# Visualization\n",
    "\n",
    "[Effectively Using matplotlib](https://pbpython.com/effective-matplotlib.html)\n",
    "\n",
    "[matplotlib FAQ](https://matplotlib.org/faq/usage_faq.html)\n",
    "\n",
    "[How to Use t-SNE Effectively](https://distill.pub/2016/misread-tsne/)\n",
    "\n",
    "General advice:\n",
    "- look at your data - manually inspect it\n",
    "- any kind of results summary can be useful\n",
    "- people are good at spotting visual problems\n",
    "- log data to text files, use notebooks to view from data on disk\n",
    "\n",
    "Important visualization tools:\n",
    "- matplotlib\n",
    "- seaborn (wrapper around matplotlib)\n",
    "- Plotly\n",
    "- D3 (Javascript)\n",
    "\n",
    "## Types of charts\n",
    "\n",
    "- line\n",
    "- scatter\n",
    "- histogram\n",
    "- bar\n",
    "\n",
    "## \"Mistakes, we’ve drawn a few\"\n",
    "- The economist talks about how they could improve charts they made in the past\n",
    "\n",
    "https://medium.economist.com/mistakes-weve-drawn-a-few-8cdd8a42d368\n",
    "\n",
    "### Truncating the scale\n",
    "\n",
    "Putting break points in the scale distorts the chart\n",
    "\n",
    "![](assets/truncating.png)\n",
    "\n",
    "### Choosing scales to force relationships\n",
    "\n",
    "![](assets/scales.png)\n",
    "\n",
    "### Using a line chart to show trend\n",
    "\n",
    "Instead use dots for the individual points, smoothed line for the trend\n",
    "\n",
    "![](assets/trend.png)\n"
   ]
  },
  {
   "cell_type": "markdown",
   "metadata": {},
   "source": [
    "## Matplotlib - a tale of three (?) API's\n",
    "Matplotlib is one of the most well-known plotting libraries for python. However, at the beginning, it can be difficult to wrap your head around.\n",
    "\n",
    "It has 3 different APIs (ways of writing code to draw graphs).\n",
    "\n",
    "- MATLAB / state based interface\n",
    "- object oriented \n",
    "\n",
    "The two main abstractions in matplotlib are the **Figure** and **Axes**\n",
    "- Figure = final image (can have many Axes)\n",
    "- Axes = individual plot\n",
    "\n",
    "\n",
    "![](assets/mpl-faq.png)\n",
    "[From the matplotlib FAQ](https://matplotlib.org/faq/usage_faq.html)"
   ]
  },
  {
   "cell_type": "code",
   "execution_count": 1,
   "metadata": {},
   "outputs": [],
   "source": [
    "import pandas as pd\n",
    "import warnings\n",
    "warnings.filterwarnings(\"ignore\")"
   ]
  },
  {
   "cell_type": "code",
   "execution_count": 2,
   "metadata": {},
   "outputs": [],
   "source": [
    "# loading data to plot\n",
    "kickstarter_projects = pd.read_csv(\"data/ks-projects-201801.csv\", parse_dates=True)"
   ]
  },
  {
   "cell_type": "code",
   "execution_count": 3,
   "metadata": {},
   "outputs": [
    {
     "data": {
      "text/html": [
       "<div>\n",
       "<style scoped>\n",
       "    .dataframe tbody tr th:only-of-type {\n",
       "        vertical-align: middle;\n",
       "    }\n",
       "\n",
       "    .dataframe tbody tr th {\n",
       "        vertical-align: top;\n",
       "    }\n",
       "\n",
       "    .dataframe thead th {\n",
       "        text-align: right;\n",
       "    }\n",
       "</style>\n",
       "<table border=\"1\" class=\"dataframe\">\n",
       "  <thead>\n",
       "    <tr style=\"text-align: right;\">\n",
       "      <th></th>\n",
       "      <th>ID</th>\n",
       "      <th>name</th>\n",
       "      <th>category</th>\n",
       "      <th>main_category</th>\n",
       "      <th>currency</th>\n",
       "      <th>deadline</th>\n",
       "      <th>goal</th>\n",
       "      <th>launched</th>\n",
       "      <th>pledged</th>\n",
       "      <th>state</th>\n",
       "      <th>backers</th>\n",
       "      <th>country</th>\n",
       "      <th>usd pledged</th>\n",
       "      <th>usd_pledged_real</th>\n",
       "      <th>usd_goal_real</th>\n",
       "    </tr>\n",
       "  </thead>\n",
       "  <tbody>\n",
       "    <tr>\n",
       "      <th>0</th>\n",
       "      <td>1000002330</td>\n",
       "      <td>The Songs of Adelaide &amp; Abullah</td>\n",
       "      <td>Poetry</td>\n",
       "      <td>Publishing</td>\n",
       "      <td>GBP</td>\n",
       "      <td>2015-10-09</td>\n",
       "      <td>1000.0</td>\n",
       "      <td>2015-08-11 12:12:28</td>\n",
       "      <td>0.0</td>\n",
       "      <td>failed</td>\n",
       "      <td>0</td>\n",
       "      <td>GB</td>\n",
       "      <td>0.0</td>\n",
       "      <td>0.0</td>\n",
       "      <td>1533.95</td>\n",
       "    </tr>\n",
       "    <tr>\n",
       "      <th>1</th>\n",
       "      <td>1000003930</td>\n",
       "      <td>Greeting From Earth: ZGAC Arts Capsule For ET</td>\n",
       "      <td>Narrative Film</td>\n",
       "      <td>Film &amp; Video</td>\n",
       "      <td>USD</td>\n",
       "      <td>2017-11-01</td>\n",
       "      <td>30000.0</td>\n",
       "      <td>2017-09-02 04:43:57</td>\n",
       "      <td>2421.0</td>\n",
       "      <td>failed</td>\n",
       "      <td>15</td>\n",
       "      <td>US</td>\n",
       "      <td>100.0</td>\n",
       "      <td>2421.0</td>\n",
       "      <td>30000.00</td>\n",
       "    </tr>\n",
       "    <tr>\n",
       "      <th>2</th>\n",
       "      <td>1000004038</td>\n",
       "      <td>Where is Hank?</td>\n",
       "      <td>Narrative Film</td>\n",
       "      <td>Film &amp; Video</td>\n",
       "      <td>USD</td>\n",
       "      <td>2013-02-26</td>\n",
       "      <td>45000.0</td>\n",
       "      <td>2013-01-12 00:20:50</td>\n",
       "      <td>220.0</td>\n",
       "      <td>failed</td>\n",
       "      <td>3</td>\n",
       "      <td>US</td>\n",
       "      <td>220.0</td>\n",
       "      <td>220.0</td>\n",
       "      <td>45000.00</td>\n",
       "    </tr>\n",
       "    <tr>\n",
       "      <th>3</th>\n",
       "      <td>1000007540</td>\n",
       "      <td>ToshiCapital Rekordz Needs Help to Complete Album</td>\n",
       "      <td>Music</td>\n",
       "      <td>Music</td>\n",
       "      <td>USD</td>\n",
       "      <td>2012-04-16</td>\n",
       "      <td>5000.0</td>\n",
       "      <td>2012-03-17 03:24:11</td>\n",
       "      <td>1.0</td>\n",
       "      <td>failed</td>\n",
       "      <td>1</td>\n",
       "      <td>US</td>\n",
       "      <td>1.0</td>\n",
       "      <td>1.0</td>\n",
       "      <td>5000.00</td>\n",
       "    </tr>\n",
       "    <tr>\n",
       "      <th>4</th>\n",
       "      <td>1000011046</td>\n",
       "      <td>Community Film Project: The Art of Neighborhoo...</td>\n",
       "      <td>Film &amp; Video</td>\n",
       "      <td>Film &amp; Video</td>\n",
       "      <td>USD</td>\n",
       "      <td>2015-08-29</td>\n",
       "      <td>19500.0</td>\n",
       "      <td>2015-07-04 08:35:03</td>\n",
       "      <td>1283.0</td>\n",
       "      <td>canceled</td>\n",
       "      <td>14</td>\n",
       "      <td>US</td>\n",
       "      <td>1283.0</td>\n",
       "      <td>1283.0</td>\n",
       "      <td>19500.00</td>\n",
       "    </tr>\n",
       "  </tbody>\n",
       "</table>\n",
       "</div>"
      ],
      "text/plain": [
       "           ID                                               name  \\\n",
       "0  1000002330                    The Songs of Adelaide & Abullah   \n",
       "1  1000003930      Greeting From Earth: ZGAC Arts Capsule For ET   \n",
       "2  1000004038                                     Where is Hank?   \n",
       "3  1000007540  ToshiCapital Rekordz Needs Help to Complete Album   \n",
       "4  1000011046  Community Film Project: The Art of Neighborhoo...   \n",
       "\n",
       "         category main_category currency    deadline     goal  \\\n",
       "0          Poetry    Publishing      GBP  2015-10-09   1000.0   \n",
       "1  Narrative Film  Film & Video      USD  2017-11-01  30000.0   \n",
       "2  Narrative Film  Film & Video      USD  2013-02-26  45000.0   \n",
       "3           Music         Music      USD  2012-04-16   5000.0   \n",
       "4    Film & Video  Film & Video      USD  2015-08-29  19500.0   \n",
       "\n",
       "              launched  pledged     state  backers country  usd pledged  \\\n",
       "0  2015-08-11 12:12:28      0.0    failed        0      GB          0.0   \n",
       "1  2017-09-02 04:43:57   2421.0    failed       15      US        100.0   \n",
       "2  2013-01-12 00:20:50    220.0    failed        3      US        220.0   \n",
       "3  2012-03-17 03:24:11      1.0    failed        1      US          1.0   \n",
       "4  2015-07-04 08:35:03   1283.0  canceled       14      US       1283.0   \n",
       "\n",
       "   usd_pledged_real  usd_goal_real  \n",
       "0               0.0        1533.95  \n",
       "1            2421.0       30000.00  \n",
       "2             220.0       45000.00  \n",
       "3               1.0        5000.00  \n",
       "4            1283.0       19500.00  "
      ]
     },
     "execution_count": 3,
     "metadata": {},
     "output_type": "execute_result"
    }
   ],
   "source": [
    "kickstarter_projects.head()"
   ]
  },
  {
   "cell_type": "markdown",
   "metadata": {},
   "source": [
    "### API One - `plt.plot()`\n",
    "\n",
    "pyplot level\n",
    "\n",
    "In this API, the figure is automatically created, and the `plt.` always refer to the most recent figure.\n",
    "\n",
    "This is a quick and dirty way to make a plot.  \n",
    "\n",
    "It is shown only for reference (and to be able to understand other peoples code). \n",
    "\n",
    "**It is not recommended.**"
   ]
  },
  {
   "cell_type": "code",
   "execution_count": 4,
   "metadata": {},
   "outputs": [
    {
     "data": {
      "text/plain": [
       "Text(0, 0.5, 'y-axis')"
      ]
     },
     "execution_count": 4,
     "metadata": {},
     "output_type": "execute_result"
    },
    {
     "data": {
      "image/png": "[encoded data removed]",
      "text/plain": [
       "<Figure size 432x288 with 1 Axes>"
      ]
     },
     "metadata": {
      "needs_background": "light"
     },
     "output_type": "display_data"
    }
   ],
   "source": [
    "import numpy as np\n",
    "import pandas as pd\n",
    "import matplotlib.pyplot as plt\n",
    "\n",
    "x = np.random.uniform(0, 100, size=100)\n",
    "y = np.random.uniform(0, 100, size=100)\n",
    "line = plt.plot(x)\n",
    "\n",
    "#  to get access to the figure and axes objects\n",
    "fig = plt.figure(1)\n",
    "axes = fig.axes\n",
    "\n",
    "#  common operations\n",
    "plt.title('API One')\n",
    "plt.xlabel('x-axis')\n",
    "plt.ylabel('y-axis')\n",
    "#plt.savefig('./one.png')"
   ]
  },
  {
   "cell_type": "markdown",
   "metadata": {},
   "source": [
    "## API Two - `plt.subplots()`\n",
    "\n",
    "The reccomended API\n",
    "- more explicit & clear\n",
    "- more typing\n",
    "- multiple axes on the same figure\n",
    "- more options"
   ]
  },
  {
   "cell_type": "code",
   "execution_count": null,
   "metadata": {},
   "outputs": [],
   "source": [
    "fig, axes = plt.subplots(nrows=2, ncols=1, sharex=True, sharey=True)"
   ]
  },
  {
   "cell_type": "code",
   "execution_count": null,
   "metadata": {},
   "outputs": [],
   "source": [
    "# using the subplot syntax to show change in project type over year"
   ]
  },
  {
   "cell_type": "code",
   "execution_count": null,
   "metadata": {},
   "outputs": [],
   "source": [
    "kickstarter_projects.columns"
   ]
  },
  {
   "cell_type": "code",
   "execution_count": null,
   "metadata": {},
   "outputs": [],
   "source": [
    "kickstarter_projects.loc[:, \"launched\"] = pd.to_datetime(kickstarter_projects.loc[:, \"launched\"])\n",
    "kickstarter_projects.loc[:, \"deadline\"] = pd.to_datetime(kickstarter_projects.loc[:, \"deadline\"])"
   ]
  },
  {
   "cell_type": "code",
   "execution_count": null,
   "metadata": {},
   "outputs": [],
   "source": [
    "# making new year column to filter on\n",
    "kickstarter_projects.loc[:, \"project_year\"] = kickstarter_projects.loc[:, \"deadline\"].dt.year"
   ]
  },
  {
   "cell_type": "code",
   "execution_count": null,
   "metadata": {},
   "outputs": [],
   "source": [
    "kickstarter_projects.groupby(\"project_year\")[\"ID\"].count()"
   ]
  },
  {
   "cell_type": "code",
   "execution_count": null,
   "metadata": {},
   "outputs": [],
   "source": [
    "year_2016_project_types = year_2016.groupby(\"main_category\").count()"
   ]
  },
  {
   "cell_type": "code",
   "execution_count": null,
   "metadata": {},
   "outputs": [],
   "source": [
    "year_2010 = kickstarter_projects.loc[kickstarter_projects.loc[:, \"project_year\"]==2010]\n",
    "year_2013 = kickstarter_projects.loc[kickstarter_projects.loc[:, \"project_year\"]==2013]\n",
    "year_2016 = kickstarter_projects.loc[kickstarter_projects.loc[:, \"project_year\"]==2016]\n",
    "\n",
    "year_2010_project_types = year_2010.groupby(\"main_category\")[\"ID\"].count()\n",
    "year_2013_project_types = year_2013.groupby(\"main_category\")[\"ID\"].count()\n",
    "year_2016_project_types = year_2016.groupby(\"main_category\")[\"ID\"].count()\n",
    "\n",
    "fig, ax = plt.subplots(nrows=3, figsize=(15,10), sharex=True, sharey=True)\n",
    "\n",
    "year_2010_project_types.plot(ax=ax[0], kind='bar')\n",
    "\n",
    "year_2013_project_types.plot(ax=ax[1], kind='bar')\n",
    "\n",
    "year_2016_project_types.plot(ax=ax[2], kind='bar')\n",
    "\n",
    "ax[0].set_xlabel('')\n",
    "ax[0].set_title('Projects by type - 2010')\n",
    "ax[1].set_title('Projects by type - 2013')\n",
    "ax[2].set_title('Projects by type - 2016')\n",
    "\n",
    "fig;"
   ]
  },
  {
   "cell_type": "markdown",
   "metadata": {},
   "source": [
    "### Exercise:\n",
    "Plot the amount raised by successful and unsuccessful projects over time."
   ]
  },
  {
   "cell_type": "code",
   "execution_count": null,
   "metadata": {},
   "outputs": [],
   "source": []
  },
  {
   "cell_type": "markdown",
   "metadata": {},
   "source": [
    "The `axes` object is a `np.array`:"
   ]
  },
  {
   "cell_type": "code",
   "execution_count": null,
   "metadata": {},
   "outputs": [],
   "source": [
    "axes[0]"
   ]
  },
  {
   "cell_type": "markdown",
   "metadata": {},
   "source": [
    "## API Three - `df.plot()`\n",
    "\n",
    "Combination of pandas"
   ]
  },
  {
   "cell_type": "code",
   "execution_count": null,
   "metadata": {},
   "outputs": [],
   "source": [
    "tech_df = kickstarter_projects.loc[kickstarter_projects.loc[:, \"main_category\"]==\"Technology\"]\n",
    "sub_categories_tech = pd.DataFrame(tech_df.groupby(\"category\")[\"ID\"].count().sort_values(ascending=False)[1:])\n",
    "sub_categories_tech.rename(columns={\"ID\":\"Tech Type\"}, inplace=True)"
   ]
  },
  {
   "cell_type": "code",
   "execution_count": null,
   "metadata": {},
   "outputs": [],
   "source": [
    "ax = sub_categories_tech.plot(kind='barh')\n",
    "ax.legend().set_visible(False)\n",
    "ax.set(title='Kickstarter Technology Projects by Sub-Type', \n",
    "       xlabel='Total Number of Projects', ylabel='Tech Type');"
   ]
  },
  {
   "cell_type": "markdown",
   "metadata": {},
   "source": [
    "## Changing plot style"
   ]
  },
  {
   "cell_type": "code",
   "execution_count": null,
   "metadata": {},
   "outputs": [],
   "source": [
    "plt.style.available\n",
    "plt.style.use('ggplot')"
   ]
  },
  {
   "cell_type": "markdown",
   "metadata": {},
   "source": [
    "# Changing dimensionality for visualization\n",
    "\n",
    "Most commonly, we want a 2D representation of data to be able to plot it.  \n",
    "\n",
    "Often our data is a higher dimension\n",
    "- sometimes it can be lower (plot a latent space into 2D)\n",
    "\n",
    "## t-SNE\n",
    "\n",
    "Can also be used to increase dimensionality!\n",
    "- use case = transforming a 1D latent space of an autoencoder to 2D"
   ]
  },
  {
   "cell_type": "code",
   "execution_count": null,
   "metadata": {},
   "outputs": [],
   "source": [
    "from sklearn.datasets import load_digits\n",
    "from sklearn.manifold import TSNE\n",
    "import seaborn as sns\n",
    "\n",
    "\n",
    "digits = load_digits()"
   ]
  },
  {
   "cell_type": "code",
   "execution_count": null,
   "metadata": {},
   "outputs": [],
   "source": [
    "x = digits['data']\n",
    "y = digits['target']\n",
    "x.shape"
   ]
  },
  {
   "cell_type": "code",
   "execution_count": null,
   "metadata": {},
   "outputs": [],
   "source": [
    "tsne = TSNE(n_components=2)\n",
    "trans = tsne.fit_transform(x)\n",
    "trans.shape"
   ]
  },
  {
   "cell_type": "code",
   "execution_count": null,
   "metadata": {},
   "outputs": [],
   "source": [
    "sns.scatterplot(trans[:,0], trans[:,1], hue=y, legend='full', palette=sns.color_palette(\"bright\", 10))"
   ]
  },
  {
   "cell_type": "markdown",
   "metadata": {},
   "source": [
    "[How to Use t-SNE Effectively](https://distill.pub/2016/misread-tsne/)\n",
    "\n",
    "- cluster sizes & distances are unstable\n",
    "\n",
    "Hyperparameter perplexity\n",
    "- balances between the local & global aspects of the data\n",
    "- original paper suggests t-SNE is robust to values between 5-50\n",
    "- in practice, you should look at a few different perplexities\n"
   ]
  },
  {
   "cell_type": "code",
   "execution_count": null,
   "metadata": {},
   "outputs": [],
   "source": [
    "tsne = TSNE(n_components=2, perplexity=25)\n",
    "trans = tsne.fit_transform(x)\n",
    "sns.scatterplot(trans[:,0], trans[:,1], hue=y, legend='full', palette=sns.color_palette(\"bright\", 10))"
   ]
  },
  {
   "cell_type": "code",
   "execution_count": null,
   "metadata": {},
   "outputs": [],
   "source": [
    "tsne = TSNE(n_components=2, perplexity=50)\n",
    "trans = tsne.fit_transform(x)\n",
    "sns.scatterplot(trans[:,0], trans[:,1], hue=y, legend='full', palette=sns.color_palette(\"bright\", 10))"
   ]
  },
  {
   "cell_type": "markdown",
   "metadata": {},
   "source": [
    "## PCA\n",
    "\n",
    "Only used for dimensionality reduction"
   ]
  },
  {
   "cell_type": "code",
   "execution_count": null,
   "metadata": {},
   "outputs": [],
   "source": [
    "from sklearn.decomposition import PCA\n",
    "\n",
    "pca = PCA(n_components=2)\n",
    "trans = pca.fit_transform(x)\n",
    "sns.scatterplot(trans[:,0], trans[:,1], hue=y, legend='full', palette=sns.color_palette(\"bright\", 10))"
   ]
  },
  {
   "cell_type": "code",
   "execution_count": null,
   "metadata": {},
   "outputs": [],
   "source": [
    "sum(pca.explained_variance_ratio_)"
   ]
  },
  {
   "cell_type": "code",
   "execution_count": null,
   "metadata": {},
   "outputs": [],
   "source": []
  }
 ],
 "metadata": {
  "kernelspec": {
   "display_name": "Python 3 (ipykernel)",
   "language": "python",
   "name": "python3"
  },
  "language_info": {
   "codemirror_mode": {
    "name": "ipython",
    "version": 3
   },
   "file_extension": ".py",
   "mimetype": "text/x-python",
   "name": "python",
   "nbconvert_exporter": "python",
   "pygments_lexer": "ipython3",
   "version": "3.9.7"
  }
 },
 "nbformat": 4,
 "nbformat_minor": 4
}
