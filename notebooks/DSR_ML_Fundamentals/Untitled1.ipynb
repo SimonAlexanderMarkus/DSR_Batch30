{
 "cells": [
  {
   "cell_type": "code",
   "execution_count": 1,
   "id": "4ef48774-e7d5-40eb-9f0a-c3a994342b1e",
   "metadata": {},
   "outputs": [],
   "source": [
    "import numpy as np\n",
    "import plotly.express as px"
   ]
  },
  {
   "cell_type": "code",
   "execution_count": 2,
   "id": "64c2fdda",
   "metadata": {},
   "outputs": [],
   "source": [
    "x = np.random.rand(50)"
   ]
  },
  {
   "cell_type": "code",
   "execution_count": 4,
   "id": "05e61b46-490e-4548-9cea-0a6bc5411a03",
   "metadata": {},
   "outputs": [],
   "source": [
    "f = lambda x: 0.5*x + 0.2"
   ]
  },
  {
   "cell_type": "code",
   "execution_count": 6,
   "id": "d181837a",
   "metadata": {},
   "outputs": [],
   "source": [
    "y = np.array([f(x) + np.random.randn() for x in x])"
   ]
  },
  {
   "cell_type": "code",
   "execution_count": null,
   "id": "25e5a535",
   "metadata": {},
   "outputs": [],
   "source": []
  }
 ],
 "metadata": {
  "kernelspec": {
   "display_name": "dsr-setup",
   "language": "python",
   "name": "dsr-setup"
  },
  "language_info": {
   "codemirror_mode": {
    "name": "ipython",
    "version": 3
   },
   "file_extension": ".py",
   "mimetype": "text/x-python",
   "name": "python",
   "nbconvert_exporter": "python",
   "pygments_lexer": "ipython3",
   "version": "3.8.13"
  }
 },
 "nbformat": 4,
 "nbformat_minor": 5
}
