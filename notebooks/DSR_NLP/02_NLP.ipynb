{
 "cells": [
  {
   "cell_type": "markdown",
   "id": "fdcc1ad6-a04f-4e4e-a693-c2c92e535dd3",
   "metadata": {},
   "source": [
    "# Tensorflow Data Example: IMDB \n",
    "https://www.tensorflow.org/datasets/catalog/imdb_reviews"
   ]
  },
  {
   "cell_type": "code",
   "execution_count": 2,
   "id": "b6ff00da-9e7f-4dc0-8371-1ea549260231",
   "metadata": {},
   "outputs": [],
   "source": [
    "import random\n",
    "\n",
    "import matplotlib.pyplot as plt\n",
    "import numpy as np\n",
    "import tensorflow as tf\n",
    "import tensorflow_datasets as tfds\n",
    "from tensorflow.keras import layers, models\n",
    "\n",
    "from scipy import stats"
   ]
  },
  {
   "cell_type": "code",
   "execution_count": 4,
   "id": "4804b5df-78b9-43cd-9455-160a3b7bd69e",
   "metadata": {},
   "outputs": [],
   "source": [
    "dataset, info = tfds.load(\n",
    "    \"imdb_reviews/plain_text\",\n",
    "    split=[\"train[:80%]\", \"train[80%:]\", \"test\"],\n",
    "    as_supervised=True,\n",
    "    with_info=True,\n",
    ")\n",
    "\n",
    "dataset_train_original = dataset[0]\n",
    "dataset_validate_original = dataset[1]\n",
    "dataset_test_original = dataset[2]"
   ]
  },
  {
   "cell_type": "code",
   "execution_count": 5,
   "id": "d524312b-9038-499c-b388-e43c278fd7c7",
   "metadata": {
    "tags": []
   },
   "outputs": [
    {
     "data": {
      "text/plain": [
       "tfds.core.DatasetInfo(\n",
       "    name='imdb_reviews',\n",
       "    full_name='imdb_reviews/plain_text/1.0.0',\n",
       "    description=\"\"\"\n",
       "    Large Movie Review Dataset.\n",
       "    This is a dataset for binary sentiment classification containing substantially more data than previous benchmark datasets. We provide a set of 25,000 highly polar movie reviews for training, and 25,000 for testing. There is additional unlabeled data for use as well.\n",
       "    \"\"\",\n",
       "    config_description=\"\"\"\n",
       "    Plain text\n",
       "    \"\"\",\n",
       "    homepage='http://ai.stanford.edu/~amaas/data/sentiment/',\n",
       "    data_path='/home/sam/tensorflow_datasets/imdb_reviews/plain_text/1.0.0',\n",
       "    download_size=80.23 MiB,\n",
       "    dataset_size=129.83 MiB,\n",
       "    features=FeaturesDict({\n",
       "        'label': ClassLabel(shape=(), dtype=tf.int64, num_classes=2),\n",
       "        'text': Text(shape=(), dtype=tf.string),\n",
       "    }),\n",
       "    supervised_keys=('text', 'label'),\n",
       "    disable_shuffling=False,\n",
       "    splits={\n",
       "        'test': <SplitInfo num_examples=25000, num_shards=1>,\n",
       "        'train': <SplitInfo num_examples=25000, num_shards=1>,\n",
       "        'unsupervised': <SplitInfo num_examples=50000, num_shards=1>,\n",
       "    },\n",
       "    citation=\"\"\"@InProceedings{maas-EtAl:2011:ACL-HLT2011,\n",
       "      author    = {Maas, Andrew L.  and  Daly, Raymond E.  and  Pham, Peter T.  and  Huang, Dan  and  Ng, Andrew Y.  and  Potts, Christopher},\n",
       "      title     = {Learning Word Vectors for Sentiment Analysis},\n",
       "      booktitle = {Proceedings of the 49th Annual Meeting of the Association for Computational Linguistics: Human Language Technologies},\n",
       "      month     = {June},\n",
       "      year      = {2011},\n",
       "      address   = {Portland, Oregon, USA},\n",
       "      publisher = {Association for Computational Linguistics},\n",
       "      pages     = {142--150},\n",
       "      url       = {http://www.aclweb.org/anthology/P11-1015}\n",
       "    }\"\"\",\n",
       ")"
      ]
     },
     "execution_count": 5,
     "metadata": {},
     "output_type": "execute_result"
    }
   ],
   "source": [
    "info"
   ]
  },
  {
   "cell_type": "code",
   "execution_count": 4,
   "id": "fc7c6f99-df97-46a6-8ded-31912e36dacf",
   "metadata": {},
   "outputs": [
    {
     "data": {
      "text/plain": [
       "<PrefetchDataset element_spec=(TensorSpec(shape=(), dtype=tf.string, name=None), TensorSpec(shape=(), dtype=tf.int64, name=None))>"
      ]
     },
     "execution_count": 4,
     "metadata": {},
     "output_type": "execute_result"
    }
   ],
   "source": [
    "dataset_train_original # this is a data stream"
   ]
  },
  {
   "cell_type": "code",
   "execution_count": 6,
   "id": "f8b3a902-a00a-4327-90c5-86db6af9412d",
   "metadata": {},
   "outputs": [
    {
     "name": "stdout",
     "output_type": "stream",
     "text": [
      "This was an absolutely terrible movie. Don't be lured in by Christopher Walken or Michael Ironside. Both are great actors, but this must simply be their worst role in history. Even their great acting could not redeem this movie's ridiculous storyline. This movie is an early nineties US propaganda piece. The most pathetic scenes were those when the Columbian rebels were making their cases for revolutions. Maria Conchita Alonso appeared phony, and her pseudo-love affair with Walken was nothing but a pathetic emotional plug in a movie that was devoid of any real meaning. I am disappointed that there are movies like this, ruining actor's like Christopher Walken's good name. I could barely sit through it.\n",
      "0\n",
      "\n",
      "I have been known to fall asleep during films, but this is usually due to a combination of things including, really tired, being warm and comfortable on the sette and having just eaten a lot. However on this occasion I fell asleep because the film was rubbish. The plot development was constant. Constantly slow and boring. Things seemed to happen, but with no explanation of what was causing them or why. I admit, I may have missed part of the film, but i watched the majority of it and everything just seemed to happen of its own accord without any real concern for anything else. I cant recommend this film at all.\n",
      "0\n",
      "\n",
      "Mann photographs the Alberta Rocky Mountains in a superb fashion, and Jimmy Stewart and Walter Brennan give enjoyable performances as they always seem to do. <br /><br />But come on Hollywood - a Mountie telling the people of Dawson City, Yukon to elect themselves a marshal (yes a marshal!) and to enforce the law themselves, then gunfighters battling it out on the streets for control of the town? <br /><br />Nothing even remotely resembling that happened on the Canadian side of the border during the Klondike gold rush. Mr. Mann and company appear to have mistaken Dawson City for Deadwood, the Canadian North for the American Wild West.<br /><br />Canadian viewers be prepared for a Reefer Madness type of enjoyable howl with this ludicrous plot, or, to shake your head in disgust.\n",
      "0\n",
      "\n"
     ]
    },
    {
     "name": "stderr",
     "output_type": "stream",
     "text": [
      "2022-05-06 09:57:08.239206: W tensorflow/core/kernels/data/cache_dataset_ops.cc:768] The calling iterator did not fully read the dataset being cached. In order to avoid unexpected truncation of the dataset, the partially cached contents of the dataset  will be discarded. This can happen if you have an input pipeline similar to `dataset.cache().take(k).repeat()`. You should use `dataset.take(k).cache().repeat()` instead.\n"
     ]
    }
   ],
   "source": [
    "for x, y in dataset_train_original.take(3):\n",
    "    print(x.numpy().decode(\"utf-8\"))\n",
    "    print(y.numpy())\n",
    "    print(\"\")"
   ]
  },
  {
   "cell_type": "code",
   "execution_count": 8,
   "id": "dddd8c55-04a5-4c33-85de-0ec040010212",
   "metadata": {},
   "outputs": [
    {
     "data": {
      "image/png": "[encoded data removed]",
      "text/plain": [
       "<Figure size 432x288 with 1 Axes>"
      ]
     },
     "metadata": {
      "needs_background": "light"
     },
     "output_type": "display_data"
    }
   ],
   "source": [
    "length = []\n",
    "for review, _ in dataset_train_original:\n",
    "    review = review.numpy().decode(\"utf-8\")\n",
    "    words = review.split()\n",
    "    length += [len(words)]\n",
    "\n",
    "plt.hist(length, bins=100)\n",
    "plt.show()"
   ]
  },
  {
   "cell_type": "code",
   "execution_count": 9,
   "id": "f7a847ea-442e-432a-b516-70bd1e232945",
   "metadata": {},
   "outputs": [
    {
     "name": "stdout",
     "output_type": "stream",
     "text": [
      "Min     10\n",
      "Mean    233.912\n",
      "Median  174.0\n",
      "Modus   123.0\n",
      "STD     173.81097104613391\n",
      "Max     2470\n"
     ]
    }
   ],
   "source": [
    "print(\"Min    \", np.min(length))\n",
    "print(\"Mean   \", np.mean(length))\n",
    "print(\"Median \", np.median(length))\n",
    "print(\"Modus  \", float(stats.mode(length)[0]))\n",
    "print(\"STD    \", np.std(length))\n",
    "print(\"Max    \", np.max(length))"
   ]
  },
  {
   "cell_type": "markdown",
   "id": "89db3032-2c01-4995-a323-038276a3dbb2",
   "metadata": {},
   "source": [
    "### Bag of Words Encoding"
   ]
  },
  {
   "cell_type": "markdown",
   "id": "1fa7def9-1190-4c68-9032-dd43cf287221",
   "metadata": {},
   "source": [
    "#### Define Encoder"
   ]
  },
  {
   "cell_type": "code",
   "execution_count": 18,
   "id": "5568b26c-43ae-459f-8f41-c83aa0bcf293",
   "metadata": {},
   "outputs": [],
   "source": [
    "vocabulary_size = 10_000\n",
    "\n",
    "encoder = layers.TextVectorization(\n",
    "    max_tokens=vocabulary_size,\n",
    "    standardize=\"lower_and_strip_punctuation\",\n",
    "    split=\"whitespace\",\n",
    "    output_mode=\"multi_hot\",\n",
    ")\n",
    "\n",
    "encoder.adapt(dataset_train_original.map(lambda text, label: text).batch(2040)) # ???"
   ]
  },
  {
   "cell_type": "code",
   "execution_count": 13,
   "id": "11864a73-5bc0-4f4e-b57a-8eb2167e5e77",
   "metadata": {
    "tags": []
   },
   "outputs": [],
   "source": [
    "vocabulary = encoder.get_vocabulary()"
   ]
  },
  {
   "cell_type": "code",
   "execution_count": 14,
   "id": "749bb7a3-8228-4477-87fe-2f8db3e2870b",
   "metadata": {
    "tags": []
   },
   "outputs": [
    {
     "data": {
      "text/plain": [
       "'[UNK] the and a of to is in it i this that br was as for with movie but film on not you his are have be he one its at all by an they who from so like her or just about if has out some there what good'"
      ]
     },
     "execution_count": 14,
     "metadata": {},
     "output_type": "execute_result"
    }
   ],
   "source": [
    "\" \".join(vocabulary[:50])"
   ]
  },
  {
   "cell_type": "code",
   "execution_count": 15,
   "id": "066364fb-1d05-42f3-9413-e0cf9524cd74",
   "metadata": {},
   "outputs": [],
   "source": [
    "text = \"Hello World, this is some interesting but random text. the\"\n",
    "text_encoded = encoder(text)\n",
    "text_encoded = [str(int(x)) for x in text_encoded]\n",
    "text_encoded = \"\".join(text_encoded)"
   ]
  },
  {
   "cell_type": "code",
   "execution_count": 17,
   "id": "75d7a4a5-e804-48ec-b0c2-676d558bba52",
   "metadata": {
    "tags": []
   },
   "outputs": [],
   "source": [
    "#text_encoded"
   ]
  },
  {
   "cell_type": "code",
   "execution_count": 13,
   "id": "6d39e30d-798e-4b53-9c52-3517eb9cf744",
   "metadata": {},
   "outputs": [
    {
     "name": "stdout",
     "output_type": "stream",
     "text": [
      "tf.Tensor([1. 1. 1. ... 0. 0. 0.], shape=(10000,), dtype=float32)\n",
      "tf.Tensor(0, shape=(), dtype=int64)\n",
      "tf.Tensor([1. 1. 1. ... 0. 0. 0.], shape=(10000,), dtype=float32)\n",
      "tf.Tensor(0, shape=(), dtype=int64)\n",
      "tf.Tensor([1. 1. 1. ... 0. 0. 0.], shape=(10000,), dtype=float32)\n",
      "tf.Tensor(0, shape=(), dtype=int64)\n",
      "tf.Tensor([1. 1. 1. ... 0. 0. 0.], shape=(10000,), dtype=float32)\n",
      "tf.Tensor(1, shape=(), dtype=int64)\n",
      "tf.Tensor([1. 1. 1. ... 0. 0. 0.], shape=(10000,), dtype=float32)\n",
      "tf.Tensor(1, shape=(), dtype=int64)\n",
      "tf.Tensor([1. 1. 1. ... 0. 0. 0.], shape=(10000,), dtype=float32)\n",
      "tf.Tensor(1, shape=(), dtype=int64)\n",
      "tf.Tensor([1. 1. 1. ... 0. 0. 0.], shape=(10000,), dtype=float32)\n",
      "tf.Tensor(0, shape=(), dtype=int64)\n",
      "tf.Tensor([1. 1. 1. ... 0. 0. 0.], shape=(10000,), dtype=float32)\n",
      "tf.Tensor(0, shape=(), dtype=int64)\n"
     ]
    }
   ],
   "source": [
    "for x, y in dataset_train_original.take(8):\n",
    "    x_encoded = encoder(x)\n",
    "    print(x_encoded)\n",
    "    print(y)"
   ]
  },
  {
   "cell_type": "code",
   "execution_count": 14,
   "id": "8aad3ccd-d869-4c6d-80fd-f195d24e7d2d",
   "metadata": {},
   "outputs": [
    {
     "name": "stdout",
     "output_type": "stream",
     "text": [
      "(128,)\n",
      "(128,)\n"
     ]
    },
    {
     "name": "stderr",
     "output_type": "stream",
     "text": [
      "2022-05-04 14:30:48.356344: W tensorflow/core/kernels/data/cache_dataset_ops.cc:768] The calling iterator did not fully read the dataset being cached. In order to avoid unexpected truncation of the dataset, the partially cached contents of the dataset  will be discarded. This can happen if you have an input pipeline similar to `dataset.cache().take(k).repeat()`. You should use `dataset.take(k).cache().repeat()` instead.\n"
     ]
    }
   ],
   "source": [
    "dataset_train = dataset_train_original.cache()\n",
    "dataset_train = dataset_test_original.shuffle(20_000)\n",
    "dataset_train = dataset_train.batch(128)\n",
    "\n",
    "dataset_validate = dataset_validate_original.cache()\n",
    "dataset_validate = dataset_validate_original.batch(128)\n",
    "\n",
    "for x, y in dataset_train.take(1):\n",
    "    print(x.shape)\n",
    "    print(y.shape)"
   ]
  },
  {
   "cell_type": "code",
   "execution_count": 15,
   "id": "0f6f2b88-d786-4d64-8601-448bb5bf8c3c",
   "metadata": {},
   "outputs": [
    {
     "data": {
      "text/plain": [
       "<tf.Tensor: shape=(128, 10000), dtype=float32, numpy=\n",
       "array([[1., 1., 0., ..., 0., 0., 0.],\n",
       "       [1., 1., 1., ..., 0., 0., 0.],\n",
       "       [1., 1., 1., ..., 0., 0., 0.],\n",
       "       ...,\n",
       "       [1., 1., 1., ..., 0., 0., 0.],\n",
       "       [1., 1., 1., ..., 0., 0., 0.],\n",
       "       [1., 1., 1., ..., 0., 0., 0.]], dtype=float32)>"
      ]
     },
     "execution_count": 15,
     "metadata": {},
     "output_type": "execute_result"
    }
   ],
   "source": [
    "encoder(x)"
   ]
  },
  {
   "cell_type": "code",
   "execution_count": 16,
   "id": "c5d06152-2ae7-4cd2-89cb-bd3224c8e290",
   "metadata": {},
   "outputs": [
    {
     "name": "stdout",
     "output_type": "stream",
     "text": [
      "Epoch 1/5\n",
      "196/196 [==============================] - 3s 11ms/step - loss: 0.3860 - accuracy: 0.8536 - val_loss: 0.2933 - val_accuracy: 0.8872\n",
      "Epoch 2/5\n",
      "196/196 [==============================] - 2s 10ms/step - loss: 0.2129 - accuracy: 0.9204 - val_loss: 0.2911 - val_accuracy: 0.8892\n",
      "Epoch 3/5\n",
      "196/196 [==============================] - 2s 10ms/step - loss: 0.1644 - accuracy: 0.9414 - val_loss: 0.3047 - val_accuracy: 0.8850\n",
      "Epoch 4/5\n",
      "196/196 [==============================] - 2s 10ms/step - loss: 0.1339 - accuracy: 0.9542 - val_loss: 0.3390 - val_accuracy: 0.8766\n",
      "Epoch 5/5\n",
      "196/196 [==============================] - 2s 10ms/step - loss: 0.1127 - accuracy: 0.9630 - val_loss: 0.3610 - val_accuracy: 0.8740\n"
     ]
    }
   ],
   "source": [
    "model = models.Sequential()\n",
    "model.add(encoder)\n",
    "model.add(layers.Dense(12, activation=\"relu\")) # relu is a good start for a first layer\n",
    "# model.add(layers.Dense(128, activation=\"relu\"))\n",
    "model.add(layers.Dense(1, activation=\"sigmoid\")) # !!ATTENTION!!: softmax leads always to 1 (???)\n",
    "\n",
    "# model.summary()\n",
    "\n",
    "model.compile(\n",
    "    optimizer=\"adam\",\n",
    "    loss=\"binary_crossentropy\",\n",
    "    metrics=[\"accuracy\"]\n",
    ")\n",
    "\n",
    "history = model.fit(\n",
    "    dataset_train,\n",
    "    epochs=5,\n",
    "    validation_data=dataset_validate,\n",
    ")"
   ]
  },
  {
   "cell_type": "code",
   "execution_count": 17,
   "id": "c94e5fa7-fa06-4876-96fd-3b64f806190c",
   "metadata": {},
   "outputs": [
    {
     "data": {
      "text/plain": [
       "array([[0.7718624]], dtype=float32)"
      ]
     },
     "execution_count": 17,
     "metadata": {},
     "output_type": "execute_result"
    }
   ],
   "source": [
    "model.predict([\"best movie I have ever seen. All actors were brilliant.\"])"
   ]
  },
  {
   "cell_type": "code",
   "execution_count": 18,
   "id": "eea73eaf-219c-4672-a428-b2ce00051ced",
   "metadata": {},
   "outputs": [
    {
     "data": {
      "image/png": "[encoded data removed]",
      "text/plain": [
       "<Figure size 432x288 with 1 Axes>"
      ]
     },
     "metadata": {
      "needs_background": "light"
     },
     "output_type": "display_data"
    },
    {
     "data": {
      "image/png": "[encoded data removed]",
      "text/plain": [
       "<Figure size 432x288 with 1 Axes>"
      ]
     },
     "metadata": {
      "needs_background": "light"
     },
     "output_type": "display_data"
    }
   ],
   "source": [
    "def render_history(history):\n",
    "    plt.plot(history.history[\"loss\"], label=\"loss\")\n",
    "    plt.plot(history.history[\"val_loss\"], label=\"val_loss\")\n",
    "    plt.legend()\n",
    "    plt.show()\n",
    "    plt.close()\n",
    "    \n",
    "    plt.plot(history.history[\"accuracy\"], label=\"accuracy\")\n",
    "    plt.plot(history.history[\"val_accuracy\"], label=\"val_accuracy\")\n",
    "    plt.legend()\n",
    "    plt.show()\n",
    "    plt.close()\n",
    "    \n",
    "render_history(history)"
   ]
  },
  {
   "cell_type": "markdown",
   "id": "3b1deb30-8bde-4128-8f10-2071ce120c6d",
   "metadata": {},
   "source": [
    "## Word Embedding with Word Vector"
   ]
  },
  {
   "cell_type": "markdown",
   "id": "52654b4f-d8a2-46eb-b94c-7079fcb6c107",
   "metadata": {},
   "source": [
    "#### Define Encoder"
   ]
  },
  {
   "cell_type": "code",
   "execution_count": 50,
   "id": "15d57119-3f86-4feb-8ffb-2121ddd21504",
   "metadata": {},
   "outputs": [],
   "source": [
    "vocabulary_size = 10_000\n",
    "sequence_length = 128\n",
    "\n",
    "encoder = layers.TextVectorization(\n",
    "    max_tokens=vocabulary_size,\n",
    "    output_sequence_length=sequence_length,\n",
    "    standardize=\"lower_and_strip_punctuation\",\n",
    "    split=\"whitespace\",\n",
    "    output_mode=\"int\",\n",
    ")\n",
    "\n",
    "encoder.adapt(dataset_train_original.map(lambda text, label: text).batch(512))\n"
   ]
  },
  {
   "cell_type": "markdown",
   "id": "a89694b8-f536-4bd1-96da-354132998e9f",
   "metadata": {},
   "source": [
    "#### Define Neural Network"
   ]
  },
  {
   "cell_type": "code",
   "execution_count": 30,
   "id": "61a03b7d-b2e9-43be-91c6-704245a720bd",
   "metadata": {},
   "outputs": [
    {
     "name": "stdout",
     "output_type": "stream",
     "text": [
      "Epoch 1/5\n",
      "196/196 [==============================] - 6s 29ms/step - loss: 0.4948 - accuracy: 0.7368 - val_loss: 0.3957 - val_accuracy: 0.8244\n",
      "Epoch 2/5\n",
      "196/196 [==============================] - 6s 28ms/step - loss: 0.1678 - accuracy: 0.9350 - val_loss: 0.5121 - val_accuracy: 0.8032\n",
      "Epoch 3/5\n",
      "196/196 [==============================] - 6s 29ms/step - loss: 0.0217 - accuracy: 0.9951 - val_loss: 0.7433 - val_accuracy: 0.8034\n",
      "Epoch 4/5\n",
      "196/196 [==============================] - 6s 29ms/step - loss: 0.0023 - accuracy: 0.9998 - val_loss: 0.8483 - val_accuracy: 0.8040\n",
      "Epoch 5/5\n",
      "196/196 [==============================] - 6s 29ms/step - loss: 5.5917e-04 - accuracy: 1.0000 - val_loss: 0.8956 - val_accuracy: 0.8048\n",
      "Model: \"sequential_6\"\n",
      "_________________________________________________________________\n",
      " Layer (type)                Output Shape              Param #   \n",
      "=================================================================\n",
      " text_vectorization_4 (TextV  (None, 128)              0         \n",
      " ectorization)                                                   \n",
      "                                                                 \n",
      " embedding_4 (Embedding)     (None, 128, 32)           320000    \n",
      "                                                                 \n",
      " flatten_2 (Flatten)         (None, 4096)              0         \n",
      "                                                                 \n",
      " dense_8 (Dense)             (None, 512)               2097664   \n",
      "                                                                 \n",
      " dense_9 (Dense)             (None, 1)                 513       \n",
      "                                                                 \n",
      "=================================================================\n",
      "Total params: 2,418,177\n",
      "Trainable params: 2,418,177\n",
      "Non-trainable params: 0\n",
      "_________________________________________________________________\n"
     ]
    }
   ],
   "source": [
    "model = models.Sequential()\n",
    "model.add(encoder)\n",
    "model.add(layers.Embedding(input_dim=vocabulary_size, output_dim=32)) # Maps the encoder-output (128) to ???\n",
    "model.add(layers.Flatten())\n",
    "model.add(layers.Dense(512, activation=\"relu\"))\n",
    "model.add(layers.Dense(1, activation=\"sigmoid\"))\n",
    "\n",
    "model.compile(\n",
    "    optimizer=\"adam\",\n",
    "    loss=\"binary_crossentropy\",\n",
    "    metrics=[\"accuracy\"]\n",
    ")\n",
    "\n",
    "history = model.fit(\n",
    "    dataset_train,\n",
    "    epochs=5,\n",
    "    validation_data=dataset_validate,\n",
    ")\n",
    "\n",
    "model.summary()\n"
   ]
  },
  {
   "cell_type": "code",
   "execution_count": 32,
   "id": "a817ac72-350f-4855-b443-f566afdd77c4",
   "metadata": {},
   "outputs": [
    {
     "data": {
      "image/png": "[encoded data removed]",
      "text/plain": [
       "<Figure size 432x288 with 1 Axes>"
      ]
     },
     "metadata": {
      "needs_background": "light"
     },
     "output_type": "display_data"
    },
    {
     "data": {
      "image/png": "[encoded data removed]",
      "text/plain": [
       "<Figure size 432x288 with 1 Axes>"
      ]
     },
     "metadata": {
      "needs_background": "light"
     },
     "output_type": "display_data"
    }
   ],
   "source": [
    "render_history(history)"
   ]
  },
  {
   "cell_type": "code",
   "execution_count": 48,
   "id": "9b1242ba-b430-461c-a67f-5f149b7af05b",
   "metadata": {},
   "outputs": [
    {
     "name": "stdout",
     "output_type": "stream",
     "text": [
      "10000\n",
      "['', '[UNK]', 'the', 'and', 'a', 'of', 'to', 'is', 'in', 'it', 'i', 'this']\n"
     ]
    },
    {
     "data": {
      "text/plain": [
       "<tf.Tensor: shape=(128,), dtype=int64, numpy=\n",
       "array([  11,    7,    4, 2104,    0,    0,    0,    0,    0,    0,    0,\n",
       "          0,    0,    0,    0,    0,    0,    0,    0,    0,    0,    0,\n",
       "          0,    0,    0,    0,    0,    0,    0,    0,    0,    0,    0,\n",
       "          0,    0,    0,    0,    0,    0,    0,    0,    0,    0,    0,\n",
       "          0,    0,    0,    0,    0,    0,    0,    0,    0,    0,    0,\n",
       "          0,    0,    0,    0,    0,    0,    0,    0,    0,    0,    0,\n",
       "          0,    0,    0,    0,    0,    0,    0,    0,    0,    0,    0,\n",
       "          0,    0,    0,    0,    0,    0,    0,    0,    0,    0,    0,\n",
       "          0,    0,    0,    0,    0,    0,    0,    0,    0,    0,    0,\n",
       "          0,    0,    0,    0,    0,    0,    0,    0,    0,    0,    0,\n",
       "          0,    0,    0,    0,    0,    0,    0,    0,    0,    0,    0,\n",
       "          0,    0,    0,    0,    0,    0,    0])>"
      ]
     },
     "execution_count": 48,
     "metadata": {},
     "output_type": "execute_result"
    }
   ],
   "source": [
    "vocabulary = encoder.get_vocabulary()\n",
    "print(len(vocabulary))\n",
    "print(vocabulary[:12])\n",
    "encoder(\"This is a test\")"
   ]
  },
  {
   "cell_type": "code",
   "execution_count": 56,
   "id": "d1952f49-fb42-4f94-97ad-9195d5aee5d6",
   "metadata": {},
   "outputs": [
    {
     "data": {
      "text/plain": [
       "1323"
      ]
     },
     "execution_count": 56,
     "metadata": {},
     "output_type": "execute_result"
    }
   ],
   "source": [
    "vocabulary.index(\"batman\")"
   ]
  },
  {
   "cell_type": "code",
   "execution_count": null,
   "id": "4901f1e4-65a2-46a5-b505-50d5168f3e39",
   "metadata": {},
   "outputs": [],
   "source": []
  }
 ],
 "metadata": {
  "kernelspec": {
   "display_name": "dsr-setup",
   "language": "python",
   "name": "dsr-setup"
  },
  "language_info": {
   "codemirror_mode": {
    "name": "ipython",
    "version": 3
   },
   "file_extension": ".py",
   "mimetype": "text/x-python",
   "name": "python",
   "nbconvert_exporter": "python",
   "pygments_lexer": "ipython3",
   "version": "3.8.13"
  }
 },
 "nbformat": 4,
 "nbformat_minor": 5
}
