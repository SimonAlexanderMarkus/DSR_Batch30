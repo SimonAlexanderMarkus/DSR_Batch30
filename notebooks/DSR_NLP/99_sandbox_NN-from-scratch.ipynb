{
 "cells": [
  {
   "cell_type": "code",
   "execution_count": 2,
   "id": "04ce2426-7cad-4d2e-8c8c-904345f61c55",
   "metadata": {},
   "outputs": [],
   "source": [
    "import tensorflow as tf\n",
    "from tensorflow.keras import models, layers\n",
    "import numpy as np"
   ]
  },
  {
   "cell_type": "code",
   "execution_count": 15,
   "id": "a790ee42-f48d-4fe6-8a4d-5c19c0ee4c26",
   "metadata": {},
   "outputs": [],
   "source": [
    "model = models.Sequential()"
   ]
  },
  {
   "cell_type": "code",
   "execution_count": 16,
   "id": "29778c6c-ee11-472e-96aa-277efc40281b",
   "metadata": {},
   "outputs": [],
   "source": [
    "model.add(layers.InputLayer(input_shape=(1,)))"
   ]
  },
  {
   "cell_type": "code",
   "execution_count": 17,
   "id": "bd9d75ab-6a75-4171-809e-8ae3b9cdcc54",
   "metadata": {},
   "outputs": [],
   "source": [
    "model.add(layers.Dense(1, activation=\"linear\", name=\"Testlayer\"))"
   ]
  },
  {
   "cell_type": "code",
   "execution_count": 18,
   "id": "da7e37a5-1891-4598-beb5-615d3caa3461",
   "metadata": {},
   "outputs": [
    {
     "name": "stdout",
     "output_type": "stream",
     "text": [
      "Model: \"sequential_2\"\n",
      "_________________________________________________________________\n",
      " Layer (type)                Output Shape              Param #   \n",
      "=================================================================\n",
      " Testlayer (Dense)           (None, 1)                 2         \n",
      "                                                                 \n",
      "=================================================================\n",
      "Total params: 2\n",
      "Trainable params: 2\n",
      "Non-trainable params: 0\n",
      "_________________________________________________________________\n"
     ]
    }
   ],
   "source": [
    "model.summary()"
   ]
  },
  {
   "cell_type": "code",
   "execution_count": 19,
   "id": "1f47558b-da8b-4800-86b4-6c4d6906ed32",
   "metadata": {},
   "outputs": [
    {
     "name": "stdout",
     "output_type": "stream",
     "text": [
      "Testlayer\n",
      "[<tf.Variable 'Testlayer/kernel:0' shape=(1, 1) dtype=float32, numpy=array([[0.03415787]], dtype=float32)>, <tf.Variable 'Testlayer/bias:0' shape=(1,) dtype=float32, numpy=array([0.], dtype=float32)>]\n"
     ]
    }
   ],
   "source": [
    "print(model.layers[0].name)\n",
    "print(model.layers[0].weights)"
   ]
  },
  {
   "cell_type": "code",
   "execution_count": 20,
   "id": "fe56b636-3e2e-44c9-9d05-4fa2aa7335bb",
   "metadata": {},
   "outputs": [],
   "source": [
    "model.compile(\n",
    "    loss=\"mean_absolute_error\",\n",
    "    optimizer=\"SGD\",\n",
    "    metrics=[\"accuracy\"]\n",
    ")"
   ]
  },
  {
   "cell_type": "code",
   "execution_count": 21,
   "id": "801a94fe-2f9e-4a9b-b102-53a69c595ec3",
   "metadata": {},
   "outputs": [
    {
     "name": "stdout",
     "output_type": "stream",
     "text": [
      "Testlayer\n",
      "[<tf.Variable 'Testlayer/kernel:0' shape=(1, 1) dtype=float32, numpy=array([[0.03415787]], dtype=float32)>, <tf.Variable 'Testlayer/bias:0' shape=(1,) dtype=float32, numpy=array([0.], dtype=float32)>]\n"
     ]
    }
   ],
   "source": [
    "print(model.layers[0].name)\n",
    "print(model.layers[0].weights)"
   ]
  },
  {
   "cell_type": "code",
   "execution_count": 22,
   "id": "3843f8a1-b487-4bd2-ba43-3854e00c58eb",
   "metadata": {},
   "outputs": [
    {
     "ename": "AttributeError",
     "evalue": "in user code:\n\n    File \"/home/sam/anaconda3/envs/dsr-setup/lib/python3.8/site-packages/keras/engine/training.py\", line 1525, in test_function  *\n        return step_function(self, iterator)\n    File \"/home/sam/anaconda3/envs/dsr-setup/lib/python3.8/site-packages/keras/engine/training.py\", line 1514, in step_function  **\n        outputs = model.distribute_strategy.run(run_step, args=(data,))\n    File \"/home/sam/anaconda3/envs/dsr-setup/lib/python3.8/site-packages/keras/engine/training.py\", line 1507, in run_step  **\n        outputs = model.test_step(data)\n    File \"/home/sam/anaconda3/envs/dsr-setup/lib/python3.8/site-packages/keras/engine/training.py\", line 1474, in test_step\n        return self.compute_metrics(x, y, y_pred, sample_weight)\n    File \"/home/sam/anaconda3/envs/dsr-setup/lib/python3.8/site-packages/keras/engine/training.py\", line 957, in compute_metrics\n        self.compiled_metrics.update_state(y, y_pred, sample_weight)\n    File \"/home/sam/anaconda3/envs/dsr-setup/lib/python3.8/site-packages/keras/engine/compile_utils.py\", line 438, in update_state\n        self.build(y_pred, y_true)\n    File \"/home/sam/anaconda3/envs/dsr-setup/lib/python3.8/site-packages/keras/engine/compile_utils.py\", line 358, in build\n        self._metrics = tf.__internal__.nest.map_structure_up_to(y_pred, self._get_metric_objects,\n    File \"/home/sam/anaconda3/envs/dsr-setup/lib/python3.8/site-packages/keras/engine/compile_utils.py\", line 484, in _get_metric_objects\n        return [self._get_metric_object(m, y_t, y_p) for m in metrics]\n    File \"/home/sam/anaconda3/envs/dsr-setup/lib/python3.8/site-packages/keras/engine/compile_utils.py\", line 484, in <listcomp>\n        return [self._get_metric_object(m, y_t, y_p) for m in metrics]\n    File \"/home/sam/anaconda3/envs/dsr-setup/lib/python3.8/site-packages/keras/engine/compile_utils.py\", line 505, in _get_metric_object\n        y_t_rank = len(y_t.shape.as_list())\n\n    AttributeError: 'NoneType' object has no attribute 'shape'\n",
     "output_type": "error",
     "traceback": [
      "\u001b[0;31m---------------------------------------------------------------------------\u001b[0m",
      "\u001b[0;31mAttributeError\u001b[0m                            Traceback (most recent call last)",
      "Input \u001b[0;32mIn [22]\u001b[0m, in \u001b[0;36m<cell line: 1>\u001b[0;34m()\u001b[0m\n\u001b[0;32m----> 1\u001b[0m \u001b[43mmodel\u001b[49m\u001b[38;5;241;43m.\u001b[39;49m\u001b[43mevaluate\u001b[49m\u001b[43m(\u001b[49m\u001b[43m[\u001b[49m\u001b[38;5;241;43m1\u001b[39;49m\u001b[43m]\u001b[49m\u001b[43m)\u001b[49m\n",
      "File \u001b[0;32m~/anaconda3/envs/dsr-setup/lib/python3.8/site-packages/keras/utils/traceback_utils.py:67\u001b[0m, in \u001b[0;36mfilter_traceback.<locals>.error_handler\u001b[0;34m(*args, **kwargs)\u001b[0m\n\u001b[1;32m     65\u001b[0m \u001b[38;5;28;01mexcept\u001b[39;00m \u001b[38;5;167;01mException\u001b[39;00m \u001b[38;5;28;01mas\u001b[39;00m e:  \u001b[38;5;66;03m# pylint: disable=broad-except\u001b[39;00m\n\u001b[1;32m     66\u001b[0m   filtered_tb \u001b[38;5;241m=\u001b[39m _process_traceback_frames(e\u001b[38;5;241m.\u001b[39m__traceback__)\n\u001b[0;32m---> 67\u001b[0m   \u001b[38;5;28;01mraise\u001b[39;00m e\u001b[38;5;241m.\u001b[39mwith_traceback(filtered_tb) \u001b[38;5;28;01mfrom\u001b[39;00m \u001b[38;5;28mNone\u001b[39m\n\u001b[1;32m     68\u001b[0m \u001b[38;5;28;01mfinally\u001b[39;00m:\n\u001b[1;32m     69\u001b[0m   \u001b[38;5;28;01mdel\u001b[39;00m filtered_tb\n",
      "File \u001b[0;32m~/anaconda3/envs/dsr-setup/lib/python3.8/site-packages/tensorflow/python/framework/func_graph.py:1147\u001b[0m, in \u001b[0;36mfunc_graph_from_py_func.<locals>.autograph_handler\u001b[0;34m(*args, **kwargs)\u001b[0m\n\u001b[1;32m   1145\u001b[0m \u001b[38;5;28;01mexcept\u001b[39;00m \u001b[38;5;167;01mException\u001b[39;00m \u001b[38;5;28;01mas\u001b[39;00m e:  \u001b[38;5;66;03m# pylint:disable=broad-except\u001b[39;00m\n\u001b[1;32m   1146\u001b[0m   \u001b[38;5;28;01mif\u001b[39;00m \u001b[38;5;28mhasattr\u001b[39m(e, \u001b[38;5;124m\"\u001b[39m\u001b[38;5;124mag_error_metadata\u001b[39m\u001b[38;5;124m\"\u001b[39m):\n\u001b[0;32m-> 1147\u001b[0m     \u001b[38;5;28;01mraise\u001b[39;00m e\u001b[38;5;241m.\u001b[39mag_error_metadata\u001b[38;5;241m.\u001b[39mto_exception(e)\n\u001b[1;32m   1148\u001b[0m   \u001b[38;5;28;01melse\u001b[39;00m:\n\u001b[1;32m   1149\u001b[0m     \u001b[38;5;28;01mraise\u001b[39;00m\n",
      "\u001b[0;31mAttributeError\u001b[0m: in user code:\n\n    File \"/home/sam/anaconda3/envs/dsr-setup/lib/python3.8/site-packages/keras/engine/training.py\", line 1525, in test_function  *\n        return step_function(self, iterator)\n    File \"/home/sam/anaconda3/envs/dsr-setup/lib/python3.8/site-packages/keras/engine/training.py\", line 1514, in step_function  **\n        outputs = model.distribute_strategy.run(run_step, args=(data,))\n    File \"/home/sam/anaconda3/envs/dsr-setup/lib/python3.8/site-packages/keras/engine/training.py\", line 1507, in run_step  **\n        outputs = model.test_step(data)\n    File \"/home/sam/anaconda3/envs/dsr-setup/lib/python3.8/site-packages/keras/engine/training.py\", line 1474, in test_step\n        return self.compute_metrics(x, y, y_pred, sample_weight)\n    File \"/home/sam/anaconda3/envs/dsr-setup/lib/python3.8/site-packages/keras/engine/training.py\", line 957, in compute_metrics\n        self.compiled_metrics.update_state(y, y_pred, sample_weight)\n    File \"/home/sam/anaconda3/envs/dsr-setup/lib/python3.8/site-packages/keras/engine/compile_utils.py\", line 438, in update_state\n        self.build(y_pred, y_true)\n    File \"/home/sam/anaconda3/envs/dsr-setup/lib/python3.8/site-packages/keras/engine/compile_utils.py\", line 358, in build\n        self._metrics = tf.__internal__.nest.map_structure_up_to(y_pred, self._get_metric_objects,\n    File \"/home/sam/anaconda3/envs/dsr-setup/lib/python3.8/site-packages/keras/engine/compile_utils.py\", line 484, in _get_metric_objects\n        return [self._get_metric_object(m, y_t, y_p) for m in metrics]\n    File \"/home/sam/anaconda3/envs/dsr-setup/lib/python3.8/site-packages/keras/engine/compile_utils.py\", line 484, in <listcomp>\n        return [self._get_metric_object(m, y_t, y_p) for m in metrics]\n    File \"/home/sam/anaconda3/envs/dsr-setup/lib/python3.8/site-packages/keras/engine/compile_utils.py\", line 505, in _get_metric_object\n        y_t_rank = len(y_t.shape.as_list())\n\n    AttributeError: 'NoneType' object has no attribute 'shape'\n"
     ]
    }
   ],
   "source": [
    "model.evaluate([1])"
   ]
  },
  {
   "cell_type": "code",
   "execution_count": null,
   "id": "62f1988c-a1ce-4b0a-b6a8-b93844f3d025",
   "metadata": {},
   "outputs": [],
   "source": [
    "x_train = np.arange(5).astype(float)\n",
    "x_train"
   ]
  },
  {
   "cell_type": "code",
   "execution_count": null,
   "id": "2e1805dc-aab9-4264-95a9-56eb9796a553",
   "metadata": {},
   "outputs": [],
   "source": [
    "y_train = 2 * x_train + 1\n",
    "y_train"
   ]
  },
  {
   "cell_type": "code",
   "execution_count": null,
   "id": "c4ad3676-ea07-44c4-82df-6d735917b3b6",
   "metadata": {},
   "outputs": [],
   "source": [
    "model.fit(\n",
    "    x=x_train,\n",
    "    y=y_train,\n",
    "    epochs=4,\n",
    ")"
   ]
  },
  {
   "cell_type": "code",
   "execution_count": null,
   "id": "9daa86a6-7680-4c44-b069-734bf7594747",
   "metadata": {},
   "outputs": [],
   "source": [
    "model.evaluate([3])"
   ]
  },
  {
   "cell_type": "code",
   "execution_count": null,
   "id": "7f583dd8-0e47-4fed-83d2-c2876c1e09fc",
   "metadata": {},
   "outputs": [],
   "source": [
    "print(model.layers[0].name)\n",
    "print(model.layers[0].weights)"
   ]
  },
  {
   "cell_type": "code",
   "execution_count": null,
   "id": "25955ff2-36d8-4686-8d87-3e7facf430cb",
   "metadata": {},
   "outputs": [],
   "source": []
  }
 ],
 "metadata": {
  "kernelspec": {
   "display_name": "dsr-setup",
   "language": "python",
   "name": "dsr-setup"
  },
  "language_info": {
   "codemirror_mode": {
    "name": "ipython",
    "version": 3
   },
   "file_extension": ".py",
   "mimetype": "text/x-python",
   "name": "python",
   "nbconvert_exporter": "python",
   "pygments_lexer": "ipython3",
   "version": "3.8.13"
  }
 },
 "nbformat": 4,
 "nbformat_minor": 5
}
