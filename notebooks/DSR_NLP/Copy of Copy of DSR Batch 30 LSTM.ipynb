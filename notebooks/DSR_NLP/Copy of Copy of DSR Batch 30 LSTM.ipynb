{
 "cells": [
  {
   "cell_type": "code",
   "execution_count": 35,
   "metadata": {
    "executionInfo": {
     "elapsed": 264,
     "status": "ok",
     "timestamp": 1651761648197,
     "user": {
      "displayName": "Simon aus Berlin",
      "userId": "16825345891029363646"
     },
     "user_tz": -120
    },
    "id": "AC5khY3JK2MR"
   },
   "outputs": [],
   "source": [
    "import tensorflow as tf\n",
    "from tensorflow.keras import models, layers\n",
    "import tensorflow_datasets as tfds\n",
    "import matplotlib.pyplot as plt\n",
    "import numpy as np\n",
    "import random"
   ]
  },
  {
   "cell_type": "code",
   "execution_count": 36,
   "metadata": {
    "colab": {
     "base_uri": "https://localhost:8080/"
    },
    "executionInfo": {
     "elapsed": 289,
     "status": "ok",
     "timestamp": 1651761650023,
     "user": {
      "displayName": "Simon aus Berlin",
      "userId": "16825345891029363646"
     },
     "user_tz": -120
    },
    "id": "ZOVcCxpHK5RZ",
    "outputId": "92cbde15-86e0-44b5-8a1e-40f8b0101f06"
   },
   "outputs": [
    {
     "data": {
      "text/plain": [
       "tfds.core.DatasetInfo(\n",
       "    name='imdb_reviews',\n",
       "    version=1.0.0,\n",
       "    description='Large Movie Review Dataset.\n",
       "This is a dataset for binary sentiment classification containing substantially more data than previous benchmark datasets. We provide a set of 25,000 highly polar movie reviews for training, and 25,000 for testing. There is additional unlabeled data for use as well.',\n",
       "    homepage='http://ai.stanford.edu/~amaas/data/sentiment/',\n",
       "    features=FeaturesDict({\n",
       "        'label': ClassLabel(shape=(), dtype=tf.int64, num_classes=2),\n",
       "        'text': Text(shape=(), dtype=tf.string),\n",
       "    }),\n",
       "    total_num_examples=100000,\n",
       "    splits={\n",
       "        'test': 25000,\n",
       "        'train': 25000,\n",
       "        'unsupervised': 50000,\n",
       "    },\n",
       "    supervised_keys=('text', 'label'),\n",
       "    citation=\"\"\"@InProceedings{maas-EtAl:2011:ACL-HLT2011,\n",
       "      author    = {Maas, Andrew L.  and  Daly, Raymond E.  and  Pham, Peter T.  and  Huang, Dan  and  Ng, Andrew Y.  and  Potts, Christopher},\n",
       "      title     = {Learning Word Vectors for Sentiment Analysis},\n",
       "      booktitle = {Proceedings of the 49th Annual Meeting of the Association for Computational Linguistics: Human Language Technologies},\n",
       "      month     = {June},\n",
       "      year      = {2011},\n",
       "      address   = {Portland, Oregon, USA},\n",
       "      publisher = {Association for Computational Linguistics},\n",
       "      pages     = {142--150},\n",
       "      url       = {http://www.aclweb.org/anthology/P11-1015}\n",
       "    }\"\"\",\n",
       "    redistribution_info=,\n",
       ")"
      ]
     },
     "execution_count": 36,
     "metadata": {},
     "output_type": "execute_result"
    }
   ],
   "source": [
    "dataset, info = tfds.load(\n",
    "    \"imdb_reviews/plain_text\",\n",
    "    split=[\"train[:80%]\", \"train[80%:]\", \"test\"],\n",
    "    as_supervised=True,\n",
    "    with_info=True\n",
    ")\n",
    "\n",
    "dataset_train_original = dataset[0]\n",
    "dataset_validate_original = dataset[1]\n",
    "dataset_test_original = dataset[2]\n",
    "info"
   ]
  },
  {
   "cell_type": "code",
   "execution_count": 37,
   "metadata": {
    "executionInfo": {
     "elapsed": 241,
     "status": "ok",
     "timestamp": 1651761660898,
     "user": {
      "displayName": "Simon aus Berlin",
      "userId": "16825345891029363646"
     },
     "user_tz": -120
    },
    "id": "ajvZWkjHK6VI"
   },
   "outputs": [],
   "source": [
    "dataset_train = dataset_train_original.cache()\n",
    "dataset_train = dataset_train.shuffle(20_000)\n",
    "dataset_train = dataset_train.batch(128)\n",
    "\n",
    "dataset_validate = dataset_validate_original.cache()\n",
    "dataset_validate = dataset_validate.batch(128)"
   ]
  },
  {
   "cell_type": "code",
   "execution_count": 4,
   "metadata": {
    "executionInfo": {
     "elapsed": 5760,
     "status": "ok",
     "timestamp": 1651757898528,
     "user": {
      "displayName": "Simon aus Berlin",
      "userId": "16825345891029363646"
     },
     "user_tz": -120
    },
    "id": "4Xdga1k9K-H7"
   },
   "outputs": [],
   "source": [
    "vocabulary_size = 10_000\n",
    "sequence_length = 128\n",
    "\n",
    "encoder = layers.TextVectorization(\n",
    "    max_tokens=vocabulary_size,\n",
    "    output_sequence_length=sequence_length,\n",
    "    standardize=\"lower_and_strip_punctuation\",\n",
    "    split=\"whitespace\",\n",
    "    output_mode=\"int\"\n",
    ")\n",
    "encoder.adapt(dataset_train_original.map(lambda text, label: text).batch(512))"
   ]
  },
  {
   "cell_type": "code",
   "execution_count": 5,
   "metadata": {
    "executionInfo": {
     "elapsed": 325,
     "status": "ok",
     "timestamp": 1651757901649,
     "user": {
      "displayName": "Simon aus Berlin",
      "userId": "16825345891029363646"
     },
     "user_tz": -120
    },
    "id": "zj-C2O-yLOAa"
   },
   "outputs": [],
   "source": [
    "def render_history(history):\n",
    "    plt.plot(history.history[\"loss\"], label=\"loss\")\n",
    "    plt.plot(history.history[\"val_loss\"], label=\"val_loss\")\n",
    "    plt.legend()\n",
    "    plt.show()\n",
    "    plt.close()\n",
    "\n",
    "    plt.plot(history.history[\"accuracy\"], label=\"accuracy\")\n",
    "    plt.plot(history.history[\"val_accuracy\"], label=\"val_accuracy\")\n",
    "    plt.legend()\n",
    "    plt.show()"
   ]
  },
  {
   "cell_type": "code",
   "execution_count": 6,
   "metadata": {
    "colab": {
     "base_uri": "https://localhost:8080/"
    },
    "executionInfo": {
     "elapsed": 1456,
     "status": "ok",
     "timestamp": 1651757924330,
     "user": {
      "displayName": "Simon aus Berlin",
      "userId": "16825345891029363646"
     },
     "user_tz": -120
    },
    "id": "iPDBTvO9Xob2",
    "outputId": "70007557-9501-4d3a-f551-22f049ac8cf8"
   },
   "outputs": [
    {
     "name": "stdout",
     "output_type": "stream",
     "text": [
      "Model: \"sequential\"\n",
      "_________________________________________________________________\n",
      " Layer (type)                Output Shape              Param #   \n",
      "=================================================================\n",
      " text_vectorization (TextVec  (None, 128)              0         \n",
      " torization)                                                     \n",
      "                                                                 \n",
      " embedding (Embedding)       (None, 128, 32)           320000    \n",
      "                                                                 \n",
      " lstm (LSTM)                 (None, 128, 64)           24832     \n",
      "                                                                 \n",
      " lstm_1 (LSTM)               (None, 128, 72)           39456     \n",
      "                                                                 \n",
      " lstm_2 (LSTM)               (None, 81)                49896     \n",
      "                                                                 \n",
      " dense (Dense)               (None, 1)                 82        \n",
      "                                                                 \n",
      "=================================================================\n",
      "Total params: 434,266\n",
      "Trainable params: 434,266\n",
      "Non-trainable params: 0\n",
      "_________________________________________________________________\n"
     ]
    }
   ],
   "source": [
    "model = models.Sequential()\n",
    "model.add(encoder)\n",
    "model.add(layers.Embedding(input_dim=vocabulary_size, output_dim=32))\n",
    "model.add(layers.LSTM(64, return_sequences=True)) # Long Short Term Memory\n",
    "model.add(layers.LSTM(72, return_sequences=True))\n",
    "model.add(layers.LSTM(81))\n",
    "model.add(layers.Dense(1, activation=\"sigmoid\"))\n",
    "\n",
    "model.summary()\n",
    "\n",
    "model.compile(\n",
    "    optimizer=\"adam\",\n",
    "    loss=\"binary_crossentropy\",\n",
    "    metrics=[\"accuracy\"]\n",
    ")\n",
    "\n"
   ]
  },
  {
   "cell_type": "code",
   "execution_count": 8,
   "metadata": {
    "colab": {
     "base_uri": "https://localhost:8080/"
    },
    "executionInfo": {
     "elapsed": 614260,
     "status": "ok",
     "timestamp": 1651758571596,
     "user": {
      "displayName": "Simon aus Berlin",
      "userId": "16825345891029363646"
     },
     "user_tz": -120
    },
    "id": "GEk7GIGJbsWS",
    "outputId": "dfdf1f65-a17b-46c6-937b-ffcc237b2760"
   },
   "outputs": [
    {
     "name": "stdout",
     "output_type": "stream",
     "text": [
      "Epoch 1/5\n",
      "157/157 [==============================] - 95s 603ms/step - loss: 0.4729 - accuracy: 0.7653 - val_loss: 0.3733 - val_accuracy: 0.8352\n",
      "Epoch 2/5\n",
      "157/157 [==============================] - 92s 589ms/step - loss: 0.2798 - accuracy: 0.8907 - val_loss: 0.3736 - val_accuracy: 0.8370\n",
      "Epoch 3/5\n",
      "157/157 [==============================] - 93s 593ms/step - loss: 0.2331 - accuracy: 0.9133 - val_loss: 0.4668 - val_accuracy: 0.8364\n",
      "Epoch 4/5\n",
      "157/157 [==============================] - 92s 587ms/step - loss: 0.1831 - accuracy: 0.9358 - val_loss: 0.4439 - val_accuracy: 0.8306\n",
      "Epoch 5/5\n",
      "157/157 [==============================] - 92s 586ms/step - loss: 0.1457 - accuracy: 0.9510 - val_loss: 0.4823 - val_accuracy: 0.8340\n"
     ]
    }
   ],
   "source": [
    "history = model.fit(\n",
    "    dataset_train,\n",
    "    epochs=5,\n",
    "    validation_data=dataset_validate,\n",
    ")"
   ]
  },
  {
   "cell_type": "code",
   "execution_count": 10,
   "metadata": {
    "colab": {
     "base_uri": "https://localhost:8080/"
    },
    "executionInfo": {
     "elapsed": 874,
     "status": "ok",
     "timestamp": 1651758772887,
     "user": {
      "displayName": "Simon aus Berlin",
      "userId": "16825345891029363646"
     },
     "user_tz": -120
    },
    "id": "zYZtycSFcj6b",
    "outputId": "3c3b2b7b-7a81-40ec-c5bb-2dc65d68da6d"
   },
   "outputs": [
    {
     "name": "stdout",
     "output_type": "stream",
     "text": [
      "Model: \"sequential_2\"\n",
      "_________________________________________________________________\n",
      " Layer (type)                Output Shape              Param #   \n",
      "=================================================================\n",
      " text_vectorization (TextVec  (None, 128)              0         \n",
      " torization)                                                     \n",
      "                                                                 \n",
      " embedding_2 (Embedding)     (None, 128, 32)           320000    \n",
      "                                                                 \n",
      " bidirectional_1 (Bidirectio  (None, 128)              49664     \n",
      " nal)                                                            \n",
      "                                                                 \n",
      "=================================================================\n",
      "Total params: 369,664\n",
      "Trainable params: 369,664\n",
      "Non-trainable params: 0\n",
      "_________________________________________________________________\n"
     ]
    }
   ],
   "source": [
    "model = models.Sequential()\n",
    "model.add(encoder)\n",
    "model.add(layers.Embedding(input_dim=vocabulary_size, output_dim=32))\n",
    "model.add(layers.Bidirectional(layers.LSTM(64))) # sometimes in Musicmodels\n",
    "model.add(layers.GRU())\n",
    "model.add(layers.SimpleRNN(64)) # DONT USE, not good.\n",
    "\n",
    "model.summary()"
   ]
  },
  {
   "cell_type": "code",
   "execution_count": null,
   "metadata": {
    "id": "hrvtll9yfnXG"
   },
   "outputs": [],
   "source": []
  },
  {
   "cell_type": "markdown",
   "metadata": {
    "id": "_XAZBi2AklTt"
   },
   "source": [
    "Tensorflow Hub"
   ]
  },
  {
   "cell_type": "code",
   "execution_count": 38,
   "metadata": {
    "executionInfo": {
     "elapsed": 1673,
     "status": "ok",
     "timestamp": 1651761690267,
     "user": {
      "displayName": "Simon aus Berlin",
      "userId": "16825345891029363646"
     },
     "user_tz": -120
    },
    "id": "tydKVNwwkn5o"
   },
   "outputs": [],
   "source": [
    "import tensorflow_hub as hub\n",
    "\n",
    "url = \"https://tfhub.dev/google/Wiki-words-250/2\"\n",
    "\n",
    "embedding = hub.load(url)"
   ]
  },
  {
   "cell_type": "code",
   "execution_count": 14,
   "metadata": {
    "executionInfo": {
     "elapsed": 248,
     "status": "ok",
     "timestamp": 1651760247535,
     "user": {
      "displayName": "Simon aus Berlin",
      "userId": "16825345891029363646"
     },
     "user_tz": -120
    },
    "id": "KdjN15qTk4FL"
   },
   "outputs": [],
   "source": [
    "#embedding([\"taser test text hello\"])"
   ]
  },
  {
   "cell_type": "code",
   "execution_count": 16,
   "metadata": {
    "colab": {
     "base_uri": "https://localhost:8080/"
    },
    "executionInfo": {
     "elapsed": 338,
     "status": "ok",
     "timestamp": 1651760330457,
     "user": {
      "displayName": "Simon aus Berlin",
      "userId": "16825345891029363646"
     },
     "user_tz": -120
    },
    "id": "SsAwKrUPlS18",
    "outputId": "ca549189-5f53-499b-b9b7-33b0c42a1a2f"
   },
   "outputs": [
    {
     "data": {
      "text/plain": [
       "<tensorflow.python.saved_model.load.Loader._recreate_base_user_object.<locals>._UserObject at 0x7f06c296ae90>"
      ]
     },
     "execution_count": 16,
     "metadata": {},
     "output_type": "execute_result"
    }
   ],
   "source": [
    "embedding"
   ]
  },
  {
   "cell_type": "code",
   "execution_count": 20,
   "metadata": {
    "colab": {
     "base_uri": "https://localhost:8080/"
    },
    "executionInfo": {
     "elapsed": 414,
     "status": "ok",
     "timestamp": 1651760440908,
     "user": {
      "displayName": "Simon aus Berlin",
      "userId": "16825345891029363646"
     },
     "user_tz": -120
    },
    "id": "ArhWMAyAlnPJ",
    "outputId": "4c8b3aff-9ff2-45c8-9cc4-a89b893cb0f5"
   },
   "outputs": [
    {
     "name": "stdout",
     "output_type": "stream",
     "text": [
      "tf.Tensor(b\"This was an absolutely terrible movie. Don't be lured in by Christopher Walken or Michael Ironside. Both are great actors, but this must simply be their worst role in history. Even their great acting could not redeem this movie's ridiculous storyline. This movie is an early nineties US propaganda piece. The most pathetic scenes were those when the Columbian rebels were making their cases for revolutions. Maria Conchita Alonso appeared phony, and her pseudo-love affair with Walken was nothing but a pathetic emotional plug in a movie that was devoid of any real meaning. I am disappointed that there are movies like this, ruining actor's like Christopher Walken's good name. I could barely sit through it.\", shape=(), dtype=string)\n",
      "tf.Tensor(0, shape=(), dtype=int64)\n",
      "tf.Tensor(b'I have been known to fall asleep during films, but this is usually due to a combination of things including, really tired, being warm and comfortable on the sette and having just eaten a lot. However on this occasion I fell asleep because the film was rubbish. The plot development was constant. Constantly slow and boring. Things seemed to happen, but with no explanation of what was causing them or why. I admit, I may have missed part of the film, but i watched the majority of it and everything just seemed to happen of its own accord without any real concern for anything else. I cant recommend this film at all.', shape=(), dtype=string)\n",
      "tf.Tensor(0, shape=(), dtype=int64)\n",
      "tf.Tensor(b'Mann photographs the Alberta Rocky Mountains in a superb fashion, and Jimmy Stewart and Walter Brennan give enjoyable performances as they always seem to do. <br /><br />But come on Hollywood - a Mountie telling the people of Dawson City, Yukon to elect themselves a marshal (yes a marshal!) and to enforce the law themselves, then gunfighters battling it out on the streets for control of the town? <br /><br />Nothing even remotely resembling that happened on the Canadian side of the border during the Klondike gold rush. Mr. Mann and company appear to have mistaken Dawson City for Deadwood, the Canadian North for the American Wild West.<br /><br />Canadian viewers be prepared for a Reefer Madness type of enjoyable howl with this ludicrous plot, or, to shake your head in disgust.', shape=(), dtype=string)\n",
      "tf.Tensor(0, shape=(), dtype=int64)\n",
      "tf.Tensor(b'This is the kind of film for a snowy Sunday afternoon when the rest of the world can go ahead with its own business as you descend into a big arm-chair and mellow for a couple of hours. Wonderful performances from Cher and Nicolas Cage (as always) gently row the plot along. There are no rapids to cross, no dangerous waters, just a warm and witty paddle through New York life at its best. A family film in every sense and one that deserves the praise it received.', shape=(), dtype=string)\n",
      "tf.Tensor(1, shape=(), dtype=int64)\n",
      "tf.Tensor(b'As others have mentioned, all the women that go nude in this film are mostly absolutely gorgeous. The plot very ably shows the hypocrisy of the female libido. When men are around they want to be pursued, but when no \"men\" are around, they become the pursuers of a 14 year old boy. And the boy becomes a man really fast (we should all be so lucky at this age!). He then gets up the courage to pursue his true love.', shape=(), dtype=string)\n",
      "tf.Tensor(1, shape=(), dtype=int64)\n"
     ]
    }
   ],
   "source": [
    "for text, label in dataset_train_original.take(5):\n",
    "  print(text)\n",
    "  print(label)"
   ]
  },
  {
   "cell_type": "code",
   "execution_count": 39,
   "metadata": {
    "colab": {
     "base_uri": "https://localhost:8080/"
    },
    "executionInfo": {
     "elapsed": 2054,
     "status": "ok",
     "timestamp": 1651761699482,
     "user": {
      "displayName": "Simon aus Berlin",
      "userId": "16825345891029363646"
     },
     "user_tz": -120
    },
    "id": "uVuoV-9umCMZ",
    "outputId": "534be5d8-8003-4d89-9604-68fec5ff6254"
   },
   "outputs": [
    {
     "data": {
      "text/plain": [
       "<tensorflow_hub.keras_layer.KerasLayer at 0x7f06e79597d0>"
      ]
     },
     "execution_count": 39,
     "metadata": {},
     "output_type": "execute_result"
    }
   ],
   "source": [
    "embedding_layer = hub.KerasLayer(\n",
    "    url,\n",
    "    trainable=False,\n",
    "    input_shape=[],\n",
    "    dtype=tf.string\n",
    ")\n",
    "\n",
    "embedding_layer"
   ]
  },
  {
   "cell_type": "code",
   "execution_count": 44,
   "metadata": {
    "colab": {
     "base_uri": "https://localhost:8080/"
    },
    "executionInfo": {
     "elapsed": 442,
     "status": "ok",
     "timestamp": 1651762219801,
     "user": {
      "displayName": "Simon aus Berlin",
      "userId": "16825345891029363646"
     },
     "user_tz": -120
    },
    "id": "84ArrNS1nO9C",
    "outputId": "406e6b3e-971f-491c-f7e2-f24600429ab9"
   },
   "outputs": [
    {
     "name": "stdout",
     "output_type": "stream",
     "text": [
      "Model: \"sequential_9\"\n",
      "_________________________________________________________________\n",
      " Layer (type)                Output Shape              Param #   \n",
      "=================================================================\n",
      " keras_layer_1 (KerasLayer)  (None, 250)               252343750 \n",
      "                                                                 \n",
      " dense_12 (Dense)            (None, 32)                8032      \n",
      "                                                                 \n",
      " dense_13 (Dense)            (None, 1)                 33        \n",
      "                                                                 \n",
      "=================================================================\n",
      "Total params: 252,351,815\n",
      "Trainable params: 8,065\n",
      "Non-trainable params: 252,343,750\n",
      "_________________________________________________________________\n"
     ]
    }
   ],
   "source": [
    "model = models.Sequential()\n",
    "model.add(embedding_layer)\n",
    "model.add(layers.Dense(32, activation=\"relu\"))\n",
    "model.add(layers.Dense(1, activation=\"sigmoid\"))\n",
    "\n",
    "\n",
    "model.summary()"
   ]
  },
  {
   "cell_type": "code",
   "execution_count": 45,
   "metadata": {
    "executionInfo": {
     "elapsed": 367,
     "status": "ok",
     "timestamp": 1651762224648,
     "user": {
      "displayName": "Simon aus Berlin",
      "userId": "16825345891029363646"
     },
     "user_tz": -120
    },
    "id": "fPcp4ks_nwtA"
   },
   "outputs": [],
   "source": [
    "model.compile(\n",
    "    optimizer=\"adam\",\n",
    "    loss=\"binary_crossentropy\",\n",
    "    metrics=[\"accuracy\"]\n",
    ")"
   ]
  },
  {
   "cell_type": "code",
   "execution_count": 46,
   "metadata": {
    "colab": {
     "base_uri": "https://localhost:8080/"
    },
    "executionInfo": {
     "elapsed": 73375,
     "status": "ok",
     "timestamp": 1651762299131,
     "user": {
      "displayName": "Simon aus Berlin",
      "userId": "16825345891029363646"
     },
     "user_tz": -120
    },
    "id": "OHYQoy_boWA4",
    "outputId": "9fcd81a8-f601-4e38-d9c3-327d4655c4a2"
   },
   "outputs": [
    {
     "name": "stdout",
     "output_type": "stream",
     "text": [
      "Epoch 1/30\n",
      "157/157 [==============================] - 3s 14ms/step - loss: 0.6210 - accuracy: 0.6611 - val_loss: 0.5783 - val_accuracy: 0.7064\n",
      "Epoch 2/30\n",
      "157/157 [==============================] - 2s 13ms/step - loss: 0.5536 - accuracy: 0.7277 - val_loss: 0.5328 - val_accuracy: 0.7448\n",
      "Epoch 3/30\n",
      "157/157 [==============================] - 2s 14ms/step - loss: 0.5243 - accuracy: 0.7490 - val_loss: 0.5149 - val_accuracy: 0.7540\n",
      "Epoch 4/30\n",
      "157/157 [==============================] - 2s 13ms/step - loss: 0.5103 - accuracy: 0.7558 - val_loss: 0.4928 - val_accuracy: 0.7694\n",
      "Epoch 5/30\n",
      "157/157 [==============================] - 2s 14ms/step - loss: 0.4987 - accuracy: 0.7610 - val_loss: 0.4903 - val_accuracy: 0.7668\n",
      "Epoch 6/30\n",
      "157/157 [==============================] - 2s 13ms/step - loss: 0.4898 - accuracy: 0.7693 - val_loss: 0.4751 - val_accuracy: 0.7806\n",
      "Epoch 7/30\n",
      "157/157 [==============================] - 2s 13ms/step - loss: 0.4885 - accuracy: 0.7686 - val_loss: 0.4820 - val_accuracy: 0.7714\n",
      "Epoch 8/30\n",
      "157/157 [==============================] - 2s 13ms/step - loss: 0.4795 - accuracy: 0.7743 - val_loss: 0.4692 - val_accuracy: 0.7834\n",
      "Epoch 9/30\n",
      "157/157 [==============================] - 2s 14ms/step - loss: 0.4739 - accuracy: 0.7778 - val_loss: 0.4634 - val_accuracy: 0.7910\n",
      "Epoch 10/30\n",
      "157/157 [==============================] - 2s 14ms/step - loss: 0.4715 - accuracy: 0.7763 - val_loss: 0.4575 - val_accuracy: 0.7874\n",
      "Epoch 11/30\n",
      "157/157 [==============================] - 2s 14ms/step - loss: 0.4714 - accuracy: 0.7783 - val_loss: 0.4659 - val_accuracy: 0.7818\n",
      "Epoch 12/30\n",
      "157/157 [==============================] - 2s 14ms/step - loss: 0.4719 - accuracy: 0.7783 - val_loss: 0.4564 - val_accuracy: 0.7964\n",
      "Epoch 13/30\n",
      "157/157 [==============================] - 2s 14ms/step - loss: 0.4629 - accuracy: 0.7831 - val_loss: 0.4532 - val_accuracy: 0.7892\n",
      "Epoch 14/30\n",
      "157/157 [==============================] - 2s 14ms/step - loss: 0.4603 - accuracy: 0.7861 - val_loss: 0.4473 - val_accuracy: 0.8000\n",
      "Epoch 15/30\n",
      "157/157 [==============================] - 2s 14ms/step - loss: 0.4602 - accuracy: 0.7850 - val_loss: 0.4485 - val_accuracy: 0.7910\n",
      "Epoch 16/30\n",
      "157/157 [==============================] - 2s 14ms/step - loss: 0.4595 - accuracy: 0.7855 - val_loss: 0.4436 - val_accuracy: 0.8014\n",
      "Epoch 17/30\n",
      "157/157 [==============================] - 2s 14ms/step - loss: 0.4619 - accuracy: 0.7828 - val_loss: 0.4611 - val_accuracy: 0.7854\n",
      "Epoch 18/30\n",
      "157/157 [==============================] - 2s 13ms/step - loss: 0.4575 - accuracy: 0.7848 - val_loss: 0.4462 - val_accuracy: 0.7930\n",
      "Epoch 19/30\n",
      "157/157 [==============================] - 2s 14ms/step - loss: 0.4532 - accuracy: 0.7894 - val_loss: 0.4412 - val_accuracy: 0.7978\n",
      "Epoch 20/30\n",
      "157/157 [==============================] - 2s 13ms/step - loss: 0.4554 - accuracy: 0.7861 - val_loss: 0.4390 - val_accuracy: 0.8006\n",
      "Epoch 21/30\n",
      "157/157 [==============================] - 2s 14ms/step - loss: 0.4529 - accuracy: 0.7907 - val_loss: 0.4373 - val_accuracy: 0.8014\n",
      "Epoch 22/30\n",
      "157/157 [==============================] - 2s 14ms/step - loss: 0.4522 - accuracy: 0.7914 - val_loss: 0.4390 - val_accuracy: 0.8036\n",
      "Epoch 23/30\n",
      "157/157 [==============================] - 2s 14ms/step - loss: 0.4500 - accuracy: 0.7912 - val_loss: 0.4364 - val_accuracy: 0.8014\n",
      "Epoch 24/30\n",
      "157/157 [==============================] - 2s 13ms/step - loss: 0.4476 - accuracy: 0.7910 - val_loss: 0.4428 - val_accuracy: 0.7940\n",
      "Epoch 25/30\n",
      "157/157 [==============================] - 2s 14ms/step - loss: 0.4500 - accuracy: 0.7917 - val_loss: 0.4675 - val_accuracy: 0.7842\n",
      "Epoch 26/30\n",
      "157/157 [==============================] - 2s 14ms/step - loss: 0.4473 - accuracy: 0.7926 - val_loss: 0.4347 - val_accuracy: 0.8018\n",
      "Epoch 27/30\n",
      "157/157 [==============================] - 2s 13ms/step - loss: 0.4480 - accuracy: 0.7924 - val_loss: 0.4596 - val_accuracy: 0.7892\n",
      "Epoch 28/30\n",
      "157/157 [==============================] - 2s 14ms/step - loss: 0.4496 - accuracy: 0.7903 - val_loss: 0.4322 - val_accuracy: 0.8058\n",
      "Epoch 29/30\n",
      "157/157 [==============================] - 2s 14ms/step - loss: 0.4467 - accuracy: 0.7916 - val_loss: 0.4373 - val_accuracy: 0.8046\n",
      "Epoch 30/30\n",
      "157/157 [==============================] - 2s 14ms/step - loss: 0.4418 - accuracy: 0.7959 - val_loss: 0.4571 - val_accuracy: 0.7898\n"
     ]
    }
   ],
   "source": [
    "history = model.fit(\n",
    "    dataset_train,\n",
    "    epochs=30,\n",
    "    validation_data=dataset_validate,\n",
    ")"
   ]
  },
  {
   "cell_type": "code",
   "execution_count": 43,
   "metadata": {
    "colab": {
     "base_uri": "https://localhost:8080/",
     "height": 514
    },
    "executionInfo": {
     "elapsed": 635,
     "status": "ok",
     "timestamp": 1651761900921,
     "user": {
      "displayName": "Simon aus Berlin",
      "userId": "16825345891029363646"
     },
     "user_tz": -120
    },
    "id": "_SJsh_hNoa9r",
    "outputId": "171e043f-9be1-49ec-81ca-e687edecf10e"
   },
   "outputs": [
    {
     "data": {
      "image/png": "[encoded data removed]",
      "text/plain": [
       "<Figure size 432x288 with 1 Axes>"
      ]
     },
     "metadata": {
      "needs_background": "light"
     },
     "output_type": "display_data"
    },
    {
     "data": {
      "image/png": "[encoded data removed]",
      "text/plain": [
       "<Figure size 432x288 with 1 Axes>"
      ]
     },
     "metadata": {
      "needs_background": "light"
     },
     "output_type": "display_data"
    }
   ],
   "source": [
    "render_history(history)"
   ]
  },
  {
   "cell_type": "code",
   "execution_count": null,
   "metadata": {
    "id": "j85yCqmwoscF"
   },
   "outputs": [],
   "source": []
  }
 ],
 "metadata": {
  "colab": {
   "collapsed_sections": [],
   "name": "Copy of Copy of DSR Batch 30 LSTM",
   "provenance": [
    {
     "file_id": "1SuHnOqo7KC__xsUJgmyLj6xN4z_lEyCV",
     "timestamp": 1651762493318
    },
    {
     "file_id": "1v91W_VBidoia0cuAeQ4ZZXI4nVfNIc5X",
     "timestamp": 1651739666151
    }
   ]
  },
  "kernelspec": {
   "display_name": "Python 3 (ipykernel)",
   "language": "python",
   "name": "python3"
  },
  "language_info": {
   "codemirror_mode": {
    "name": "ipython",
    "version": 3
   },
   "file_extension": ".py",
   "mimetype": "text/x-python",
   "name": "python",
   "nbconvert_exporter": "python",
   "pygments_lexer": "ipython3",
   "version": "3.9.7"
  }
 },
 "nbformat": 4,
 "nbformat_minor": 4
}
