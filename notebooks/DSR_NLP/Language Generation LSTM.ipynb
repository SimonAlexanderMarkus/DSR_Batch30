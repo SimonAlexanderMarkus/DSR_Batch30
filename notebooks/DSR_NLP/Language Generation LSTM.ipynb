{
 "cells": [
  {
   "cell_type": "code",
   "execution_count": 1,
   "metadata": {
    "executionInfo": {
     "elapsed": 2773,
     "status": "ok",
     "timestamp": 1652084141163,
     "user": {
      "displayName": "Simon aus Berlin",
      "userId": "16825345891029363646"
     },
     "user_tz": -120
    },
    "id": "6fkn9PjvqZjY"
   },
   "outputs": [
    {
     "name": "stderr",
     "output_type": "stream",
     "text": [
      "2022-05-09 20:52:20.265576: W tensorflow/stream_executor/platform/default/dso_loader.cc:64] Could not load dynamic library 'libcudart.so.11.0'; dlerror: libcudart.so.11.0: cannot open shared object file: No such file or directory\n",
      "2022-05-09 20:52:20.265596: I tensorflow/stream_executor/cuda/cudart_stub.cc:29] Ignore above cudart dlerror if you do not have a GPU set up on your machine.\n"
     ]
    }
   ],
   "source": [
    "import os\n",
    "import glob\n",
    "import random\n",
    "import shutil\n",
    "import tensorflow as tf\n",
    "from tensorflow.keras import preprocessing\n",
    "from tensorflow.keras import models, layers\n",
    "from tqdm import tqdm # Progressbar (!)"
   ]
  },
  {
   "cell_type": "code",
   "execution_count": 6,
   "metadata": {
    "colab": {
     "base_uri": "https://localhost:8080/"
    },
    "executionInfo": {
     "elapsed": 22960,
     "status": "ok",
     "timestamp": 1652084164113,
     "user": {
      "displayName": "Simon aus Berlin",
      "userId": "16825345891029363646"
     },
     "user_tz": -120
    },
    "id": "5ZHB_rIiMLY0",
    "outputId": "cda20034-8c72-49d3-99f9-7c67fd411dde"
   },
   "outputs": [
    {
     "name": "stdout",
     "output_type": "stream",
     "text": [
      "Mounted at /content/drive\n"
     ]
    }
   ],
   "source": [
    "from google.colab import drive\n",
    "drive.mount('/content/drive')"
   ]
  },
  {
   "cell_type": "code",
   "execution_count": 2,
   "metadata": {
    "executionInfo": {
     "elapsed": 28,
     "status": "ok",
     "timestamp": 1652084164115,
     "user": {
      "displayName": "Simon aus Berlin",
      "userId": "16825345891029363646"
     },
     "user_tz": -120
    },
    "id": "hDJnzUXM1FMe"
   },
   "outputs": [],
   "source": [
    "import matplotlib.pyplot as plt\n",
    "\n",
    "def render_history(history):\n",
    "    plt.title(\"Training loss vs. validation loss\")\n",
    "    plt.plot(history.history[\"loss\"], label=\"loss\")\n",
    "    plt.plot(history.history[\"val_loss\"], label=\"val_loss\")\n",
    "    plt.legend()\n",
    "    plt.show()\n",
    "    plt.close()\n",
    "\n",
    "    plt.title(\"Training accuracy vs. validation accuracy\")\n",
    "    plt.plot(history.history[\"accuracy\"], label=\"accuracy\")\n",
    "    plt.plot(history.history[\"val_accuracy\"], label=\"val_accuracy\")\n",
    "    plt.legend()\n",
    "    plt.show()\n",
    "    plt.close()"
   ]
  },
  {
   "cell_type": "code",
   "execution_count": 8,
   "metadata": {
    "colab": {
     "base_uri": "https://localhost:8080/"
    },
    "executionInfo": {
     "elapsed": 635,
     "status": "ok",
     "timestamp": 1652084164729,
     "user": {
      "displayName": "Simon aus Berlin",
      "userId": "16825345891029363646"
     },
     "user_tz": -120
    },
    "id": "gxvayC1RQVQq",
    "outputId": "28fbfd46-ca79-45f5-cddd-fbf77a6a7c26"
   },
   "outputs": [
    {
     "name": "stdout",
     "output_type": "stream",
     "text": [
      "all  internet_archive_scifi_v3.txt  train  valid\n"
     ]
    }
   ],
   "source": [
    "!ls \"drive/MyDrive/data\""
   ]
  },
  {
   "cell_type": "code",
   "execution_count": 6,
   "metadata": {
    "executionInfo": {
     "elapsed": 39,
     "status": "ok",
     "timestamp": 1652084164731,
     "user": {
      "displayName": "Simon aus Berlin",
      "userId": "16825345891029363646"
     },
     "user_tz": -120
    },
    "id": "J7hTbdHBam7n"
   },
   "outputs": [],
   "source": [
    "# Where the text files are going to live.\n",
    "# dataset_path = \"drive/MyDrive/data\"\n",
    "dataset_path = \"data/HitchhikersGuide\"\n",
    "dataset_path_all = os.path.join(dataset_path, \"all\")\n",
    "dataset_path_train = os.path.join(dataset_path, \"train\")\n",
    "dataset_path_valid = os.path.join(dataset_path, \"valid\")"
   ]
  },
  {
   "cell_type": "code",
   "execution_count": 7,
   "metadata": {
    "colab": {
     "base_uri": "https://localhost:8080/",
     "height": 35
    },
    "executionInfo": {
     "elapsed": 36,
     "status": "ok",
     "timestamp": 1652084164732,
     "user": {
      "displayName": "Simon aus Berlin",
      "userId": "16825345891029363646"
     },
     "user_tz": -120
    },
    "id": "BjPCP4SYRHZU",
    "outputId": "e4f9268f-b19c-42ba-bf39-0a98ddfbdc55"
   },
   "outputs": [
    {
     "data": {
      "text/plain": [
       "'data/HitchhikersGuide'"
      ]
     },
     "execution_count": 7,
     "metadata": {},
     "output_type": "execute_result"
    }
   ],
   "source": [
    "dataset_path"
   ]
  },
  {
   "cell_type": "code",
   "execution_count": 8,
   "metadata": {
    "colab": {
     "base_uri": "https://localhost:8080/"
    },
    "executionInfo": {
     "elapsed": 411,
     "status": "ok",
     "timestamp": 1652084165115,
     "user": {
      "displayName": "Simon aus Berlin",
      "userId": "16825345891029363646"
     },
     "user_tz": -120
    },
    "id": "NllcA2xoq8fi",
    "outputId": "dca69275-00d1-48be-894f-0eaaea654266"
   },
   "outputs": [
    {
     "name": "stdout",
     "output_type": "stream",
     "text": [
      "all  raw  train  valid\n",
      "\n",
      "HITCHHIKERS_GUIDE_core\n",
      "\n",
      "HITCHHIKERS_GUIDE_core_train\n",
      "\n",
      "HITCHHIKERS_GUIDE_core_valid\n"
     ]
    }
   ],
   "source": [
    "!ls $dataset_path\n",
    "print(\"\")\n",
    "!ls $dataset_path_all\n",
    "print(\"\")\n",
    "!ls $dataset_path_train\n",
    "print(\"\")\n",
    "!ls $dataset_path_valid"
   ]
  },
  {
   "cell_type": "code",
   "execution_count": 9,
   "metadata": {
    "executionInfo": {
     "elapsed": 3084,
     "status": "ok",
     "timestamp": 1652084168195,
     "user": {
      "displayName": "Simon aus Berlin",
      "userId": "16825345891029363646"
     },
     "user_tz": -120
    },
    "id": "XHSI868teVUq"
   },
   "outputs": [],
   "source": [
    "# Textfile preparation\n",
    "\n",
    "dot_replace = \" mydotreplacer\"\n",
    "\n",
    "def text_preparation(file_path):\n",
    "\n",
    "  with open(file_path, mode=\"r\") as file:\n",
    "    data = file.read()\n",
    "    data = data.replace(\".\", dot_replace)\n",
    "  \n",
    "  \n",
    "  with open(file_path+\"_dotrep.txt\",\"w\") as file:\n",
    "    file.write(data)\n",
    "\n",
    "text_preparation(dataset_path_all + \"/HITCHHIKERS_GUIDE_core\")\n",
    "text_preparation(dataset_path_train + \"/HITCHHIKERS_GUIDE_core_train\")\n",
    "text_preparation(dataset_path_valid + \"/HITCHHIKERS_GUIDE_core_valid\")"
   ]
  },
  {
   "cell_type": "code",
   "execution_count": 10,
   "metadata": {
    "colab": {
     "base_uri": "https://localhost:8080/"
    },
    "executionInfo": {
     "elapsed": 461,
     "status": "ok",
     "timestamp": 1652115694140,
     "user": {
      "displayName": "Simon aus Berlin",
      "userId": "16825345891029363646"
     },
     "user_tz": -120
    },
    "id": "tDmYhYHOq9UD",
    "outputId": "62461639-b534-4e02-8193-e8deca4328a2"
   },
   "outputs": [
    {
     "name": "stdout",
     "output_type": "stream",
     "text": [
      "Found 1 files belonging to 1 classes.\n",
      "Found 1 files belonging to 1 classes.\n",
      "Found 1 files belonging to 1 classes.\n"
     ]
    },
    {
     "name": "stderr",
     "output_type": "stream",
     "text": [
      "2022-05-09 20:57:03.080879: I tensorflow/stream_executor/cuda/cuda_gpu_executor.cc:936] successful NUMA node read from SysFS had negative value (-1), but there must be at least one NUMA node, so returning NUMA node zero\n",
      "2022-05-09 20:57:03.081230: W tensorflow/stream_executor/platform/default/dso_loader.cc:64] Could not load dynamic library 'libcudart.so.11.0'; dlerror: libcudart.so.11.0: cannot open shared object file: No such file or directory\n",
      "2022-05-09 20:57:03.081291: W tensorflow/stream_executor/platform/default/dso_loader.cc:64] Could not load dynamic library 'libcublas.so.11'; dlerror: libcublas.so.11: cannot open shared object file: No such file or directory\n",
      "2022-05-09 20:57:03.081331: W tensorflow/stream_executor/platform/default/dso_loader.cc:64] Could not load dynamic library 'libcublasLt.so.11'; dlerror: libcublasLt.so.11: cannot open shared object file: No such file or directory\n",
      "2022-05-09 20:57:03.081372: W tensorflow/stream_executor/platform/default/dso_loader.cc:64] Could not load dynamic library 'libcufft.so.10'; dlerror: libcufft.so.10: cannot open shared object file: No such file or directory\n",
      "2022-05-09 20:57:03.081411: W tensorflow/stream_executor/platform/default/dso_loader.cc:64] Could not load dynamic library 'libcurand.so.10'; dlerror: libcurand.so.10: cannot open shared object file: No such file or directory\n",
      "2022-05-09 20:57:03.081452: W tensorflow/stream_executor/platform/default/dso_loader.cc:64] Could not load dynamic library 'libcusolver.so.11'; dlerror: libcusolver.so.11: cannot open shared object file: No such file or directory\n",
      "2022-05-09 20:57:03.081491: W tensorflow/stream_executor/platform/default/dso_loader.cc:64] Could not load dynamic library 'libcusparse.so.11'; dlerror: libcusparse.so.11: cannot open shared object file: No such file or directory\n",
      "2022-05-09 20:57:03.081531: W tensorflow/stream_executor/platform/default/dso_loader.cc:64] Could not load dynamic library 'libcudnn.so.8'; dlerror: libcudnn.so.8: cannot open shared object file: No such file or directory\n",
      "2022-05-09 20:57:03.081538: W tensorflow/core/common_runtime/gpu/gpu_device.cc:1850] Cannot dlopen some GPU libraries. Please make sure the missing libraries mentioned above are installed properly if you would like to use GPU. Follow the guide at https://www.tensorflow.org/install/gpu for how to download and setup the required libraries for your platform.\n",
      "Skipping registering GPU devices...\n",
      "2022-05-09 20:57:03.081794: I tensorflow/core/platform/cpu_feature_guard.cc:151] This TensorFlow binary is optimized with oneAPI Deep Neural Network Library (oneDNN) to use the following CPU instructions in performance-critical operations:  AVX2 FMA\n",
      "To enable them in other operations, rebuild TensorFlow with the appropriate compiler flags.\n"
     ]
    }
   ],
   "source": [
    "batch_size = 128\n",
    "seed = 666\n",
    "\n",
    "def create_dataset(dataset_path):\n",
    "  dataset = preprocessing.text_dataset_from_directory(\n",
    "      dataset_path,\n",
    "      labels=None,\n",
    "      batch_size=batch_size,\n",
    "      seed=seed\n",
    "      )\n",
    "  return dataset\n",
    "\n",
    "dataset_original_all = create_dataset(dataset_path_all)\n",
    "dataset_original_train = create_dataset(dataset_path_train)\n",
    "dataset_original_valid = create_dataset(dataset_path_valid)"
   ]
  },
  {
   "cell_type": "code",
   "execution_count": 12,
   "metadata": {
    "colab": {
     "base_uri": "https://localhost:8080/"
    },
    "executionInfo": {
     "elapsed": 985,
     "status": "ok",
     "timestamp": 1652094121840,
     "user": {
      "displayName": "Simon aus Berlin",
      "userId": "16825345891029363646"
     },
     "user_tz": -120
    },
    "id": "bpGLOBz2jBCq",
    "outputId": "58d61800-529d-4646-cf1c-e1dbc411e999"
   },
   "outputs": [
    {
     "name": "stdout",
     "output_type": "stream",
     "text": [
      "15676 ['', '[UNK]', 'mydotreplacer', 'the', 'and', 'of', 'to', 'a', 'it', 'he', 'was', 'in', 'that', 'said', 'you', 'i', 'his', 'had', 'on', 'at', 'with', 'this', 'they', 'for', 'arthur', 'is', 'what', 'as', 'ford', 'but', 'be', 'which', 'all', 'she', 'were', 'one', 'out', 'up', 'him', 'its', 'from', 'not', 'have', 'there', 'about', 'them', 'just', 'so', 'would', 'into', 'been', 'an', 'her', 'do', 'zaphod', 'if', 'no', 'very', 'by', 'or', 'we', 'like', 'are', 'again', 'then', 'me', 'know', 'now', 'down', 'time', 'could', 'some', 'well', 'their', 'see', 'back', 'through', 'who', 'over', 'way', 'when', 'something', 'dont', 'think', 'other', 'little', 'looked', 'where', 'going', 'your', 'get', 'thought', 'yes', 'more', 'can', 'off', 'only', 'didnt', 'because', 'did', 'moment', 'got', 'how', 'my', 'two', 'thing', 'good', 'man', 'any', 'ship', 'here', 'people', 'go', 'around', 'himself', 'say', 'seemed', 'im', 'away', 'things', 'suddenly', 'will', 'right', 'planet', 'look', 'small', 'much', 'universe', 'come', 'oh', 'being', 'round', 'head', 'trillian', 'want', 'most', 'why', 'after', 'anything', 'voice', 'life', 'even', 'still', 'than', 'before', 'made', 'another', 'light', 'eyes', 'thats', 'old', 'nothing', 'first', 'fact', 'wasnt', 'quite', 'galaxy', 'turned', 'few', 'went', 'tell', 'really', 'rather', 'marvin', 'make', 'last', 'years', 'too', 'point', 'never', 'great', 'bit', 'mind', 'long', 'came', 'computer', 'sort', 'left', 'has', 'ever', 'trying', 'air', 'mean', 'find', 'take', 'slowly', 'put', 'earth', 'fie', 'chapter', 'every', 'doing', 'these', 'own', 'knew', 'er', 'whole', 'though', 'ground', 'started', 'across', 'new', 'looking', 'found', 'end', 'robot', 'guide', 'while', 'also', 'number', 'world', 'door', 'must', 'deep', 'feet', 'day', 'lot', 'itself', 'behind', 'space', 'night', 'asked', 'us', 'kind', 'prefect', 'couldnt', 'those', 'felt', 'hand', 'ive', 'against', 'youre', 'tricia', 'next', 'far', 'each', 'shouted', 'let', 'three', 'course', 'continued', 'might', 'sat', 'ok', 'yeah', 'place', 'called', 'tried', 'happened', 'later', 'large', 'slartibartfast', 'least', 'face', 'took', 'sky', 'whats', 'should', 'feel', 'almost', 'stood', 'am', 'probably', 'else', 'actually', 'sun', 'many', 'everything', 'along', 'side', 'once', 'open', 'towards', 'front', 'wanted', 'random', 'same', 'dent', 'perfectly', 'gone', 'black', 'hundred', 'exactly', 'dark', 'began', 'standing', 'seen', 'second', 'without', 'told', 'work', 'stopped', 'slightly', 'fenchurch', 'always', 'gave', 'room', 'quietly', 'between', 'such']\n"
     ]
    }
   ],
   "source": [
    "vocabulary_size = 20_000\n",
    "\n",
    "encoder = layers.TextVectorization(\n",
    "    max_tokens=vocabulary_size,\n",
    "    standardize=\"lower_and_strip_punctuation\",\n",
    "    split=\"whitespace\",\n",
    "    output_mode=\"int\",\n",
    ")\n",
    "\n",
    "encoder.adapt(dataset_original_all)\n",
    "vocabulary = encoder.get_vocabulary()\n",
    "print(len(vocabulary), vocabulary[:300])"
   ]
  },
  {
   "cell_type": "code",
   "execution_count": 13,
   "metadata": {
    "colab": {
     "base_uri": "https://localhost:8080/"
    },
    "executionInfo": {
     "elapsed": 8189,
     "status": "ok",
     "timestamp": 1652084179842,
     "user": {
      "displayName": "Simon aus Berlin",
      "userId": "16825345891029363646"
     },
     "user_tz": -120
    },
    "id": "F5lWzuINqpg5",
    "outputId": "5a9fac7f-fa4d-4382-87e2-af8104fa681e"
   },
   "outputs": [
    {
     "name": "stderr",
     "output_type": "stream",
     "text": [
      "100%|█████████████████████████████████████████████| 1/1 [00:00<00:00,  5.64it/s]\n",
      "100%|█████████████████████████████████████████████| 1/1 [00:00<00:00, 24.40it/s]\n"
     ]
    },
    {
     "name": "stdout",
     "output_type": "stream",
     "text": [
      "Done!\n"
     ]
    }
   ],
   "source": [
    "sequence_length = 64\n",
    "\n",
    "def create_dataset_for_autoregression(dataset):\n",
    "  x_inputs = []\n",
    "  y_outputs = []\n",
    "  \n",
    "  padding_token_id = vocabulary.index(\"\")\n",
    "  assert padding_token_id == 0\n",
    "  \n",
    "  for samples in dataset: # samples = books\n",
    "    for sample in tqdm(samples): # sample = book\n",
    "      sample = encoder(sample).numpy()\n",
    "      \n",
    "      padding = [padding_token_id] * sequence_length\n",
    "      padding = padding + list(sample)\n",
    "\n",
    "      for start_index in range(0, len(sample) - sequence_length):\n",
    "        x = sample[start_index:start_index + sequence_length]\n",
    "        assert len(x) == sequence_length\n",
    "        y = sample[start_index + sequence_length]\n",
    "\n",
    "        x_inputs += [x]\n",
    "        y_outputs += [y]\n",
    "\n",
    "      #print(padding)\n",
    "      #print(len(sample), sample)\n",
    "      #assert False\n",
    "\n",
    "  return tf.data.Dataset.from_tensor_slices((x_inputs, y_outputs))\n",
    "\n",
    "\n",
    "dataset_train = create_dataset_for_autoregression(dataset_original_train)\n",
    "dataset_valid = create_dataset_for_autoregression(dataset_original_valid)\n",
    "\n",
    "print(\"Done!\")"
   ]
  },
  {
   "cell_type": "code",
   "execution_count": 14,
   "metadata": {
    "colab": {
     "base_uri": "https://localhost:8080/"
    },
    "executionInfo": {
     "elapsed": 8044,
     "status": "ok",
     "timestamp": 1652084187883,
     "user": {
      "displayName": "Simon aus Berlin",
      "userId": "16825345891029363646"
     },
     "user_tz": -120
    },
    "id": "vzZHVdHoMe9q",
    "outputId": "711975eb-6e6b-4666-9f49-b6b2e0a22676"
   },
   "outputs": [
    {
     "name": "stdout",
     "output_type": "stream",
     "text": [
      "Model: \"sequential\"\n",
      "_________________________________________________________________\n",
      " Layer (type)                Output Shape              Param #   \n",
      "=================================================================\n",
      " embedding (Embedding)       (None, 64, 64)            1280000   \n",
      "                                                                 \n",
      " dropout (Dropout)           (None, 64, 64)            0         \n",
      "                                                                 \n",
      " lstm (LSTM)                 (None, 64, 256)           328704    \n",
      "                                                                 \n",
      " lstm_1 (LSTM)               (None, 256)               525312    \n",
      "                                                                 \n",
      " dropout_1 (Dropout)         (None, 256)               0         \n",
      "                                                                 \n",
      " dense (Dense)               (None, 20000)             5140000   \n",
      "                                                                 \n",
      "=================================================================\n",
      "Total params: 7,274,016\n",
      "Trainable params: 7,274,016\n",
      "Non-trainable params: 0\n",
      "_________________________________________________________________\n"
     ]
    }
   ],
   "source": [
    "from re import M\n",
    "embedding_size = 64\n",
    "\n",
    "model = models.Sequential()\n",
    "model.add(layers.Embedding(vocabulary_size, embedding_size, input_length=sequence_length))\n",
    "model.add(layers.Dropout(0.3))\n",
    "model.add(layers.LSTM(256, return_sequences=True))\n",
    "#model.add(layers.LSTM(1024, return_sequences=True))\n",
    "model.add(layers.LSTM(256))\n",
    "#model.add(layers.LSTM(24))\n",
    "model.add(layers.Dropout(0.5))              # one way to handle overfitting\n",
    "model.add(layers.Dense(vocabulary_size, activation=\"softmax\"))\n",
    "\n",
    "model.summary()\n",
    "\n"
   ]
  },
  {
   "cell_type": "code",
   "execution_count": 15,
   "metadata": {
    "colab": {
     "base_uri": "https://localhost:8080/",
     "height": 892
    },
    "executionInfo": {
     "elapsed": 8869861,
     "status": "ok",
     "timestamp": 1652093057734,
     "user": {
      "displayName": "Simon aus Berlin",
      "userId": "16825345891029363646"
     },
     "user_tz": -120
    },
    "id": "cuM1f1thM_kO",
    "outputId": "d12f7f4d-dbbf-4f2d-cd85-f5eec5e1ce3b"
   },
   "outputs": [
    {
     "name": "stdout",
     "output_type": "stream",
     "text": [
      "Epoch 1/10\n",
      "297/451 [==================>...........] - ETA: 4:04 - loss: 6.9268 - accuracy: 0.0716"
     ]
    },
    {
     "ename": "KeyboardInterrupt",
     "evalue": "",
     "output_type": "error",
     "traceback": [
      "\u001b[0;31m---------------------------------------------------------------------------\u001b[0m",
      "\u001b[0;31mKeyboardInterrupt\u001b[0m                         Traceback (most recent call last)",
      "Input \u001b[0;32mIn [15]\u001b[0m, in \u001b[0;36m<cell line: 7>\u001b[0;34m()\u001b[0m\n\u001b[1;32m      1\u001b[0m model\u001b[38;5;241m.\u001b[39mcompile(\n\u001b[1;32m      2\u001b[0m     optimizer\u001b[38;5;241m=\u001b[39m\u001b[38;5;124m\"\u001b[39m\u001b[38;5;124madam\u001b[39m\u001b[38;5;124m\"\u001b[39m,\n\u001b[1;32m      3\u001b[0m     loss\u001b[38;5;241m=\u001b[39m\u001b[38;5;124m\"\u001b[39m\u001b[38;5;124msparse_categorical_crossentropy\u001b[39m\u001b[38;5;124m\"\u001b[39m,\n\u001b[1;32m      4\u001b[0m     metrics\u001b[38;5;241m=\u001b[39m[\u001b[38;5;124m\"\u001b[39m\u001b[38;5;124maccuracy\u001b[39m\u001b[38;5;124m\"\u001b[39m]\n\u001b[1;32m      5\u001b[0m )\n\u001b[0;32m----> 7\u001b[0m history \u001b[38;5;241m=\u001b[39m \u001b[43mmodel\u001b[49m\u001b[38;5;241;43m.\u001b[39;49m\u001b[43mfit\u001b[49m\u001b[43m(\u001b[49m\n\u001b[1;32m      8\u001b[0m \u001b[43m    \u001b[49m\u001b[43mdataset_train\u001b[49m\u001b[38;5;241;43m.\u001b[39;49m\u001b[43mcache\u001b[49m\u001b[43m(\u001b[49m\u001b[43m)\u001b[49m\u001b[38;5;241;43m.\u001b[39;49m\u001b[43mshuffle\u001b[49m\u001b[43m(\u001b[49m\u001b[38;5;241;43m10_000\u001b[39;49m\u001b[43m)\u001b[49m\u001b[38;5;241;43m.\u001b[39;49m\u001b[43mbatch\u001b[49m\u001b[43m(\u001b[49m\u001b[38;5;241;43m512\u001b[39;49m\u001b[43m)\u001b[49m\u001b[43m,\u001b[49m\n\u001b[1;32m      9\u001b[0m \u001b[43m    \u001b[49m\u001b[43mepochs\u001b[49m\u001b[38;5;241;43m=\u001b[39;49m\u001b[38;5;241;43m10\u001b[39;49m\u001b[43m,\u001b[49m\n\u001b[1;32m     10\u001b[0m \u001b[43m    \u001b[49m\u001b[43mvalidation_data\u001b[49m\u001b[38;5;241;43m=\u001b[39;49m\u001b[43mdataset_valid\u001b[49m\u001b[38;5;241;43m.\u001b[39;49m\u001b[43mcache\u001b[49m\u001b[43m(\u001b[49m\u001b[43m)\u001b[49m\u001b[38;5;241;43m.\u001b[39;49m\u001b[43mbatch\u001b[49m\u001b[43m(\u001b[49m\u001b[38;5;241;43m512\u001b[39;49m\u001b[43m)\u001b[49m\n\u001b[1;32m     11\u001b[0m \u001b[43m)\u001b[49m\n\u001b[1;32m     13\u001b[0m render_history(history)\n",
      "File \u001b[0;32m~/anaconda3/envs/dsr-setup/lib/python3.8/site-packages/keras/utils/traceback_utils.py:64\u001b[0m, in \u001b[0;36mfilter_traceback.<locals>.error_handler\u001b[0;34m(*args, **kwargs)\u001b[0m\n\u001b[1;32m     62\u001b[0m filtered_tb \u001b[38;5;241m=\u001b[39m \u001b[38;5;28;01mNone\u001b[39;00m\n\u001b[1;32m     63\u001b[0m \u001b[38;5;28;01mtry\u001b[39;00m:\n\u001b[0;32m---> 64\u001b[0m   \u001b[38;5;28;01mreturn\u001b[39;00m \u001b[43mfn\u001b[49m\u001b[43m(\u001b[49m\u001b[38;5;241;43m*\u001b[39;49m\u001b[43margs\u001b[49m\u001b[43m,\u001b[49m\u001b[43m \u001b[49m\u001b[38;5;241;43m*\u001b[39;49m\u001b[38;5;241;43m*\u001b[39;49m\u001b[43mkwargs\u001b[49m\u001b[43m)\u001b[49m\n\u001b[1;32m     65\u001b[0m \u001b[38;5;28;01mexcept\u001b[39;00m \u001b[38;5;167;01mException\u001b[39;00m \u001b[38;5;28;01mas\u001b[39;00m e:  \u001b[38;5;66;03m# pylint: disable=broad-except\u001b[39;00m\n\u001b[1;32m     66\u001b[0m   filtered_tb \u001b[38;5;241m=\u001b[39m _process_traceback_frames(e\u001b[38;5;241m.\u001b[39m__traceback__)\n",
      "File \u001b[0;32m~/anaconda3/envs/dsr-setup/lib/python3.8/site-packages/keras/engine/training.py:1384\u001b[0m, in \u001b[0;36mModel.fit\u001b[0;34m(self, x, y, batch_size, epochs, verbose, callbacks, validation_split, validation_data, shuffle, class_weight, sample_weight, initial_epoch, steps_per_epoch, validation_steps, validation_batch_size, validation_freq, max_queue_size, workers, use_multiprocessing)\u001b[0m\n\u001b[1;32m   1377\u001b[0m \u001b[38;5;28;01mwith\u001b[39;00m tf\u001b[38;5;241m.\u001b[39mprofiler\u001b[38;5;241m.\u001b[39mexperimental\u001b[38;5;241m.\u001b[39mTrace(\n\u001b[1;32m   1378\u001b[0m     \u001b[38;5;124m'\u001b[39m\u001b[38;5;124mtrain\u001b[39m\u001b[38;5;124m'\u001b[39m,\n\u001b[1;32m   1379\u001b[0m     epoch_num\u001b[38;5;241m=\u001b[39mepoch,\n\u001b[1;32m   1380\u001b[0m     step_num\u001b[38;5;241m=\u001b[39mstep,\n\u001b[1;32m   1381\u001b[0m     batch_size\u001b[38;5;241m=\u001b[39mbatch_size,\n\u001b[1;32m   1382\u001b[0m     _r\u001b[38;5;241m=\u001b[39m\u001b[38;5;241m1\u001b[39m):\n\u001b[1;32m   1383\u001b[0m   callbacks\u001b[38;5;241m.\u001b[39mon_train_batch_begin(step)\n\u001b[0;32m-> 1384\u001b[0m   tmp_logs \u001b[38;5;241m=\u001b[39m \u001b[38;5;28;43mself\u001b[39;49m\u001b[38;5;241;43m.\u001b[39;49m\u001b[43mtrain_function\u001b[49m\u001b[43m(\u001b[49m\u001b[43miterator\u001b[49m\u001b[43m)\u001b[49m\n\u001b[1;32m   1385\u001b[0m   \u001b[38;5;28;01mif\u001b[39;00m data_handler\u001b[38;5;241m.\u001b[39mshould_sync:\n\u001b[1;32m   1386\u001b[0m     context\u001b[38;5;241m.\u001b[39masync_wait()\n",
      "File \u001b[0;32m~/anaconda3/envs/dsr-setup/lib/python3.8/site-packages/tensorflow/python/util/traceback_utils.py:150\u001b[0m, in \u001b[0;36mfilter_traceback.<locals>.error_handler\u001b[0;34m(*args, **kwargs)\u001b[0m\n\u001b[1;32m    148\u001b[0m filtered_tb \u001b[38;5;241m=\u001b[39m \u001b[38;5;28;01mNone\u001b[39;00m\n\u001b[1;32m    149\u001b[0m \u001b[38;5;28;01mtry\u001b[39;00m:\n\u001b[0;32m--> 150\u001b[0m   \u001b[38;5;28;01mreturn\u001b[39;00m \u001b[43mfn\u001b[49m\u001b[43m(\u001b[49m\u001b[38;5;241;43m*\u001b[39;49m\u001b[43margs\u001b[49m\u001b[43m,\u001b[49m\u001b[43m \u001b[49m\u001b[38;5;241;43m*\u001b[39;49m\u001b[38;5;241;43m*\u001b[39;49m\u001b[43mkwargs\u001b[49m\u001b[43m)\u001b[49m\n\u001b[1;32m    151\u001b[0m \u001b[38;5;28;01mexcept\u001b[39;00m \u001b[38;5;167;01mException\u001b[39;00m \u001b[38;5;28;01mas\u001b[39;00m e:\n\u001b[1;32m    152\u001b[0m   filtered_tb \u001b[38;5;241m=\u001b[39m _process_traceback_frames(e\u001b[38;5;241m.\u001b[39m__traceback__)\n",
      "File \u001b[0;32m~/anaconda3/envs/dsr-setup/lib/python3.8/site-packages/tensorflow/python/eager/def_function.py:915\u001b[0m, in \u001b[0;36mFunction.__call__\u001b[0;34m(self, *args, **kwds)\u001b[0m\n\u001b[1;32m    912\u001b[0m compiler \u001b[38;5;241m=\u001b[39m \u001b[38;5;124m\"\u001b[39m\u001b[38;5;124mxla\u001b[39m\u001b[38;5;124m\"\u001b[39m \u001b[38;5;28;01mif\u001b[39;00m \u001b[38;5;28mself\u001b[39m\u001b[38;5;241m.\u001b[39m_jit_compile \u001b[38;5;28;01melse\u001b[39;00m \u001b[38;5;124m\"\u001b[39m\u001b[38;5;124mnonXla\u001b[39m\u001b[38;5;124m\"\u001b[39m\n\u001b[1;32m    914\u001b[0m \u001b[38;5;28;01mwith\u001b[39;00m OptionalXlaContext(\u001b[38;5;28mself\u001b[39m\u001b[38;5;241m.\u001b[39m_jit_compile):\n\u001b[0;32m--> 915\u001b[0m   result \u001b[38;5;241m=\u001b[39m \u001b[38;5;28;43mself\u001b[39;49m\u001b[38;5;241;43m.\u001b[39;49m\u001b[43m_call\u001b[49m\u001b[43m(\u001b[49m\u001b[38;5;241;43m*\u001b[39;49m\u001b[43margs\u001b[49m\u001b[43m,\u001b[49m\u001b[43m \u001b[49m\u001b[38;5;241;43m*\u001b[39;49m\u001b[38;5;241;43m*\u001b[39;49m\u001b[43mkwds\u001b[49m\u001b[43m)\u001b[49m\n\u001b[1;32m    917\u001b[0m new_tracing_count \u001b[38;5;241m=\u001b[39m \u001b[38;5;28mself\u001b[39m\u001b[38;5;241m.\u001b[39mexperimental_get_tracing_count()\n\u001b[1;32m    918\u001b[0m without_tracing \u001b[38;5;241m=\u001b[39m (tracing_count \u001b[38;5;241m==\u001b[39m new_tracing_count)\n",
      "File \u001b[0;32m~/anaconda3/envs/dsr-setup/lib/python3.8/site-packages/tensorflow/python/eager/def_function.py:947\u001b[0m, in \u001b[0;36mFunction._call\u001b[0;34m(self, *args, **kwds)\u001b[0m\n\u001b[1;32m    944\u001b[0m   \u001b[38;5;28mself\u001b[39m\u001b[38;5;241m.\u001b[39m_lock\u001b[38;5;241m.\u001b[39mrelease()\n\u001b[1;32m    945\u001b[0m   \u001b[38;5;66;03m# In this case we have created variables on the first call, so we run the\u001b[39;00m\n\u001b[1;32m    946\u001b[0m   \u001b[38;5;66;03m# defunned version which is guaranteed to never create variables.\u001b[39;00m\n\u001b[0;32m--> 947\u001b[0m   \u001b[38;5;28;01mreturn\u001b[39;00m \u001b[38;5;28;43mself\u001b[39;49m\u001b[38;5;241;43m.\u001b[39;49m\u001b[43m_stateless_fn\u001b[49m\u001b[43m(\u001b[49m\u001b[38;5;241;43m*\u001b[39;49m\u001b[43margs\u001b[49m\u001b[43m,\u001b[49m\u001b[43m \u001b[49m\u001b[38;5;241;43m*\u001b[39;49m\u001b[38;5;241;43m*\u001b[39;49m\u001b[43mkwds\u001b[49m\u001b[43m)\u001b[49m  \u001b[38;5;66;03m# pylint: disable=not-callable\u001b[39;00m\n\u001b[1;32m    948\u001b[0m \u001b[38;5;28;01melif\u001b[39;00m \u001b[38;5;28mself\u001b[39m\u001b[38;5;241m.\u001b[39m_stateful_fn \u001b[38;5;129;01mis\u001b[39;00m \u001b[38;5;129;01mnot\u001b[39;00m \u001b[38;5;28;01mNone\u001b[39;00m:\n\u001b[1;32m    949\u001b[0m   \u001b[38;5;66;03m# Release the lock early so that multiple threads can perform the call\u001b[39;00m\n\u001b[1;32m    950\u001b[0m   \u001b[38;5;66;03m# in parallel.\u001b[39;00m\n\u001b[1;32m    951\u001b[0m   \u001b[38;5;28mself\u001b[39m\u001b[38;5;241m.\u001b[39m_lock\u001b[38;5;241m.\u001b[39mrelease()\n",
      "File \u001b[0;32m~/anaconda3/envs/dsr-setup/lib/python3.8/site-packages/tensorflow/python/eager/function.py:2956\u001b[0m, in \u001b[0;36mFunction.__call__\u001b[0;34m(self, *args, **kwargs)\u001b[0m\n\u001b[1;32m   2953\u001b[0m \u001b[38;5;28;01mwith\u001b[39;00m \u001b[38;5;28mself\u001b[39m\u001b[38;5;241m.\u001b[39m_lock:\n\u001b[1;32m   2954\u001b[0m   (graph_function,\n\u001b[1;32m   2955\u001b[0m    filtered_flat_args) \u001b[38;5;241m=\u001b[39m \u001b[38;5;28mself\u001b[39m\u001b[38;5;241m.\u001b[39m_maybe_define_function(args, kwargs)\n\u001b[0;32m-> 2956\u001b[0m \u001b[38;5;28;01mreturn\u001b[39;00m \u001b[43mgraph_function\u001b[49m\u001b[38;5;241;43m.\u001b[39;49m\u001b[43m_call_flat\u001b[49m\u001b[43m(\u001b[49m\n\u001b[1;32m   2957\u001b[0m \u001b[43m    \u001b[49m\u001b[43mfiltered_flat_args\u001b[49m\u001b[43m,\u001b[49m\u001b[43m \u001b[49m\u001b[43mcaptured_inputs\u001b[49m\u001b[38;5;241;43m=\u001b[39;49m\u001b[43mgraph_function\u001b[49m\u001b[38;5;241;43m.\u001b[39;49m\u001b[43mcaptured_inputs\u001b[49m\u001b[43m)\u001b[49m\n",
      "File \u001b[0;32m~/anaconda3/envs/dsr-setup/lib/python3.8/site-packages/tensorflow/python/eager/function.py:1853\u001b[0m, in \u001b[0;36mConcreteFunction._call_flat\u001b[0;34m(self, args, captured_inputs, cancellation_manager)\u001b[0m\n\u001b[1;32m   1849\u001b[0m possible_gradient_type \u001b[38;5;241m=\u001b[39m gradients_util\u001b[38;5;241m.\u001b[39mPossibleTapeGradientTypes(args)\n\u001b[1;32m   1850\u001b[0m \u001b[38;5;28;01mif\u001b[39;00m (possible_gradient_type \u001b[38;5;241m==\u001b[39m gradients_util\u001b[38;5;241m.\u001b[39mPOSSIBLE_GRADIENT_TYPES_NONE\n\u001b[1;32m   1851\u001b[0m     \u001b[38;5;129;01mand\u001b[39;00m executing_eagerly):\n\u001b[1;32m   1852\u001b[0m   \u001b[38;5;66;03m# No tape is watching; skip to running the function.\u001b[39;00m\n\u001b[0;32m-> 1853\u001b[0m   \u001b[38;5;28;01mreturn\u001b[39;00m \u001b[38;5;28mself\u001b[39m\u001b[38;5;241m.\u001b[39m_build_call_outputs(\u001b[38;5;28;43mself\u001b[39;49m\u001b[38;5;241;43m.\u001b[39;49m\u001b[43m_inference_function\u001b[49m\u001b[38;5;241;43m.\u001b[39;49m\u001b[43mcall\u001b[49m\u001b[43m(\u001b[49m\n\u001b[1;32m   1854\u001b[0m \u001b[43m      \u001b[49m\u001b[43mctx\u001b[49m\u001b[43m,\u001b[49m\u001b[43m \u001b[49m\u001b[43margs\u001b[49m\u001b[43m,\u001b[49m\u001b[43m \u001b[49m\u001b[43mcancellation_manager\u001b[49m\u001b[38;5;241;43m=\u001b[39;49m\u001b[43mcancellation_manager\u001b[49m\u001b[43m)\u001b[49m)\n\u001b[1;32m   1855\u001b[0m forward_backward \u001b[38;5;241m=\u001b[39m \u001b[38;5;28mself\u001b[39m\u001b[38;5;241m.\u001b[39m_select_forward_and_backward_functions(\n\u001b[1;32m   1856\u001b[0m     args,\n\u001b[1;32m   1857\u001b[0m     possible_gradient_type,\n\u001b[1;32m   1858\u001b[0m     executing_eagerly)\n\u001b[1;32m   1859\u001b[0m forward_function, args_with_tangents \u001b[38;5;241m=\u001b[39m forward_backward\u001b[38;5;241m.\u001b[39mforward()\n",
      "File \u001b[0;32m~/anaconda3/envs/dsr-setup/lib/python3.8/site-packages/tensorflow/python/eager/function.py:499\u001b[0m, in \u001b[0;36m_EagerDefinedFunction.call\u001b[0;34m(self, ctx, args, cancellation_manager)\u001b[0m\n\u001b[1;32m    497\u001b[0m \u001b[38;5;28;01mwith\u001b[39;00m _InterpolateFunctionError(\u001b[38;5;28mself\u001b[39m):\n\u001b[1;32m    498\u001b[0m   \u001b[38;5;28;01mif\u001b[39;00m cancellation_manager \u001b[38;5;129;01mis\u001b[39;00m \u001b[38;5;28;01mNone\u001b[39;00m:\n\u001b[0;32m--> 499\u001b[0m     outputs \u001b[38;5;241m=\u001b[39m \u001b[43mexecute\u001b[49m\u001b[38;5;241;43m.\u001b[39;49m\u001b[43mexecute\u001b[49m\u001b[43m(\u001b[49m\n\u001b[1;32m    500\u001b[0m \u001b[43m        \u001b[49m\u001b[38;5;28;43mstr\u001b[39;49m\u001b[43m(\u001b[49m\u001b[38;5;28;43mself\u001b[39;49m\u001b[38;5;241;43m.\u001b[39;49m\u001b[43msignature\u001b[49m\u001b[38;5;241;43m.\u001b[39;49m\u001b[43mname\u001b[49m\u001b[43m)\u001b[49m\u001b[43m,\u001b[49m\n\u001b[1;32m    501\u001b[0m \u001b[43m        \u001b[49m\u001b[43mnum_outputs\u001b[49m\u001b[38;5;241;43m=\u001b[39;49m\u001b[38;5;28;43mself\u001b[39;49m\u001b[38;5;241;43m.\u001b[39;49m\u001b[43m_num_outputs\u001b[49m\u001b[43m,\u001b[49m\n\u001b[1;32m    502\u001b[0m \u001b[43m        \u001b[49m\u001b[43minputs\u001b[49m\u001b[38;5;241;43m=\u001b[39;49m\u001b[43margs\u001b[49m\u001b[43m,\u001b[49m\n\u001b[1;32m    503\u001b[0m \u001b[43m        \u001b[49m\u001b[43mattrs\u001b[49m\u001b[38;5;241;43m=\u001b[39;49m\u001b[43mattrs\u001b[49m\u001b[43m,\u001b[49m\n\u001b[1;32m    504\u001b[0m \u001b[43m        \u001b[49m\u001b[43mctx\u001b[49m\u001b[38;5;241;43m=\u001b[39;49m\u001b[43mctx\u001b[49m\u001b[43m)\u001b[49m\n\u001b[1;32m    505\u001b[0m   \u001b[38;5;28;01melse\u001b[39;00m:\n\u001b[1;32m    506\u001b[0m     outputs \u001b[38;5;241m=\u001b[39m execute\u001b[38;5;241m.\u001b[39mexecute_with_cancellation(\n\u001b[1;32m    507\u001b[0m         \u001b[38;5;28mstr\u001b[39m(\u001b[38;5;28mself\u001b[39m\u001b[38;5;241m.\u001b[39msignature\u001b[38;5;241m.\u001b[39mname),\n\u001b[1;32m    508\u001b[0m         num_outputs\u001b[38;5;241m=\u001b[39m\u001b[38;5;28mself\u001b[39m\u001b[38;5;241m.\u001b[39m_num_outputs,\n\u001b[0;32m   (...)\u001b[0m\n\u001b[1;32m    511\u001b[0m         ctx\u001b[38;5;241m=\u001b[39mctx,\n\u001b[1;32m    512\u001b[0m         cancellation_manager\u001b[38;5;241m=\u001b[39mcancellation_manager)\n",
      "File \u001b[0;32m~/anaconda3/envs/dsr-setup/lib/python3.8/site-packages/tensorflow/python/eager/execute.py:54\u001b[0m, in \u001b[0;36mquick_execute\u001b[0;34m(op_name, num_outputs, inputs, attrs, ctx, name)\u001b[0m\n\u001b[1;32m     52\u001b[0m \u001b[38;5;28;01mtry\u001b[39;00m:\n\u001b[1;32m     53\u001b[0m   ctx\u001b[38;5;241m.\u001b[39mensure_initialized()\n\u001b[0;32m---> 54\u001b[0m   tensors \u001b[38;5;241m=\u001b[39m \u001b[43mpywrap_tfe\u001b[49m\u001b[38;5;241;43m.\u001b[39;49m\u001b[43mTFE_Py_Execute\u001b[49m\u001b[43m(\u001b[49m\u001b[43mctx\u001b[49m\u001b[38;5;241;43m.\u001b[39;49m\u001b[43m_handle\u001b[49m\u001b[43m,\u001b[49m\u001b[43m \u001b[49m\u001b[43mdevice_name\u001b[49m\u001b[43m,\u001b[49m\u001b[43m \u001b[49m\u001b[43mop_name\u001b[49m\u001b[43m,\u001b[49m\n\u001b[1;32m     55\u001b[0m \u001b[43m                                      \u001b[49m\u001b[43minputs\u001b[49m\u001b[43m,\u001b[49m\u001b[43m \u001b[49m\u001b[43mattrs\u001b[49m\u001b[43m,\u001b[49m\u001b[43m \u001b[49m\u001b[43mnum_outputs\u001b[49m\u001b[43m)\u001b[49m\n\u001b[1;32m     56\u001b[0m \u001b[38;5;28;01mexcept\u001b[39;00m core\u001b[38;5;241m.\u001b[39m_NotOkStatusException \u001b[38;5;28;01mas\u001b[39;00m e:\n\u001b[1;32m     57\u001b[0m   \u001b[38;5;28;01mif\u001b[39;00m name \u001b[38;5;129;01mis\u001b[39;00m \u001b[38;5;129;01mnot\u001b[39;00m \u001b[38;5;28;01mNone\u001b[39;00m:\n",
      "\u001b[0;31mKeyboardInterrupt\u001b[0m: "
     ]
    }
   ],
   "source": [
    "model.compile(\n",
    "    optimizer=\"adam\",\n",
    "    loss=\"sparse_categorical_crossentropy\",\n",
    "    metrics=[\"accuracy\"]\n",
    ")\n",
    "\n",
    "history = model.fit(\n",
    "    dataset_train.cache().shuffle(10_000).batch(512),\n",
    "    epochs=10,\n",
    "    validation_data=dataset_valid.cache().batch(512)\n",
    ")\n",
    "\n",
    "render_history(history)"
   ]
  },
  {
   "cell_type": "code",
   "execution_count": 41,
   "metadata": {
    "colab": {
     "base_uri": "https://localhost:8080/"
    },
    "executionInfo": {
     "elapsed": 599,
     "status": "ok",
     "timestamp": 1652098854077,
     "user": {
      "displayName": "Simon aus Berlin",
      "userId": "16825345891029363646"
     },
     "user_tz": -120
    },
    "id": "yTgz-VY24Vu2",
    "outputId": "89c0ee58-0893-4c14-aa93-be625190a2ab"
   },
   "outputs": [
    {
     "name": "stdout",
     "output_type": "stream",
     "text": [
      "Model: \"sequential\"\n",
      "_________________________________________________________________\n",
      " Layer (type)                Output Shape              Param #   \n",
      "=================================================================\n",
      " embedding (Embedding)       (None, 64, 128)           1920000   \n",
      "                                                                 \n",
      " dropout (Dropout)           (None, 64, 128)           0         \n",
      "                                                                 \n",
      " lstm (LSTM)                 (None, 64, 1024)          4722688   \n",
      "                                                                 \n",
      " lstm_1 (LSTM)               (None, 2048)              25174016  \n",
      "                                                                 \n",
      " dropout_1 (Dropout)         (None, 2048)              0         \n",
      "                                                                 \n",
      " dense (Dense)               (None, 15000)             30735000  \n",
      "                                                                 \n",
      "=================================================================\n",
      "Total params: 62,551,704\n",
      "Trainable params: 62,551,704\n",
      "Non-trainable params: 0\n",
      "_________________________________________________________________\n"
     ]
    }
   ],
   "source": [
    "model.summary()"
   ]
  },
  {
   "cell_type": "code",
   "execution_count": 29,
   "metadata": {
    "executionInfo": {
     "elapsed": 354,
     "status": "ok",
     "timestamp": 1652093601709,
     "user": {
      "displayName": "Simon aus Berlin",
      "userId": "16825345891029363646"
     },
     "user_tz": -120
    },
    "id": "nnHuhzJ-REVY"
   },
   "outputs": [],
   "source": [
    "import numpy as np\n",
    "\n",
    "def decode(indices):\n",
    "    return \" \".join([vocabulary[index] for index in indices if vocabulary[index] is not \"\"])\n",
    "    \n",
    "def generate(model, seed_text, generated_sequence_length, temperature):\n",
    "\n",
    "    input_sequence = encoder(seed_text).numpy()\n",
    "\n",
    "    generated_sequence = list(input_sequence[::])\n",
    "\n",
    "    # Pad.\n",
    "    padding = [0] * (sequence_length - len(input_sequence))\n",
    "    input_sequence = padding + list(input_sequence)\n",
    "\n",
    "    # Generate the sequence by repeatedly predicting.\n",
    "    while len(generated_sequence) < generated_sequence_length:\n",
    "        prediction = model.predict(np.expand_dims(input_sequence, axis=0))\n",
    "        predicted_index = get_index_from_prediction(prediction[0], temperature)\n",
    "        generated_sequence.append(predicted_index)\n",
    "        input_sequence = input_sequence[1:]\n",
    "        input_sequence.append(predicted_index)\n",
    "\n",
    "    # Convert the generated sequence to a string.\n",
    "    text = decode(generated_sequence)\n",
    "    text = text.replace(dot_replace, \".\").replace(\"[UNK]\", \"42\")\n",
    "    #print(text)\n",
    "    print(\"\")\n",
    "    return text\n",
    "\n",
    "        \n",
    "def get_index_from_prediction(prediction, temperature=0.0):\n",
    "    \"\"\" Gets an index from a prediction. \"\"\"\n",
    "\n",
    "    # Zero temperature - use the argmax.\n",
    "    if temperature == 0.0:\n",
    "        return np.argmax(prediction)\n",
    "\n",
    "    # Non-zero temperature - do some random magic.\n",
    "    else:\n",
    "        prediction = np.asarray(prediction).astype('float64')\n",
    "        prediction = np.log(prediction) / temperature\n",
    "        exp_prediction= np.exp(prediction)\n",
    "        prediction = exp_prediction / np.sum(exp_prediction)\n",
    "        probabilities = np.random.multinomial(1, prediction, 1)\n",
    "        return np.argmax(probabilities)\n",
    "  \n",
    "\n",
    "# generate(model, \"Arthur entered the bridge of\", 100, temperature=1.0)"
   ]
  },
  {
   "cell_type": "code",
   "execution_count": 30,
   "metadata": {
    "colab": {
     "base_uri": "https://localhost:8080/",
     "height": 70
    },
    "executionInfo": {
     "elapsed": 6569,
     "status": "ok",
     "timestamp": 1652093624492,
     "user": {
      "displayName": "Simon aus Berlin",
      "userId": "16825345891029363646"
     },
     "user_tz": -120
    },
    "id": "INjuz7PG1d0o",
    "outputId": "c847ae5a-25d4-49c8-8b3e-d28a15a2f1e7"
   },
   "outputs": [
    {
     "name": "stdout",
     "output_type": "stream",
     "text": [
      "\n"
     ]
    },
    {
     "data": {
      "application/vnd.google.colaboratory.intrinsic+json": {
       "type": "string"
      },
      "text/plain": [
       "'arthur looked at ford and an couple of one 42 42 again into went off. fie clambered from the back. she obviously arthur pushed it here that the small word would have hurled her since a spacecraft in front of which pocket then were alarmed. it was all one of the only end of which would old 42 and made a 42 stock. she sat out. the barman had shot it and lay going to himself into the other air to control that it exhibited plain. the new billion beasts simply tells they.'"
      ]
     },
     "execution_count": 30,
     "metadata": {},
     "output_type": "execute_result"
    }
   ],
   "source": [
    "s = generate(model, \"Arthur looked at \", 100, temperature=1.0)\n",
    "s"
   ]
  },
  {
   "cell_type": "code",
   "execution_count": 31,
   "metadata": {
    "colab": {
     "base_uri": "https://localhost:8080/"
    },
    "executionInfo": {
     "elapsed": 20063,
     "status": "ok",
     "timestamp": 1652093709679,
     "user": {
      "displayName": "Simon aus Berlin",
      "userId": "16825345891029363646"
     },
     "user_tz": -120
    },
    "id": "ij8f779P3_jp",
    "outputId": "5aeef24e-0647-42cf-fba2-57fe965dc2ec"
   },
   "outputs": [
    {
     "name": "stdout",
     "output_type": "stream",
     "text": [
      "\n"
     ]
    }
   ],
   "source": [
    "s = generate(model, \"Arthur looked at \", 300, temperature=.70)\n"
   ]
  },
  {
   "cell_type": "code",
   "execution_count": 32,
   "metadata": {
    "colab": {
     "base_uri": "https://localhost:8080/",
     "height": 88
    },
    "executionInfo": {
     "elapsed": 360,
     "status": "ok",
     "timestamp": 1652093723744,
     "user": {
      "displayName": "Simon aus Berlin",
      "userId": "16825345891029363646"
     },
     "user_tz": -120
    },
    "id": "WzpgIUd4dZaD",
    "outputId": "469d74f7-e685-40d6-aa05-98f252b426eb"
   },
   "outputs": [
    {
     "data": {
      "application/vnd.google.colaboratory.intrinsic+json": {
       "type": "string"
      },
      "text/plain": [
       "'arthur looked at a 42 sun. it was just a 42. she could have been a 42 42 and 42 so it must be a 42. the whole guy was. he was very lost. this was some 42. she was going to discover she was going to a man and the 42 42. she hobbled back to the place. the barman passed. he had 42 by his own towel. it was looking at it to a 42 42 of upwards. he had remembered it. what did you to need to a large culture and you am why this is. she got his head on to his knees. she was sitting in the last place. she sighed. on the fact she had 42. he had 42 the last 42 42. there was something to make his job with this pocket. she didnt want to go to the distant box. a few voice. lay at the 42 bright 42 slowly at the sun. it was a bit at the 42. she was 42 and equipment. he was asleep. she had a lot of a monster. he felt and it was some numbers of her sort of 42. the 42 were sitting forward in the sky and he started to 42 with the bar of a large 42 42 she had been born on the air. he were a good 42. she had worked on the air. he knew. she was very lost. she was 42 to 42 to say what was going on. then the bar she had decided to put. she had seen it. he shook'"
      ]
     },
     "execution_count": 32,
     "metadata": {},
     "output_type": "execute_result"
    }
   ],
   "source": [
    "s"
   ]
  },
  {
   "cell_type": "code",
   "execution_count": 33,
   "metadata": {
    "colab": {
     "base_uri": "https://localhost:8080/",
     "height": 106
    },
    "executionInfo": {
     "elapsed": 18353,
     "status": "ok",
     "timestamp": 1652093937684,
     "user": {
      "displayName": "Simon aus Berlin",
      "userId": "16825345891029363646"
     },
     "user_tz": -120
    },
    "id": "JPgj1dao4z5M",
    "outputId": "a218d54e-47d8-45d0-a4aa-f14db495fc4f"
   },
   "outputs": [
    {
     "name": "stdout",
     "output_type": "stream",
     "text": [
      "\n"
     ]
    },
    {
     "data": {
      "application/vnd.google.colaboratory.intrinsic+json": {
       "type": "string"
      },
      "text/plain": [
       "'this friend of his had first arrived on the planet some fifteen earth years previously and he had worked hard to calm and put it to him. the barman of the frozen heart of the singer was on the 42 and make the stage 42 was 42. the barman was 42 which was the one of the 42 42 which had been any taken 42 and had 42 42 in a 42 42. that had been 42 in the notice that he was doing to the 42 of the 42. she knew if it was 42. it was going to be the most few spaceship a lot of your 42 and 42 with a thin 42. this is a 42. the 42 was a little 42 42 movie. she had to go with and relaxed 42 but she was looking in the towel on the heat. it was 42 up and fell 42 and started to feel up. there was the big one of the ship. they were fairly good and a 42 for a home of some shapes. they had been and a 42. the next guide to this other 42. arthur seemed to go out of the universe. and so what. what are you sure... yeah said ford. i was just doing a sort of life on it. i dont know what...... i am the 42. its a 42 42. the 42. oh said arthur. i dont think said arthur. 42 that will we like her 42. i dont know of the 42. 42... i mean just we find out of'"
      ]
     },
     "execution_count": 33,
     "metadata": {},
     "output_type": "execute_result"
    }
   ],
   "source": [
    "generate(model, \"This friend of his had first arrived on the planet some fifteen Earth years previously and he had worked hard to\", 300, temperature=.70)"
   ]
  },
  {
   "cell_type": "code",
   "execution_count": null,
   "metadata": {
    "executionInfo": {
     "elapsed": 670,
     "status": "aborted",
     "timestamp": 1652093065068,
     "user": {
      "displayName": "Simon aus Berlin",
      "userId": "16825345891029363646"
     },
     "user_tz": -120
    },
    "id": "McM1GRrL5usd"
   },
   "outputs": [],
   "source": [
    "generate(model, \"Arthur and Ford \", 300, temperature=.2)"
   ]
  },
  {
   "cell_type": "code",
   "execution_count": 41,
   "metadata": {
    "executionInfo": {
     "elapsed": 380,
     "status": "ok",
     "timestamp": 1652098963970,
     "user": {
      "displayName": "Simon aus Berlin",
      "userId": "16825345891029363646"
     },
     "user_tz": -120
    },
    "id": "eMJEflbk6m1O"
   },
   "outputs": [],
   "source": []
  },
  {
   "cell_type": "code",
   "execution_count": 47,
   "metadata": {
    "colab": {
     "base_uri": "https://localhost:8080/"
    },
    "executionInfo": {
     "elapsed": 2008,
     "status": "ok",
     "timestamp": 1652105524319,
     "user": {
      "displayName": "Simon aus Berlin",
      "userId": "16825345891029363646"
     },
     "user_tz": -120
    },
    "id": "Lsb8NLUxxfX5",
    "outputId": "8257f7a2-4a46-46ec-8e33-9f83e011bb2e"
   },
   "outputs": [
    {
     "name": "stdout",
     "output_type": "stream",
     "text": [
      "Model: \"sequential_4\"\n",
      "_________________________________________________________________\n",
      " Layer (type)                Output Shape              Param #   \n",
      "=================================================================\n",
      " embedding_4 (Embedding)     (None, 64, 128)           2560000   \n",
      "                                                                 \n",
      " dropout_8 (Dropout)         (None, 64, 128)           0         \n",
      "                                                                 \n",
      " lstm_9 (LSTM)               (None, 64, 512)           1312768   \n",
      "                                                                 \n",
      " lstm_10 (LSTM)              (None, 64, 1024)          6295552   \n",
      "                                                                 \n",
      " lstm_11 (LSTM)              (None, 256)               1311744   \n",
      "                                                                 \n",
      " dropout_9 (Dropout)         (None, 256)               0         \n",
      "                                                                 \n",
      " dense_4 (Dense)             (None, 20000)             5140000   \n",
      "                                                                 \n",
      "=================================================================\n",
      "Total params: 16,620,064\n",
      "Trainable params: 16,620,064\n",
      "Non-trainable params: 0\n",
      "_________________________________________________________________\n"
     ]
    }
   ],
   "source": [
    "from re import M\n",
    "embedding_size = 128\n",
    "\n",
    "model = models.Sequential()\n",
    "model.add(layers.Embedding(vocabulary_size, embedding_size, input_length=sequence_length))\n",
    "model.add(layers.Dropout(0.3))\n",
    "model.add(layers.LSTM(512, return_sequences=True))\n",
    "model.add(layers.LSTM(1024, return_sequences=True))\n",
    "model.add(layers.LSTM(256))\n",
    "#model.add(layers.LSTM(24))\n",
    "model.add(layers.Dropout(0.5))              # one way to handle overfitting\n",
    "model.add(layers.Dense(vocabulary_size, activation=\"softmax\"))\n",
    "\n",
    "model.summary()\n",
    "\n"
   ]
  },
  {
   "cell_type": "code",
   "execution_count": 48,
   "metadata": {
    "colab": {
     "base_uri": "https://localhost:8080/",
     "height": 892
    },
    "executionInfo": {
     "elapsed": 2499781,
     "status": "ok",
     "timestamp": 1652108031326,
     "user": {
      "displayName": "Simon aus Berlin",
      "userId": "16825345891029363646"
     },
     "user_tz": -120
    },
    "id": "AAU1nTQaxqIC",
    "outputId": "c5aeca5b-a33d-474f-870c-05469e95a793"
   },
   "outputs": [
    {
     "name": "stdout",
     "output_type": "stream",
     "text": [
      "Epoch 1/10\n",
      "451/451 [==============================] - 255s 558ms/step - loss: 6.6379 - accuracy: 0.0690 - val_loss: 6.9243 - val_accuracy: 0.0702\n",
      "Epoch 2/10\n",
      "451/451 [==============================] - 249s 553ms/step - loss: 6.5331 - accuracy: 0.0695 - val_loss: 6.9685 - val_accuracy: 0.0702\n",
      "Epoch 3/10\n",
      "451/451 [==============================] - 249s 553ms/step - loss: 6.5534 - accuracy: 0.0702 - val_loss: 6.9938 - val_accuracy: 0.0702\n",
      "Epoch 4/10\n",
      "451/451 [==============================] - 249s 553ms/step - loss: 6.5685 - accuracy: 0.0697 - val_loss: 7.0198 - val_accuracy: 0.0702\n",
      "Epoch 5/10\n",
      "451/451 [==============================] - 249s 553ms/step - loss: 6.5802 - accuracy: 0.0699 - val_loss: 7.0561 - val_accuracy: 0.0702\n",
      "Epoch 6/10\n",
      "451/451 [==============================] - 249s 553ms/step - loss: 6.5903 - accuracy: 0.0698 - val_loss: 7.0722 - val_accuracy: 0.0702\n",
      "Epoch 7/10\n",
      "451/451 [==============================] - 249s 553ms/step - loss: 6.5814 - accuracy: 0.0701 - val_loss: 7.0352 - val_accuracy: 0.0702\n",
      "Epoch 8/10\n",
      "451/451 [==============================] - 249s 553ms/step - loss: 6.5298 - accuracy: 0.0699 - val_loss: 6.9137 - val_accuracy: 0.0702\n",
      "Epoch 9/10\n",
      "451/451 [==============================] - 249s 552ms/step - loss: 6.4814 - accuracy: 0.0707 - val_loss: 6.8953 - val_accuracy: 0.0702\n",
      "Epoch 10/10\n",
      "451/451 [==============================] - 249s 552ms/step - loss: 6.4744 - accuracy: 0.0713 - val_loss: 6.9238 - val_accuracy: 0.0702\n"
     ]
    },
    {
     "data": {
      "image/png": "[encoded data removed]",
      "text/plain": [
       "<Figure size 432x288 with 1 Axes>"
      ]
     },
     "metadata": {
      "needs_background": "light"
     },
     "output_type": "display_data"
    },
    {
     "data": {
      "image/png": "[encoded data removed]",
      "text/plain": [
       "<Figure size 432x288 with 1 Axes>"
      ]
     },
     "metadata": {
      "needs_background": "light"
     },
     "output_type": "display_data"
    }
   ],
   "source": [
    "model.compile(\n",
    "    optimizer=\"adam\",\n",
    "    loss=\"sparse_categorical_crossentropy\",\n",
    "    metrics=[\"accuracy\"]\n",
    ")\n",
    "\n",
    "history = model.fit(\n",
    "    dataset_train.cache().shuffle(10_000).batch(512),\n",
    "    epochs=10,\n",
    "    validation_data=dataset_valid.cache().batch(512)\n",
    ")\n",
    "\n",
    "render_history(history)"
   ]
  },
  {
   "cell_type": "code",
   "execution_count": 49,
   "metadata": {
    "colab": {
     "base_uri": "https://localhost:8080/"
    },
    "executionInfo": {
     "elapsed": 1217,
     "status": "ok",
     "timestamp": 1652113870437,
     "user": {
      "displayName": "Simon aus Berlin",
      "userId": "16825345891029363646"
     },
     "user_tz": -120
    },
    "id": "_fyKatrrxga_",
    "outputId": "03f17363-34d7-4afa-fa48-a5d7e4e337fd"
   },
   "outputs": [
    {
     "name": "stdout",
     "output_type": "stream",
     "text": [
      "Model: \"sequential_4\"\n",
      "_________________________________________________________________\n",
      " Layer (type)                Output Shape              Param #   \n",
      "=================================================================\n",
      " embedding_4 (Embedding)     (None, 64, 128)           2560000   \n",
      "                                                                 \n",
      " dropout_8 (Dropout)         (None, 64, 128)           0         \n",
      "                                                                 \n",
      " lstm_9 (LSTM)               (None, 64, 512)           1312768   \n",
      "                                                                 \n",
      " lstm_10 (LSTM)              (None, 64, 1024)          6295552   \n",
      "                                                                 \n",
      " lstm_11 (LSTM)              (None, 256)               1311744   \n",
      "                                                                 \n",
      " dropout_9 (Dropout)         (None, 256)               0         \n",
      "                                                                 \n",
      " dense_4 (Dense)             (None, 20000)             5140000   \n",
      "                                                                 \n",
      "=================================================================\n",
      "Total params: 16,620,064\n",
      "Trainable params: 16,620,064\n",
      "Non-trainable params: 0\n",
      "_________________________________________________________________\n"
     ]
    }
   ],
   "source": [
    "model.summary()"
   ]
  },
  {
   "cell_type": "code",
   "execution_count": 50,
   "metadata": {
    "colab": {
     "base_uri": "https://localhost:8080/",
     "height": 106
    },
    "executionInfo": {
     "elapsed": 14970,
     "status": "ok",
     "timestamp": 1652113913802,
     "user": {
      "displayName": "Simon aus Berlin",
      "userId": "16825345891029363646"
     },
     "user_tz": -120
    },
    "id": "pdAhoGsyqN0n",
    "outputId": "f0f33f33-6ba7-4d9b-8379-77bac8a4f961"
   },
   "outputs": [
    {
     "name": "stdout",
     "output_type": "stream",
     "text": [
      "\n"
     ]
    },
    {
     "data": {
      "application/vnd.google.colaboratory.intrinsic+json": {
       "type": "string"
      },
      "text/plain": [
       "'this friend of his had first arrived on the planet some fifteen earth years previously and he had worked hard to. was the very the. 42 was. and it ford that. quite to to the the meanwhile the. 42 with i and the the the and into an to them and was 42 was beast your to into who the. she was never an that the and one now what. been nuts for they... 42 didnt to to that and.. like the was it 42. 42 of of face a for. 42 so he it 42 him he. said was from this 42. and and. me was thats said. 42 the a 42 had the the desk to said his. back the she to i. to. peered and or. it slowly sorts said they up. a the shot it it in from why he. four the and well.. a... 42 his i for he 42 what of you said 42 as. it ive to 42 what than she in man just. the was the as and 42 42 was of her you. of in. was with 42.. yes someone a.. 42 and. or make of were. 42 it the this the. there she the he. know the she was 42. and. was is. its of of said the. she he.. it said 42. and. it. what a.. one. it looked what a the her. i on. the. the stand ship of dont the it'"
      ]
     },
     "execution_count": 50,
     "metadata": {},
     "output_type": "execute_result"
    }
   ],
   "source": [
    "generate(model, \"This friend of his had first arrived on the planet some fifteen Earth years previously and he had worked hard to\", 300, temperature=.70)"
   ]
  },
  {
   "cell_type": "code",
   "execution_count": 51,
   "metadata": {
    "colab": {
     "base_uri": "https://localhost:8080/"
    },
    "executionInfo": {
     "elapsed": 951,
     "status": "ok",
     "timestamp": 1652113989279,
     "user": {
      "displayName": "Simon aus Berlin",
      "userId": "16825345891029363646"
     },
     "user_tz": -120
    },
    "id": "NjfBygVkqXsc",
    "outputId": "d2d2687c-6f58-4c11-c6ac-f902792585b6"
   },
   "outputs": [
    {
     "name": "stdout",
     "output_type": "stream",
     "text": [
      "Model: \"sequential_5\"\n",
      "_________________________________________________________________\n",
      " Layer (type)                Output Shape              Param #   \n",
      "=================================================================\n",
      " embedding_5 (Embedding)     (None, 64, 128)           2560000   \n",
      "                                                                 \n",
      " lstm_12 (LSTM)              (None, 64, 512)           1312768   \n",
      "                                                                 \n",
      " lstm_13 (LSTM)              (None, 24)                51552     \n",
      "                                                                 \n",
      " dropout_10 (Dropout)        (None, 24)                0         \n",
      "                                                                 \n",
      " dense_5 (Dense)             (None, 20000)             500000    \n",
      "                                                                 \n",
      "=================================================================\n",
      "Total params: 4,424,320\n",
      "Trainable params: 4,424,320\n",
      "Non-trainable params: 0\n",
      "_________________________________________________________________\n"
     ]
    }
   ],
   "source": [
    "embedding_size = 128\n",
    "\n",
    "model = models.Sequential()\n",
    "model.add(layers.Embedding(vocabulary_size, embedding_size, input_length=sequence_length))\n",
    "#model.add(layers.Dropout(0.3))\n",
    "model.add(layers.LSTM(512, return_sequences=True))\n",
    "#model.add(layers.LSTM(1024, return_sequences=True))\n",
    "#model.add(layers.LSTM(256))\n",
    "model.add(layers.LSTM(24))\n",
    "model.add(layers.Dropout(0.5))              # one way to handle overfitting\n",
    "model.add(layers.Dense(vocabulary_size, activation=\"softmax\"))\n",
    "\n",
    "model.summary()"
   ]
  },
  {
   "cell_type": "code",
   "execution_count": 52,
   "metadata": {
    "colab": {
     "base_uri": "https://localhost:8080/",
     "height": 892
    },
    "executionInfo": {
     "elapsed": 509743,
     "status": "ok",
     "timestamp": 1652114514518,
     "user": {
      "displayName": "Simon aus Berlin",
      "userId": "16825345891029363646"
     },
     "user_tz": -120
    },
    "id": "8J2Xxm_mqtja",
    "outputId": "01ef76f5-c170-403e-dc2d-d9e92a533e3c"
   },
   "outputs": [
    {
     "name": "stdout",
     "output_type": "stream",
     "text": [
      "Epoch 1/10\n",
      "451/451 [==============================] - 54s 114ms/step - loss: 7.1012 - accuracy: 0.0591 - val_loss: 6.6630 - val_accuracy: 0.0702\n",
      "Epoch 2/10\n",
      "451/451 [==============================] - 50s 111ms/step - loss: 6.4999 - accuracy: 0.0721 - val_loss: 6.7083 - val_accuracy: 0.0702\n",
      "Epoch 3/10\n",
      "451/451 [==============================] - 50s 112ms/step - loss: 6.4918 - accuracy: 0.0720 - val_loss: 6.7391 - val_accuracy: 0.0702\n",
      "Epoch 4/10\n",
      "451/451 [==============================] - 51s 112ms/step - loss: 6.4883 - accuracy: 0.0721 - val_loss: 6.6376 - val_accuracy: 0.0702\n",
      "Epoch 5/10\n",
      "451/451 [==============================] - 50s 112ms/step - loss: 6.3737 - accuracy: 0.0743 - val_loss: 6.5915 - val_accuracy: 0.0699\n",
      "Epoch 6/10\n",
      "451/451 [==============================] - 51s 112ms/step - loss: 6.2999 - accuracy: 0.0765 - val_loss: 6.6007 - val_accuracy: 0.0665\n",
      "Epoch 7/10\n",
      "451/451 [==============================] - 51s 112ms/step - loss: 6.2566 - accuracy: 0.0771 - val_loss: 6.5924 - val_accuracy: 0.0645\n",
      "Epoch 8/10\n",
      "451/451 [==============================] - 51s 112ms/step - loss: 6.2202 - accuracy: 0.0769 - val_loss: 6.5835 - val_accuracy: 0.0657\n",
      "Epoch 9/10\n",
      "451/451 [==============================] - 51s 112ms/step - loss: 6.1796 - accuracy: 0.0772 - val_loss: 6.5406 - val_accuracy: 0.0670\n",
      "Epoch 10/10\n",
      "451/451 [==============================] - 51s 112ms/step - loss: 6.1280 - accuracy: 0.0778 - val_loss: 6.4975 - val_accuracy: 0.0673\n"
     ]
    },
    {
     "data": {
      "image/png": "[encoded data removed]",
      "text/plain": [
       "<Figure size 432x288 with 1 Axes>"
      ]
     },
     "metadata": {
      "needs_background": "light"
     },
     "output_type": "display_data"
    },
    {
     "data": {
      "image/png": "[encoded data removed]",
      "text/plain": [
       "<Figure size 432x288 with 1 Axes>"
      ]
     },
     "metadata": {
      "needs_background": "light"
     },
     "output_type": "display_data"
    }
   ],
   "source": [
    "model.compile(\n",
    "    optimizer=\"adam\",\n",
    "    loss=\"sparse_categorical_crossentropy\",\n",
    "    metrics=[\"accuracy\"]\n",
    ")\n",
    "\n",
    "history = model.fit(\n",
    "    dataset_train.cache().shuffle(10_000).batch(512),\n",
    "    epochs=10,\n",
    "    validation_data=dataset_valid.cache().batch(512)\n",
    ")\n",
    "\n",
    "render_history(history)"
   ]
  },
  {
   "cell_type": "code",
   "execution_count": null,
   "metadata": {
    "id": "I-hNon-lqxlb"
   },
   "outputs": [],
   "source": []
  }
 ],
 "metadata": {
  "accelerator": "GPU",
  "colab": {
   "collapsed_sections": [],
   "machine_shape": "hm",
   "name": "Language Generation LSTM.ipynb",
   "provenance": [
    {
     "file_id": "1oKdzgztlY-SrCdZl0cJcjIM9SCksUKOE",
     "timestamp": 1651824547238
    }
   ]
  },
  "kernelspec": {
   "display_name": "dsr-setup",
   "language": "python",
   "name": "dsr-setup"
  },
  "language_info": {
   "codemirror_mode": {
    "name": "ipython",
    "version": 3
   },
   "file_extension": ".py",
   "mimetype": "text/x-python",
   "name": "python",
   "nbconvert_exporter": "python",
   "pygments_lexer": "ipython3",
   "version": "3.8.13"
  }
 },
 "nbformat": 4,
 "nbformat_minor": 4
}
