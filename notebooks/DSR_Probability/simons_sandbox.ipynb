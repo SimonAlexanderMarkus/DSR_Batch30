{
 "cells": [
  {
   "cell_type": "code",
   "execution_count": 1,
   "id": "5f474409-0968-4ead-8c70-a3f7459d2fa9",
   "metadata": {},
   "outputs": [],
   "source": [
    "import scipy as sc"
   ]
  },
  {
   "cell_type": "code",
   "execution_count": 3,
   "id": "3ad6fa93-eb35-4ab3-8bc0-eaa3259b09d0",
   "metadata": {},
   "outputs": [],
   "source": [
    "import statsmodels as st"
   ]
  },
  {
   "cell_type": "code",
   "execution_count": null,
   "id": "cf63cac9-c8e6-434e-8e47-a0fc07df6b65",
   "metadata": {},
   "outputs": [],
   "source": []
  }
 ],
 "metadata": {
  "kernelspec": {
   "display_name": "dsr-setup",
   "language": "python",
   "name": "dsr-setup"
  },
  "language_info": {
   "codemirror_mode": {
    "name": "ipython",
    "version": 3
   },
   "file_extension": ".py",
   "mimetype": "text/x-python",
   "name": "python",
   "nbconvert_exporter": "python",
   "pygments_lexer": "ipython3",
   "version": "3.8.13"
  }
 },
 "nbformat": 4,
 "nbformat_minor": 5
}
