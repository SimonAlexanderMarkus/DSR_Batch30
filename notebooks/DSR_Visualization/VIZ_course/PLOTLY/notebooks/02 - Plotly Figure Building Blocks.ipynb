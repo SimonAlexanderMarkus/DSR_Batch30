{
 "cells": [
  {
   "cell_type": "markdown",
   "metadata": {},
   "source": [
    "# Plotly Figure Building Blocks"
   ]
  },
  {
   "cell_type": "code",
   "execution_count": 2,
   "metadata": {
    "ExecuteTime": {
     "end_time": "2017-11-12T12:11:54.642737",
     "start_time": "2017-11-12T12:11:53.056468"
    },
    "slideshow": {
     "slide_type": "-"
    }
   },
   "outputs": [],
   "source": [
    "# Import the library\n",
    "import plotly as py"
   ]
  },
  {
   "cell_type": "code",
   "execution_count": 3,
   "metadata": {
    "ExecuteTime": {
     "end_time": "2017-11-12T12:12:07.576419",
     "start_time": "2017-11-12T12:12:07.573724"
    }
   },
   "outputs": [],
   "source": [
    "# Building blocks of Plotly plots\n",
    "import plotly.graph_objs as go"
   ]
  },
  {
   "cell_type": "code",
   "execution_count": 8,
   "metadata": {},
   "outputs": [],
   "source": [
    "# Constructing a figure\n",
    "import numpy as np\n",
    "x = np.linspace(0, 2*np.pi, 100)\n",
    "\n",
    "# Traces\n",
    "trace0 = dict(\n",
    "    type='scatter', \n",
    "    x=x, \n",
    "    y=np.sin(x)\n",
    ")\n",
    "trace1 = dict(\n",
    "    type='scatter', \n",
    "    x=x, \n",
    "    y=np.cos(x)\n",
    ")\n",
    "\n",
    "# Figure\n",
    "fig = go.Figure(data=[trace0, trace1]) "
   ]
  },
  {
   "cell_type": "code",
   "execution_count": 9,
   "metadata": {},
   "outputs": [
    {
     "data": {
      "application/vnd.plotly.v1+json": {
       "config": {
        "plotlyServerURL": "https://plot.ly"
       },
       "data": [
        {
         "type": "scatter",
         "visible": true,
         "x": [
          0,
          0.06346651825433926,
          0.12693303650867852,
          0.1903995547630178,
          0.25386607301735703,
          0.3173325912716963,
          0.3807991095260356,
          0.4442656277803748,
          0.5077321460347141,
          0.5711986642890533,
          0.6346651825433925,
          0.6981317007977318,
          0.7615982190520711,
          0.8250647373064104,
          0.8885312555607496,
          0.9519977738150889,
          1.0154642920694281,
          1.0789308103237674,
          1.1423973285781066,
          1.2058638468324459,
          1.269330365086785,
          1.3327968833411243,
          1.3962634015954636,
          1.4597299198498028,
          1.5231964381041423,
          1.5866629563584815,
          1.6501294746128208,
          1.71359599286716,
          1.7770625111214993,
          1.8405290293758385,
          1.9039955476301778,
          1.967462065884517,
          2.0309285841388562,
          2.0943951023931957,
          2.1578616206475347,
          2.221328138901874,
          2.284794657156213,
          2.3482611754105527,
          2.4117276936648917,
          2.475194211919231,
          2.53866073017357,
          2.6021272484279097,
          2.6655937666822487,
          2.729060284936588,
          2.792526803190927,
          2.8559933214452666,
          2.9194598396996057,
          2.982926357953945,
          3.0463928762082846,
          3.1098593944626236,
          3.173325912716963,
          3.236792430971302,
          3.3002589492256416,
          3.3637254674799806,
          3.42719198573432,
          3.490658503988659,
          3.5541250222429985,
          3.6175915404973376,
          3.681058058751677,
          3.744524577006016,
          3.8079910952603555,
          3.8714576135146945,
          3.934924131769034,
          3.998390650023373,
          4.0618571682777125,
          4.1253236865320515,
          4.188790204786391,
          4.25225672304073,
          4.3157232412950695,
          4.3791897595494085,
          4.442656277803748,
          4.506122796058087,
          4.569589314312426,
          4.6330558325667655,
          4.696522350821105,
          4.759988869075444,
          4.823455387329783,
          4.886921905584122,
          4.950388423838462,
          5.013854942092801,
          5.07732146034714,
          5.14078797860148,
          5.204254496855819,
          5.267721015110158,
          5.331187533364497,
          5.394654051618837,
          5.458120569873176,
          5.521587088127515,
          5.585053606381854,
          5.648520124636194,
          5.711986642890533,
          5.775453161144872,
          5.838919679399211,
          5.902386197653551,
          5.96585271590789,
          6.029319234162229,
          6.092785752416569,
          6.156252270670908,
          6.219718788925247,
          6.283185307179586
         ],
         "y": [
          0,
          0.0634239196565645,
          0.12659245357374926,
          0.18925124436041021,
          0.2511479871810792,
          0.3120334456984871,
          0.3716624556603276,
          0.42979491208917164,
          0.4861967361004687,
          0.5406408174555976,
          0.5929079290546404,
          0.6427876096865393,
          0.690079011482112,
          0.7345917086575333,
          0.7761464642917568,
          0.8145759520503357,
          0.8497254299495144,
          0.8814533634475821,
          0.9096319953545183,
          0.9341478602651067,
          0.9549022414440739,
          0.9718115683235417,
          0.984807753012208,
          0.9938384644612541,
          0.998867339183008,
          0.9998741276738751,
          0.9968547759519424,
          0.9898214418809327,
          0.9788024462147787,
          0.963842158559942,
          0.9450008187146685,
          0.9223542941045814,
          0.8959937742913359,
          0.8660254037844385,
          0.8325698546347714,
          0.795761840530832,
          0.7557495743542583,
          0.7126941713788627,
          0.6667690005162917,
          0.6181589862206051,
          0.5670598638627709,
          0.5136773915734063,
          0.4582265217274105,
          0.4009305354066136,
          0.3420201433256689,
          0.28173255684142967,
          0.2203105327865408,
          0.1580013959733499,
          0.09505604330418244,
          0.031727933498067656,
          -0.03172793349806786,
          -0.09505604330418263,
          -0.15800139597335008,
          -0.22031053278654056,
          -0.28173255684142984,
          -0.34202014332566866,
          -0.4009305354066138,
          -0.4582265217274103,
          -0.5136773915734064,
          -0.5670598638627706,
          -0.6181589862206053,
          -0.6667690005162915,
          -0.7126941713788629,
          -0.7557495743542582,
          -0.7957618405308321,
          -0.8325698546347713,
          -0.8660254037844388,
          -0.895993774291336,
          -0.9223542941045814,
          -0.9450008187146683,
          -0.9638421585599422,
          -0.9788024462147787,
          -0.9898214418809327,
          -0.9968547759519423,
          -0.9998741276738751,
          -0.998867339183008,
          -0.9938384644612541,
          -0.9848077530122081,
          -0.9718115683235417,
          -0.9549022414440739,
          -0.9341478602651068,
          -0.9096319953545182,
          -0.881453363447582,
          -0.8497254299495144,
          -0.8145759520503358,
          -0.7761464642917566,
          -0.7345917086575332,
          -0.690079011482112,
          -0.6427876096865396,
          -0.5929079290546402,
          -0.5406408174555974,
          -0.4861967361004688,
          -0.4297949120891719,
          -0.37166245566032724,
          -0.31203344569848707,
          -0.2511479871810794,
          -0.18925124436040974,
          -0.12659245357374904,
          -0.06342391965656452,
          -2.4492935982947064e-16
         ]
        },
        {
         "type": "scatter",
         "x": [
          0,
          0.06346651825433926,
          0.12693303650867852,
          0.1903995547630178,
          0.25386607301735703,
          0.3173325912716963,
          0.3807991095260356,
          0.4442656277803748,
          0.5077321460347141,
          0.5711986642890533,
          0.6346651825433925,
          0.6981317007977318,
          0.7615982190520711,
          0.8250647373064104,
          0.8885312555607496,
          0.9519977738150889,
          1.0154642920694281,
          1.0789308103237674,
          1.1423973285781066,
          1.2058638468324459,
          1.269330365086785,
          1.3327968833411243,
          1.3962634015954636,
          1.4597299198498028,
          1.5231964381041423,
          1.5866629563584815,
          1.6501294746128208,
          1.71359599286716,
          1.7770625111214993,
          1.8405290293758385,
          1.9039955476301778,
          1.967462065884517,
          2.0309285841388562,
          2.0943951023931957,
          2.1578616206475347,
          2.221328138901874,
          2.284794657156213,
          2.3482611754105527,
          2.4117276936648917,
          2.475194211919231,
          2.53866073017357,
          2.6021272484279097,
          2.6655937666822487,
          2.729060284936588,
          2.792526803190927,
          2.8559933214452666,
          2.9194598396996057,
          2.982926357953945,
          3.0463928762082846,
          3.1098593944626236,
          3.173325912716963,
          3.236792430971302,
          3.3002589492256416,
          3.3637254674799806,
          3.42719198573432,
          3.490658503988659,
          3.5541250222429985,
          3.6175915404973376,
          3.681058058751677,
          3.744524577006016,
          3.8079910952603555,
          3.8714576135146945,
          3.934924131769034,
          3.998390650023373,
          4.0618571682777125,
          4.1253236865320515,
          4.188790204786391,
          4.25225672304073,
          4.3157232412950695,
          4.3791897595494085,
          4.442656277803748,
          4.506122796058087,
          4.569589314312426,
          4.6330558325667655,
          4.696522350821105,
          4.759988869075444,
          4.823455387329783,
          4.886921905584122,
          4.950388423838462,
          5.013854942092801,
          5.07732146034714,
          5.14078797860148,
          5.204254496855819,
          5.267721015110158,
          5.331187533364497,
          5.394654051618837,
          5.458120569873176,
          5.521587088127515,
          5.585053606381854,
          5.648520124636194,
          5.711986642890533,
          5.775453161144872,
          5.838919679399211,
          5.902386197653551,
          5.96585271590789,
          6.029319234162229,
          6.092785752416569,
          6.156252270670908,
          6.219718788925247,
          6.283185307179586
         ],
         "y": [
          1,
          0.9979866764718844,
          0.9919548128307953,
          0.9819286972627067,
          0.9679487013963562,
          0.9500711177409454,
          0.9283679330160726,
          0.9029265382866212,
          0.8738493770697849,
          0.8412535328311812,
          0.8052702575310586,
          0.766044443118978,
          0.7237340381050701,
          0.6785094115571322,
          0.6305526670845225,
          0.5800569095711982,
          0.5272254676105024,
          0.4722710747726827,
          0.41541501300188644,
          0.3568862215918719,
          0.2969203753282749,
          0.23575893550942728,
          0.17364817766693041,
          0.1108381999010111,
          0.04758191582374218,
          -0.01586596383480803,
          -0.07924995685678854,
          -0.14231483827328523,
          -0.20480666806519074,
          -0.26647381369003503,
          -0.32706796331742166,
          -0.3863451256931287,
          -0.4440666126057741,
          -0.5000000000000002,
          -0.5539200638661103,
          -0.6056096871376668,
          -0.654860733945285,
          -0.7014748877063214,
          -0.7452644496757547,
          -0.7860530947427875,
          -0.8236765814298327,
          -0.8579834132349771,
          -0.8888354486549234,
          -0.9161084574320696,
          -0.9396926207859083,
          -0.9594929736144974,
          -0.975429786885407,
          -0.9874388886763943,
          -0.9954719225730846,
          -0.9994965423831851,
          -0.9994965423831851,
          -0.9954719225730846,
          -0.9874388886763943,
          -0.975429786885407,
          -0.9594929736144974,
          -0.9396926207859084,
          -0.9161084574320696,
          -0.8888354486549235,
          -0.857983413234977,
          -0.8236765814298328,
          -0.7860530947427874,
          -0.7452644496757548,
          -0.7014748877063213,
          -0.6548607339452852,
          -0.6056096871376666,
          -0.5539200638661105,
          -0.4999999999999996,
          -0.44406661260577396,
          -0.3863451256931287,
          -0.3270679633174219,
          -0.26647381369003464,
          -0.20480666806519054,
          -0.14231483827328523,
          -0.07924995685678879,
          -0.01586596383480761,
          0.04758191582374238,
          0.11083819990101086,
          0.17364817766692997,
          0.23575893550942748,
          0.2969203753282749,
          0.35688622159187167,
          0.4154150130018868,
          0.4722710747726829,
          0.5272254676105024,
          0.5800569095711979,
          0.6305526670845228,
          0.6785094115571323,
          0.7237340381050701,
          0.7660444431189778,
          0.8052702575310587,
          0.8412535328311812,
          0.8738493770697849,
          0.9029265382866211,
          0.9283679330160727,
          0.9500711177409454,
          0.9679487013963562,
          0.9819286972627068,
          0.9919548128307953,
          0.9979866764718844,
          1
         ]
        }
       ],
       "layout": {
        "autosize": true,
        "template": {
         "data": {
          "bar": [
           {
            "error_x": {
             "color": "#2a3f5f"
            },
            "error_y": {
             "color": "#2a3f5f"
            },
            "marker": {
             "line": {
              "color": "#E5ECF6",
              "width": 0.5
             },
             "pattern": {
              "fillmode": "overlay",
              "size": 10,
              "solidity": 0.2
             }
            },
            "type": "bar"
           }
          ],
          "barpolar": [
           {
            "marker": {
             "line": {
              "color": "#E5ECF6",
              "width": 0.5
             },
             "pattern": {
              "fillmode": "overlay",
              "size": 10,
              "solidity": 0.2
             }
            },
            "type": "barpolar"
           }
          ],
          "carpet": [
           {
            "aaxis": {
             "endlinecolor": "#2a3f5f",
             "gridcolor": "white",
             "linecolor": "white",
             "minorgridcolor": "white",
             "startlinecolor": "#2a3f5f"
            },
            "baxis": {
             "endlinecolor": "#2a3f5f",
             "gridcolor": "white",
             "linecolor": "white",
             "minorgridcolor": "white",
             "startlinecolor": "#2a3f5f"
            },
            "type": "carpet"
           }
          ],
          "choropleth": [
           {
            "colorbar": {
             "outlinewidth": 0,
             "ticks": ""
            },
            "type": "choropleth"
           }
          ],
          "contour": [
           {
            "colorbar": {
             "outlinewidth": 0,
             "ticks": ""
            },
            "colorscale": [
             [
              0,
              "#0d0887"
             ],
             [
              0.1111111111111111,
              "#46039f"
             ],
             [
              0.2222222222222222,
              "#7201a8"
             ],
             [
              0.3333333333333333,
              "#9c179e"
             ],
             [
              0.4444444444444444,
              "#bd3786"
             ],
             [
              0.5555555555555556,
              "#d8576b"
             ],
             [
              0.6666666666666666,
              "#ed7953"
             ],
             [
              0.7777777777777778,
              "#fb9f3a"
             ],
             [
              0.8888888888888888,
              "#fdca26"
             ],
             [
              1,
              "#f0f921"
             ]
            ],
            "type": "contour"
           }
          ],
          "contourcarpet": [
           {
            "colorbar": {
             "outlinewidth": 0,
             "ticks": ""
            },
            "type": "contourcarpet"
           }
          ],
          "heatmap": [
           {
            "colorbar": {
             "outlinewidth": 0,
             "ticks": ""
            },
            "colorscale": [
             [
              0,
              "#0d0887"
             ],
             [
              0.1111111111111111,
              "#46039f"
             ],
             [
              0.2222222222222222,
              "#7201a8"
             ],
             [
              0.3333333333333333,
              "#9c179e"
             ],
             [
              0.4444444444444444,
              "#bd3786"
             ],
             [
              0.5555555555555556,
              "#d8576b"
             ],
             [
              0.6666666666666666,
              "#ed7953"
             ],
             [
              0.7777777777777778,
              "#fb9f3a"
             ],
             [
              0.8888888888888888,
              "#fdca26"
             ],
             [
              1,
              "#f0f921"
             ]
            ],
            "type": "heatmap"
           }
          ],
          "heatmapgl": [
           {
            "colorbar": {
             "outlinewidth": 0,
             "ticks": ""
            },
            "colorscale": [
             [
              0,
              "#0d0887"
             ],
             [
              0.1111111111111111,
              "#46039f"
             ],
             [
              0.2222222222222222,
              "#7201a8"
             ],
             [
              0.3333333333333333,
              "#9c179e"
             ],
             [
              0.4444444444444444,
              "#bd3786"
             ],
             [
              0.5555555555555556,
              "#d8576b"
             ],
             [
              0.6666666666666666,
              "#ed7953"
             ],
             [
              0.7777777777777778,
              "#fb9f3a"
             ],
             [
              0.8888888888888888,
              "#fdca26"
             ],
             [
              1,
              "#f0f921"
             ]
            ],
            "type": "heatmapgl"
           }
          ],
          "histogram": [
           {
            "marker": {
             "pattern": {
              "fillmode": "overlay",
              "size": 10,
              "solidity": 0.2
             }
            },
            "type": "histogram"
           }
          ],
          "histogram2d": [
           {
            "colorbar": {
             "outlinewidth": 0,
             "ticks": ""
            },
            "colorscale": [
             [
              0,
              "#0d0887"
             ],
             [
              0.1111111111111111,
              "#46039f"
             ],
             [
              0.2222222222222222,
              "#7201a8"
             ],
             [
              0.3333333333333333,
              "#9c179e"
             ],
             [
              0.4444444444444444,
              "#bd3786"
             ],
             [
              0.5555555555555556,
              "#d8576b"
             ],
             [
              0.6666666666666666,
              "#ed7953"
             ],
             [
              0.7777777777777778,
              "#fb9f3a"
             ],
             [
              0.8888888888888888,
              "#fdca26"
             ],
             [
              1,
              "#f0f921"
             ]
            ],
            "type": "histogram2d"
           }
          ],
          "histogram2dcontour": [
           {
            "colorbar": {
             "outlinewidth": 0,
             "ticks": ""
            },
            "colorscale": [
             [
              0,
              "#0d0887"
             ],
             [
              0.1111111111111111,
              "#46039f"
             ],
             [
              0.2222222222222222,
              "#7201a8"
             ],
             [
              0.3333333333333333,
              "#9c179e"
             ],
             [
              0.4444444444444444,
              "#bd3786"
             ],
             [
              0.5555555555555556,
              "#d8576b"
             ],
             [
              0.6666666666666666,
              "#ed7953"
             ],
             [
              0.7777777777777778,
              "#fb9f3a"
             ],
             [
              0.8888888888888888,
              "#fdca26"
             ],
             [
              1,
              "#f0f921"
             ]
            ],
            "type": "histogram2dcontour"
           }
          ],
          "mesh3d": [
           {
            "colorbar": {
             "outlinewidth": 0,
             "ticks": ""
            },
            "type": "mesh3d"
           }
          ],
          "parcoords": [
           {
            "line": {
             "colorbar": {
              "outlinewidth": 0,
              "ticks": ""
             }
            },
            "type": "parcoords"
           }
          ],
          "pie": [
           {
            "automargin": true,
            "type": "pie"
           }
          ],
          "scatter": [
           {
            "fillpattern": {
             "fillmode": "overlay",
             "size": 10,
             "solidity": 0.2
            },
            "type": "scatter"
           }
          ],
          "scatter3d": [
           {
            "line": {
             "colorbar": {
              "outlinewidth": 0,
              "ticks": ""
             }
            },
            "marker": {
             "colorbar": {
              "outlinewidth": 0,
              "ticks": ""
             }
            },
            "type": "scatter3d"
           }
          ],
          "scattercarpet": [
           {
            "marker": {
             "colorbar": {
              "outlinewidth": 0,
              "ticks": ""
             }
            },
            "type": "scattercarpet"
           }
          ],
          "scattergeo": [
           {
            "marker": {
             "colorbar": {
              "outlinewidth": 0,
              "ticks": ""
             }
            },
            "type": "scattergeo"
           }
          ],
          "scattergl": [
           {
            "marker": {
             "colorbar": {
              "outlinewidth": 0,
              "ticks": ""
             }
            },
            "type": "scattergl"
           }
          ],
          "scattermapbox": [
           {
            "marker": {
             "colorbar": {
              "outlinewidth": 0,
              "ticks": ""
             }
            },
            "type": "scattermapbox"
           }
          ],
          "scatterpolar": [
           {
            "marker": {
             "colorbar": {
              "outlinewidth": 0,
              "ticks": ""
             }
            },
            "type": "scatterpolar"
           }
          ],
          "scatterpolargl": [
           {
            "marker": {
             "colorbar": {
              "outlinewidth": 0,
              "ticks": ""
             }
            },
            "type": "scatterpolargl"
           }
          ],
          "scatterternary": [
           {
            "marker": {
             "colorbar": {
              "outlinewidth": 0,
              "ticks": ""
             }
            },
            "type": "scatterternary"
           }
          ],
          "surface": [
           {
            "colorbar": {
             "outlinewidth": 0,
             "ticks": ""
            },
            "colorscale": [
             [
              0,
              "#0d0887"
             ],
             [
              0.1111111111111111,
              "#46039f"
             ],
             [
              0.2222222222222222,
              "#7201a8"
             ],
             [
              0.3333333333333333,
              "#9c179e"
             ],
             [
              0.4444444444444444,
              "#bd3786"
             ],
             [
              0.5555555555555556,
              "#d8576b"
             ],
             [
              0.6666666666666666,
              "#ed7953"
             ],
             [
              0.7777777777777778,
              "#fb9f3a"
             ],
             [
              0.8888888888888888,
              "#fdca26"
             ],
             [
              1,
              "#f0f921"
             ]
            ],
            "type": "surface"
           }
          ],
          "table": [
           {
            "cells": {
             "fill": {
              "color": "#EBF0F8"
             },
             "line": {
              "color": "white"
             }
            },
            "header": {
             "fill": {
              "color": "#C8D4E3"
             },
             "line": {
              "color": "white"
             }
            },
            "type": "table"
           }
          ]
         },
         "layout": {
          "annotationdefaults": {
           "arrowcolor": "#2a3f5f",
           "arrowhead": 0,
           "arrowwidth": 1
          },
          "autotypenumbers": "strict",
          "coloraxis": {
           "colorbar": {
            "outlinewidth": 0,
            "ticks": ""
           }
          },
          "colorscale": {
           "diverging": [
            [
             0,
             "#8e0152"
            ],
            [
             0.1,
             "#c51b7d"
            ],
            [
             0.2,
             "#de77ae"
            ],
            [
             0.3,
             "#f1b6da"
            ],
            [
             0.4,
             "#fde0ef"
            ],
            [
             0.5,
             "#f7f7f7"
            ],
            [
             0.6,
             "#e6f5d0"
            ],
            [
             0.7,
             "#b8e186"
            ],
            [
             0.8,
             "#7fbc41"
            ],
            [
             0.9,
             "#4d9221"
            ],
            [
             1,
             "#276419"
            ]
           ],
           "sequential": [
            [
             0,
             "#0d0887"
            ],
            [
             0.1111111111111111,
             "#46039f"
            ],
            [
             0.2222222222222222,
             "#7201a8"
            ],
            [
             0.3333333333333333,
             "#9c179e"
            ],
            [
             0.4444444444444444,
             "#bd3786"
            ],
            [
             0.5555555555555556,
             "#d8576b"
            ],
            [
             0.6666666666666666,
             "#ed7953"
            ],
            [
             0.7777777777777778,
             "#fb9f3a"
            ],
            [
             0.8888888888888888,
             "#fdca26"
            ],
            [
             1,
             "#f0f921"
            ]
           ],
           "sequentialminus": [
            [
             0,
             "#0d0887"
            ],
            [
             0.1111111111111111,
             "#46039f"
            ],
            [
             0.2222222222222222,
             "#7201a8"
            ],
            [
             0.3333333333333333,
             "#9c179e"
            ],
            [
             0.4444444444444444,
             "#bd3786"
            ],
            [
             0.5555555555555556,
             "#d8576b"
            ],
            [
             0.6666666666666666,
             "#ed7953"
            ],
            [
             0.7777777777777778,
             "#fb9f3a"
            ],
            [
             0.8888888888888888,
             "#fdca26"
            ],
            [
             1,
             "#f0f921"
            ]
           ]
          },
          "colorway": [
           "#636efa",
           "#EF553B",
           "#00cc96",
           "#ab63fa",
           "#FFA15A",
           "#19d3f3",
           "#FF6692",
           "#B6E880",
           "#FF97FF",
           "#FECB52"
          ],
          "font": {
           "color": "#2a3f5f"
          },
          "geo": {
           "bgcolor": "white",
           "lakecolor": "white",
           "landcolor": "#E5ECF6",
           "showlakes": true,
           "showland": true,
           "subunitcolor": "white"
          },
          "hoverlabel": {
           "align": "left"
          },
          "hovermode": "closest",
          "mapbox": {
           "style": "light"
          },
          "paper_bgcolor": "white",
          "plot_bgcolor": "#E5ECF6",
          "polar": {
           "angularaxis": {
            "gridcolor": "white",
            "linecolor": "white",
            "ticks": ""
           },
           "bgcolor": "#E5ECF6",
           "radialaxis": {
            "gridcolor": "white",
            "linecolor": "white",
            "ticks": ""
           }
          },
          "scene": {
           "xaxis": {
            "backgroundcolor": "#E5ECF6",
            "gridcolor": "white",
            "gridwidth": 2,
            "linecolor": "white",
            "showbackground": true,
            "ticks": "",
            "zerolinecolor": "white"
           },
           "yaxis": {
            "backgroundcolor": "#E5ECF6",
            "gridcolor": "white",
            "gridwidth": 2,
            "linecolor": "white",
            "showbackground": true,
            "ticks": "",
            "zerolinecolor": "white"
           },
           "zaxis": {
            "backgroundcolor": "#E5ECF6",
            "gridcolor": "white",
            "gridwidth": 2,
            "linecolor": "white",
            "showbackground": true,
            "ticks": "",
            "zerolinecolor": "white"
           }
          },
          "shapedefaults": {
           "line": {
            "color": "#2a3f5f"
           }
          },
          "ternary": {
           "aaxis": {
            "gridcolor": "white",
            "linecolor": "white",
            "ticks": ""
           },
           "baxis": {
            "gridcolor": "white",
            "linecolor": "white",
            "ticks": ""
           },
           "bgcolor": "#E5ECF6",
           "caxis": {
            "gridcolor": "white",
            "linecolor": "white",
            "ticks": ""
           }
          },
          "title": {
           "x": 0.05
          },
          "xaxis": {
           "automargin": true,
           "gridcolor": "white",
           "linecolor": "white",
           "ticks": "",
           "title": {
            "standoff": 15
           },
           "zerolinecolor": "white",
           "zerolinewidth": 2
          },
          "yaxis": {
           "automargin": true,
           "gridcolor": "white",
           "linecolor": "white",
           "ticks": "",
           "title": {
            "standoff": 15
           },
           "zerolinecolor": "white",
           "zerolinewidth": 2
          }
         }
        },
        "xaxis": {
         "autorange": true,
         "range": [
          0,
          6.283185307179586
         ],
         "type": "linear"
        },
        "yaxis": {
         "autorange": true,
         "range": [
          -1.1109782458779793,
          1.1111041182041042
         ],
         "type": "linear"
        }
       }
      },
      "image/png": "[encoded data removed]",
      "text/html": [
       "<div>                            <div id=\"93e00204-5d3b-4cff-a406-7ecbdf35ee4b\" class=\"plotly-graph-div\" style=\"height:525px; width:100%;\"></div>            <script type=\"text/javascript\">                require([\"plotly\"], function(Plotly) {                    window.PLOTLYENV=window.PLOTLYENV || {};                                    if (document.getElementById(\"93e00204-5d3b-4cff-a406-7ecbdf35ee4b\")) {                    Plotly.newPlot(                        \"93e00204-5d3b-4cff-a406-7ecbdf35ee4b\",                        [{\"x\":[0.0,0.06346651825433926,0.12693303650867852,0.1903995547630178,0.25386607301735703,0.3173325912716963,0.3807991095260356,0.4442656277803748,0.5077321460347141,0.5711986642890533,0.6346651825433925,0.6981317007977318,0.7615982190520711,0.8250647373064104,0.8885312555607496,0.9519977738150889,1.0154642920694281,1.0789308103237674,1.1423973285781066,1.2058638468324459,1.269330365086785,1.3327968833411243,1.3962634015954636,1.4597299198498028,1.5231964381041423,1.5866629563584815,1.6501294746128208,1.71359599286716,1.7770625111214993,1.8405290293758385,1.9039955476301778,1.967462065884517,2.0309285841388562,2.0943951023931957,2.1578616206475347,2.221328138901874,2.284794657156213,2.3482611754105527,2.4117276936648917,2.475194211919231,2.53866073017357,2.6021272484279097,2.6655937666822487,2.729060284936588,2.792526803190927,2.8559933214452666,2.9194598396996057,2.982926357953945,3.0463928762082846,3.1098593944626236,3.173325912716963,3.236792430971302,3.3002589492256416,3.3637254674799806,3.42719198573432,3.490658503988659,3.5541250222429985,3.6175915404973376,3.681058058751677,3.744524577006016,3.8079910952603555,3.8714576135146945,3.934924131769034,3.998390650023373,4.0618571682777125,4.1253236865320515,4.188790204786391,4.25225672304073,4.3157232412950695,4.3791897595494085,4.442656277803748,4.506122796058087,4.569589314312426,4.6330558325667655,4.696522350821105,4.759988869075444,4.823455387329783,4.886921905584122,4.950388423838462,5.013854942092801,5.07732146034714,5.14078797860148,5.204254496855819,5.267721015110158,5.331187533364497,5.394654051618837,5.458120569873176,5.521587088127515,5.585053606381854,5.648520124636194,5.711986642890533,5.775453161144872,5.838919679399211,5.902386197653551,5.96585271590789,6.029319234162229,6.092785752416569,6.156252270670908,6.219718788925247,6.283185307179586],\"y\":[0.0,0.0634239196565645,0.12659245357374926,0.18925124436041021,0.2511479871810792,0.3120334456984871,0.3716624556603276,0.42979491208917164,0.4861967361004687,0.5406408174555976,0.5929079290546404,0.6427876096865393,0.690079011482112,0.7345917086575333,0.7761464642917568,0.8145759520503357,0.8497254299495144,0.8814533634475821,0.9096319953545183,0.9341478602651067,0.9549022414440739,0.9718115683235417,0.984807753012208,0.9938384644612541,0.998867339183008,0.9998741276738751,0.9968547759519424,0.9898214418809327,0.9788024462147787,0.963842158559942,0.9450008187146685,0.9223542941045814,0.8959937742913359,0.8660254037844385,0.8325698546347714,0.795761840530832,0.7557495743542583,0.7126941713788627,0.6667690005162917,0.6181589862206051,0.5670598638627709,0.5136773915734063,0.4582265217274105,0.4009305354066136,0.3420201433256689,0.28173255684142967,0.2203105327865408,0.1580013959733499,0.09505604330418244,0.031727933498067656,-0.03172793349806786,-0.09505604330418263,-0.15800139597335008,-0.22031053278654056,-0.28173255684142984,-0.34202014332566866,-0.4009305354066138,-0.4582265217274103,-0.5136773915734064,-0.5670598638627706,-0.6181589862206053,-0.6667690005162915,-0.7126941713788629,-0.7557495743542582,-0.7957618405308321,-0.8325698546347713,-0.8660254037844388,-0.895993774291336,-0.9223542941045814,-0.9450008187146683,-0.9638421585599422,-0.9788024462147787,-0.9898214418809327,-0.9968547759519423,-0.9998741276738751,-0.998867339183008,-0.9938384644612541,-0.9848077530122081,-0.9718115683235417,-0.9549022414440739,-0.9341478602651068,-0.9096319953545182,-0.881453363447582,-0.8497254299495144,-0.8145759520503358,-0.7761464642917566,-0.7345917086575332,-0.690079011482112,-0.6427876096865396,-0.5929079290546402,-0.5406408174555974,-0.4861967361004688,-0.4297949120891719,-0.37166245566032724,-0.31203344569848707,-0.2511479871810794,-0.18925124436040974,-0.12659245357374904,-0.06342391965656452,-2.4492935982947064e-16],\"type\":\"scatter\"},{\"x\":[0.0,0.06346651825433926,0.12693303650867852,0.1903995547630178,0.25386607301735703,0.3173325912716963,0.3807991095260356,0.4442656277803748,0.5077321460347141,0.5711986642890533,0.6346651825433925,0.6981317007977318,0.7615982190520711,0.8250647373064104,0.8885312555607496,0.9519977738150889,1.0154642920694281,1.0789308103237674,1.1423973285781066,1.2058638468324459,1.269330365086785,1.3327968833411243,1.3962634015954636,1.4597299198498028,1.5231964381041423,1.5866629563584815,1.6501294746128208,1.71359599286716,1.7770625111214993,1.8405290293758385,1.9039955476301778,1.967462065884517,2.0309285841388562,2.0943951023931957,2.1578616206475347,2.221328138901874,2.284794657156213,2.3482611754105527,2.4117276936648917,2.475194211919231,2.53866073017357,2.6021272484279097,2.6655937666822487,2.729060284936588,2.792526803190927,2.8559933214452666,2.9194598396996057,2.982926357953945,3.0463928762082846,3.1098593944626236,3.173325912716963,3.236792430971302,3.3002589492256416,3.3637254674799806,3.42719198573432,3.490658503988659,3.5541250222429985,3.6175915404973376,3.681058058751677,3.744524577006016,3.8079910952603555,3.8714576135146945,3.934924131769034,3.998390650023373,4.0618571682777125,4.1253236865320515,4.188790204786391,4.25225672304073,4.3157232412950695,4.3791897595494085,4.442656277803748,4.506122796058087,4.569589314312426,4.6330558325667655,4.696522350821105,4.759988869075444,4.823455387329783,4.886921905584122,4.950388423838462,5.013854942092801,5.07732146034714,5.14078797860148,5.204254496855819,5.267721015110158,5.331187533364497,5.394654051618837,5.458120569873176,5.521587088127515,5.585053606381854,5.648520124636194,5.711986642890533,5.775453161144872,5.838919679399211,5.902386197653551,5.96585271590789,6.029319234162229,6.092785752416569,6.156252270670908,6.219718788925247,6.283185307179586],\"y\":[1.0,0.9979866764718844,0.9919548128307953,0.9819286972627067,0.9679487013963562,0.9500711177409454,0.9283679330160726,0.9029265382866212,0.8738493770697849,0.8412535328311812,0.8052702575310586,0.766044443118978,0.7237340381050701,0.6785094115571322,0.6305526670845225,0.5800569095711982,0.5272254676105024,0.4722710747726827,0.41541501300188644,0.3568862215918719,0.2969203753282749,0.23575893550942728,0.17364817766693041,0.1108381999010111,0.04758191582374218,-0.01586596383480803,-0.07924995685678854,-0.14231483827328523,-0.20480666806519074,-0.26647381369003503,-0.32706796331742166,-0.3863451256931287,-0.4440666126057741,-0.5000000000000002,-0.5539200638661103,-0.6056096871376668,-0.654860733945285,-0.7014748877063214,-0.7452644496757547,-0.7860530947427875,-0.8236765814298327,-0.8579834132349771,-0.8888354486549234,-0.9161084574320696,-0.9396926207859083,-0.9594929736144974,-0.975429786885407,-0.9874388886763943,-0.9954719225730846,-0.9994965423831851,-0.9994965423831851,-0.9954719225730846,-0.9874388886763943,-0.975429786885407,-0.9594929736144974,-0.9396926207859084,-0.9161084574320696,-0.8888354486549235,-0.857983413234977,-0.8236765814298328,-0.7860530947427874,-0.7452644496757548,-0.7014748877063213,-0.6548607339452852,-0.6056096871376666,-0.5539200638661105,-0.4999999999999996,-0.44406661260577396,-0.3863451256931287,-0.3270679633174219,-0.26647381369003464,-0.20480666806519054,-0.14231483827328523,-0.07924995685678879,-0.01586596383480761,0.04758191582374238,0.11083819990101086,0.17364817766692997,0.23575893550942748,0.2969203753282749,0.35688622159187167,0.4154150130018868,0.4722710747726829,0.5272254676105024,0.5800569095711979,0.6305526670845228,0.6785094115571323,0.7237340381050701,0.7660444431189778,0.8052702575310587,0.8412535328311812,0.8738493770697849,0.9029265382866211,0.9283679330160727,0.9500711177409454,0.9679487013963562,0.9819286972627068,0.9919548128307953,0.9979866764718844,1.0],\"type\":\"scatter\"}],                        {\"template\":{\"data\":{\"histogram2dcontour\":[{\"type\":\"histogram2dcontour\",\"colorbar\":{\"outlinewidth\":0,\"ticks\":\"\"},\"colorscale\":[[0.0,\"#0d0887\"],[0.1111111111111111,\"#46039f\"],[0.2222222222222222,\"#7201a8\"],[0.3333333333333333,\"#9c179e\"],[0.4444444444444444,\"#bd3786\"],[0.5555555555555556,\"#d8576b\"],[0.6666666666666666,\"#ed7953\"],[0.7777777777777778,\"#fb9f3a\"],[0.8888888888888888,\"#fdca26\"],[1.0,\"#f0f921\"]]}],\"choropleth\":[{\"type\":\"choropleth\",\"colorbar\":{\"outlinewidth\":0,\"ticks\":\"\"}}],\"histogram2d\":[{\"type\":\"histogram2d\",\"colorbar\":{\"outlinewidth\":0,\"ticks\":\"\"},\"colorscale\":[[0.0,\"#0d0887\"],[0.1111111111111111,\"#46039f\"],[0.2222222222222222,\"#7201a8\"],[0.3333333333333333,\"#9c179e\"],[0.4444444444444444,\"#bd3786\"],[0.5555555555555556,\"#d8576b\"],[0.6666666666666666,\"#ed7953\"],[0.7777777777777778,\"#fb9f3a\"],[0.8888888888888888,\"#fdca26\"],[1.0,\"#f0f921\"]]}],\"heatmap\":[{\"type\":\"heatmap\",\"colorbar\":{\"outlinewidth\":0,\"ticks\":\"\"},\"colorscale\":[[0.0,\"#0d0887\"],[0.1111111111111111,\"#46039f\"],[0.2222222222222222,\"#7201a8\"],[0.3333333333333333,\"#9c179e\"],[0.4444444444444444,\"#bd3786\"],[0.5555555555555556,\"#d8576b\"],[0.6666666666666666,\"#ed7953\"],[0.7777777777777778,\"#fb9f3a\"],[0.8888888888888888,\"#fdca26\"],[1.0,\"#f0f921\"]]}],\"heatmapgl\":[{\"type\":\"heatmapgl\",\"colorbar\":{\"outlinewidth\":0,\"ticks\":\"\"},\"colorscale\":[[0.0,\"#0d0887\"],[0.1111111111111111,\"#46039f\"],[0.2222222222222222,\"#7201a8\"],[0.3333333333333333,\"#9c179e\"],[0.4444444444444444,\"#bd3786\"],[0.5555555555555556,\"#d8576b\"],[0.6666666666666666,\"#ed7953\"],[0.7777777777777778,\"#fb9f3a\"],[0.8888888888888888,\"#fdca26\"],[1.0,\"#f0f921\"]]}],\"contourcarpet\":[{\"type\":\"contourcarpet\",\"colorbar\":{\"outlinewidth\":0,\"ticks\":\"\"}}],\"contour\":[{\"type\":\"contour\",\"colorbar\":{\"outlinewidth\":0,\"ticks\":\"\"},\"colorscale\":[[0.0,\"#0d0887\"],[0.1111111111111111,\"#46039f\"],[0.2222222222222222,\"#7201a8\"],[0.3333333333333333,\"#9c179e\"],[0.4444444444444444,\"#bd3786\"],[0.5555555555555556,\"#d8576b\"],[0.6666666666666666,\"#ed7953\"],[0.7777777777777778,\"#fb9f3a\"],[0.8888888888888888,\"#fdca26\"],[1.0,\"#f0f921\"]]}],\"surface\":[{\"type\":\"surface\",\"colorbar\":{\"outlinewidth\":0,\"ticks\":\"\"},\"colorscale\":[[0.0,\"#0d0887\"],[0.1111111111111111,\"#46039f\"],[0.2222222222222222,\"#7201a8\"],[0.3333333333333333,\"#9c179e\"],[0.4444444444444444,\"#bd3786\"],[0.5555555555555556,\"#d8576b\"],[0.6666666666666666,\"#ed7953\"],[0.7777777777777778,\"#fb9f3a\"],[0.8888888888888888,\"#fdca26\"],[1.0,\"#f0f921\"]]}],\"mesh3d\":[{\"type\":\"mesh3d\",\"colorbar\":{\"outlinewidth\":0,\"ticks\":\"\"}}],\"scatter\":[{\"fillpattern\":{\"fillmode\":\"overlay\",\"size\":10,\"solidity\":0.2},\"type\":\"scatter\"}],\"parcoords\":[{\"type\":\"parcoords\",\"line\":{\"colorbar\":{\"outlinewidth\":0,\"ticks\":\"\"}}}],\"scatterpolargl\":[{\"type\":\"scatterpolargl\",\"marker\":{\"colorbar\":{\"outlinewidth\":0,\"ticks\":\"\"}}}],\"bar\":[{\"error_x\":{\"color\":\"#2a3f5f\"},\"error_y\":{\"color\":\"#2a3f5f\"},\"marker\":{\"line\":{\"color\":\"#E5ECF6\",\"width\":0.5},\"pattern\":{\"fillmode\":\"overlay\",\"size\":10,\"solidity\":0.2}},\"type\":\"bar\"}],\"scattergeo\":[{\"type\":\"scattergeo\",\"marker\":{\"colorbar\":{\"outlinewidth\":0,\"ticks\":\"\"}}}],\"scatterpolar\":[{\"type\":\"scatterpolar\",\"marker\":{\"colorbar\":{\"outlinewidth\":0,\"ticks\":\"\"}}}],\"histogram\":[{\"marker\":{\"pattern\":{\"fillmode\":\"overlay\",\"size\":10,\"solidity\":0.2}},\"type\":\"histogram\"}],\"scattergl\":[{\"type\":\"scattergl\",\"marker\":{\"colorbar\":{\"outlinewidth\":0,\"ticks\":\"\"}}}],\"scatter3d\":[{\"type\":\"scatter3d\",\"line\":{\"colorbar\":{\"outlinewidth\":0,\"ticks\":\"\"}},\"marker\":{\"colorbar\":{\"outlinewidth\":0,\"ticks\":\"\"}}}],\"scattermapbox\":[{\"type\":\"scattermapbox\",\"marker\":{\"colorbar\":{\"outlinewidth\":0,\"ticks\":\"\"}}}],\"scatterternary\":[{\"type\":\"scatterternary\",\"marker\":{\"colorbar\":{\"outlinewidth\":0,\"ticks\":\"\"}}}],\"scattercarpet\":[{\"type\":\"scattercarpet\",\"marker\":{\"colorbar\":{\"outlinewidth\":0,\"ticks\":\"\"}}}],\"carpet\":[{\"aaxis\":{\"endlinecolor\":\"#2a3f5f\",\"gridcolor\":\"white\",\"linecolor\":\"white\",\"minorgridcolor\":\"white\",\"startlinecolor\":\"#2a3f5f\"},\"baxis\":{\"endlinecolor\":\"#2a3f5f\",\"gridcolor\":\"white\",\"linecolor\":\"white\",\"minorgridcolor\":\"white\",\"startlinecolor\":\"#2a3f5f\"},\"type\":\"carpet\"}],\"table\":[{\"cells\":{\"fill\":{\"color\":\"#EBF0F8\"},\"line\":{\"color\":\"white\"}},\"header\":{\"fill\":{\"color\":\"#C8D4E3\"},\"line\":{\"color\":\"white\"}},\"type\":\"table\"}],\"barpolar\":[{\"marker\":{\"line\":{\"color\":\"#E5ECF6\",\"width\":0.5},\"pattern\":{\"fillmode\":\"overlay\",\"size\":10,\"solidity\":0.2}},\"type\":\"barpolar\"}],\"pie\":[{\"automargin\":true,\"type\":\"pie\"}]},\"layout\":{\"autotypenumbers\":\"strict\",\"colorway\":[\"#636efa\",\"#EF553B\",\"#00cc96\",\"#ab63fa\",\"#FFA15A\",\"#19d3f3\",\"#FF6692\",\"#B6E880\",\"#FF97FF\",\"#FECB52\"],\"font\":{\"color\":\"#2a3f5f\"},\"hovermode\":\"closest\",\"hoverlabel\":{\"align\":\"left\"},\"paper_bgcolor\":\"white\",\"plot_bgcolor\":\"#E5ECF6\",\"polar\":{\"bgcolor\":\"#E5ECF6\",\"angularaxis\":{\"gridcolor\":\"white\",\"linecolor\":\"white\",\"ticks\":\"\"},\"radialaxis\":{\"gridcolor\":\"white\",\"linecolor\":\"white\",\"ticks\":\"\"}},\"ternary\":{\"bgcolor\":\"#E5ECF6\",\"aaxis\":{\"gridcolor\":\"white\",\"linecolor\":\"white\",\"ticks\":\"\"},\"baxis\":{\"gridcolor\":\"white\",\"linecolor\":\"white\",\"ticks\":\"\"},\"caxis\":{\"gridcolor\":\"white\",\"linecolor\":\"white\",\"ticks\":\"\"}},\"coloraxis\":{\"colorbar\":{\"outlinewidth\":0,\"ticks\":\"\"}},\"colorscale\":{\"sequential\":[[0.0,\"#0d0887\"],[0.1111111111111111,\"#46039f\"],[0.2222222222222222,\"#7201a8\"],[0.3333333333333333,\"#9c179e\"],[0.4444444444444444,\"#bd3786\"],[0.5555555555555556,\"#d8576b\"],[0.6666666666666666,\"#ed7953\"],[0.7777777777777778,\"#fb9f3a\"],[0.8888888888888888,\"#fdca26\"],[1.0,\"#f0f921\"]],\"sequentialminus\":[[0.0,\"#0d0887\"],[0.1111111111111111,\"#46039f\"],[0.2222222222222222,\"#7201a8\"],[0.3333333333333333,\"#9c179e\"],[0.4444444444444444,\"#bd3786\"],[0.5555555555555556,\"#d8576b\"],[0.6666666666666666,\"#ed7953\"],[0.7777777777777778,\"#fb9f3a\"],[0.8888888888888888,\"#fdca26\"],[1.0,\"#f0f921\"]],\"diverging\":[[0,\"#8e0152\"],[0.1,\"#c51b7d\"],[0.2,\"#de77ae\"],[0.3,\"#f1b6da\"],[0.4,\"#fde0ef\"],[0.5,\"#f7f7f7\"],[0.6,\"#e6f5d0\"],[0.7,\"#b8e186\"],[0.8,\"#7fbc41\"],[0.9,\"#4d9221\"],[1,\"#276419\"]]},\"xaxis\":{\"gridcolor\":\"white\",\"linecolor\":\"white\",\"ticks\":\"\",\"title\":{\"standoff\":15},\"zerolinecolor\":\"white\",\"automargin\":true,\"zerolinewidth\":2},\"yaxis\":{\"gridcolor\":\"white\",\"linecolor\":\"white\",\"ticks\":\"\",\"title\":{\"standoff\":15},\"zerolinecolor\":\"white\",\"automargin\":true,\"zerolinewidth\":2},\"scene\":{\"xaxis\":{\"backgroundcolor\":\"#E5ECF6\",\"gridcolor\":\"white\",\"linecolor\":\"white\",\"showbackground\":true,\"ticks\":\"\",\"zerolinecolor\":\"white\",\"gridwidth\":2},\"yaxis\":{\"backgroundcolor\":\"#E5ECF6\",\"gridcolor\":\"white\",\"linecolor\":\"white\",\"showbackground\":true,\"ticks\":\"\",\"zerolinecolor\":\"white\",\"gridwidth\":2},\"zaxis\":{\"backgroundcolor\":\"#E5ECF6\",\"gridcolor\":\"white\",\"linecolor\":\"white\",\"showbackground\":true,\"ticks\":\"\",\"zerolinecolor\":\"white\",\"gridwidth\":2}},\"shapedefaults\":{\"line\":{\"color\":\"#2a3f5f\"}},\"annotationdefaults\":{\"arrowcolor\":\"#2a3f5f\",\"arrowhead\":0,\"arrowwidth\":1},\"geo\":{\"bgcolor\":\"white\",\"landcolor\":\"#E5ECF6\",\"subunitcolor\":\"white\",\"showland\":true,\"showlakes\":true,\"lakecolor\":\"white\"},\"title\":{\"x\":0.05},\"mapbox\":{\"style\":\"light\"}}}},                        {\"responsive\": true}                    ).then(function(){\n",
       "                            \n",
       "var gd = document.getElementById('93e00204-5d3b-4cff-a406-7ecbdf35ee4b');\n",
       "var x = new MutationObserver(function (mutations, observer) {{\n",
       "        var display = window.getComputedStyle(gd).display;\n",
       "        if (!display || display === 'none') {{\n",
       "            console.log([gd, 'removed!']);\n",
       "            Plotly.purge(gd);\n",
       "            observer.disconnect();\n",
       "        }}\n",
       "}});\n",
       "\n",
       "// Listen for the removal of the full notebook cells\n",
       "var notebookContainer = gd.closest('#notebook-container');\n",
       "if (notebookContainer) {{\n",
       "    x.observe(notebookContainer, {childList: true});\n",
       "}}\n",
       "\n",
       "// Listen for the clearing of the current output cell\n",
       "var outputEl = gd.closest('.output');\n",
       "if (outputEl) {{\n",
       "    x.observe(outputEl, {childList: true});\n",
       "}}\n",
       "\n",
       "                        })                };                });            </script>        </div>"
      ]
     },
     "metadata": {},
     "output_type": "display_data"
    }
   ],
   "source": [
    "# Display the result within the notebook:\n",
    "fig.show()"
   ]
  },
  {
   "cell_type": "code",
   "execution_count": 35,
   "metadata": {
    "ExecuteTime": {
     "end_time": "2017-11-13T22:24:57.042999",
     "start_time": "2017-11-13T22:24:56.957339"
    }
   },
   "outputs": [],
   "source": [
    "# and now with a Layout\n",
    "x = np.linspace(0, 2*np.pi)\n",
    "\n",
    "# Traces\n",
    "trace0 = dict(\n",
    "    type='scatter', \n",
    "    x=x, \n",
    "    y=np.sin(x), \n",
    "    name='sin(x)',\n",
    "    mode='markers',\n",
    "    marker=dict(color='green'),\n",
    ")\n",
    "trace1 = dict(\n",
    "    type='scatter', \n",
    "    x=x, \n",
    "    y=np.cos(x), \n",
    "    name='cos(x)',\n",
    "    mode='lines',\n",
    "    line=dict(color='black')\n",
    ")\n",
    "\n",
    "# Layout\n",
    "layout = dict(\n",
    "    title='SIN and COS functions',\n",
    "    xaxis=dict(title='x'),\n",
    "    yaxis=dict(title='f(x)')\n",
    ")\n",
    "\n",
    "# Figure\n",
    "fig = go.Figure(data=[trace0, trace1], layout=layout) "
   ]
  },
  {
   "cell_type": "code",
   "execution_count": 36,
   "metadata": {
    "ExecuteTime": {
     "end_time": "2017-11-13T22:24:57.789203",
     "start_time": "2017-11-13T22:24:57.758932"
    }
   },
   "outputs": [
    {
     "data": {
      "application/vnd.plotly.v1+json": {
       "config": {
        "plotlyServerURL": "https://plot.ly"
       },
       "data": [
        {
         "marker": {
          "color": "green"
         },
         "mode": "markers",
         "name": "sin(x)",
         "type": "scatter",
         "x": [
          0,
          0.1282282715750936,
          0.2564565431501872,
          0.38468481472528077,
          0.5129130863003744,
          0.6411413578754679,
          0.7693696294505615,
          0.8975979010256552,
          1.0258261726007487,
          1.1540544441758422,
          1.2822827157509358,
          1.4105109873260295,
          1.538739258901123,
          1.6669675304762166,
          1.7951958020513104,
          1.9234240736264039,
          2.0516523452014974,
          2.179880616776591,
          2.3081088883516845,
          2.436337159926778,
          2.5645654315018716,
          2.6927937030769655,
          2.821021974652059,
          2.9492502462271526,
          3.077478517802246,
          3.2057067893773397,
          3.333935060952433,
          3.4621633325275267,
          3.5903916041026207,
          3.7186198756777142,
          3.8468481472528078,
          3.9750764188279013,
          4.103304690402995,
          4.231532961978089,
          4.359761233553182,
          4.487989505128276,
          4.616217776703369,
          4.744446048278463,
          4.872674319853556,
          5.00090259142865,
          5.129130863003743,
          5.257359134578837,
          5.385587406153931,
          5.513815677729024,
          5.642043949304118,
          5.770272220879211,
          5.898500492454305,
          6.026728764029398,
          6.154957035604492,
          6.283185307179586
         ],
         "y": [
          0,
          0.127877161684506,
          0.25365458390950735,
          0.3752670048793741,
          0.49071755200393785,
          0.5981105304912159,
          0.6956825506034864,
          0.7818314824680298,
          0.8551427630053461,
          0.9144126230158124,
          0.9586678530366606,
          0.9871817834144501,
          0.9994862162006879,
          0.9953791129491982,
          0.9749279121818236,
          0.9384684220497604,
          0.8865993063730001,
          0.8201722545969561,
          0.7402779970753157,
          0.6482283953077888,
          0.545534901210549,
          0.43388373911755823,
          0.3151082180236209,
          0.19115862870137254,
          0.06407021998071323,
          -0.06407021998071255,
          -0.19115862870137187,
          -0.3151082180236202,
          -0.433883739117558,
          -0.5455349012105485,
          -0.6482283953077882,
          -0.7402779970753153,
          -0.8201722545969556,
          -0.886599306373,
          -0.9384684220497602,
          -0.9749279121818236,
          -0.9953791129491981,
          -0.9994862162006879,
          -0.9871817834144503,
          -0.9586678530366608,
          -0.9144126230158128,
          -0.8551427630053464,
          -0.7818314824680299,
          -0.6956825506034869,
          -0.5981105304912162,
          -0.49071755200393863,
          -0.3752670048793746,
          -0.25365458390950835,
          -0.12787716168450664,
          -2.4492935982947064e-16
         ]
        },
        {
         "line": {
          "color": "black"
         },
         "mode": "lines",
         "name": "cos(x)",
         "type": "scatter",
         "x": [
          0,
          0.1282282715750936,
          0.2564565431501872,
          0.38468481472528077,
          0.5129130863003744,
          0.6411413578754679,
          0.7693696294505615,
          0.8975979010256552,
          1.0258261726007487,
          1.1540544441758422,
          1.2822827157509358,
          1.4105109873260295,
          1.538739258901123,
          1.6669675304762166,
          1.7951958020513104,
          1.9234240736264039,
          2.0516523452014974,
          2.179880616776591,
          2.3081088883516845,
          2.436337159926778,
          2.5645654315018716,
          2.6927937030769655,
          2.821021974652059,
          2.9492502462271526,
          3.077478517802246,
          3.2057067893773397,
          3.333935060952433,
          3.4621633325275267,
          3.5903916041026207,
          3.7186198756777142,
          3.8468481472528078,
          3.9750764188279013,
          4.103304690402995,
          4.231532961978089,
          4.359761233553182,
          4.487989505128276,
          4.616217776703369,
          4.744446048278463,
          4.872674319853556,
          5.00090259142865,
          5.129130863003743,
          5.257359134578837,
          5.385587406153931,
          5.513815677729024,
          5.642043949304118,
          5.770272220879211,
          5.898500492454305,
          6.026728764029398,
          6.154957035604492,
          6.283185307179586
         ],
         "y": [
          1,
          0.9917900138232462,
          0.9672948630390295,
          0.9269167573460217,
          0.8713187041233894,
          0.8014136218679567,
          0.7183493500977276,
          0.6234898018587336,
          0.5183925683105252,
          0.404783343122394,
          0.28452758663103267,
          0.15959989503337932,
          0.03205157757165533,
          -0.09602302590768154,
          -0.22252093395631434,
          -0.3453650544213075,
          -0.4625382902408351,
          -0.5721166601221694,
          -0.6723008902613166,
          -0.7614459583691342,
          -0.8380881048918404,
          -0.900968867902419,
          -0.9490557470106686,
          -0.9815591569910653,
          -0.9979453927503363,
          -0.9979453927503363,
          -0.9815591569910654,
          -0.9490557470106689,
          -0.9009688679024191,
          -0.8380881048918408,
          -0.7614459583691346,
          -0.672300890261317,
          -0.57211666012217,
          -0.4625382902408353,
          -0.34536505442130816,
          -0.2225209339563146,
          -0.09602302590768244,
          0.03205157757165486,
          0.1595998950333784,
          0.284527586631032,
          0.40478334312239295,
          0.5183925683105245,
          0.6234898018587334,
          0.718349350097727,
          0.8014136218679565,
          0.871318704123389,
          0.9269167573460216,
          0.9672948630390291,
          0.991790013823246,
          1
         ]
        }
       ],
       "layout": {
        "autosize": true,
        "template": {
         "data": {
          "bar": [
           {
            "error_x": {
             "color": "#2a3f5f"
            },
            "error_y": {
             "color": "#2a3f5f"
            },
            "marker": {
             "line": {
              "color": "#E5ECF6",
              "width": 0.5
             },
             "pattern": {
              "fillmode": "overlay",
              "size": 10,
              "solidity": 0.2
             }
            },
            "type": "bar"
           }
          ],
          "barpolar": [
           {
            "marker": {
             "line": {
              "color": "#E5ECF6",
              "width": 0.5
             },
             "pattern": {
              "fillmode": "overlay",
              "size": 10,
              "solidity": 0.2
             }
            },
            "type": "barpolar"
           }
          ],
          "carpet": [
           {
            "aaxis": {
             "endlinecolor": "#2a3f5f",
             "gridcolor": "white",
             "linecolor": "white",
             "minorgridcolor": "white",
             "startlinecolor": "#2a3f5f"
            },
            "baxis": {
             "endlinecolor": "#2a3f5f",
             "gridcolor": "white",
             "linecolor": "white",
             "minorgridcolor": "white",
             "startlinecolor": "#2a3f5f"
            },
            "type": "carpet"
           }
          ],
          "choropleth": [
           {
            "colorbar": {
             "outlinewidth": 0,
             "ticks": ""
            },
            "type": "choropleth"
           }
          ],
          "contour": [
           {
            "colorbar": {
             "outlinewidth": 0,
             "ticks": ""
            },
            "colorscale": [
             [
              0,
              "#0d0887"
             ],
             [
              0.1111111111111111,
              "#46039f"
             ],
             [
              0.2222222222222222,
              "#7201a8"
             ],
             [
              0.3333333333333333,
              "#9c179e"
             ],
             [
              0.4444444444444444,
              "#bd3786"
             ],
             [
              0.5555555555555556,
              "#d8576b"
             ],
             [
              0.6666666666666666,
              "#ed7953"
             ],
             [
              0.7777777777777778,
              "#fb9f3a"
             ],
             [
              0.8888888888888888,
              "#fdca26"
             ],
             [
              1,
              "#f0f921"
             ]
            ],
            "type": "contour"
           }
          ],
          "contourcarpet": [
           {
            "colorbar": {
             "outlinewidth": 0,
             "ticks": ""
            },
            "type": "contourcarpet"
           }
          ],
          "heatmap": [
           {
            "colorbar": {
             "outlinewidth": 0,
             "ticks": ""
            },
            "colorscale": [
             [
              0,
              "#0d0887"
             ],
             [
              0.1111111111111111,
              "#46039f"
             ],
             [
              0.2222222222222222,
              "#7201a8"
             ],
             [
              0.3333333333333333,
              "#9c179e"
             ],
             [
              0.4444444444444444,
              "#bd3786"
             ],
             [
              0.5555555555555556,
              "#d8576b"
             ],
             [
              0.6666666666666666,
              "#ed7953"
             ],
             [
              0.7777777777777778,
              "#fb9f3a"
             ],
             [
              0.8888888888888888,
              "#fdca26"
             ],
             [
              1,
              "#f0f921"
             ]
            ],
            "type": "heatmap"
           }
          ],
          "heatmapgl": [
           {
            "colorbar": {
             "outlinewidth": 0,
             "ticks": ""
            },
            "colorscale": [
             [
              0,
              "#0d0887"
             ],
             [
              0.1111111111111111,
              "#46039f"
             ],
             [
              0.2222222222222222,
              "#7201a8"
             ],
             [
              0.3333333333333333,
              "#9c179e"
             ],
             [
              0.4444444444444444,
              "#bd3786"
             ],
             [
              0.5555555555555556,
              "#d8576b"
             ],
             [
              0.6666666666666666,
              "#ed7953"
             ],
             [
              0.7777777777777778,
              "#fb9f3a"
             ],
             [
              0.8888888888888888,
              "#fdca26"
             ],
             [
              1,
              "#f0f921"
             ]
            ],
            "type": "heatmapgl"
           }
          ],
          "histogram": [
           {
            "marker": {
             "pattern": {
              "fillmode": "overlay",
              "size": 10,
              "solidity": 0.2
             }
            },
            "type": "histogram"
           }
          ],
          "histogram2d": [
           {
            "colorbar": {
             "outlinewidth": 0,
             "ticks": ""
            },
            "colorscale": [
             [
              0,
              "#0d0887"
             ],
             [
              0.1111111111111111,
              "#46039f"
             ],
             [
              0.2222222222222222,
              "#7201a8"
             ],
             [
              0.3333333333333333,
              "#9c179e"
             ],
             [
              0.4444444444444444,
              "#bd3786"
             ],
             [
              0.5555555555555556,
              "#d8576b"
             ],
             [
              0.6666666666666666,
              "#ed7953"
             ],
             [
              0.7777777777777778,
              "#fb9f3a"
             ],
             [
              0.8888888888888888,
              "#fdca26"
             ],
             [
              1,
              "#f0f921"
             ]
            ],
            "type": "histogram2d"
           }
          ],
          "histogram2dcontour": [
           {
            "colorbar": {
             "outlinewidth": 0,
             "ticks": ""
            },
            "colorscale": [
             [
              0,
              "#0d0887"
             ],
             [
              0.1111111111111111,
              "#46039f"
             ],
             [
              0.2222222222222222,
              "#7201a8"
             ],
             [
              0.3333333333333333,
              "#9c179e"
             ],
             [
              0.4444444444444444,
              "#bd3786"
             ],
             [
              0.5555555555555556,
              "#d8576b"
             ],
             [
              0.6666666666666666,
              "#ed7953"
             ],
             [
              0.7777777777777778,
              "#fb9f3a"
             ],
             [
              0.8888888888888888,
              "#fdca26"
             ],
             [
              1,
              "#f0f921"
             ]
            ],
            "type": "histogram2dcontour"
           }
          ],
          "mesh3d": [
           {
            "colorbar": {
             "outlinewidth": 0,
             "ticks": ""
            },
            "type": "mesh3d"
           }
          ],
          "parcoords": [
           {
            "line": {
             "colorbar": {
              "outlinewidth": 0,
              "ticks": ""
             }
            },
            "type": "parcoords"
           }
          ],
          "pie": [
           {
            "automargin": true,
            "type": "pie"
           }
          ],
          "scatter": [
           {
            "fillpattern": {
             "fillmode": "overlay",
             "size": 10,
             "solidity": 0.2
            },
            "type": "scatter"
           }
          ],
          "scatter3d": [
           {
            "line": {
             "colorbar": {
              "outlinewidth": 0,
              "ticks": ""
             }
            },
            "marker": {
             "colorbar": {
              "outlinewidth": 0,
              "ticks": ""
             }
            },
            "type": "scatter3d"
           }
          ],
          "scattercarpet": [
           {
            "marker": {
             "colorbar": {
              "outlinewidth": 0,
              "ticks": ""
             }
            },
            "type": "scattercarpet"
           }
          ],
          "scattergeo": [
           {
            "marker": {
             "colorbar": {
              "outlinewidth": 0,
              "ticks": ""
             }
            },
            "type": "scattergeo"
           }
          ],
          "scattergl": [
           {
            "marker": {
             "colorbar": {
              "outlinewidth": 0,
              "ticks": ""
             }
            },
            "type": "scattergl"
           }
          ],
          "scattermapbox": [
           {
            "marker": {
             "colorbar": {
              "outlinewidth": 0,
              "ticks": ""
             }
            },
            "type": "scattermapbox"
           }
          ],
          "scatterpolar": [
           {
            "marker": {
             "colorbar": {
              "outlinewidth": 0,
              "ticks": ""
             }
            },
            "type": "scatterpolar"
           }
          ],
          "scatterpolargl": [
           {
            "marker": {
             "colorbar": {
              "outlinewidth": 0,
              "ticks": ""
             }
            },
            "type": "scatterpolargl"
           }
          ],
          "scatterternary": [
           {
            "marker": {
             "colorbar": {
              "outlinewidth": 0,
              "ticks": ""
             }
            },
            "type": "scatterternary"
           }
          ],
          "surface": [
           {
            "colorbar": {
             "outlinewidth": 0,
             "ticks": ""
            },
            "colorscale": [
             [
              0,
              "#0d0887"
             ],
             [
              0.1111111111111111,
              "#46039f"
             ],
             [
              0.2222222222222222,
              "#7201a8"
             ],
             [
              0.3333333333333333,
              "#9c179e"
             ],
             [
              0.4444444444444444,
              "#bd3786"
             ],
             [
              0.5555555555555556,
              "#d8576b"
             ],
             [
              0.6666666666666666,
              "#ed7953"
             ],
             [
              0.7777777777777778,
              "#fb9f3a"
             ],
             [
              0.8888888888888888,
              "#fdca26"
             ],
             [
              1,
              "#f0f921"
             ]
            ],
            "type": "surface"
           }
          ],
          "table": [
           {
            "cells": {
             "fill": {
              "color": "#EBF0F8"
             },
             "line": {
              "color": "white"
             }
            },
            "header": {
             "fill": {
              "color": "#C8D4E3"
             },
             "line": {
              "color": "white"
             }
            },
            "type": "table"
           }
          ]
         },
         "layout": {
          "annotationdefaults": {
           "arrowcolor": "#2a3f5f",
           "arrowhead": 0,
           "arrowwidth": 1
          },
          "autotypenumbers": "strict",
          "coloraxis": {
           "colorbar": {
            "outlinewidth": 0,
            "ticks": ""
           }
          },
          "colorscale": {
           "diverging": [
            [
             0,
             "#8e0152"
            ],
            [
             0.1,
             "#c51b7d"
            ],
            [
             0.2,
             "#de77ae"
            ],
            [
             0.3,
             "#f1b6da"
            ],
            [
             0.4,
             "#fde0ef"
            ],
            [
             0.5,
             "#f7f7f7"
            ],
            [
             0.6,
             "#e6f5d0"
            ],
            [
             0.7,
             "#b8e186"
            ],
            [
             0.8,
             "#7fbc41"
            ],
            [
             0.9,
             "#4d9221"
            ],
            [
             1,
             "#276419"
            ]
           ],
           "sequential": [
            [
             0,
             "#0d0887"
            ],
            [
             0.1111111111111111,
             "#46039f"
            ],
            [
             0.2222222222222222,
             "#7201a8"
            ],
            [
             0.3333333333333333,
             "#9c179e"
            ],
            [
             0.4444444444444444,
             "#bd3786"
            ],
            [
             0.5555555555555556,
             "#d8576b"
            ],
            [
             0.6666666666666666,
             "#ed7953"
            ],
            [
             0.7777777777777778,
             "#fb9f3a"
            ],
            [
             0.8888888888888888,
             "#fdca26"
            ],
            [
             1,
             "#f0f921"
            ]
           ],
           "sequentialminus": [
            [
             0,
             "#0d0887"
            ],
            [
             0.1111111111111111,
             "#46039f"
            ],
            [
             0.2222222222222222,
             "#7201a8"
            ],
            [
             0.3333333333333333,
             "#9c179e"
            ],
            [
             0.4444444444444444,
             "#bd3786"
            ],
            [
             0.5555555555555556,
             "#d8576b"
            ],
            [
             0.6666666666666666,
             "#ed7953"
            ],
            [
             0.7777777777777778,
             "#fb9f3a"
            ],
            [
             0.8888888888888888,
             "#fdca26"
            ],
            [
             1,
             "#f0f921"
            ]
           ]
          },
          "colorway": [
           "#636efa",
           "#EF553B",
           "#00cc96",
           "#ab63fa",
           "#FFA15A",
           "#19d3f3",
           "#FF6692",
           "#B6E880",
           "#FF97FF",
           "#FECB52"
          ],
          "font": {
           "color": "#2a3f5f"
          },
          "geo": {
           "bgcolor": "white",
           "lakecolor": "white",
           "landcolor": "#E5ECF6",
           "showlakes": true,
           "showland": true,
           "subunitcolor": "white"
          },
          "hoverlabel": {
           "align": "left"
          },
          "hovermode": "closest",
          "mapbox": {
           "style": "light"
          },
          "paper_bgcolor": "white",
          "plot_bgcolor": "#E5ECF6",
          "polar": {
           "angularaxis": {
            "gridcolor": "white",
            "linecolor": "white",
            "ticks": ""
           },
           "bgcolor": "#E5ECF6",
           "radialaxis": {
            "gridcolor": "white",
            "linecolor": "white",
            "ticks": ""
           }
          },
          "scene": {
           "xaxis": {
            "backgroundcolor": "#E5ECF6",
            "gridcolor": "white",
            "gridwidth": 2,
            "linecolor": "white",
            "showbackground": true,
            "ticks": "",
            "zerolinecolor": "white"
           },
           "yaxis": {
            "backgroundcolor": "#E5ECF6",
            "gridcolor": "white",
            "gridwidth": 2,
            "linecolor": "white",
            "showbackground": true,
            "ticks": "",
            "zerolinecolor": "white"
           },
           "zaxis": {
            "backgroundcolor": "#E5ECF6",
            "gridcolor": "white",
            "gridwidth": 2,
            "linecolor": "white",
            "showbackground": true,
            "ticks": "",
            "zerolinecolor": "white"
           }
          },
          "shapedefaults": {
           "line": {
            "color": "#2a3f5f"
           }
          },
          "ternary": {
           "aaxis": {
            "gridcolor": "white",
            "linecolor": "white",
            "ticks": ""
           },
           "baxis": {
            "gridcolor": "white",
            "linecolor": "white",
            "ticks": ""
           },
           "bgcolor": "#E5ECF6",
           "caxis": {
            "gridcolor": "white",
            "linecolor": "white",
            "ticks": ""
           }
          },
          "title": {
           "x": 0.05
          },
          "xaxis": {
           "automargin": true,
           "gridcolor": "white",
           "linecolor": "white",
           "ticks": "",
           "title": {
            "standoff": 15
           },
           "zerolinecolor": "white",
           "zerolinewidth": 2
          },
          "yaxis": {
           "automargin": true,
           "gridcolor": "white",
           "linecolor": "white",
           "ticks": "",
           "title": {
            "standoff": 15
           },
           "zerolinecolor": "white",
           "zerolinewidth": 2
          }
         }
        },
        "title": {
         "text": "SIN and COS functions"
        },
        "xaxis": {
         "autorange": true,
         "range": [
          -0.36430623855808986,
          6.647491545737676
         ],
         "title": {
          "text": "x"
         },
         "type": "linear"
        },
        "yaxis": {
         "autorange": true,
         "range": [
          -1.1644499606221608,
          1.1644499606221608
         ],
         "title": {
          "text": "f(x)"
         },
         "type": "linear"
        }
       }
      },
      "image/png": "[encoded data removed]",
      "text/html": [
       "<div>                            <div id=\"67e6b52e-d1ba-46e9-8c9b-591ed4fae581\" class=\"plotly-graph-div\" style=\"height:525px; width:100%;\"></div>            <script type=\"text/javascript\">                require([\"plotly\"], function(Plotly) {                    window.PLOTLYENV=window.PLOTLYENV || {};                                    if (document.getElementById(\"67e6b52e-d1ba-46e9-8c9b-591ed4fae581\")) {                    Plotly.newPlot(                        \"67e6b52e-d1ba-46e9-8c9b-591ed4fae581\",                        [{\"marker\":{\"color\":\"green\"},\"mode\":\"markers\",\"name\":\"sin(x)\",\"x\":[0.0,0.1282282715750936,0.2564565431501872,0.38468481472528077,0.5129130863003744,0.6411413578754679,0.7693696294505615,0.8975979010256552,1.0258261726007487,1.1540544441758422,1.2822827157509358,1.4105109873260295,1.538739258901123,1.6669675304762166,1.7951958020513104,1.9234240736264039,2.0516523452014974,2.179880616776591,2.3081088883516845,2.436337159926778,2.5645654315018716,2.6927937030769655,2.821021974652059,2.9492502462271526,3.077478517802246,3.2057067893773397,3.333935060952433,3.4621633325275267,3.5903916041026207,3.7186198756777142,3.8468481472528078,3.9750764188279013,4.103304690402995,4.231532961978089,4.359761233553182,4.487989505128276,4.616217776703369,4.744446048278463,4.872674319853556,5.00090259142865,5.129130863003743,5.257359134578837,5.385587406153931,5.513815677729024,5.642043949304118,5.770272220879211,5.898500492454305,6.026728764029398,6.154957035604492,6.283185307179586],\"y\":[0.0,0.127877161684506,0.25365458390950735,0.3752670048793741,0.49071755200393785,0.5981105304912159,0.6956825506034864,0.7818314824680298,0.8551427630053461,0.9144126230158124,0.9586678530366606,0.9871817834144501,0.9994862162006879,0.9953791129491982,0.9749279121818236,0.9384684220497604,0.8865993063730001,0.8201722545969561,0.7402779970753157,0.6482283953077888,0.545534901210549,0.43388373911755823,0.3151082180236209,0.19115862870137254,0.06407021998071323,-0.06407021998071255,-0.19115862870137187,-0.3151082180236202,-0.433883739117558,-0.5455349012105485,-0.6482283953077882,-0.7402779970753153,-0.8201722545969556,-0.886599306373,-0.9384684220497602,-0.9749279121818236,-0.9953791129491981,-0.9994862162006879,-0.9871817834144503,-0.9586678530366608,-0.9144126230158128,-0.8551427630053464,-0.7818314824680299,-0.6956825506034869,-0.5981105304912162,-0.49071755200393863,-0.3752670048793746,-0.25365458390950835,-0.12787716168450664,-2.4492935982947064e-16],\"type\":\"scatter\"},{\"line\":{\"color\":\"black\"},\"mode\":\"lines\",\"name\":\"cos(x)\",\"x\":[0.0,0.1282282715750936,0.2564565431501872,0.38468481472528077,0.5129130863003744,0.6411413578754679,0.7693696294505615,0.8975979010256552,1.0258261726007487,1.1540544441758422,1.2822827157509358,1.4105109873260295,1.538739258901123,1.6669675304762166,1.7951958020513104,1.9234240736264039,2.0516523452014974,2.179880616776591,2.3081088883516845,2.436337159926778,2.5645654315018716,2.6927937030769655,2.821021974652059,2.9492502462271526,3.077478517802246,3.2057067893773397,3.333935060952433,3.4621633325275267,3.5903916041026207,3.7186198756777142,3.8468481472528078,3.9750764188279013,4.103304690402995,4.231532961978089,4.359761233553182,4.487989505128276,4.616217776703369,4.744446048278463,4.872674319853556,5.00090259142865,5.129130863003743,5.257359134578837,5.385587406153931,5.513815677729024,5.642043949304118,5.770272220879211,5.898500492454305,6.026728764029398,6.154957035604492,6.283185307179586],\"y\":[1.0,0.9917900138232462,0.9672948630390295,0.9269167573460217,0.8713187041233894,0.8014136218679567,0.7183493500977276,0.6234898018587336,0.5183925683105252,0.404783343122394,0.28452758663103267,0.15959989503337932,0.03205157757165533,-0.09602302590768154,-0.22252093395631434,-0.3453650544213075,-0.4625382902408351,-0.5721166601221694,-0.6723008902613166,-0.7614459583691342,-0.8380881048918404,-0.900968867902419,-0.9490557470106686,-0.9815591569910653,-0.9979453927503363,-0.9979453927503363,-0.9815591569910654,-0.9490557470106689,-0.9009688679024191,-0.8380881048918408,-0.7614459583691346,-0.672300890261317,-0.57211666012217,-0.4625382902408353,-0.34536505442130816,-0.2225209339563146,-0.09602302590768244,0.03205157757165486,0.1595998950333784,0.284527586631032,0.40478334312239295,0.5183925683105245,0.6234898018587334,0.718349350097727,0.8014136218679565,0.871318704123389,0.9269167573460216,0.9672948630390291,0.991790013823246,1.0],\"type\":\"scatter\"}],                        {\"title\":{\"text\":\"SIN and COS functions\"},\"xaxis\":{\"title\":{\"text\":\"x\"}},\"yaxis\":{\"title\":{\"text\":\"f(x)\"}},\"template\":{\"data\":{\"histogram2dcontour\":[{\"type\":\"histogram2dcontour\",\"colorbar\":{\"outlinewidth\":0,\"ticks\":\"\"},\"colorscale\":[[0.0,\"#0d0887\"],[0.1111111111111111,\"#46039f\"],[0.2222222222222222,\"#7201a8\"],[0.3333333333333333,\"#9c179e\"],[0.4444444444444444,\"#bd3786\"],[0.5555555555555556,\"#d8576b\"],[0.6666666666666666,\"#ed7953\"],[0.7777777777777778,\"#fb9f3a\"],[0.8888888888888888,\"#fdca26\"],[1.0,\"#f0f921\"]]}],\"choropleth\":[{\"type\":\"choropleth\",\"colorbar\":{\"outlinewidth\":0,\"ticks\":\"\"}}],\"histogram2d\":[{\"type\":\"histogram2d\",\"colorbar\":{\"outlinewidth\":0,\"ticks\":\"\"},\"colorscale\":[[0.0,\"#0d0887\"],[0.1111111111111111,\"#46039f\"],[0.2222222222222222,\"#7201a8\"],[0.3333333333333333,\"#9c179e\"],[0.4444444444444444,\"#bd3786\"],[0.5555555555555556,\"#d8576b\"],[0.6666666666666666,\"#ed7953\"],[0.7777777777777778,\"#fb9f3a\"],[0.8888888888888888,\"#fdca26\"],[1.0,\"#f0f921\"]]}],\"heatmap\":[{\"type\":\"heatmap\",\"colorbar\":{\"outlinewidth\":0,\"ticks\":\"\"},\"colorscale\":[[0.0,\"#0d0887\"],[0.1111111111111111,\"#46039f\"],[0.2222222222222222,\"#7201a8\"],[0.3333333333333333,\"#9c179e\"],[0.4444444444444444,\"#bd3786\"],[0.5555555555555556,\"#d8576b\"],[0.6666666666666666,\"#ed7953\"],[0.7777777777777778,\"#fb9f3a\"],[0.8888888888888888,\"#fdca26\"],[1.0,\"#f0f921\"]]}],\"heatmapgl\":[{\"type\":\"heatmapgl\",\"colorbar\":{\"outlinewidth\":0,\"ticks\":\"\"},\"colorscale\":[[0.0,\"#0d0887\"],[0.1111111111111111,\"#46039f\"],[0.2222222222222222,\"#7201a8\"],[0.3333333333333333,\"#9c179e\"],[0.4444444444444444,\"#bd3786\"],[0.5555555555555556,\"#d8576b\"],[0.6666666666666666,\"#ed7953\"],[0.7777777777777778,\"#fb9f3a\"],[0.8888888888888888,\"#fdca26\"],[1.0,\"#f0f921\"]]}],\"contourcarpet\":[{\"type\":\"contourcarpet\",\"colorbar\":{\"outlinewidth\":0,\"ticks\":\"\"}}],\"contour\":[{\"type\":\"contour\",\"colorbar\":{\"outlinewidth\":0,\"ticks\":\"\"},\"colorscale\":[[0.0,\"#0d0887\"],[0.1111111111111111,\"#46039f\"],[0.2222222222222222,\"#7201a8\"],[0.3333333333333333,\"#9c179e\"],[0.4444444444444444,\"#bd3786\"],[0.5555555555555556,\"#d8576b\"],[0.6666666666666666,\"#ed7953\"],[0.7777777777777778,\"#fb9f3a\"],[0.8888888888888888,\"#fdca26\"],[1.0,\"#f0f921\"]]}],\"surface\":[{\"type\":\"surface\",\"colorbar\":{\"outlinewidth\":0,\"ticks\":\"\"},\"colorscale\":[[0.0,\"#0d0887\"],[0.1111111111111111,\"#46039f\"],[0.2222222222222222,\"#7201a8\"],[0.3333333333333333,\"#9c179e\"],[0.4444444444444444,\"#bd3786\"],[0.5555555555555556,\"#d8576b\"],[0.6666666666666666,\"#ed7953\"],[0.7777777777777778,\"#fb9f3a\"],[0.8888888888888888,\"#fdca26\"],[1.0,\"#f0f921\"]]}],\"mesh3d\":[{\"type\":\"mesh3d\",\"colorbar\":{\"outlinewidth\":0,\"ticks\":\"\"}}],\"scatter\":[{\"fillpattern\":{\"fillmode\":\"overlay\",\"size\":10,\"solidity\":0.2},\"type\":\"scatter\"}],\"parcoords\":[{\"type\":\"parcoords\",\"line\":{\"colorbar\":{\"outlinewidth\":0,\"ticks\":\"\"}}}],\"scatterpolargl\":[{\"type\":\"scatterpolargl\",\"marker\":{\"colorbar\":{\"outlinewidth\":0,\"ticks\":\"\"}}}],\"bar\":[{\"error_x\":{\"color\":\"#2a3f5f\"},\"error_y\":{\"color\":\"#2a3f5f\"},\"marker\":{\"line\":{\"color\":\"#E5ECF6\",\"width\":0.5},\"pattern\":{\"fillmode\":\"overlay\",\"size\":10,\"solidity\":0.2}},\"type\":\"bar\"}],\"scattergeo\":[{\"type\":\"scattergeo\",\"marker\":{\"colorbar\":{\"outlinewidth\":0,\"ticks\":\"\"}}}],\"scatterpolar\":[{\"type\":\"scatterpolar\",\"marker\":{\"colorbar\":{\"outlinewidth\":0,\"ticks\":\"\"}}}],\"histogram\":[{\"marker\":{\"pattern\":{\"fillmode\":\"overlay\",\"size\":10,\"solidity\":0.2}},\"type\":\"histogram\"}],\"scattergl\":[{\"type\":\"scattergl\",\"marker\":{\"colorbar\":{\"outlinewidth\":0,\"ticks\":\"\"}}}],\"scatter3d\":[{\"type\":\"scatter3d\",\"line\":{\"colorbar\":{\"outlinewidth\":0,\"ticks\":\"\"}},\"marker\":{\"colorbar\":{\"outlinewidth\":0,\"ticks\":\"\"}}}],\"scattermapbox\":[{\"type\":\"scattermapbox\",\"marker\":{\"colorbar\":{\"outlinewidth\":0,\"ticks\":\"\"}}}],\"scatterternary\":[{\"type\":\"scatterternary\",\"marker\":{\"colorbar\":{\"outlinewidth\":0,\"ticks\":\"\"}}}],\"scattercarpet\":[{\"type\":\"scattercarpet\",\"marker\":{\"colorbar\":{\"outlinewidth\":0,\"ticks\":\"\"}}}],\"carpet\":[{\"aaxis\":{\"endlinecolor\":\"#2a3f5f\",\"gridcolor\":\"white\",\"linecolor\":\"white\",\"minorgridcolor\":\"white\",\"startlinecolor\":\"#2a3f5f\"},\"baxis\":{\"endlinecolor\":\"#2a3f5f\",\"gridcolor\":\"white\",\"linecolor\":\"white\",\"minorgridcolor\":\"white\",\"startlinecolor\":\"#2a3f5f\"},\"type\":\"carpet\"}],\"table\":[{\"cells\":{\"fill\":{\"color\":\"#EBF0F8\"},\"line\":{\"color\":\"white\"}},\"header\":{\"fill\":{\"color\":\"#C8D4E3\"},\"line\":{\"color\":\"white\"}},\"type\":\"table\"}],\"barpolar\":[{\"marker\":{\"line\":{\"color\":\"#E5ECF6\",\"width\":0.5},\"pattern\":{\"fillmode\":\"overlay\",\"size\":10,\"solidity\":0.2}},\"type\":\"barpolar\"}],\"pie\":[{\"automargin\":true,\"type\":\"pie\"}]},\"layout\":{\"autotypenumbers\":\"strict\",\"colorway\":[\"#636efa\",\"#EF553B\",\"#00cc96\",\"#ab63fa\",\"#FFA15A\",\"#19d3f3\",\"#FF6692\",\"#B6E880\",\"#FF97FF\",\"#FECB52\"],\"font\":{\"color\":\"#2a3f5f\"},\"hovermode\":\"closest\",\"hoverlabel\":{\"align\":\"left\"},\"paper_bgcolor\":\"white\",\"plot_bgcolor\":\"#E5ECF6\",\"polar\":{\"bgcolor\":\"#E5ECF6\",\"angularaxis\":{\"gridcolor\":\"white\",\"linecolor\":\"white\",\"ticks\":\"\"},\"radialaxis\":{\"gridcolor\":\"white\",\"linecolor\":\"white\",\"ticks\":\"\"}},\"ternary\":{\"bgcolor\":\"#E5ECF6\",\"aaxis\":{\"gridcolor\":\"white\",\"linecolor\":\"white\",\"ticks\":\"\"},\"baxis\":{\"gridcolor\":\"white\",\"linecolor\":\"white\",\"ticks\":\"\"},\"caxis\":{\"gridcolor\":\"white\",\"linecolor\":\"white\",\"ticks\":\"\"}},\"coloraxis\":{\"colorbar\":{\"outlinewidth\":0,\"ticks\":\"\"}},\"colorscale\":{\"sequential\":[[0.0,\"#0d0887\"],[0.1111111111111111,\"#46039f\"],[0.2222222222222222,\"#7201a8\"],[0.3333333333333333,\"#9c179e\"],[0.4444444444444444,\"#bd3786\"],[0.5555555555555556,\"#d8576b\"],[0.6666666666666666,\"#ed7953\"],[0.7777777777777778,\"#fb9f3a\"],[0.8888888888888888,\"#fdca26\"],[1.0,\"#f0f921\"]],\"sequentialminus\":[[0.0,\"#0d0887\"],[0.1111111111111111,\"#46039f\"],[0.2222222222222222,\"#7201a8\"],[0.3333333333333333,\"#9c179e\"],[0.4444444444444444,\"#bd3786\"],[0.5555555555555556,\"#d8576b\"],[0.6666666666666666,\"#ed7953\"],[0.7777777777777778,\"#fb9f3a\"],[0.8888888888888888,\"#fdca26\"],[1.0,\"#f0f921\"]],\"diverging\":[[0,\"#8e0152\"],[0.1,\"#c51b7d\"],[0.2,\"#de77ae\"],[0.3,\"#f1b6da\"],[0.4,\"#fde0ef\"],[0.5,\"#f7f7f7\"],[0.6,\"#e6f5d0\"],[0.7,\"#b8e186\"],[0.8,\"#7fbc41\"],[0.9,\"#4d9221\"],[1,\"#276419\"]]},\"xaxis\":{\"gridcolor\":\"white\",\"linecolor\":\"white\",\"ticks\":\"\",\"title\":{\"standoff\":15},\"zerolinecolor\":\"white\",\"automargin\":true,\"zerolinewidth\":2},\"yaxis\":{\"gridcolor\":\"white\",\"linecolor\":\"white\",\"ticks\":\"\",\"title\":{\"standoff\":15},\"zerolinecolor\":\"white\",\"automargin\":true,\"zerolinewidth\":2},\"scene\":{\"xaxis\":{\"backgroundcolor\":\"#E5ECF6\",\"gridcolor\":\"white\",\"linecolor\":\"white\",\"showbackground\":true,\"ticks\":\"\",\"zerolinecolor\":\"white\",\"gridwidth\":2},\"yaxis\":{\"backgroundcolor\":\"#E5ECF6\",\"gridcolor\":\"white\",\"linecolor\":\"white\",\"showbackground\":true,\"ticks\":\"\",\"zerolinecolor\":\"white\",\"gridwidth\":2},\"zaxis\":{\"backgroundcolor\":\"#E5ECF6\",\"gridcolor\":\"white\",\"linecolor\":\"white\",\"showbackground\":true,\"ticks\":\"\",\"zerolinecolor\":\"white\",\"gridwidth\":2}},\"shapedefaults\":{\"line\":{\"color\":\"#2a3f5f\"}},\"annotationdefaults\":{\"arrowcolor\":\"#2a3f5f\",\"arrowhead\":0,\"arrowwidth\":1},\"geo\":{\"bgcolor\":\"white\",\"landcolor\":\"#E5ECF6\",\"subunitcolor\":\"white\",\"showland\":true,\"showlakes\":true,\"lakecolor\":\"white\"},\"title\":{\"x\":0.05},\"mapbox\":{\"style\":\"light\"}}}},                        {\"responsive\": true}                    ).then(function(){\n",
       "                            \n",
       "var gd = document.getElementById('67e6b52e-d1ba-46e9-8c9b-591ed4fae581');\n",
       "var x = new MutationObserver(function (mutations, observer) {{\n",
       "        var display = window.getComputedStyle(gd).display;\n",
       "        if (!display || display === 'none') {{\n",
       "            console.log([gd, 'removed!']);\n",
       "            Plotly.purge(gd);\n",
       "            observer.disconnect();\n",
       "        }}\n",
       "}});\n",
       "\n",
       "// Listen for the removal of the full notebook cells\n",
       "var notebookContainer = gd.closest('#notebook-container');\n",
       "if (notebookContainer) {{\n",
       "    x.observe(notebookContainer, {childList: true});\n",
       "}}\n",
       "\n",
       "// Listen for the clearing of the current output cell\n",
       "var outputEl = gd.closest('.output');\n",
       "if (outputEl) {{\n",
       "    x.observe(outputEl, {childList: true});\n",
       "}}\n",
       "\n",
       "                        })                };                });            </script>        </div>"
      ]
     },
     "metadata": {},
     "output_type": "display_data"
    }
   ],
   "source": [
    "# Display the result within the notebook:\n",
    "fig.show()"
   ]
  },
  {
   "cell_type": "markdown",
   "metadata": {},
   "source": [
    "You can set a configuration to alter how the plot is displayed (see https://plot.ly/python/configuration-options/)"
   ]
  },
  {
   "cell_type": "code",
   "execution_count": 37,
   "metadata": {
    "ExecuteTime": {
     "end_time": "2017-11-13T22:46:07.022226",
     "start_time": "2017-11-13T22:46:07.009245"
    }
   },
   "outputs": [
    {
     "data": {
      "application/vnd.plotly.v1+json": {
       "config": {
        "displaylogo": false,
        "editable": true,
        "plotlyServerURL": "https://plot.ly"
       },
       "data": [
        {
         "marker": {
          "color": "green"
         },
         "mode": "markers",
         "name": "sin(x)",
         "type": "scatter",
         "x": [
          0,
          0.1282282715750936,
          0.2564565431501872,
          0.38468481472528077,
          0.5129130863003744,
          0.6411413578754679,
          0.7693696294505615,
          0.8975979010256552,
          1.0258261726007487,
          1.1540544441758422,
          1.2822827157509358,
          1.4105109873260295,
          1.538739258901123,
          1.6669675304762166,
          1.7951958020513104,
          1.9234240736264039,
          2.0516523452014974,
          2.179880616776591,
          2.3081088883516845,
          2.436337159926778,
          2.5645654315018716,
          2.6927937030769655,
          2.821021974652059,
          2.9492502462271526,
          3.077478517802246,
          3.2057067893773397,
          3.333935060952433,
          3.4621633325275267,
          3.5903916041026207,
          3.7186198756777142,
          3.8468481472528078,
          3.9750764188279013,
          4.103304690402995,
          4.231532961978089,
          4.359761233553182,
          4.487989505128276,
          4.616217776703369,
          4.744446048278463,
          4.872674319853556,
          5.00090259142865,
          5.129130863003743,
          5.257359134578837,
          5.385587406153931,
          5.513815677729024,
          5.642043949304118,
          5.770272220879211,
          5.898500492454305,
          6.026728764029398,
          6.154957035604492,
          6.283185307179586
         ],
         "y": [
          0,
          0.127877161684506,
          0.25365458390950735,
          0.3752670048793741,
          0.49071755200393785,
          0.5981105304912159,
          0.6956825506034864,
          0.7818314824680298,
          0.8551427630053461,
          0.9144126230158124,
          0.9586678530366606,
          0.9871817834144501,
          0.9994862162006879,
          0.9953791129491982,
          0.9749279121818236,
          0.9384684220497604,
          0.8865993063730001,
          0.8201722545969561,
          0.7402779970753157,
          0.6482283953077888,
          0.545534901210549,
          0.43388373911755823,
          0.3151082180236209,
          0.19115862870137254,
          0.06407021998071323,
          -0.06407021998071255,
          -0.19115862870137187,
          -0.3151082180236202,
          -0.433883739117558,
          -0.5455349012105485,
          -0.6482283953077882,
          -0.7402779970753153,
          -0.8201722545969556,
          -0.886599306373,
          -0.9384684220497602,
          -0.9749279121818236,
          -0.9953791129491981,
          -0.9994862162006879,
          -0.9871817834144503,
          -0.9586678530366608,
          -0.9144126230158128,
          -0.8551427630053464,
          -0.7818314824680299,
          -0.6956825506034869,
          -0.5981105304912162,
          -0.49071755200393863,
          -0.3752670048793746,
          -0.25365458390950835,
          -0.12787716168450664,
          -2.4492935982947064e-16
         ]
        },
        {
         "line": {
          "color": "black"
         },
         "mode": "lines",
         "name": "cos(x)",
         "type": "scatter",
         "x": [
          0,
          0.1282282715750936,
          0.2564565431501872,
          0.38468481472528077,
          0.5129130863003744,
          0.6411413578754679,
          0.7693696294505615,
          0.8975979010256552,
          1.0258261726007487,
          1.1540544441758422,
          1.2822827157509358,
          1.4105109873260295,
          1.538739258901123,
          1.6669675304762166,
          1.7951958020513104,
          1.9234240736264039,
          2.0516523452014974,
          2.179880616776591,
          2.3081088883516845,
          2.436337159926778,
          2.5645654315018716,
          2.6927937030769655,
          2.821021974652059,
          2.9492502462271526,
          3.077478517802246,
          3.2057067893773397,
          3.333935060952433,
          3.4621633325275267,
          3.5903916041026207,
          3.7186198756777142,
          3.8468481472528078,
          3.9750764188279013,
          4.103304690402995,
          4.231532961978089,
          4.359761233553182,
          4.487989505128276,
          4.616217776703369,
          4.744446048278463,
          4.872674319853556,
          5.00090259142865,
          5.129130863003743,
          5.257359134578837,
          5.385587406153931,
          5.513815677729024,
          5.642043949304118,
          5.770272220879211,
          5.898500492454305,
          6.026728764029398,
          6.154957035604492,
          6.283185307179586
         ],
         "y": [
          1,
          0.9917900138232462,
          0.9672948630390295,
          0.9269167573460217,
          0.8713187041233894,
          0.8014136218679567,
          0.7183493500977276,
          0.6234898018587336,
          0.5183925683105252,
          0.404783343122394,
          0.28452758663103267,
          0.15959989503337932,
          0.03205157757165533,
          -0.09602302590768154,
          -0.22252093395631434,
          -0.3453650544213075,
          -0.4625382902408351,
          -0.5721166601221694,
          -0.6723008902613166,
          -0.7614459583691342,
          -0.8380881048918404,
          -0.900968867902419,
          -0.9490557470106686,
          -0.9815591569910653,
          -0.9979453927503363,
          -0.9979453927503363,
          -0.9815591569910654,
          -0.9490557470106689,
          -0.9009688679024191,
          -0.8380881048918408,
          -0.7614459583691346,
          -0.672300890261317,
          -0.57211666012217,
          -0.4625382902408353,
          -0.34536505442130816,
          -0.2225209339563146,
          -0.09602302590768244,
          0.03205157757165486,
          0.1595998950333784,
          0.284527586631032,
          0.40478334312239295,
          0.5183925683105245,
          0.6234898018587334,
          0.718349350097727,
          0.8014136218679565,
          0.871318704123389,
          0.9269167573460216,
          0.9672948630390291,
          0.991790013823246,
          1
         ]
        }
       ],
       "layout": {
        "autosize": true,
        "template": {
         "data": {
          "bar": [
           {
            "error_x": {
             "color": "#2a3f5f"
            },
            "error_y": {
             "color": "#2a3f5f"
            },
            "marker": {
             "line": {
              "color": "#E5ECF6",
              "width": 0.5
             },
             "pattern": {
              "fillmode": "overlay",
              "size": 10,
              "solidity": 0.2
             }
            },
            "type": "bar"
           }
          ],
          "barpolar": [
           {
            "marker": {
             "line": {
              "color": "#E5ECF6",
              "width": 0.5
             },
             "pattern": {
              "fillmode": "overlay",
              "size": 10,
              "solidity": 0.2
             }
            },
            "type": "barpolar"
           }
          ],
          "carpet": [
           {
            "aaxis": {
             "endlinecolor": "#2a3f5f",
             "gridcolor": "white",
             "linecolor": "white",
             "minorgridcolor": "white",
             "startlinecolor": "#2a3f5f"
            },
            "baxis": {
             "endlinecolor": "#2a3f5f",
             "gridcolor": "white",
             "linecolor": "white",
             "minorgridcolor": "white",
             "startlinecolor": "#2a3f5f"
            },
            "type": "carpet"
           }
          ],
          "choropleth": [
           {
            "colorbar": {
             "outlinewidth": 0,
             "ticks": ""
            },
            "type": "choropleth"
           }
          ],
          "contour": [
           {
            "colorbar": {
             "outlinewidth": 0,
             "ticks": ""
            },
            "colorscale": [
             [
              0,
              "#0d0887"
             ],
             [
              0.1111111111111111,
              "#46039f"
             ],
             [
              0.2222222222222222,
              "#7201a8"
             ],
             [
              0.3333333333333333,
              "#9c179e"
             ],
             [
              0.4444444444444444,
              "#bd3786"
             ],
             [
              0.5555555555555556,
              "#d8576b"
             ],
             [
              0.6666666666666666,
              "#ed7953"
             ],
             [
              0.7777777777777778,
              "#fb9f3a"
             ],
             [
              0.8888888888888888,
              "#fdca26"
             ],
             [
              1,
              "#f0f921"
             ]
            ],
            "type": "contour"
           }
          ],
          "contourcarpet": [
           {
            "colorbar": {
             "outlinewidth": 0,
             "ticks": ""
            },
            "type": "contourcarpet"
           }
          ],
          "heatmap": [
           {
            "colorbar": {
             "outlinewidth": 0,
             "ticks": ""
            },
            "colorscale": [
             [
              0,
              "#0d0887"
             ],
             [
              0.1111111111111111,
              "#46039f"
             ],
             [
              0.2222222222222222,
              "#7201a8"
             ],
             [
              0.3333333333333333,
              "#9c179e"
             ],
             [
              0.4444444444444444,
              "#bd3786"
             ],
             [
              0.5555555555555556,
              "#d8576b"
             ],
             [
              0.6666666666666666,
              "#ed7953"
             ],
             [
              0.7777777777777778,
              "#fb9f3a"
             ],
             [
              0.8888888888888888,
              "#fdca26"
             ],
             [
              1,
              "#f0f921"
             ]
            ],
            "type": "heatmap"
           }
          ],
          "heatmapgl": [
           {
            "colorbar": {
             "outlinewidth": 0,
             "ticks": ""
            },
            "colorscale": [
             [
              0,
              "#0d0887"
             ],
             [
              0.1111111111111111,
              "#46039f"
             ],
             [
              0.2222222222222222,
              "#7201a8"
             ],
             [
              0.3333333333333333,
              "#9c179e"
             ],
             [
              0.4444444444444444,
              "#bd3786"
             ],
             [
              0.5555555555555556,
              "#d8576b"
             ],
             [
              0.6666666666666666,
              "#ed7953"
             ],
             [
              0.7777777777777778,
              "#fb9f3a"
             ],
             [
              0.8888888888888888,
              "#fdca26"
             ],
             [
              1,
              "#f0f921"
             ]
            ],
            "type": "heatmapgl"
           }
          ],
          "histogram": [
           {
            "marker": {
             "pattern": {
              "fillmode": "overlay",
              "size": 10,
              "solidity": 0.2
             }
            },
            "type": "histogram"
           }
          ],
          "histogram2d": [
           {
            "colorbar": {
             "outlinewidth": 0,
             "ticks": ""
            },
            "colorscale": [
             [
              0,
              "#0d0887"
             ],
             [
              0.1111111111111111,
              "#46039f"
             ],
             [
              0.2222222222222222,
              "#7201a8"
             ],
             [
              0.3333333333333333,
              "#9c179e"
             ],
             [
              0.4444444444444444,
              "#bd3786"
             ],
             [
              0.5555555555555556,
              "#d8576b"
             ],
             [
              0.6666666666666666,
              "#ed7953"
             ],
             [
              0.7777777777777778,
              "#fb9f3a"
             ],
             [
              0.8888888888888888,
              "#fdca26"
             ],
             [
              1,
              "#f0f921"
             ]
            ],
            "type": "histogram2d"
           }
          ],
          "histogram2dcontour": [
           {
            "colorbar": {
             "outlinewidth": 0,
             "ticks": ""
            },
            "colorscale": [
             [
              0,
              "#0d0887"
             ],
             [
              0.1111111111111111,
              "#46039f"
             ],
             [
              0.2222222222222222,
              "#7201a8"
             ],
             [
              0.3333333333333333,
              "#9c179e"
             ],
             [
              0.4444444444444444,
              "#bd3786"
             ],
             [
              0.5555555555555556,
              "#d8576b"
             ],
             [
              0.6666666666666666,
              "#ed7953"
             ],
             [
              0.7777777777777778,
              "#fb9f3a"
             ],
             [
              0.8888888888888888,
              "#fdca26"
             ],
             [
              1,
              "#f0f921"
             ]
            ],
            "type": "histogram2dcontour"
           }
          ],
          "mesh3d": [
           {
            "colorbar": {
             "outlinewidth": 0,
             "ticks": ""
            },
            "type": "mesh3d"
           }
          ],
          "parcoords": [
           {
            "line": {
             "colorbar": {
              "outlinewidth": 0,
              "ticks": ""
             }
            },
            "type": "parcoords"
           }
          ],
          "pie": [
           {
            "automargin": true,
            "type": "pie"
           }
          ],
          "scatter": [
           {
            "fillpattern": {
             "fillmode": "overlay",
             "size": 10,
             "solidity": 0.2
            },
            "type": "scatter"
           }
          ],
          "scatter3d": [
           {
            "line": {
             "colorbar": {
              "outlinewidth": 0,
              "ticks": ""
             }
            },
            "marker": {
             "colorbar": {
              "outlinewidth": 0,
              "ticks": ""
             }
            },
            "type": "scatter3d"
           }
          ],
          "scattercarpet": [
           {
            "marker": {
             "colorbar": {
              "outlinewidth": 0,
              "ticks": ""
             }
            },
            "type": "scattercarpet"
           }
          ],
          "scattergeo": [
           {
            "marker": {
             "colorbar": {
              "outlinewidth": 0,
              "ticks": ""
             }
            },
            "type": "scattergeo"
           }
          ],
          "scattergl": [
           {
            "marker": {
             "colorbar": {
              "outlinewidth": 0,
              "ticks": ""
             }
            },
            "type": "scattergl"
           }
          ],
          "scattermapbox": [
           {
            "marker": {
             "colorbar": {
              "outlinewidth": 0,
              "ticks": ""
             }
            },
            "type": "scattermapbox"
           }
          ],
          "scatterpolar": [
           {
            "marker": {
             "colorbar": {
              "outlinewidth": 0,
              "ticks": ""
             }
            },
            "type": "scatterpolar"
           }
          ],
          "scatterpolargl": [
           {
            "marker": {
             "colorbar": {
              "outlinewidth": 0,
              "ticks": ""
             }
            },
            "type": "scatterpolargl"
           }
          ],
          "scatterternary": [
           {
            "marker": {
             "colorbar": {
              "outlinewidth": 0,
              "ticks": ""
             }
            },
            "type": "scatterternary"
           }
          ],
          "surface": [
           {
            "colorbar": {
             "outlinewidth": 0,
             "ticks": ""
            },
            "colorscale": [
             [
              0,
              "#0d0887"
             ],
             [
              0.1111111111111111,
              "#46039f"
             ],
             [
              0.2222222222222222,
              "#7201a8"
             ],
             [
              0.3333333333333333,
              "#9c179e"
             ],
             [
              0.4444444444444444,
              "#bd3786"
             ],
             [
              0.5555555555555556,
              "#d8576b"
             ],
             [
              0.6666666666666666,
              "#ed7953"
             ],
             [
              0.7777777777777778,
              "#fb9f3a"
             ],
             [
              0.8888888888888888,
              "#fdca26"
             ],
             [
              1,
              "#f0f921"
             ]
            ],
            "type": "surface"
           }
          ],
          "table": [
           {
            "cells": {
             "fill": {
              "color": "#EBF0F8"
             },
             "line": {
              "color": "white"
             }
            },
            "header": {
             "fill": {
              "color": "#C8D4E3"
             },
             "line": {
              "color": "white"
             }
            },
            "type": "table"
           }
          ]
         },
         "layout": {
          "annotationdefaults": {
           "arrowcolor": "#2a3f5f",
           "arrowhead": 0,
           "arrowwidth": 1
          },
          "autotypenumbers": "strict",
          "coloraxis": {
           "colorbar": {
            "outlinewidth": 0,
            "ticks": ""
           }
          },
          "colorscale": {
           "diverging": [
            [
             0,
             "#8e0152"
            ],
            [
             0.1,
             "#c51b7d"
            ],
            [
             0.2,
             "#de77ae"
            ],
            [
             0.3,
             "#f1b6da"
            ],
            [
             0.4,
             "#fde0ef"
            ],
            [
             0.5,
             "#f7f7f7"
            ],
            [
             0.6,
             "#e6f5d0"
            ],
            [
             0.7,
             "#b8e186"
            ],
            [
             0.8,
             "#7fbc41"
            ],
            [
             0.9,
             "#4d9221"
            ],
            [
             1,
             "#276419"
            ]
           ],
           "sequential": [
            [
             0,
             "#0d0887"
            ],
            [
             0.1111111111111111,
             "#46039f"
            ],
            [
             0.2222222222222222,
             "#7201a8"
            ],
            [
             0.3333333333333333,
             "#9c179e"
            ],
            [
             0.4444444444444444,
             "#bd3786"
            ],
            [
             0.5555555555555556,
             "#d8576b"
            ],
            [
             0.6666666666666666,
             "#ed7953"
            ],
            [
             0.7777777777777778,
             "#fb9f3a"
            ],
            [
             0.8888888888888888,
             "#fdca26"
            ],
            [
             1,
             "#f0f921"
            ]
           ],
           "sequentialminus": [
            [
             0,
             "#0d0887"
            ],
            [
             0.1111111111111111,
             "#46039f"
            ],
            [
             0.2222222222222222,
             "#7201a8"
            ],
            [
             0.3333333333333333,
             "#9c179e"
            ],
            [
             0.4444444444444444,
             "#bd3786"
            ],
            [
             0.5555555555555556,
             "#d8576b"
            ],
            [
             0.6666666666666666,
             "#ed7953"
            ],
            [
             0.7777777777777778,
             "#fb9f3a"
            ],
            [
             0.8888888888888888,
             "#fdca26"
            ],
            [
             1,
             "#f0f921"
            ]
           ]
          },
          "colorway": [
           "#636efa",
           "#EF553B",
           "#00cc96",
           "#ab63fa",
           "#FFA15A",
           "#19d3f3",
           "#FF6692",
           "#B6E880",
           "#FF97FF",
           "#FECB52"
          ],
          "font": {
           "color": "#2a3f5f"
          },
          "geo": {
           "bgcolor": "white",
           "lakecolor": "white",
           "landcolor": "#E5ECF6",
           "showlakes": true,
           "showland": true,
           "subunitcolor": "white"
          },
          "hoverlabel": {
           "align": "left"
          },
          "hovermode": "closest",
          "mapbox": {
           "style": "light"
          },
          "paper_bgcolor": "white",
          "plot_bgcolor": "#E5ECF6",
          "polar": {
           "angularaxis": {
            "gridcolor": "white",
            "linecolor": "white",
            "ticks": ""
           },
           "bgcolor": "#E5ECF6",
           "radialaxis": {
            "gridcolor": "white",
            "linecolor": "white",
            "ticks": ""
           }
          },
          "scene": {
           "xaxis": {
            "backgroundcolor": "#E5ECF6",
            "gridcolor": "white",
            "gridwidth": 2,
            "linecolor": "white",
            "showbackground": true,
            "ticks": "",
            "zerolinecolor": "white"
           },
           "yaxis": {
            "backgroundcolor": "#E5ECF6",
            "gridcolor": "white",
            "gridwidth": 2,
            "linecolor": "white",
            "showbackground": true,
            "ticks": "",
            "zerolinecolor": "white"
           },
           "zaxis": {
            "backgroundcolor": "#E5ECF6",
            "gridcolor": "white",
            "gridwidth": 2,
            "linecolor": "white",
            "showbackground": true,
            "ticks": "",
            "zerolinecolor": "white"
           }
          },
          "shapedefaults": {
           "line": {
            "color": "#2a3f5f"
           }
          },
          "ternary": {
           "aaxis": {
            "gridcolor": "white",
            "linecolor": "white",
            "ticks": ""
           },
           "baxis": {
            "gridcolor": "white",
            "linecolor": "white",
            "ticks": ""
           },
           "bgcolor": "#E5ECF6",
           "caxis": {
            "gridcolor": "white",
            "linecolor": "white",
            "ticks": ""
           }
          },
          "title": {
           "x": 0.05
          },
          "xaxis": {
           "automargin": true,
           "gridcolor": "white",
           "linecolor": "white",
           "ticks": "",
           "title": {
            "standoff": 15
           },
           "zerolinecolor": "white",
           "zerolinewidth": 2
          },
          "yaxis": {
           "automargin": true,
           "gridcolor": "white",
           "linecolor": "white",
           "ticks": "",
           "title": {
            "standoff": 15
           },
           "zerolinecolor": "white",
           "zerolinewidth": 2
          }
         }
        },
        "title": {
         "text": "SIN and COS functions"
        },
        "xaxis": {
         "autorange": true,
         "range": [
          -0.3643142275786172,
          6.647499534758204
         ],
         "title": {
          "text": "x"
         },
         "type": "linear"
        },
        "yaxis": {
         "autorange": true,
         "range": [
          -1.1644499606221608,
          1.1644499606221608
         ],
         "title": {
          "text": "f(x)"
         },
         "type": "linear"
        }
       }
      },
      "image/png": "[encoded data removed]",
      "text/html": [
       "<div>                            <div id=\"be7d4322-ec0c-439c-9b26-129ff6e5c7b1\" class=\"plotly-graph-div\" style=\"height:525px; width:100%;\"></div>            <script type=\"text/javascript\">                require([\"plotly\"], function(Plotly) {                    window.PLOTLYENV=window.PLOTLYENV || {};                                    if (document.getElementById(\"be7d4322-ec0c-439c-9b26-129ff6e5c7b1\")) {                    Plotly.newPlot(                        \"be7d4322-ec0c-439c-9b26-129ff6e5c7b1\",                        [{\"marker\":{\"color\":\"green\"},\"mode\":\"markers\",\"name\":\"sin(x)\",\"x\":[0.0,0.1282282715750936,0.2564565431501872,0.38468481472528077,0.5129130863003744,0.6411413578754679,0.7693696294505615,0.8975979010256552,1.0258261726007487,1.1540544441758422,1.2822827157509358,1.4105109873260295,1.538739258901123,1.6669675304762166,1.7951958020513104,1.9234240736264039,2.0516523452014974,2.179880616776591,2.3081088883516845,2.436337159926778,2.5645654315018716,2.6927937030769655,2.821021974652059,2.9492502462271526,3.077478517802246,3.2057067893773397,3.333935060952433,3.4621633325275267,3.5903916041026207,3.7186198756777142,3.8468481472528078,3.9750764188279013,4.103304690402995,4.231532961978089,4.359761233553182,4.487989505128276,4.616217776703369,4.744446048278463,4.872674319853556,5.00090259142865,5.129130863003743,5.257359134578837,5.385587406153931,5.513815677729024,5.642043949304118,5.770272220879211,5.898500492454305,6.026728764029398,6.154957035604492,6.283185307179586],\"y\":[0.0,0.127877161684506,0.25365458390950735,0.3752670048793741,0.49071755200393785,0.5981105304912159,0.6956825506034864,0.7818314824680298,0.8551427630053461,0.9144126230158124,0.9586678530366606,0.9871817834144501,0.9994862162006879,0.9953791129491982,0.9749279121818236,0.9384684220497604,0.8865993063730001,0.8201722545969561,0.7402779970753157,0.6482283953077888,0.545534901210549,0.43388373911755823,0.3151082180236209,0.19115862870137254,0.06407021998071323,-0.06407021998071255,-0.19115862870137187,-0.3151082180236202,-0.433883739117558,-0.5455349012105485,-0.6482283953077882,-0.7402779970753153,-0.8201722545969556,-0.886599306373,-0.9384684220497602,-0.9749279121818236,-0.9953791129491981,-0.9994862162006879,-0.9871817834144503,-0.9586678530366608,-0.9144126230158128,-0.8551427630053464,-0.7818314824680299,-0.6956825506034869,-0.5981105304912162,-0.49071755200393863,-0.3752670048793746,-0.25365458390950835,-0.12787716168450664,-2.4492935982947064e-16],\"type\":\"scatter\"},{\"line\":{\"color\":\"black\"},\"mode\":\"lines\",\"name\":\"cos(x)\",\"x\":[0.0,0.1282282715750936,0.2564565431501872,0.38468481472528077,0.5129130863003744,0.6411413578754679,0.7693696294505615,0.8975979010256552,1.0258261726007487,1.1540544441758422,1.2822827157509358,1.4105109873260295,1.538739258901123,1.6669675304762166,1.7951958020513104,1.9234240736264039,2.0516523452014974,2.179880616776591,2.3081088883516845,2.436337159926778,2.5645654315018716,2.6927937030769655,2.821021974652059,2.9492502462271526,3.077478517802246,3.2057067893773397,3.333935060952433,3.4621633325275267,3.5903916041026207,3.7186198756777142,3.8468481472528078,3.9750764188279013,4.103304690402995,4.231532961978089,4.359761233553182,4.487989505128276,4.616217776703369,4.744446048278463,4.872674319853556,5.00090259142865,5.129130863003743,5.257359134578837,5.385587406153931,5.513815677729024,5.642043949304118,5.770272220879211,5.898500492454305,6.026728764029398,6.154957035604492,6.283185307179586],\"y\":[1.0,0.9917900138232462,0.9672948630390295,0.9269167573460217,0.8713187041233894,0.8014136218679567,0.7183493500977276,0.6234898018587336,0.5183925683105252,0.404783343122394,0.28452758663103267,0.15959989503337932,0.03205157757165533,-0.09602302590768154,-0.22252093395631434,-0.3453650544213075,-0.4625382902408351,-0.5721166601221694,-0.6723008902613166,-0.7614459583691342,-0.8380881048918404,-0.900968867902419,-0.9490557470106686,-0.9815591569910653,-0.9979453927503363,-0.9979453927503363,-0.9815591569910654,-0.9490557470106689,-0.9009688679024191,-0.8380881048918408,-0.7614459583691346,-0.672300890261317,-0.57211666012217,-0.4625382902408353,-0.34536505442130816,-0.2225209339563146,-0.09602302590768244,0.03205157757165486,0.1595998950333784,0.284527586631032,0.40478334312239295,0.5183925683105245,0.6234898018587334,0.718349350097727,0.8014136218679565,0.871318704123389,0.9269167573460216,0.9672948630390291,0.991790013823246,1.0],\"type\":\"scatter\"}],                        {\"title\":{\"text\":\"SIN and COS functions\"},\"xaxis\":{\"title\":{\"text\":\"x\"}},\"yaxis\":{\"title\":{\"text\":\"f(x)\"}},\"template\":{\"data\":{\"histogram2dcontour\":[{\"type\":\"histogram2dcontour\",\"colorbar\":{\"outlinewidth\":0,\"ticks\":\"\"},\"colorscale\":[[0.0,\"#0d0887\"],[0.1111111111111111,\"#46039f\"],[0.2222222222222222,\"#7201a8\"],[0.3333333333333333,\"#9c179e\"],[0.4444444444444444,\"#bd3786\"],[0.5555555555555556,\"#d8576b\"],[0.6666666666666666,\"#ed7953\"],[0.7777777777777778,\"#fb9f3a\"],[0.8888888888888888,\"#fdca26\"],[1.0,\"#f0f921\"]]}],\"choropleth\":[{\"type\":\"choropleth\",\"colorbar\":{\"outlinewidth\":0,\"ticks\":\"\"}}],\"histogram2d\":[{\"type\":\"histogram2d\",\"colorbar\":{\"outlinewidth\":0,\"ticks\":\"\"},\"colorscale\":[[0.0,\"#0d0887\"],[0.1111111111111111,\"#46039f\"],[0.2222222222222222,\"#7201a8\"],[0.3333333333333333,\"#9c179e\"],[0.4444444444444444,\"#bd3786\"],[0.5555555555555556,\"#d8576b\"],[0.6666666666666666,\"#ed7953\"],[0.7777777777777778,\"#fb9f3a\"],[0.8888888888888888,\"#fdca26\"],[1.0,\"#f0f921\"]]}],\"heatmap\":[{\"type\":\"heatmap\",\"colorbar\":{\"outlinewidth\":0,\"ticks\":\"\"},\"colorscale\":[[0.0,\"#0d0887\"],[0.1111111111111111,\"#46039f\"],[0.2222222222222222,\"#7201a8\"],[0.3333333333333333,\"#9c179e\"],[0.4444444444444444,\"#bd3786\"],[0.5555555555555556,\"#d8576b\"],[0.6666666666666666,\"#ed7953\"],[0.7777777777777778,\"#fb9f3a\"],[0.8888888888888888,\"#fdca26\"],[1.0,\"#f0f921\"]]}],\"heatmapgl\":[{\"type\":\"heatmapgl\",\"colorbar\":{\"outlinewidth\":0,\"ticks\":\"\"},\"colorscale\":[[0.0,\"#0d0887\"],[0.1111111111111111,\"#46039f\"],[0.2222222222222222,\"#7201a8\"],[0.3333333333333333,\"#9c179e\"],[0.4444444444444444,\"#bd3786\"],[0.5555555555555556,\"#d8576b\"],[0.6666666666666666,\"#ed7953\"],[0.7777777777777778,\"#fb9f3a\"],[0.8888888888888888,\"#fdca26\"],[1.0,\"#f0f921\"]]}],\"contourcarpet\":[{\"type\":\"contourcarpet\",\"colorbar\":{\"outlinewidth\":0,\"ticks\":\"\"}}],\"contour\":[{\"type\":\"contour\",\"colorbar\":{\"outlinewidth\":0,\"ticks\":\"\"},\"colorscale\":[[0.0,\"#0d0887\"],[0.1111111111111111,\"#46039f\"],[0.2222222222222222,\"#7201a8\"],[0.3333333333333333,\"#9c179e\"],[0.4444444444444444,\"#bd3786\"],[0.5555555555555556,\"#d8576b\"],[0.6666666666666666,\"#ed7953\"],[0.7777777777777778,\"#fb9f3a\"],[0.8888888888888888,\"#fdca26\"],[1.0,\"#f0f921\"]]}],\"surface\":[{\"type\":\"surface\",\"colorbar\":{\"outlinewidth\":0,\"ticks\":\"\"},\"colorscale\":[[0.0,\"#0d0887\"],[0.1111111111111111,\"#46039f\"],[0.2222222222222222,\"#7201a8\"],[0.3333333333333333,\"#9c179e\"],[0.4444444444444444,\"#bd3786\"],[0.5555555555555556,\"#d8576b\"],[0.6666666666666666,\"#ed7953\"],[0.7777777777777778,\"#fb9f3a\"],[0.8888888888888888,\"#fdca26\"],[1.0,\"#f0f921\"]]}],\"mesh3d\":[{\"type\":\"mesh3d\",\"colorbar\":{\"outlinewidth\":0,\"ticks\":\"\"}}],\"scatter\":[{\"fillpattern\":{\"fillmode\":\"overlay\",\"size\":10,\"solidity\":0.2},\"type\":\"scatter\"}],\"parcoords\":[{\"type\":\"parcoords\",\"line\":{\"colorbar\":{\"outlinewidth\":0,\"ticks\":\"\"}}}],\"scatterpolargl\":[{\"type\":\"scatterpolargl\",\"marker\":{\"colorbar\":{\"outlinewidth\":0,\"ticks\":\"\"}}}],\"bar\":[{\"error_x\":{\"color\":\"#2a3f5f\"},\"error_y\":{\"color\":\"#2a3f5f\"},\"marker\":{\"line\":{\"color\":\"#E5ECF6\",\"width\":0.5},\"pattern\":{\"fillmode\":\"overlay\",\"size\":10,\"solidity\":0.2}},\"type\":\"bar\"}],\"scattergeo\":[{\"type\":\"scattergeo\",\"marker\":{\"colorbar\":{\"outlinewidth\":0,\"ticks\":\"\"}}}],\"scatterpolar\":[{\"type\":\"scatterpolar\",\"marker\":{\"colorbar\":{\"outlinewidth\":0,\"ticks\":\"\"}}}],\"histogram\":[{\"marker\":{\"pattern\":{\"fillmode\":\"overlay\",\"size\":10,\"solidity\":0.2}},\"type\":\"histogram\"}],\"scattergl\":[{\"type\":\"scattergl\",\"marker\":{\"colorbar\":{\"outlinewidth\":0,\"ticks\":\"\"}}}],\"scatter3d\":[{\"type\":\"scatter3d\",\"line\":{\"colorbar\":{\"outlinewidth\":0,\"ticks\":\"\"}},\"marker\":{\"colorbar\":{\"outlinewidth\":0,\"ticks\":\"\"}}}],\"scattermapbox\":[{\"type\":\"scattermapbox\",\"marker\":{\"colorbar\":{\"outlinewidth\":0,\"ticks\":\"\"}}}],\"scatterternary\":[{\"type\":\"scatterternary\",\"marker\":{\"colorbar\":{\"outlinewidth\":0,\"ticks\":\"\"}}}],\"scattercarpet\":[{\"type\":\"scattercarpet\",\"marker\":{\"colorbar\":{\"outlinewidth\":0,\"ticks\":\"\"}}}],\"carpet\":[{\"aaxis\":{\"endlinecolor\":\"#2a3f5f\",\"gridcolor\":\"white\",\"linecolor\":\"white\",\"minorgridcolor\":\"white\",\"startlinecolor\":\"#2a3f5f\"},\"baxis\":{\"endlinecolor\":\"#2a3f5f\",\"gridcolor\":\"white\",\"linecolor\":\"white\",\"minorgridcolor\":\"white\",\"startlinecolor\":\"#2a3f5f\"},\"type\":\"carpet\"}],\"table\":[{\"cells\":{\"fill\":{\"color\":\"#EBF0F8\"},\"line\":{\"color\":\"white\"}},\"header\":{\"fill\":{\"color\":\"#C8D4E3\"},\"line\":{\"color\":\"white\"}},\"type\":\"table\"}],\"barpolar\":[{\"marker\":{\"line\":{\"color\":\"#E5ECF6\",\"width\":0.5},\"pattern\":{\"fillmode\":\"overlay\",\"size\":10,\"solidity\":0.2}},\"type\":\"barpolar\"}],\"pie\":[{\"automargin\":true,\"type\":\"pie\"}]},\"layout\":{\"autotypenumbers\":\"strict\",\"colorway\":[\"#636efa\",\"#EF553B\",\"#00cc96\",\"#ab63fa\",\"#FFA15A\",\"#19d3f3\",\"#FF6692\",\"#B6E880\",\"#FF97FF\",\"#FECB52\"],\"font\":{\"color\":\"#2a3f5f\"},\"hovermode\":\"closest\",\"hoverlabel\":{\"align\":\"left\"},\"paper_bgcolor\":\"white\",\"plot_bgcolor\":\"#E5ECF6\",\"polar\":{\"bgcolor\":\"#E5ECF6\",\"angularaxis\":{\"gridcolor\":\"white\",\"linecolor\":\"white\",\"ticks\":\"\"},\"radialaxis\":{\"gridcolor\":\"white\",\"linecolor\":\"white\",\"ticks\":\"\"}},\"ternary\":{\"bgcolor\":\"#E5ECF6\",\"aaxis\":{\"gridcolor\":\"white\",\"linecolor\":\"white\",\"ticks\":\"\"},\"baxis\":{\"gridcolor\":\"white\",\"linecolor\":\"white\",\"ticks\":\"\"},\"caxis\":{\"gridcolor\":\"white\",\"linecolor\":\"white\",\"ticks\":\"\"}},\"coloraxis\":{\"colorbar\":{\"outlinewidth\":0,\"ticks\":\"\"}},\"colorscale\":{\"sequential\":[[0.0,\"#0d0887\"],[0.1111111111111111,\"#46039f\"],[0.2222222222222222,\"#7201a8\"],[0.3333333333333333,\"#9c179e\"],[0.4444444444444444,\"#bd3786\"],[0.5555555555555556,\"#d8576b\"],[0.6666666666666666,\"#ed7953\"],[0.7777777777777778,\"#fb9f3a\"],[0.8888888888888888,\"#fdca26\"],[1.0,\"#f0f921\"]],\"sequentialminus\":[[0.0,\"#0d0887\"],[0.1111111111111111,\"#46039f\"],[0.2222222222222222,\"#7201a8\"],[0.3333333333333333,\"#9c179e\"],[0.4444444444444444,\"#bd3786\"],[0.5555555555555556,\"#d8576b\"],[0.6666666666666666,\"#ed7953\"],[0.7777777777777778,\"#fb9f3a\"],[0.8888888888888888,\"#fdca26\"],[1.0,\"#f0f921\"]],\"diverging\":[[0,\"#8e0152\"],[0.1,\"#c51b7d\"],[0.2,\"#de77ae\"],[0.3,\"#f1b6da\"],[0.4,\"#fde0ef\"],[0.5,\"#f7f7f7\"],[0.6,\"#e6f5d0\"],[0.7,\"#b8e186\"],[0.8,\"#7fbc41\"],[0.9,\"#4d9221\"],[1,\"#276419\"]]},\"xaxis\":{\"gridcolor\":\"white\",\"linecolor\":\"white\",\"ticks\":\"\",\"title\":{\"standoff\":15},\"zerolinecolor\":\"white\",\"automargin\":true,\"zerolinewidth\":2},\"yaxis\":{\"gridcolor\":\"white\",\"linecolor\":\"white\",\"ticks\":\"\",\"title\":{\"standoff\":15},\"zerolinecolor\":\"white\",\"automargin\":true,\"zerolinewidth\":2},\"scene\":{\"xaxis\":{\"backgroundcolor\":\"#E5ECF6\",\"gridcolor\":\"white\",\"linecolor\":\"white\",\"showbackground\":true,\"ticks\":\"\",\"zerolinecolor\":\"white\",\"gridwidth\":2},\"yaxis\":{\"backgroundcolor\":\"#E5ECF6\",\"gridcolor\":\"white\",\"linecolor\":\"white\",\"showbackground\":true,\"ticks\":\"\",\"zerolinecolor\":\"white\",\"gridwidth\":2},\"zaxis\":{\"backgroundcolor\":\"#E5ECF6\",\"gridcolor\":\"white\",\"linecolor\":\"white\",\"showbackground\":true,\"ticks\":\"\",\"zerolinecolor\":\"white\",\"gridwidth\":2}},\"shapedefaults\":{\"line\":{\"color\":\"#2a3f5f\"}},\"annotationdefaults\":{\"arrowcolor\":\"#2a3f5f\",\"arrowhead\":0,\"arrowwidth\":1},\"geo\":{\"bgcolor\":\"white\",\"landcolor\":\"#E5ECF6\",\"subunitcolor\":\"white\",\"showland\":true,\"showlakes\":true,\"lakecolor\":\"white\"},\"title\":{\"x\":0.05},\"mapbox\":{\"style\":\"light\"}}}},                        {\"displaylogo\": false, \"editable\": true, \"responsive\": true}                    ).then(function(){\n",
       "                            \n",
       "var gd = document.getElementById('be7d4322-ec0c-439c-9b26-129ff6e5c7b1');\n",
       "var x = new MutationObserver(function (mutations, observer) {{\n",
       "        var display = window.getComputedStyle(gd).display;\n",
       "        if (!display || display === 'none') {{\n",
       "            console.log([gd, 'removed!']);\n",
       "            Plotly.purge(gd);\n",
       "            observer.disconnect();\n",
       "        }}\n",
       "}});\n",
       "\n",
       "// Listen for the removal of the full notebook cells\n",
       "var notebookContainer = gd.closest('#notebook-container');\n",
       "if (notebookContainer) {{\n",
       "    x.observe(notebookContainer, {childList: true});\n",
       "}}\n",
       "\n",
       "// Listen for the clearing of the current output cell\n",
       "var outputEl = gd.closest('.output');\n",
       "if (outputEl) {{\n",
       "    x.observe(outputEl, {childList: true});\n",
       "}}\n",
       "\n",
       "                        })                };                });            </script>        </div>"
      ]
     },
     "metadata": {},
     "output_type": "display_data"
    }
   ],
   "source": [
    "# For example, remove the Plotly logo for a cleaner layout, and make texts editable:\n",
    "fig.show(config=dict(\n",
    "    displaylogo=False,\n",
    "    editable=True,\n",
    "))"
   ]
  },
  {
   "cell_type": "markdown",
   "metadata": {},
   "source": [
    "## Exercise"
   ]
  },
  {
   "cell_type": "markdown",
   "metadata": {},
   "source": [
    "Using the example cluster data, loaded with:"
   ]
  },
  {
   "cell_type": "code",
   "execution_count": 67,
   "metadata": {},
   "outputs": [],
   "source": [
    "import pandas as pd\n",
    "table = pd.read_csv('https://raw.githubusercontent.com/chumo/Data2Serve/master/transition_clusters.csv')\n",
    "trace = dict(\n",
    "    type='scatter',\n",
    "    x=table.Xf,\n",
    "    y=table.Yf,\n",
    "    mode='markers',\n",
    "    marker=dict(color=table.color),\n",
    "    #marker_color=table['color'] # works similar\n",
    "    hovertext=table.color\n",
    "    )\n",
    "\n",
    "layout = dict(\n",
    "    title='Random clusters',\n",
    "    xaxis=dict(title='Xf', range=[50,350]),\n",
    "    yaxis=dict(title='Yf', range=[50,380]),\n",
    "    width=500,\n",
    "    height=400\n",
    ")\n",
    "\n",
    "fig = go.Figure(data=[trace], layout=layout)"
   ]
  },
  {
   "cell_type": "code",
   "execution_count": 68,
   "metadata": {},
   "outputs": [
    {
     "data": {
      "application/vnd.plotly.v1+json": {
       "config": {
        "plotlyServerURL": "https://plot.ly"
       },
       "data": [
        {
         "hovertext": [
          "red",
          "red",
          "red",
          "red",
          "red",
          "red",
          "red",
          "red",
          "red",
          "red",
          "red",
          "red",
          "red",
          "red",
          "red",
          "red",
          "red",
          "red",
          "red",
          "red",
          "red",
          "red",
          "red",
          "red",
          "red",
          "red",
          "red",
          "red",
          "red",
          "red",
          "green",
          "green",
          "green",
          "green",
          "green",
          "green",
          "green",
          "green",
          "green",
          "green",
          "green",
          "green",
          "green",
          "green",
          "green",
          "green",
          "green",
          "green",
          "green",
          "green",
          "green",
          "green",
          "green",
          "green",
          "green",
          "green",
          "green",
          "green",
          "green",
          "green",
          "blue",
          "blue",
          "blue",
          "blue",
          "blue",
          "blue",
          "blue",
          "blue",
          "blue",
          "blue",
          "blue",
          "blue",
          "blue",
          "blue",
          "blue",
          "blue",
          "blue",
          "blue",
          "blue",
          "blue",
          "blue",
          "blue",
          "blue",
          "blue",
          "blue",
          "blue",
          "blue",
          "blue",
          "blue",
          "blue"
         ],
         "marker": {
          "color": [
           "red",
           "red",
           "red",
           "red",
           "red",
           "red",
           "red",
           "red",
           "red",
           "red",
           "red",
           "red",
           "red",
           "red",
           "red",
           "red",
           "red",
           "red",
           "red",
           "red",
           "red",
           "red",
           "red",
           "red",
           "red",
           "red",
           "red",
           "red",
           "red",
           "red",
           "green",
           "green",
           "green",
           "green",
           "green",
           "green",
           "green",
           "green",
           "green",
           "green",
           "green",
           "green",
           "green",
           "green",
           "green",
           "green",
           "green",
           "green",
           "green",
           "green",
           "green",
           "green",
           "green",
           "green",
           "green",
           "green",
           "green",
           "green",
           "green",
           "green",
           "blue",
           "blue",
           "blue",
           "blue",
           "blue",
           "blue",
           "blue",
           "blue",
           "blue",
           "blue",
           "blue",
           "blue",
           "blue",
           "blue",
           "blue",
           "blue",
           "blue",
           "blue",
           "blue",
           "blue",
           "blue",
           "blue",
           "blue",
           "blue",
           "blue",
           "blue",
           "blue",
           "blue",
           "blue",
           "blue"
          ]
         },
         "mode": "markers",
         "type": "scatter",
         "x": [
          90.75584668916012,
          84.1896066497078,
          112.12184474773792,
          116.74726615961323,
          97.93840664961658,
          104.02750275651955,
          86.56590016261661,
          106.34273632022268,
          112.80106451084309,
          113.04824126792809,
          59.386767170530256,
          106.10932283309396,
          102.67390108356308,
          110.43346092247242,
          107.42325016129485,
          96.30033742380958,
          119.5110160447247,
          104.4038560207679,
          145.01868752328159,
          60.72706173856358,
          83.66906400139905,
          97.835562279214,
          93.2484444136512,
          107.17445860631041,
          113.62329497033896,
          105.99568137761351,
          97.0551928335592,
          79.4324614192561,
          96.73176023955557,
          85.18970242949561,
          224.86035596607186,
          223.221163418267,
          197.9557160667931,
          255.93232536195598,
          214.48537323066242,
          251.35538297180503,
          229.95081868939343,
          250.1196723074273,
          227.89194135533276,
          226.97419906119976,
          211.4453536178937,
          217.6642513181342,
          200.00196517027786,
          242.92811322188442,
          238.4417183842289,
          216.20331880568418,
          246.3447542337889,
          229.1326576273109,
          191.0097281545669,
          232.27542756107465,
          259.51325471414407,
          201.3804794068146,
          220.49650692135867,
          245.56824891509387,
          225.20643806671558,
          226.0874507015087,
          194.8695355706552,
          209.59200707541237,
          219.32177892327343,
          223.86231709191773,
          278.953089018564,
          310.99044591232143,
          300.18822736988164,
          327.95592607094426,
          281.0914330077054,
          284.23817234676693,
          306.94120819938587,
          334.0471234082148,
          315.34819875906504,
          340.53298769523127,
          302.5938916079953,
          332.5097215783313,
          322.0355997015,
          323.20372337085803,
          317.54531697960056,
          336.97011206313107,
          294.48766621773257,
          297.2236164280178,
          295.84872722280954,
          311.394278023762,
          323.39535982286543,
          289.8241459700507,
          306.48816268112165,
          284.3088986586671,
          289.8945248480923,
          298.8023407282143,
          322.5768223512296,
          293.64443800718675,
          304.09224097284283,
          320.8286498685931
         ],
         "y": [
          171.36305145599832,
          182.8909026601121,
          144.2885557461066,
          170.04975633076566,
          181.777689320059,
          154.6404977893314,
          172.1955609914016,
          160.08140705574297,
          179.7578317983617,
          142.919023074974,
          213.0727175617316,
          149.3466941985945,
          166.09376036653245,
          161.658642978131,
          180.88518921787647,
          181.8107826798447,
          186.1150797054459,
          205.33817851170383,
          154.85496148836398,
          174.75143976043174,
          176.1055854257733,
          181.89675587226427,
          151.5701268215669,
          174.46339721268745,
          168.15766712015002,
          176.1022108019683,
          175.37049869445522,
          199.35721767489486,
          154.21001042247926,
          205.26424796444385,
          338.515162590575,
          301.75663044274836,
          279.8278967010393,
          327.23430560364983,
          295.37012964756264,
          332.9711076906101,
          311.36263928688714,
          328.0405751895687,
          317.67365492555786,
          334.89880107541376,
          337.639930338434,
          315.6740535797863,
          344.5445501130185,
          337.00669188462604,
          342.682671445092,
          316.07576189968836,
          339.5826248232415,
          310.26541371470506,
          312.27460040777044,
          357.96155828815284,
          336.9949033978265,
          341.4716879702023,
          315.6149840460731,
          351.85873209260063,
          317.5303176603673,
          333.2321713527934,
          295.01509218068287,
          310.01469037793726,
          351.0723018636541,
          314.1289396454004,
          144.8466066985989,
          125.15385180358182,
          116.24937081600063,
          161.04880587813562,
          143.0892810879779,
          128.02239164550275,
          165.7166488675584,
          137.32629834956057,
          117.59284806415651,
          137.59903786965106,
          136.69964690094636,
          103.09562841723415,
          100.93690168009128,
          101.01580853903258,
          99.51243912114737,
          107.80242593318808,
          127.08414791285904,
          163.91273130923838,
          124.10982572043359,
          128.97725975495507,
          138.37372455427266,
          162.7882268003007,
          124.54083039297836,
          97.89390785294714,
          89.11589096602802,
          149.8686982543653,
          108.1781180270076,
          130.64662308700736,
          91.98403273142249,
          119.71619543917214
         ]
        }
       ],
       "layout": {
        "height": 400,
        "template": {
         "data": {
          "bar": [
           {
            "error_x": {
             "color": "#2a3f5f"
            },
            "error_y": {
             "color": "#2a3f5f"
            },
            "marker": {
             "line": {
              "color": "#E5ECF6",
              "width": 0.5
             },
             "pattern": {
              "fillmode": "overlay",
              "size": 10,
              "solidity": 0.2
             }
            },
            "type": "bar"
           }
          ],
          "barpolar": [
           {
            "marker": {
             "line": {
              "color": "#E5ECF6",
              "width": 0.5
             },
             "pattern": {
              "fillmode": "overlay",
              "size": 10,
              "solidity": 0.2
             }
            },
            "type": "barpolar"
           }
          ],
          "carpet": [
           {
            "aaxis": {
             "endlinecolor": "#2a3f5f",
             "gridcolor": "white",
             "linecolor": "white",
             "minorgridcolor": "white",
             "startlinecolor": "#2a3f5f"
            },
            "baxis": {
             "endlinecolor": "#2a3f5f",
             "gridcolor": "white",
             "linecolor": "white",
             "minorgridcolor": "white",
             "startlinecolor": "#2a3f5f"
            },
            "type": "carpet"
           }
          ],
          "choropleth": [
           {
            "colorbar": {
             "outlinewidth": 0,
             "ticks": ""
            },
            "type": "choropleth"
           }
          ],
          "contour": [
           {
            "colorbar": {
             "outlinewidth": 0,
             "ticks": ""
            },
            "colorscale": [
             [
              0,
              "#0d0887"
             ],
             [
              0.1111111111111111,
              "#46039f"
             ],
             [
              0.2222222222222222,
              "#7201a8"
             ],
             [
              0.3333333333333333,
              "#9c179e"
             ],
             [
              0.4444444444444444,
              "#bd3786"
             ],
             [
              0.5555555555555556,
              "#d8576b"
             ],
             [
              0.6666666666666666,
              "#ed7953"
             ],
             [
              0.7777777777777778,
              "#fb9f3a"
             ],
             [
              0.8888888888888888,
              "#fdca26"
             ],
             [
              1,
              "#f0f921"
             ]
            ],
            "type": "contour"
           }
          ],
          "contourcarpet": [
           {
            "colorbar": {
             "outlinewidth": 0,
             "ticks": ""
            },
            "type": "contourcarpet"
           }
          ],
          "heatmap": [
           {
            "colorbar": {
             "outlinewidth": 0,
             "ticks": ""
            },
            "colorscale": [
             [
              0,
              "#0d0887"
             ],
             [
              0.1111111111111111,
              "#46039f"
             ],
             [
              0.2222222222222222,
              "#7201a8"
             ],
             [
              0.3333333333333333,
              "#9c179e"
             ],
             [
              0.4444444444444444,
              "#bd3786"
             ],
             [
              0.5555555555555556,
              "#d8576b"
             ],
             [
              0.6666666666666666,
              "#ed7953"
             ],
             [
              0.7777777777777778,
              "#fb9f3a"
             ],
             [
              0.8888888888888888,
              "#fdca26"
             ],
             [
              1,
              "#f0f921"
             ]
            ],
            "type": "heatmap"
           }
          ],
          "heatmapgl": [
           {
            "colorbar": {
             "outlinewidth": 0,
             "ticks": ""
            },
            "colorscale": [
             [
              0,
              "#0d0887"
             ],
             [
              0.1111111111111111,
              "#46039f"
             ],
             [
              0.2222222222222222,
              "#7201a8"
             ],
             [
              0.3333333333333333,
              "#9c179e"
             ],
             [
              0.4444444444444444,
              "#bd3786"
             ],
             [
              0.5555555555555556,
              "#d8576b"
             ],
             [
              0.6666666666666666,
              "#ed7953"
             ],
             [
              0.7777777777777778,
              "#fb9f3a"
             ],
             [
              0.8888888888888888,
              "#fdca26"
             ],
             [
              1,
              "#f0f921"
             ]
            ],
            "type": "heatmapgl"
           }
          ],
          "histogram": [
           {
            "marker": {
             "pattern": {
              "fillmode": "overlay",
              "size": 10,
              "solidity": 0.2
             }
            },
            "type": "histogram"
           }
          ],
          "histogram2d": [
           {
            "colorbar": {
             "outlinewidth": 0,
             "ticks": ""
            },
            "colorscale": [
             [
              0,
              "#0d0887"
             ],
             [
              0.1111111111111111,
              "#46039f"
             ],
             [
              0.2222222222222222,
              "#7201a8"
             ],
             [
              0.3333333333333333,
              "#9c179e"
             ],
             [
              0.4444444444444444,
              "#bd3786"
             ],
             [
              0.5555555555555556,
              "#d8576b"
             ],
             [
              0.6666666666666666,
              "#ed7953"
             ],
             [
              0.7777777777777778,
              "#fb9f3a"
             ],
             [
              0.8888888888888888,
              "#fdca26"
             ],
             [
              1,
              "#f0f921"
             ]
            ],
            "type": "histogram2d"
           }
          ],
          "histogram2dcontour": [
           {
            "colorbar": {
             "outlinewidth": 0,
             "ticks": ""
            },
            "colorscale": [
             [
              0,
              "#0d0887"
             ],
             [
              0.1111111111111111,
              "#46039f"
             ],
             [
              0.2222222222222222,
              "#7201a8"
             ],
             [
              0.3333333333333333,
              "#9c179e"
             ],
             [
              0.4444444444444444,
              "#bd3786"
             ],
             [
              0.5555555555555556,
              "#d8576b"
             ],
             [
              0.6666666666666666,
              "#ed7953"
             ],
             [
              0.7777777777777778,
              "#fb9f3a"
             ],
             [
              0.8888888888888888,
              "#fdca26"
             ],
             [
              1,
              "#f0f921"
             ]
            ],
            "type": "histogram2dcontour"
           }
          ],
          "mesh3d": [
           {
            "colorbar": {
             "outlinewidth": 0,
             "ticks": ""
            },
            "type": "mesh3d"
           }
          ],
          "parcoords": [
           {
            "line": {
             "colorbar": {
              "outlinewidth": 0,
              "ticks": ""
             }
            },
            "type": "parcoords"
           }
          ],
          "pie": [
           {
            "automargin": true,
            "type": "pie"
           }
          ],
          "scatter": [
           {
            "fillpattern": {
             "fillmode": "overlay",
             "size": 10,
             "solidity": 0.2
            },
            "type": "scatter"
           }
          ],
          "scatter3d": [
           {
            "line": {
             "colorbar": {
              "outlinewidth": 0,
              "ticks": ""
             }
            },
            "marker": {
             "colorbar": {
              "outlinewidth": 0,
              "ticks": ""
             }
            },
            "type": "scatter3d"
           }
          ],
          "scattercarpet": [
           {
            "marker": {
             "colorbar": {
              "outlinewidth": 0,
              "ticks": ""
             }
            },
            "type": "scattercarpet"
           }
          ],
          "scattergeo": [
           {
            "marker": {
             "colorbar": {
              "outlinewidth": 0,
              "ticks": ""
             }
            },
            "type": "scattergeo"
           }
          ],
          "scattergl": [
           {
            "marker": {
             "colorbar": {
              "outlinewidth": 0,
              "ticks": ""
             }
            },
            "type": "scattergl"
           }
          ],
          "scattermapbox": [
           {
            "marker": {
             "colorbar": {
              "outlinewidth": 0,
              "ticks": ""
             }
            },
            "type": "scattermapbox"
           }
          ],
          "scatterpolar": [
           {
            "marker": {
             "colorbar": {
              "outlinewidth": 0,
              "ticks": ""
             }
            },
            "type": "scatterpolar"
           }
          ],
          "scatterpolargl": [
           {
            "marker": {
             "colorbar": {
              "outlinewidth": 0,
              "ticks": ""
             }
            },
            "type": "scatterpolargl"
           }
          ],
          "scatterternary": [
           {
            "marker": {
             "colorbar": {
              "outlinewidth": 0,
              "ticks": ""
             }
            },
            "type": "scatterternary"
           }
          ],
          "surface": [
           {
            "colorbar": {
             "outlinewidth": 0,
             "ticks": ""
            },
            "colorscale": [
             [
              0,
              "#0d0887"
             ],
             [
              0.1111111111111111,
              "#46039f"
             ],
             [
              0.2222222222222222,
              "#7201a8"
             ],
             [
              0.3333333333333333,
              "#9c179e"
             ],
             [
              0.4444444444444444,
              "#bd3786"
             ],
             [
              0.5555555555555556,
              "#d8576b"
             ],
             [
              0.6666666666666666,
              "#ed7953"
             ],
             [
              0.7777777777777778,
              "#fb9f3a"
             ],
             [
              0.8888888888888888,
              "#fdca26"
             ],
             [
              1,
              "#f0f921"
             ]
            ],
            "type": "surface"
           }
          ],
          "table": [
           {
            "cells": {
             "fill": {
              "color": "#EBF0F8"
             },
             "line": {
              "color": "white"
             }
            },
            "header": {
             "fill": {
              "color": "#C8D4E3"
             },
             "line": {
              "color": "white"
             }
            },
            "type": "table"
           }
          ]
         },
         "layout": {
          "annotationdefaults": {
           "arrowcolor": "#2a3f5f",
           "arrowhead": 0,
           "arrowwidth": 1
          },
          "autotypenumbers": "strict",
          "coloraxis": {
           "colorbar": {
            "outlinewidth": 0,
            "ticks": ""
           }
          },
          "colorscale": {
           "diverging": [
            [
             0,
             "#8e0152"
            ],
            [
             0.1,
             "#c51b7d"
            ],
            [
             0.2,
             "#de77ae"
            ],
            [
             0.3,
             "#f1b6da"
            ],
            [
             0.4,
             "#fde0ef"
            ],
            [
             0.5,
             "#f7f7f7"
            ],
            [
             0.6,
             "#e6f5d0"
            ],
            [
             0.7,
             "#b8e186"
            ],
            [
             0.8,
             "#7fbc41"
            ],
            [
             0.9,
             "#4d9221"
            ],
            [
             1,
             "#276419"
            ]
           ],
           "sequential": [
            [
             0,
             "#0d0887"
            ],
            [
             0.1111111111111111,
             "#46039f"
            ],
            [
             0.2222222222222222,
             "#7201a8"
            ],
            [
             0.3333333333333333,
             "#9c179e"
            ],
            [
             0.4444444444444444,
             "#bd3786"
            ],
            [
             0.5555555555555556,
             "#d8576b"
            ],
            [
             0.6666666666666666,
             "#ed7953"
            ],
            [
             0.7777777777777778,
             "#fb9f3a"
            ],
            [
             0.8888888888888888,
             "#fdca26"
            ],
            [
             1,
             "#f0f921"
            ]
           ],
           "sequentialminus": [
            [
             0,
             "#0d0887"
            ],
            [
             0.1111111111111111,
             "#46039f"
            ],
            [
             0.2222222222222222,
             "#7201a8"
            ],
            [
             0.3333333333333333,
             "#9c179e"
            ],
            [
             0.4444444444444444,
             "#bd3786"
            ],
            [
             0.5555555555555556,
             "#d8576b"
            ],
            [
             0.6666666666666666,
             "#ed7953"
            ],
            [
             0.7777777777777778,
             "#fb9f3a"
            ],
            [
             0.8888888888888888,
             "#fdca26"
            ],
            [
             1,
             "#f0f921"
            ]
           ]
          },
          "colorway": [
           "#636efa",
           "#EF553B",
           "#00cc96",
           "#ab63fa",
           "#FFA15A",
           "#19d3f3",
           "#FF6692",
           "#B6E880",
           "#FF97FF",
           "#FECB52"
          ],
          "font": {
           "color": "#2a3f5f"
          },
          "geo": {
           "bgcolor": "white",
           "lakecolor": "white",
           "landcolor": "#E5ECF6",
           "showlakes": true,
           "showland": true,
           "subunitcolor": "white"
          },
          "hoverlabel": {
           "align": "left"
          },
          "hovermode": "closest",
          "mapbox": {
           "style": "light"
          },
          "paper_bgcolor": "white",
          "plot_bgcolor": "#E5ECF6",
          "polar": {
           "angularaxis": {
            "gridcolor": "white",
            "linecolor": "white",
            "ticks": ""
           },
           "bgcolor": "#E5ECF6",
           "radialaxis": {
            "gridcolor": "white",
            "linecolor": "white",
            "ticks": ""
           }
          },
          "scene": {
           "xaxis": {
            "backgroundcolor": "#E5ECF6",
            "gridcolor": "white",
            "gridwidth": 2,
            "linecolor": "white",
            "showbackground": true,
            "ticks": "",
            "zerolinecolor": "white"
           },
           "yaxis": {
            "backgroundcolor": "#E5ECF6",
            "gridcolor": "white",
            "gridwidth": 2,
            "linecolor": "white",
            "showbackground": true,
            "ticks": "",
            "zerolinecolor": "white"
           },
           "zaxis": {
            "backgroundcolor": "#E5ECF6",
            "gridcolor": "white",
            "gridwidth": 2,
            "linecolor": "white",
            "showbackground": true,
            "ticks": "",
            "zerolinecolor": "white"
           }
          },
          "shapedefaults": {
           "line": {
            "color": "#2a3f5f"
           }
          },
          "ternary": {
           "aaxis": {
            "gridcolor": "white",
            "linecolor": "white",
            "ticks": ""
           },
           "baxis": {
            "gridcolor": "white",
            "linecolor": "white",
            "ticks": ""
           },
           "bgcolor": "#E5ECF6",
           "caxis": {
            "gridcolor": "white",
            "linecolor": "white",
            "ticks": ""
           }
          },
          "title": {
           "x": 0.05
          },
          "xaxis": {
           "automargin": true,
           "gridcolor": "white",
           "linecolor": "white",
           "ticks": "",
           "title": {
            "standoff": 15
           },
           "zerolinecolor": "white",
           "zerolinewidth": 2
          },
          "yaxis": {
           "automargin": true,
           "gridcolor": "white",
           "linecolor": "white",
           "ticks": "",
           "title": {
            "standoff": 15
           },
           "zerolinecolor": "white",
           "zerolinewidth": 2
          }
         }
        },
        "title": {
         "text": "Random clusters"
        },
        "width": 500,
        "xaxis": {
         "range": [
          50,
          350
         ],
         "title": {
          "text": "Xf"
         },
         "type": "linear"
        },
        "yaxis": {
         "range": [
          50,
          380
         ],
         "title": {
          "text": "Yf"
         },
         "type": "linear"
        }
       }
      },
      "image/png": "[encoded data removed]",
      "text/html": [
       "<div>                            <div id=\"85bec46f-f47a-43c2-97a3-06c2f7b3becb\" class=\"plotly-graph-div\" style=\"height:400px; width:500px;\"></div>            <script type=\"text/javascript\">                require([\"plotly\"], function(Plotly) {                    window.PLOTLYENV=window.PLOTLYENV || {};                                    if (document.getElementById(\"85bec46f-f47a-43c2-97a3-06c2f7b3becb\")) {                    Plotly.newPlot(                        \"85bec46f-f47a-43c2-97a3-06c2f7b3becb\",                        [{\"hovertext\":[\"red\",\"red\",\"red\",\"red\",\"red\",\"red\",\"red\",\"red\",\"red\",\"red\",\"red\",\"red\",\"red\",\"red\",\"red\",\"red\",\"red\",\"red\",\"red\",\"red\",\"red\",\"red\",\"red\",\"red\",\"red\",\"red\",\"red\",\"red\",\"red\",\"red\",\"green\",\"green\",\"green\",\"green\",\"green\",\"green\",\"green\",\"green\",\"green\",\"green\",\"green\",\"green\",\"green\",\"green\",\"green\",\"green\",\"green\",\"green\",\"green\",\"green\",\"green\",\"green\",\"green\",\"green\",\"green\",\"green\",\"green\",\"green\",\"green\",\"green\",\"blue\",\"blue\",\"blue\",\"blue\",\"blue\",\"blue\",\"blue\",\"blue\",\"blue\",\"blue\",\"blue\",\"blue\",\"blue\",\"blue\",\"blue\",\"blue\",\"blue\",\"blue\",\"blue\",\"blue\",\"blue\",\"blue\",\"blue\",\"blue\",\"blue\",\"blue\",\"blue\",\"blue\",\"blue\",\"blue\"],\"marker\":{\"color\":[\"red\",\"red\",\"red\",\"red\",\"red\",\"red\",\"red\",\"red\",\"red\",\"red\",\"red\",\"red\",\"red\",\"red\",\"red\",\"red\",\"red\",\"red\",\"red\",\"red\",\"red\",\"red\",\"red\",\"red\",\"red\",\"red\",\"red\",\"red\",\"red\",\"red\",\"green\",\"green\",\"green\",\"green\",\"green\",\"green\",\"green\",\"green\",\"green\",\"green\",\"green\",\"green\",\"green\",\"green\",\"green\",\"green\",\"green\",\"green\",\"green\",\"green\",\"green\",\"green\",\"green\",\"green\",\"green\",\"green\",\"green\",\"green\",\"green\",\"green\",\"blue\",\"blue\",\"blue\",\"blue\",\"blue\",\"blue\",\"blue\",\"blue\",\"blue\",\"blue\",\"blue\",\"blue\",\"blue\",\"blue\",\"blue\",\"blue\",\"blue\",\"blue\",\"blue\",\"blue\",\"blue\",\"blue\",\"blue\",\"blue\",\"blue\",\"blue\",\"blue\",\"blue\",\"blue\",\"blue\"]},\"mode\":\"markers\",\"x\":[90.75584668916012,84.1896066497078,112.12184474773792,116.74726615961323,97.93840664961658,104.02750275651955,86.56590016261661,106.34273632022268,112.80106451084309,113.04824126792809,59.386767170530256,106.10932283309396,102.67390108356308,110.43346092247242,107.42325016129485,96.30033742380958,119.5110160447247,104.4038560207679,145.01868752328159,60.72706173856358,83.66906400139905,97.835562279214,93.2484444136512,107.17445860631041,113.62329497033896,105.99568137761351,97.0551928335592,79.4324614192561,96.73176023955557,85.18970242949561,224.86035596607186,223.221163418267,197.9557160667931,255.93232536195598,214.48537323066242,251.35538297180503,229.95081868939343,250.1196723074273,227.89194135533276,226.97419906119976,211.4453536178937,217.6642513181342,200.00196517027786,242.92811322188442,238.4417183842289,216.20331880568418,246.3447542337889,229.1326576273109,191.0097281545669,232.27542756107465,259.51325471414407,201.3804794068146,220.49650692135867,245.56824891509387,225.20643806671558,226.0874507015087,194.8695355706552,209.59200707541237,219.32177892327343,223.86231709191773,278.953089018564,310.99044591232143,300.18822736988164,327.95592607094426,281.0914330077054,284.23817234676693,306.94120819938587,334.0471234082148,315.34819875906504,340.53298769523127,302.5938916079953,332.5097215783313,322.0355997015,323.20372337085803,317.54531697960056,336.97011206313107,294.48766621773257,297.2236164280178,295.84872722280954,311.394278023762,323.39535982286543,289.8241459700507,306.48816268112165,284.3088986586671,289.8945248480923,298.8023407282143,322.5768223512296,293.64443800718675,304.09224097284283,320.8286498685931],\"y\":[171.36305145599832,182.8909026601121,144.2885557461066,170.04975633076566,181.777689320059,154.6404977893314,172.1955609914016,160.08140705574297,179.7578317983617,142.919023074974,213.0727175617316,149.3466941985945,166.09376036653245,161.658642978131,180.88518921787647,181.8107826798447,186.1150797054459,205.33817851170383,154.85496148836398,174.75143976043174,176.1055854257733,181.89675587226427,151.5701268215669,174.46339721268745,168.15766712015002,176.1022108019683,175.37049869445522,199.35721767489486,154.21001042247926,205.26424796444385,338.515162590575,301.75663044274836,279.8278967010393,327.23430560364983,295.37012964756264,332.9711076906101,311.36263928688714,328.0405751895687,317.67365492555786,334.89880107541376,337.639930338434,315.6740535797863,344.5445501130185,337.00669188462604,342.682671445092,316.07576189968836,339.5826248232415,310.26541371470506,312.27460040777044,357.96155828815284,336.9949033978265,341.4716879702023,315.6149840460731,351.85873209260063,317.5303176603673,333.2321713527934,295.01509218068287,310.01469037793726,351.0723018636541,314.1289396454004,144.8466066985989,125.15385180358182,116.24937081600063,161.04880587813562,143.0892810879779,128.02239164550275,165.7166488675584,137.32629834956057,117.59284806415651,137.59903786965106,136.69964690094636,103.09562841723415,100.93690168009128,101.01580853903258,99.51243912114737,107.80242593318808,127.08414791285904,163.91273130923838,124.10982572043359,128.97725975495507,138.37372455427266,162.7882268003007,124.54083039297836,97.89390785294714,89.11589096602802,149.8686982543653,108.1781180270076,130.64662308700736,91.98403273142249,119.71619543917214],\"type\":\"scatter\"}],                        {\"height\":400,\"title\":{\"text\":\"Random clusters\"},\"width\":500,\"xaxis\":{\"range\":[50,350],\"title\":{\"text\":\"Xf\"}},\"yaxis\":{\"range\":[50,380],\"title\":{\"text\":\"Yf\"}},\"template\":{\"data\":{\"histogram2dcontour\":[{\"type\":\"histogram2dcontour\",\"colorbar\":{\"outlinewidth\":0,\"ticks\":\"\"},\"colorscale\":[[0.0,\"#0d0887\"],[0.1111111111111111,\"#46039f\"],[0.2222222222222222,\"#7201a8\"],[0.3333333333333333,\"#9c179e\"],[0.4444444444444444,\"#bd3786\"],[0.5555555555555556,\"#d8576b\"],[0.6666666666666666,\"#ed7953\"],[0.7777777777777778,\"#fb9f3a\"],[0.8888888888888888,\"#fdca26\"],[1.0,\"#f0f921\"]]}],\"choropleth\":[{\"type\":\"choropleth\",\"colorbar\":{\"outlinewidth\":0,\"ticks\":\"\"}}],\"histogram2d\":[{\"type\":\"histogram2d\",\"colorbar\":{\"outlinewidth\":0,\"ticks\":\"\"},\"colorscale\":[[0.0,\"#0d0887\"],[0.1111111111111111,\"#46039f\"],[0.2222222222222222,\"#7201a8\"],[0.3333333333333333,\"#9c179e\"],[0.4444444444444444,\"#bd3786\"],[0.5555555555555556,\"#d8576b\"],[0.6666666666666666,\"#ed7953\"],[0.7777777777777778,\"#fb9f3a\"],[0.8888888888888888,\"#fdca26\"],[1.0,\"#f0f921\"]]}],\"heatmap\":[{\"type\":\"heatmap\",\"colorbar\":{\"outlinewidth\":0,\"ticks\":\"\"},\"colorscale\":[[0.0,\"#0d0887\"],[0.1111111111111111,\"#46039f\"],[0.2222222222222222,\"#7201a8\"],[0.3333333333333333,\"#9c179e\"],[0.4444444444444444,\"#bd3786\"],[0.5555555555555556,\"#d8576b\"],[0.6666666666666666,\"#ed7953\"],[0.7777777777777778,\"#fb9f3a\"],[0.8888888888888888,\"#fdca26\"],[1.0,\"#f0f921\"]]}],\"heatmapgl\":[{\"type\":\"heatmapgl\",\"colorbar\":{\"outlinewidth\":0,\"ticks\":\"\"},\"colorscale\":[[0.0,\"#0d0887\"],[0.1111111111111111,\"#46039f\"],[0.2222222222222222,\"#7201a8\"],[0.3333333333333333,\"#9c179e\"],[0.4444444444444444,\"#bd3786\"],[0.5555555555555556,\"#d8576b\"],[0.6666666666666666,\"#ed7953\"],[0.7777777777777778,\"#fb9f3a\"],[0.8888888888888888,\"#fdca26\"],[1.0,\"#f0f921\"]]}],\"contourcarpet\":[{\"type\":\"contourcarpet\",\"colorbar\":{\"outlinewidth\":0,\"ticks\":\"\"}}],\"contour\":[{\"type\":\"contour\",\"colorbar\":{\"outlinewidth\":0,\"ticks\":\"\"},\"colorscale\":[[0.0,\"#0d0887\"],[0.1111111111111111,\"#46039f\"],[0.2222222222222222,\"#7201a8\"],[0.3333333333333333,\"#9c179e\"],[0.4444444444444444,\"#bd3786\"],[0.5555555555555556,\"#d8576b\"],[0.6666666666666666,\"#ed7953\"],[0.7777777777777778,\"#fb9f3a\"],[0.8888888888888888,\"#fdca26\"],[1.0,\"#f0f921\"]]}],\"surface\":[{\"type\":\"surface\",\"colorbar\":{\"outlinewidth\":0,\"ticks\":\"\"},\"colorscale\":[[0.0,\"#0d0887\"],[0.1111111111111111,\"#46039f\"],[0.2222222222222222,\"#7201a8\"],[0.3333333333333333,\"#9c179e\"],[0.4444444444444444,\"#bd3786\"],[0.5555555555555556,\"#d8576b\"],[0.6666666666666666,\"#ed7953\"],[0.7777777777777778,\"#fb9f3a\"],[0.8888888888888888,\"#fdca26\"],[1.0,\"#f0f921\"]]}],\"mesh3d\":[{\"type\":\"mesh3d\",\"colorbar\":{\"outlinewidth\":0,\"ticks\":\"\"}}],\"scatter\":[{\"fillpattern\":{\"fillmode\":\"overlay\",\"size\":10,\"solidity\":0.2},\"type\":\"scatter\"}],\"parcoords\":[{\"type\":\"parcoords\",\"line\":{\"colorbar\":{\"outlinewidth\":0,\"ticks\":\"\"}}}],\"scatterpolargl\":[{\"type\":\"scatterpolargl\",\"marker\":{\"colorbar\":{\"outlinewidth\":0,\"ticks\":\"\"}}}],\"bar\":[{\"error_x\":{\"color\":\"#2a3f5f\"},\"error_y\":{\"color\":\"#2a3f5f\"},\"marker\":{\"line\":{\"color\":\"#E5ECF6\",\"width\":0.5},\"pattern\":{\"fillmode\":\"overlay\",\"size\":10,\"solidity\":0.2}},\"type\":\"bar\"}],\"scattergeo\":[{\"type\":\"scattergeo\",\"marker\":{\"colorbar\":{\"outlinewidth\":0,\"ticks\":\"\"}}}],\"scatterpolar\":[{\"type\":\"scatterpolar\",\"marker\":{\"colorbar\":{\"outlinewidth\":0,\"ticks\":\"\"}}}],\"histogram\":[{\"marker\":{\"pattern\":{\"fillmode\":\"overlay\",\"size\":10,\"solidity\":0.2}},\"type\":\"histogram\"}],\"scattergl\":[{\"type\":\"scattergl\",\"marker\":{\"colorbar\":{\"outlinewidth\":0,\"ticks\":\"\"}}}],\"scatter3d\":[{\"type\":\"scatter3d\",\"line\":{\"colorbar\":{\"outlinewidth\":0,\"ticks\":\"\"}},\"marker\":{\"colorbar\":{\"outlinewidth\":0,\"ticks\":\"\"}}}],\"scattermapbox\":[{\"type\":\"scattermapbox\",\"marker\":{\"colorbar\":{\"outlinewidth\":0,\"ticks\":\"\"}}}],\"scatterternary\":[{\"type\":\"scatterternary\",\"marker\":{\"colorbar\":{\"outlinewidth\":0,\"ticks\":\"\"}}}],\"scattercarpet\":[{\"type\":\"scattercarpet\",\"marker\":{\"colorbar\":{\"outlinewidth\":0,\"ticks\":\"\"}}}],\"carpet\":[{\"aaxis\":{\"endlinecolor\":\"#2a3f5f\",\"gridcolor\":\"white\",\"linecolor\":\"white\",\"minorgridcolor\":\"white\",\"startlinecolor\":\"#2a3f5f\"},\"baxis\":{\"endlinecolor\":\"#2a3f5f\",\"gridcolor\":\"white\",\"linecolor\":\"white\",\"minorgridcolor\":\"white\",\"startlinecolor\":\"#2a3f5f\"},\"type\":\"carpet\"}],\"table\":[{\"cells\":{\"fill\":{\"color\":\"#EBF0F8\"},\"line\":{\"color\":\"white\"}},\"header\":{\"fill\":{\"color\":\"#C8D4E3\"},\"line\":{\"color\":\"white\"}},\"type\":\"table\"}],\"barpolar\":[{\"marker\":{\"line\":{\"color\":\"#E5ECF6\",\"width\":0.5},\"pattern\":{\"fillmode\":\"overlay\",\"size\":10,\"solidity\":0.2}},\"type\":\"barpolar\"}],\"pie\":[{\"automargin\":true,\"type\":\"pie\"}]},\"layout\":{\"autotypenumbers\":\"strict\",\"colorway\":[\"#636efa\",\"#EF553B\",\"#00cc96\",\"#ab63fa\",\"#FFA15A\",\"#19d3f3\",\"#FF6692\",\"#B6E880\",\"#FF97FF\",\"#FECB52\"],\"font\":{\"color\":\"#2a3f5f\"},\"hovermode\":\"closest\",\"hoverlabel\":{\"align\":\"left\"},\"paper_bgcolor\":\"white\",\"plot_bgcolor\":\"#E5ECF6\",\"polar\":{\"bgcolor\":\"#E5ECF6\",\"angularaxis\":{\"gridcolor\":\"white\",\"linecolor\":\"white\",\"ticks\":\"\"},\"radialaxis\":{\"gridcolor\":\"white\",\"linecolor\":\"white\",\"ticks\":\"\"}},\"ternary\":{\"bgcolor\":\"#E5ECF6\",\"aaxis\":{\"gridcolor\":\"white\",\"linecolor\":\"white\",\"ticks\":\"\"},\"baxis\":{\"gridcolor\":\"white\",\"linecolor\":\"white\",\"ticks\":\"\"},\"caxis\":{\"gridcolor\":\"white\",\"linecolor\":\"white\",\"ticks\":\"\"}},\"coloraxis\":{\"colorbar\":{\"outlinewidth\":0,\"ticks\":\"\"}},\"colorscale\":{\"sequential\":[[0.0,\"#0d0887\"],[0.1111111111111111,\"#46039f\"],[0.2222222222222222,\"#7201a8\"],[0.3333333333333333,\"#9c179e\"],[0.4444444444444444,\"#bd3786\"],[0.5555555555555556,\"#d8576b\"],[0.6666666666666666,\"#ed7953\"],[0.7777777777777778,\"#fb9f3a\"],[0.8888888888888888,\"#fdca26\"],[1.0,\"#f0f921\"]],\"sequentialminus\":[[0.0,\"#0d0887\"],[0.1111111111111111,\"#46039f\"],[0.2222222222222222,\"#7201a8\"],[0.3333333333333333,\"#9c179e\"],[0.4444444444444444,\"#bd3786\"],[0.5555555555555556,\"#d8576b\"],[0.6666666666666666,\"#ed7953\"],[0.7777777777777778,\"#fb9f3a\"],[0.8888888888888888,\"#fdca26\"],[1.0,\"#f0f921\"]],\"diverging\":[[0,\"#8e0152\"],[0.1,\"#c51b7d\"],[0.2,\"#de77ae\"],[0.3,\"#f1b6da\"],[0.4,\"#fde0ef\"],[0.5,\"#f7f7f7\"],[0.6,\"#e6f5d0\"],[0.7,\"#b8e186\"],[0.8,\"#7fbc41\"],[0.9,\"#4d9221\"],[1,\"#276419\"]]},\"xaxis\":{\"gridcolor\":\"white\",\"linecolor\":\"white\",\"ticks\":\"\",\"title\":{\"standoff\":15},\"zerolinecolor\":\"white\",\"automargin\":true,\"zerolinewidth\":2},\"yaxis\":{\"gridcolor\":\"white\",\"linecolor\":\"white\",\"ticks\":\"\",\"title\":{\"standoff\":15},\"zerolinecolor\":\"white\",\"automargin\":true,\"zerolinewidth\":2},\"scene\":{\"xaxis\":{\"backgroundcolor\":\"#E5ECF6\",\"gridcolor\":\"white\",\"linecolor\":\"white\",\"showbackground\":true,\"ticks\":\"\",\"zerolinecolor\":\"white\",\"gridwidth\":2},\"yaxis\":{\"backgroundcolor\":\"#E5ECF6\",\"gridcolor\":\"white\",\"linecolor\":\"white\",\"showbackground\":true,\"ticks\":\"\",\"zerolinecolor\":\"white\",\"gridwidth\":2},\"zaxis\":{\"backgroundcolor\":\"#E5ECF6\",\"gridcolor\":\"white\",\"linecolor\":\"white\",\"showbackground\":true,\"ticks\":\"\",\"zerolinecolor\":\"white\",\"gridwidth\":2}},\"shapedefaults\":{\"line\":{\"color\":\"#2a3f5f\"}},\"annotationdefaults\":{\"arrowcolor\":\"#2a3f5f\",\"arrowhead\":0,\"arrowwidth\":1},\"geo\":{\"bgcolor\":\"white\",\"landcolor\":\"#E5ECF6\",\"subunitcolor\":\"white\",\"showland\":true,\"showlakes\":true,\"lakecolor\":\"white\"},\"title\":{\"x\":0.05},\"mapbox\":{\"style\":\"light\"}}}},                        {\"responsive\": true}                    ).then(function(){\n",
       "                            \n",
       "var gd = document.getElementById('85bec46f-f47a-43c2-97a3-06c2f7b3becb');\n",
       "var x = new MutationObserver(function (mutations, observer) {{\n",
       "        var display = window.getComputedStyle(gd).display;\n",
       "        if (!display || display === 'none') {{\n",
       "            console.log([gd, 'removed!']);\n",
       "            Plotly.purge(gd);\n",
       "            observer.disconnect();\n",
       "        }}\n",
       "}});\n",
       "\n",
       "// Listen for the removal of the full notebook cells\n",
       "var notebookContainer = gd.closest('#notebook-container');\n",
       "if (notebookContainer) {{\n",
       "    x.observe(notebookContainer, {childList: true});\n",
       "}}\n",
       "\n",
       "// Listen for the clearing of the current output cell\n",
       "var outputEl = gd.closest('.output');\n",
       "if (outputEl) {{\n",
       "    x.observe(outputEl, {childList: true});\n",
       "}}\n",
       "\n",
       "                        })                };                });            </script>        </div>"
      ]
     },
     "metadata": {},
     "output_type": "display_data"
    }
   ],
   "source": [
    "fig.show() "
   ]
  },
  {
   "cell_type": "markdown",
   "metadata": {},
   "source": [
    "Build the following scatter plot\n",
    "\n",
    "![asd](images/fig_02.1.png)"
   ]
  },
  {
   "cell_type": "code",
   "execution_count": 72,
   "metadata": {},
   "outputs": [
    {
     "data": {
      "application/vnd.plotly.v1+json": {
       "config": {
        "plotlyServerURL": "https://plot.ly"
       },
       "data": [
        {
         "name": "initial",
         "type": "histogram",
         "x": [
          109.36064277774466,
          55.95735794900907,
          369.1159692686163,
          491.3927390873703,
          34.286601741833785,
          316.6157031813405,
          265.5907432464507,
          430.73261675172614,
          60.99739655005153,
          189.8583139661716,
          304.39566027156826,
          400.09145406755584,
          70.89943133703758,
          198.6847865725222,
          179.48252978440414,
          250.78207193262628,
          430.81243126591187,
          413.83768817585985,
          276.22183151368324,
          471.4185727690705,
          154.6045405211059,
          182.1489173971974,
          101.51550150251032,
          121.37445607817648,
          44.976967759804815,
          384.5840894190522,
          17.785078725646166,
          202.3047727105588,
          325.37924405603377,
          192.17782462920928,
          448.90043797430536,
          257.4725849775301,
          322.8359508806838,
          115.3332715735205,
          134.40669389692772,
          436.76382681064115,
          99.03644773076492,
          46.39683168034886,
          448.18607191014155,
          466.3252762917248,
          15.503517136157274,
          22.925982873215734,
          400.3732370778019,
          361.5987790169701,
          275.3846281417486,
          190.98489367857889,
          333.12519974507194,
          302.38009015926633,
          326.355470932698,
          295.50554398883395,
          438.73550735083575,
          54.37370965175364,
          201.3683556690127,
          389.0690491359697,
          166.6925157846014,
          245.07176095355481,
          246.66442491392345,
          390.137035595907,
          117.93499204266195,
          318.4083561297176,
          402.9870614918566,
          343.35496511066964,
          100.18774132742986,
          40.70011620714242,
          173.73023707794258,
          487.414215972548,
          376.41582568761686,
          209.84866823469955,
          205.21287420012214,
          70.53979794123597,
          136.57328794984966,
          355.56087755755783,
          337.55892562561286,
          201.5601303134281,
          232.03400517413417,
          279.603893607315,
          431.3055768157842,
          391.70725731995964,
          392.60180992357283,
          66.31059098190029,
          261.71256960346517,
          187.9117047546546,
          243.4869066237743,
          75.07404368759623,
          340.1490150780134,
          403.21422223280223,
          167.74955673727248,
          333.5307873733313,
          415.1987717160697,
          24.273453247350307
         ]
        },
        {
         "name": "final",
         "type": "histogram",
         "x": [
          90.75584668916012,
          84.1896066497078,
          112.12184474773792,
          116.74726615961323,
          97.93840664961658,
          104.02750275651955,
          86.56590016261661,
          106.34273632022268,
          112.80106451084309,
          113.04824126792809,
          59.386767170530256,
          106.10932283309396,
          102.67390108356308,
          110.43346092247242,
          107.42325016129485,
          96.30033742380958,
          119.5110160447247,
          104.4038560207679,
          145.01868752328159,
          60.72706173856358,
          83.66906400139905,
          97.835562279214,
          93.2484444136512,
          107.17445860631041,
          113.62329497033896,
          105.99568137761351,
          97.0551928335592,
          79.4324614192561,
          96.73176023955557,
          85.18970242949561,
          224.86035596607186,
          223.221163418267,
          197.9557160667931,
          255.93232536195598,
          214.48537323066242,
          251.35538297180503,
          229.95081868939343,
          250.1196723074273,
          227.89194135533276,
          226.97419906119976,
          211.4453536178937,
          217.6642513181342,
          200.00196517027786,
          242.92811322188442,
          238.4417183842289,
          216.20331880568418,
          246.3447542337889,
          229.1326576273109,
          191.0097281545669,
          232.27542756107465,
          259.51325471414407,
          201.3804794068146,
          220.49650692135867,
          245.56824891509387,
          225.20643806671558,
          226.0874507015087,
          194.8695355706552,
          209.59200707541237,
          219.32177892327343,
          223.86231709191773,
          278.953089018564,
          310.99044591232143,
          300.18822736988164,
          327.95592607094426,
          281.0914330077054,
          284.23817234676693,
          306.94120819938587,
          334.0471234082148,
          315.34819875906504,
          340.53298769523127,
          302.5938916079953,
          332.5097215783313,
          322.0355997015,
          323.20372337085803,
          317.54531697960056,
          336.97011206313107,
          294.48766621773257,
          297.2236164280178,
          295.84872722280954,
          311.394278023762,
          323.39535982286543,
          289.8241459700507,
          306.48816268112165,
          284.3088986586671,
          289.8945248480923,
          298.8023407282143,
          322.5768223512296,
          293.64443800718675,
          304.09224097284283,
          320.8286498685931
         ]
        }
       ],
       "layout": {
        "height": 400,
        "template": {
         "data": {
          "bar": [
           {
            "error_x": {
             "color": "#2a3f5f"
            },
            "error_y": {
             "color": "#2a3f5f"
            },
            "marker": {
             "line": {
              "color": "#E5ECF6",
              "width": 0.5
             },
             "pattern": {
              "fillmode": "overlay",
              "size": 10,
              "solidity": 0.2
             }
            },
            "type": "bar"
           }
          ],
          "barpolar": [
           {
            "marker": {
             "line": {
              "color": "#E5ECF6",
              "width": 0.5
             },
             "pattern": {
              "fillmode": "overlay",
              "size": 10,
              "solidity": 0.2
             }
            },
            "type": "barpolar"
           }
          ],
          "carpet": [
           {
            "aaxis": {
             "endlinecolor": "#2a3f5f",
             "gridcolor": "white",
             "linecolor": "white",
             "minorgridcolor": "white",
             "startlinecolor": "#2a3f5f"
            },
            "baxis": {
             "endlinecolor": "#2a3f5f",
             "gridcolor": "white",
             "linecolor": "white",
             "minorgridcolor": "white",
             "startlinecolor": "#2a3f5f"
            },
            "type": "carpet"
           }
          ],
          "choropleth": [
           {
            "colorbar": {
             "outlinewidth": 0,
             "ticks": ""
            },
            "type": "choropleth"
           }
          ],
          "contour": [
           {
            "colorbar": {
             "outlinewidth": 0,
             "ticks": ""
            },
            "colorscale": [
             [
              0,
              "#0d0887"
             ],
             [
              0.1111111111111111,
              "#46039f"
             ],
             [
              0.2222222222222222,
              "#7201a8"
             ],
             [
              0.3333333333333333,
              "#9c179e"
             ],
             [
              0.4444444444444444,
              "#bd3786"
             ],
             [
              0.5555555555555556,
              "#d8576b"
             ],
             [
              0.6666666666666666,
              "#ed7953"
             ],
             [
              0.7777777777777778,
              "#fb9f3a"
             ],
             [
              0.8888888888888888,
              "#fdca26"
             ],
             [
              1,
              "#f0f921"
             ]
            ],
            "type": "contour"
           }
          ],
          "contourcarpet": [
           {
            "colorbar": {
             "outlinewidth": 0,
             "ticks": ""
            },
            "type": "contourcarpet"
           }
          ],
          "heatmap": [
           {
            "colorbar": {
             "outlinewidth": 0,
             "ticks": ""
            },
            "colorscale": [
             [
              0,
              "#0d0887"
             ],
             [
              0.1111111111111111,
              "#46039f"
             ],
             [
              0.2222222222222222,
              "#7201a8"
             ],
             [
              0.3333333333333333,
              "#9c179e"
             ],
             [
              0.4444444444444444,
              "#bd3786"
             ],
             [
              0.5555555555555556,
              "#d8576b"
             ],
             [
              0.6666666666666666,
              "#ed7953"
             ],
             [
              0.7777777777777778,
              "#fb9f3a"
             ],
             [
              0.8888888888888888,
              "#fdca26"
             ],
             [
              1,
              "#f0f921"
             ]
            ],
            "type": "heatmap"
           }
          ],
          "heatmapgl": [
           {
            "colorbar": {
             "outlinewidth": 0,
             "ticks": ""
            },
            "colorscale": [
             [
              0,
              "#0d0887"
             ],
             [
              0.1111111111111111,
              "#46039f"
             ],
             [
              0.2222222222222222,
              "#7201a8"
             ],
             [
              0.3333333333333333,
              "#9c179e"
             ],
             [
              0.4444444444444444,
              "#bd3786"
             ],
             [
              0.5555555555555556,
              "#d8576b"
             ],
             [
              0.6666666666666666,
              "#ed7953"
             ],
             [
              0.7777777777777778,
              "#fb9f3a"
             ],
             [
              0.8888888888888888,
              "#fdca26"
             ],
             [
              1,
              "#f0f921"
             ]
            ],
            "type": "heatmapgl"
           }
          ],
          "histogram": [
           {
            "marker": {
             "pattern": {
              "fillmode": "overlay",
              "size": 10,
              "solidity": 0.2
             }
            },
            "type": "histogram"
           }
          ],
          "histogram2d": [
           {
            "colorbar": {
             "outlinewidth": 0,
             "ticks": ""
            },
            "colorscale": [
             [
              0,
              "#0d0887"
             ],
             [
              0.1111111111111111,
              "#46039f"
             ],
             [
              0.2222222222222222,
              "#7201a8"
             ],
             [
              0.3333333333333333,
              "#9c179e"
             ],
             [
              0.4444444444444444,
              "#bd3786"
             ],
             [
              0.5555555555555556,
              "#d8576b"
             ],
             [
              0.6666666666666666,
              "#ed7953"
             ],
             [
              0.7777777777777778,
              "#fb9f3a"
             ],
             [
              0.8888888888888888,
              "#fdca26"
             ],
             [
              1,
              "#f0f921"
             ]
            ],
            "type": "histogram2d"
           }
          ],
          "histogram2dcontour": [
           {
            "colorbar": {
             "outlinewidth": 0,
             "ticks": ""
            },
            "colorscale": [
             [
              0,
              "#0d0887"
             ],
             [
              0.1111111111111111,
              "#46039f"
             ],
             [
              0.2222222222222222,
              "#7201a8"
             ],
             [
              0.3333333333333333,
              "#9c179e"
             ],
             [
              0.4444444444444444,
              "#bd3786"
             ],
             [
              0.5555555555555556,
              "#d8576b"
             ],
             [
              0.6666666666666666,
              "#ed7953"
             ],
             [
              0.7777777777777778,
              "#fb9f3a"
             ],
             [
              0.8888888888888888,
              "#fdca26"
             ],
             [
              1,
              "#f0f921"
             ]
            ],
            "type": "histogram2dcontour"
           }
          ],
          "mesh3d": [
           {
            "colorbar": {
             "outlinewidth": 0,
             "ticks": ""
            },
            "type": "mesh3d"
           }
          ],
          "parcoords": [
           {
            "line": {
             "colorbar": {
              "outlinewidth": 0,
              "ticks": ""
             }
            },
            "type": "parcoords"
           }
          ],
          "pie": [
           {
            "automargin": true,
            "type": "pie"
           }
          ],
          "scatter": [
           {
            "fillpattern": {
             "fillmode": "overlay",
             "size": 10,
             "solidity": 0.2
            },
            "type": "scatter"
           }
          ],
          "scatter3d": [
           {
            "line": {
             "colorbar": {
              "outlinewidth": 0,
              "ticks": ""
             }
            },
            "marker": {
             "colorbar": {
              "outlinewidth": 0,
              "ticks": ""
             }
            },
            "type": "scatter3d"
           }
          ],
          "scattercarpet": [
           {
            "marker": {
             "colorbar": {
              "outlinewidth": 0,
              "ticks": ""
             }
            },
            "type": "scattercarpet"
           }
          ],
          "scattergeo": [
           {
            "marker": {
             "colorbar": {
              "outlinewidth": 0,
              "ticks": ""
             }
            },
            "type": "scattergeo"
           }
          ],
          "scattergl": [
           {
            "marker": {
             "colorbar": {
              "outlinewidth": 0,
              "ticks": ""
             }
            },
            "type": "scattergl"
           }
          ],
          "scattermapbox": [
           {
            "marker": {
             "colorbar": {
              "outlinewidth": 0,
              "ticks": ""
             }
            },
            "type": "scattermapbox"
           }
          ],
          "scatterpolar": [
           {
            "marker": {
             "colorbar": {
              "outlinewidth": 0,
              "ticks": ""
             }
            },
            "type": "scatterpolar"
           }
          ],
          "scatterpolargl": [
           {
            "marker": {
             "colorbar": {
              "outlinewidth": 0,
              "ticks": ""
             }
            },
            "type": "scatterpolargl"
           }
          ],
          "scatterternary": [
           {
            "marker": {
             "colorbar": {
              "outlinewidth": 0,
              "ticks": ""
             }
            },
            "type": "scatterternary"
           }
          ],
          "surface": [
           {
            "colorbar": {
             "outlinewidth": 0,
             "ticks": ""
            },
            "colorscale": [
             [
              0,
              "#0d0887"
             ],
             [
              0.1111111111111111,
              "#46039f"
             ],
             [
              0.2222222222222222,
              "#7201a8"
             ],
             [
              0.3333333333333333,
              "#9c179e"
             ],
             [
              0.4444444444444444,
              "#bd3786"
             ],
             [
              0.5555555555555556,
              "#d8576b"
             ],
             [
              0.6666666666666666,
              "#ed7953"
             ],
             [
              0.7777777777777778,
              "#fb9f3a"
             ],
             [
              0.8888888888888888,
              "#fdca26"
             ],
             [
              1,
              "#f0f921"
             ]
            ],
            "type": "surface"
           }
          ],
          "table": [
           {
            "cells": {
             "fill": {
              "color": "#EBF0F8"
             },
             "line": {
              "color": "white"
             }
            },
            "header": {
             "fill": {
              "color": "#C8D4E3"
             },
             "line": {
              "color": "white"
             }
            },
            "type": "table"
           }
          ]
         },
         "layout": {
          "annotationdefaults": {
           "arrowcolor": "#2a3f5f",
           "arrowhead": 0,
           "arrowwidth": 1
          },
          "autotypenumbers": "strict",
          "coloraxis": {
           "colorbar": {
            "outlinewidth": 0,
            "ticks": ""
           }
          },
          "colorscale": {
           "diverging": [
            [
             0,
             "#8e0152"
            ],
            [
             0.1,
             "#c51b7d"
            ],
            [
             0.2,
             "#de77ae"
            ],
            [
             0.3,
             "#f1b6da"
            ],
            [
             0.4,
             "#fde0ef"
            ],
            [
             0.5,
             "#f7f7f7"
            ],
            [
             0.6,
             "#e6f5d0"
            ],
            [
             0.7,
             "#b8e186"
            ],
            [
             0.8,
             "#7fbc41"
            ],
            [
             0.9,
             "#4d9221"
            ],
            [
             1,
             "#276419"
            ]
           ],
           "sequential": [
            [
             0,
             "#0d0887"
            ],
            [
             0.1111111111111111,
             "#46039f"
            ],
            [
             0.2222222222222222,
             "#7201a8"
            ],
            [
             0.3333333333333333,
             "#9c179e"
            ],
            [
             0.4444444444444444,
             "#bd3786"
            ],
            [
             0.5555555555555556,
             "#d8576b"
            ],
            [
             0.6666666666666666,
             "#ed7953"
            ],
            [
             0.7777777777777778,
             "#fb9f3a"
            ],
            [
             0.8888888888888888,
             "#fdca26"
            ],
            [
             1,
             "#f0f921"
            ]
           ],
           "sequentialminus": [
            [
             0,
             "#0d0887"
            ],
            [
             0.1111111111111111,
             "#46039f"
            ],
            [
             0.2222222222222222,
             "#7201a8"
            ],
            [
             0.3333333333333333,
             "#9c179e"
            ],
            [
             0.4444444444444444,
             "#bd3786"
            ],
            [
             0.5555555555555556,
             "#d8576b"
            ],
            [
             0.6666666666666666,
             "#ed7953"
            ],
            [
             0.7777777777777778,
             "#fb9f3a"
            ],
            [
             0.8888888888888888,
             "#fdca26"
            ],
            [
             1,
             "#f0f921"
            ]
           ]
          },
          "colorway": [
           "#636efa",
           "#EF553B",
           "#00cc96",
           "#ab63fa",
           "#FFA15A",
           "#19d3f3",
           "#FF6692",
           "#B6E880",
           "#FF97FF",
           "#FECB52"
          ],
          "font": {
           "color": "#2a3f5f"
          },
          "geo": {
           "bgcolor": "white",
           "lakecolor": "white",
           "landcolor": "#E5ECF6",
           "showlakes": true,
           "showland": true,
           "subunitcolor": "white"
          },
          "hoverlabel": {
           "align": "left"
          },
          "hovermode": "closest",
          "mapbox": {
           "style": "light"
          },
          "paper_bgcolor": "white",
          "plot_bgcolor": "#E5ECF6",
          "polar": {
           "angularaxis": {
            "gridcolor": "white",
            "linecolor": "white",
            "ticks": ""
           },
           "bgcolor": "#E5ECF6",
           "radialaxis": {
            "gridcolor": "white",
            "linecolor": "white",
            "ticks": ""
           }
          },
          "scene": {
           "xaxis": {
            "backgroundcolor": "#E5ECF6",
            "gridcolor": "white",
            "gridwidth": 2,
            "linecolor": "white",
            "showbackground": true,
            "ticks": "",
            "zerolinecolor": "white"
           },
           "yaxis": {
            "backgroundcolor": "#E5ECF6",
            "gridcolor": "white",
            "gridwidth": 2,
            "linecolor": "white",
            "showbackground": true,
            "ticks": "",
            "zerolinecolor": "white"
           },
           "zaxis": {
            "backgroundcolor": "#E5ECF6",
            "gridcolor": "white",
            "gridwidth": 2,
            "linecolor": "white",
            "showbackground": true,
            "ticks": "",
            "zerolinecolor": "white"
           }
          },
          "shapedefaults": {
           "line": {
            "color": "#2a3f5f"
           }
          },
          "ternary": {
           "aaxis": {
            "gridcolor": "white",
            "linecolor": "white",
            "ticks": ""
           },
           "baxis": {
            "gridcolor": "white",
            "linecolor": "white",
            "ticks": ""
           },
           "bgcolor": "#E5ECF6",
           "caxis": {
            "gridcolor": "white",
            "linecolor": "white",
            "ticks": ""
           }
          },
          "title": {
           "x": 0.05
          },
          "xaxis": {
           "automargin": true,
           "gridcolor": "white",
           "linecolor": "white",
           "ticks": "",
           "title": {
            "standoff": 15
           },
           "zerolinecolor": "white",
           "zerolinewidth": 2
          },
          "yaxis": {
           "automargin": true,
           "gridcolor": "white",
           "linecolor": "white",
           "ticks": "",
           "title": {
            "standoff": 15
           },
           "zerolinecolor": "white",
           "zerolinewidth": 2
          }
         }
        },
        "title": {
         "text": "Histogram of X positions"
        },
        "width": 500,
        "xaxis": {
         "range": [
          0,
          500
         ],
         "title": {
          "text": "x value"
         },
         "type": "linear"
        },
        "yaxis": {
         "range": [
          0,
          40
         ],
         "title": {
          "text": "occurences"
         }
        }
       }
      },
      "image/png": "[encoded data removed]",
      "text/html": [
       "<div>                            <div id=\"d6067743-6131-4c7c-95b4-7b7ca5b30a11\" class=\"plotly-graph-div\" style=\"height:400px; width:500px;\"></div>            <script type=\"text/javascript\">                require([\"plotly\"], function(Plotly) {                    window.PLOTLYENV=window.PLOTLYENV || {};                                    if (document.getElementById(\"d6067743-6131-4c7c-95b4-7b7ca5b30a11\")) {                    Plotly.newPlot(                        \"d6067743-6131-4c7c-95b4-7b7ca5b30a11\",                        [{\"name\":\"initial\",\"x\":[109.36064277774466,55.95735794900907,369.1159692686163,491.3927390873703,34.286601741833785,316.6157031813405,265.5907432464507,430.73261675172614,60.99739655005153,189.8583139661716,304.39566027156826,400.09145406755584,70.89943133703758,198.6847865725222,179.48252978440414,250.78207193262628,430.81243126591187,413.83768817585985,276.22183151368324,471.4185727690705,154.6045405211059,182.1489173971974,101.51550150251032,121.37445607817648,44.976967759804815,384.5840894190522,17.785078725646166,202.3047727105588,325.37924405603377,192.17782462920928,448.90043797430536,257.4725849775301,322.8359508806838,115.3332715735205,134.40669389692772,436.76382681064115,99.03644773076492,46.39683168034886,448.18607191014155,466.3252762917248,15.503517136157274,22.925982873215734,400.3732370778019,361.5987790169701,275.3846281417486,190.98489367857889,333.12519974507194,302.38009015926633,326.355470932698,295.50554398883395,438.73550735083575,54.37370965175364,201.3683556690127,389.0690491359697,166.6925157846014,245.07176095355481,246.66442491392345,390.137035595907,117.93499204266195,318.4083561297176,402.9870614918566,343.35496511066964,100.18774132742986,40.70011620714242,173.73023707794258,487.414215972548,376.41582568761686,209.84866823469955,205.21287420012214,70.53979794123597,136.57328794984966,355.56087755755783,337.55892562561286,201.5601303134281,232.03400517413417,279.603893607315,431.3055768157842,391.70725731995964,392.60180992357283,66.31059098190029,261.71256960346517,187.9117047546546,243.4869066237743,75.07404368759623,340.1490150780134,403.21422223280223,167.74955673727248,333.5307873733313,415.1987717160697,24.273453247350307],\"type\":\"histogram\"},{\"name\":\"final\",\"x\":[90.75584668916012,84.1896066497078,112.12184474773792,116.74726615961323,97.93840664961658,104.02750275651955,86.56590016261661,106.34273632022268,112.80106451084309,113.04824126792809,59.386767170530256,106.10932283309396,102.67390108356308,110.43346092247242,107.42325016129485,96.30033742380958,119.5110160447247,104.4038560207679,145.01868752328159,60.72706173856358,83.66906400139905,97.835562279214,93.2484444136512,107.17445860631041,113.62329497033896,105.99568137761351,97.0551928335592,79.4324614192561,96.73176023955557,85.18970242949561,224.86035596607186,223.221163418267,197.9557160667931,255.93232536195598,214.48537323066242,251.35538297180503,229.95081868939343,250.1196723074273,227.89194135533276,226.97419906119976,211.4453536178937,217.6642513181342,200.00196517027786,242.92811322188442,238.4417183842289,216.20331880568418,246.3447542337889,229.1326576273109,191.0097281545669,232.27542756107465,259.51325471414407,201.3804794068146,220.49650692135867,245.56824891509387,225.20643806671558,226.0874507015087,194.8695355706552,209.59200707541237,219.32177892327343,223.86231709191773,278.953089018564,310.99044591232143,300.18822736988164,327.95592607094426,281.0914330077054,284.23817234676693,306.94120819938587,334.0471234082148,315.34819875906504,340.53298769523127,302.5938916079953,332.5097215783313,322.0355997015,323.20372337085803,317.54531697960056,336.97011206313107,294.48766621773257,297.2236164280178,295.84872722280954,311.394278023762,323.39535982286543,289.8241459700507,306.48816268112165,284.3088986586671,289.8945248480923,298.8023407282143,322.5768223512296,293.64443800718675,304.09224097284283,320.8286498685931],\"type\":\"histogram\"}],                        {\"height\":400,\"title\":{\"text\":\"Histogram of X positions\"},\"width\":500,\"xaxis\":{\"range\":[0,500],\"title\":{\"text\":\"x value\"}},\"yaxis\":{\"range\":[0,40],\"title\":{\"text\":\"occurences\"}},\"template\":{\"data\":{\"histogram2dcontour\":[{\"type\":\"histogram2dcontour\",\"colorbar\":{\"outlinewidth\":0,\"ticks\":\"\"},\"colorscale\":[[0.0,\"#0d0887\"],[0.1111111111111111,\"#46039f\"],[0.2222222222222222,\"#7201a8\"],[0.3333333333333333,\"#9c179e\"],[0.4444444444444444,\"#bd3786\"],[0.5555555555555556,\"#d8576b\"],[0.6666666666666666,\"#ed7953\"],[0.7777777777777778,\"#fb9f3a\"],[0.8888888888888888,\"#fdca26\"],[1.0,\"#f0f921\"]]}],\"choropleth\":[{\"type\":\"choropleth\",\"colorbar\":{\"outlinewidth\":0,\"ticks\":\"\"}}],\"histogram2d\":[{\"type\":\"histogram2d\",\"colorbar\":{\"outlinewidth\":0,\"ticks\":\"\"},\"colorscale\":[[0.0,\"#0d0887\"],[0.1111111111111111,\"#46039f\"],[0.2222222222222222,\"#7201a8\"],[0.3333333333333333,\"#9c179e\"],[0.4444444444444444,\"#bd3786\"],[0.5555555555555556,\"#d8576b\"],[0.6666666666666666,\"#ed7953\"],[0.7777777777777778,\"#fb9f3a\"],[0.8888888888888888,\"#fdca26\"],[1.0,\"#f0f921\"]]}],\"heatmap\":[{\"type\":\"heatmap\",\"colorbar\":{\"outlinewidth\":0,\"ticks\":\"\"},\"colorscale\":[[0.0,\"#0d0887\"],[0.1111111111111111,\"#46039f\"],[0.2222222222222222,\"#7201a8\"],[0.3333333333333333,\"#9c179e\"],[0.4444444444444444,\"#bd3786\"],[0.5555555555555556,\"#d8576b\"],[0.6666666666666666,\"#ed7953\"],[0.7777777777777778,\"#fb9f3a\"],[0.8888888888888888,\"#fdca26\"],[1.0,\"#f0f921\"]]}],\"heatmapgl\":[{\"type\":\"heatmapgl\",\"colorbar\":{\"outlinewidth\":0,\"ticks\":\"\"},\"colorscale\":[[0.0,\"#0d0887\"],[0.1111111111111111,\"#46039f\"],[0.2222222222222222,\"#7201a8\"],[0.3333333333333333,\"#9c179e\"],[0.4444444444444444,\"#bd3786\"],[0.5555555555555556,\"#d8576b\"],[0.6666666666666666,\"#ed7953\"],[0.7777777777777778,\"#fb9f3a\"],[0.8888888888888888,\"#fdca26\"],[1.0,\"#f0f921\"]]}],\"contourcarpet\":[{\"type\":\"contourcarpet\",\"colorbar\":{\"outlinewidth\":0,\"ticks\":\"\"}}],\"contour\":[{\"type\":\"contour\",\"colorbar\":{\"outlinewidth\":0,\"ticks\":\"\"},\"colorscale\":[[0.0,\"#0d0887\"],[0.1111111111111111,\"#46039f\"],[0.2222222222222222,\"#7201a8\"],[0.3333333333333333,\"#9c179e\"],[0.4444444444444444,\"#bd3786\"],[0.5555555555555556,\"#d8576b\"],[0.6666666666666666,\"#ed7953\"],[0.7777777777777778,\"#fb9f3a\"],[0.8888888888888888,\"#fdca26\"],[1.0,\"#f0f921\"]]}],\"surface\":[{\"type\":\"surface\",\"colorbar\":{\"outlinewidth\":0,\"ticks\":\"\"},\"colorscale\":[[0.0,\"#0d0887\"],[0.1111111111111111,\"#46039f\"],[0.2222222222222222,\"#7201a8\"],[0.3333333333333333,\"#9c179e\"],[0.4444444444444444,\"#bd3786\"],[0.5555555555555556,\"#d8576b\"],[0.6666666666666666,\"#ed7953\"],[0.7777777777777778,\"#fb9f3a\"],[0.8888888888888888,\"#fdca26\"],[1.0,\"#f0f921\"]]}],\"mesh3d\":[{\"type\":\"mesh3d\",\"colorbar\":{\"outlinewidth\":0,\"ticks\":\"\"}}],\"scatter\":[{\"fillpattern\":{\"fillmode\":\"overlay\",\"size\":10,\"solidity\":0.2},\"type\":\"scatter\"}],\"parcoords\":[{\"type\":\"parcoords\",\"line\":{\"colorbar\":{\"outlinewidth\":0,\"ticks\":\"\"}}}],\"scatterpolargl\":[{\"type\":\"scatterpolargl\",\"marker\":{\"colorbar\":{\"outlinewidth\":0,\"ticks\":\"\"}}}],\"bar\":[{\"error_x\":{\"color\":\"#2a3f5f\"},\"error_y\":{\"color\":\"#2a3f5f\"},\"marker\":{\"line\":{\"color\":\"#E5ECF6\",\"width\":0.5},\"pattern\":{\"fillmode\":\"overlay\",\"size\":10,\"solidity\":0.2}},\"type\":\"bar\"}],\"scattergeo\":[{\"type\":\"scattergeo\",\"marker\":{\"colorbar\":{\"outlinewidth\":0,\"ticks\":\"\"}}}],\"scatterpolar\":[{\"type\":\"scatterpolar\",\"marker\":{\"colorbar\":{\"outlinewidth\":0,\"ticks\":\"\"}}}],\"histogram\":[{\"marker\":{\"pattern\":{\"fillmode\":\"overlay\",\"size\":10,\"solidity\":0.2}},\"type\":\"histogram\"}],\"scattergl\":[{\"type\":\"scattergl\",\"marker\":{\"colorbar\":{\"outlinewidth\":0,\"ticks\":\"\"}}}],\"scatter3d\":[{\"type\":\"scatter3d\",\"line\":{\"colorbar\":{\"outlinewidth\":0,\"ticks\":\"\"}},\"marker\":{\"colorbar\":{\"outlinewidth\":0,\"ticks\":\"\"}}}],\"scattermapbox\":[{\"type\":\"scattermapbox\",\"marker\":{\"colorbar\":{\"outlinewidth\":0,\"ticks\":\"\"}}}],\"scatterternary\":[{\"type\":\"scatterternary\",\"marker\":{\"colorbar\":{\"outlinewidth\":0,\"ticks\":\"\"}}}],\"scattercarpet\":[{\"type\":\"scattercarpet\",\"marker\":{\"colorbar\":{\"outlinewidth\":0,\"ticks\":\"\"}}}],\"carpet\":[{\"aaxis\":{\"endlinecolor\":\"#2a3f5f\",\"gridcolor\":\"white\",\"linecolor\":\"white\",\"minorgridcolor\":\"white\",\"startlinecolor\":\"#2a3f5f\"},\"baxis\":{\"endlinecolor\":\"#2a3f5f\",\"gridcolor\":\"white\",\"linecolor\":\"white\",\"minorgridcolor\":\"white\",\"startlinecolor\":\"#2a3f5f\"},\"type\":\"carpet\"}],\"table\":[{\"cells\":{\"fill\":{\"color\":\"#EBF0F8\"},\"line\":{\"color\":\"white\"}},\"header\":{\"fill\":{\"color\":\"#C8D4E3\"},\"line\":{\"color\":\"white\"}},\"type\":\"table\"}],\"barpolar\":[{\"marker\":{\"line\":{\"color\":\"#E5ECF6\",\"width\":0.5},\"pattern\":{\"fillmode\":\"overlay\",\"size\":10,\"solidity\":0.2}},\"type\":\"barpolar\"}],\"pie\":[{\"automargin\":true,\"type\":\"pie\"}]},\"layout\":{\"autotypenumbers\":\"strict\",\"colorway\":[\"#636efa\",\"#EF553B\",\"#00cc96\",\"#ab63fa\",\"#FFA15A\",\"#19d3f3\",\"#FF6692\",\"#B6E880\",\"#FF97FF\",\"#FECB52\"],\"font\":{\"color\":\"#2a3f5f\"},\"hovermode\":\"closest\",\"hoverlabel\":{\"align\":\"left\"},\"paper_bgcolor\":\"white\",\"plot_bgcolor\":\"#E5ECF6\",\"polar\":{\"bgcolor\":\"#E5ECF6\",\"angularaxis\":{\"gridcolor\":\"white\",\"linecolor\":\"white\",\"ticks\":\"\"},\"radialaxis\":{\"gridcolor\":\"white\",\"linecolor\":\"white\",\"ticks\":\"\"}},\"ternary\":{\"bgcolor\":\"#E5ECF6\",\"aaxis\":{\"gridcolor\":\"white\",\"linecolor\":\"white\",\"ticks\":\"\"},\"baxis\":{\"gridcolor\":\"white\",\"linecolor\":\"white\",\"ticks\":\"\"},\"caxis\":{\"gridcolor\":\"white\",\"linecolor\":\"white\",\"ticks\":\"\"}},\"coloraxis\":{\"colorbar\":{\"outlinewidth\":0,\"ticks\":\"\"}},\"colorscale\":{\"sequential\":[[0.0,\"#0d0887\"],[0.1111111111111111,\"#46039f\"],[0.2222222222222222,\"#7201a8\"],[0.3333333333333333,\"#9c179e\"],[0.4444444444444444,\"#bd3786\"],[0.5555555555555556,\"#d8576b\"],[0.6666666666666666,\"#ed7953\"],[0.7777777777777778,\"#fb9f3a\"],[0.8888888888888888,\"#fdca26\"],[1.0,\"#f0f921\"]],\"sequentialminus\":[[0.0,\"#0d0887\"],[0.1111111111111111,\"#46039f\"],[0.2222222222222222,\"#7201a8\"],[0.3333333333333333,\"#9c179e\"],[0.4444444444444444,\"#bd3786\"],[0.5555555555555556,\"#d8576b\"],[0.6666666666666666,\"#ed7953\"],[0.7777777777777778,\"#fb9f3a\"],[0.8888888888888888,\"#fdca26\"],[1.0,\"#f0f921\"]],\"diverging\":[[0,\"#8e0152\"],[0.1,\"#c51b7d\"],[0.2,\"#de77ae\"],[0.3,\"#f1b6da\"],[0.4,\"#fde0ef\"],[0.5,\"#f7f7f7\"],[0.6,\"#e6f5d0\"],[0.7,\"#b8e186\"],[0.8,\"#7fbc41\"],[0.9,\"#4d9221\"],[1,\"#276419\"]]},\"xaxis\":{\"gridcolor\":\"white\",\"linecolor\":\"white\",\"ticks\":\"\",\"title\":{\"standoff\":15},\"zerolinecolor\":\"white\",\"automargin\":true,\"zerolinewidth\":2},\"yaxis\":{\"gridcolor\":\"white\",\"linecolor\":\"white\",\"ticks\":\"\",\"title\":{\"standoff\":15},\"zerolinecolor\":\"white\",\"automargin\":true,\"zerolinewidth\":2},\"scene\":{\"xaxis\":{\"backgroundcolor\":\"#E5ECF6\",\"gridcolor\":\"white\",\"linecolor\":\"white\",\"showbackground\":true,\"ticks\":\"\",\"zerolinecolor\":\"white\",\"gridwidth\":2},\"yaxis\":{\"backgroundcolor\":\"#E5ECF6\",\"gridcolor\":\"white\",\"linecolor\":\"white\",\"showbackground\":true,\"ticks\":\"\",\"zerolinecolor\":\"white\",\"gridwidth\":2},\"zaxis\":{\"backgroundcolor\":\"#E5ECF6\",\"gridcolor\":\"white\",\"linecolor\":\"white\",\"showbackground\":true,\"ticks\":\"\",\"zerolinecolor\":\"white\",\"gridwidth\":2}},\"shapedefaults\":{\"line\":{\"color\":\"#2a3f5f\"}},\"annotationdefaults\":{\"arrowcolor\":\"#2a3f5f\",\"arrowhead\":0,\"arrowwidth\":1},\"geo\":{\"bgcolor\":\"white\",\"landcolor\":\"#E5ECF6\",\"subunitcolor\":\"white\",\"showland\":true,\"showlakes\":true,\"lakecolor\":\"white\"},\"title\":{\"x\":0.05},\"mapbox\":{\"style\":\"light\"}}}},                        {\"responsive\": true}                    ).then(function(){\n",
       "                            \n",
       "var gd = document.getElementById('d6067743-6131-4c7c-95b4-7b7ca5b30a11');\n",
       "var x = new MutationObserver(function (mutations, observer) {{\n",
       "        var display = window.getComputedStyle(gd).display;\n",
       "        if (!display || display === 'none') {{\n",
       "            console.log([gd, 'removed!']);\n",
       "            Plotly.purge(gd);\n",
       "            observer.disconnect();\n",
       "        }}\n",
       "}});\n",
       "\n",
       "// Listen for the removal of the full notebook cells\n",
       "var notebookContainer = gd.closest('#notebook-container');\n",
       "if (notebookContainer) {{\n",
       "    x.observe(notebookContainer, {childList: true});\n",
       "}}\n",
       "\n",
       "// Listen for the clearing of the current output cell\n",
       "var outputEl = gd.closest('.output');\n",
       "if (outputEl) {{\n",
       "    x.observe(outputEl, {childList: true});\n",
       "}}\n",
       "\n",
       "                        })                };                });            </script>        </div>"
      ]
     },
     "metadata": {},
     "output_type": "display_data"
    }
   ],
   "source": [
    "trace_init = dict(\n",
    "    type='histogram',\n",
    "    x=table.Xi,\n",
    "    name='initial'\n",
    ")\n",
    "\n",
    "trace_final = dict(\n",
    "    type='histogram',\n",
    "    x=table.Xf,\n",
    "    name='final'\n",
    ")\n",
    "\n",
    "layout = dict(\n",
    "    title='Histogram of X positions',\n",
    "    xaxis=dict(title='x value', range=[0,500]),\n",
    "    yaxis=dict(title='occurences', range=[0,40]),\n",
    "    width=500,\n",
    "    height=400\n",
    ")\n",
    "\n",
    "fig = go.Figure(data=[trace_init, trace_final], layout=layout)\n",
    "fig.show()"
   ]
  },
  {
   "cell_type": "markdown",
   "metadata": {},
   "source": [
    "And the following histogram:\n",
    "\n",
    "![](images/fig_02.2.png)"
   ]
  },
  {
   "cell_type": "code",
   "execution_count": null,
   "metadata": {},
   "outputs": [],
   "source": []
  }
 ],
 "metadata": {
  "kernelspec": {
   "display_name": "Python 3 (ipykernel)",
   "language": "python",
   "name": "python3"
  },
  "language_info": {
   "codemirror_mode": {
    "name": "ipython",
    "version": 3
   },
   "file_extension": ".py",
   "mimetype": "text/x-python",
   "name": "python",
   "nbconvert_exporter": "python",
   "pygments_lexer": "ipython3",
   "version": "3.9.7"
  }
 },
 "nbformat": 4,
 "nbformat_minor": 4
}
