{
 "cells": [
  {
   "cell_type": "code",
   "execution_count": null,
   "id": "56a555c1-c152-4578-a37b-0dbdf52b5e33",
   "metadata": {},
   "outputs": [],
   "source": [
    "import pandas as pd\n",
    "import numpy as np\n",
    "import plotly.express as px\n",
    "from dash import Dash, callback, html, dcc, Input, Output\n",
    "\n",
    "\n",
    "external_stylesheets = ['https://codepen.io/chriddyp/pen/bWLwgP.css']\n",
    "\n",
    "app = Dash(__name__, external_stylesheets=external_stylesheets)\n",
    "\n",
    "server = app.server\n",
    "\n",
    "# Some example data and its corresponding Plotly figure\n",
    "df = pd.DataFrame(np.random.rand(10,2), columns=['A', 'B'])\n",
    "fig = px.scatter(df, x='A', y='B')\n",
    "\n",
    "# Structure of my page\n",
    "app.layout = html.Div([\n",
    "    html.H1('A simple dashboard'),\n",
    "    html.Button('Generate Random Data', id='randomize', n_clicks=0),\n",
    "    html.Div(id='display-value'),\n",
    "    dcc.Graph(id=\"myGraph\", figure=fig),\n",
    "])\n",
    "\n",
    "@callback(\n",
    "    Output(component_id='display-value', component_property='children'),\n",
    "    Output(component_id='myGraph', component_property='figure'),\n",
    "    Input(component_id='randomize', component_property='n_clicks'),\n",
    ")\n",
    "def do_something(n_clicks):\n",
    "    # Regenerate the figure\n",
    "    df = pd.DataFrame(np.random.rand(10,2), columns=['A', 'B'])\n",
    "    fig = px.scatter(df, x='A', y='B')\n",
    "\n",
    "    return [\n",
    "        f'You have clicked {n_clicks} times',\n",
    "        fig,\n",
    "    ]\n",
    "\n",
    "if __name__ == '__main__':\n",
    "    app.run_server(debug=True)"
   ]
  }
 ],
 "metadata": {
  "kernelspec": {
   "display_name": "dsr-setup",
   "language": "python",
   "name": "dsr-setup"
  },
  "language_info": {
   "codemirror_mode": {
    "name": "ipython",
    "version": 3
   },
   "file_extension": ".py",
   "mimetype": "text/x-python",
   "name": "python",
   "nbconvert_exporter": "python",
   "pygments_lexer": "ipython3",
   "version": "3.8.13"
  }
 },
 "nbformat": 4,
 "nbformat_minor": 5
}
