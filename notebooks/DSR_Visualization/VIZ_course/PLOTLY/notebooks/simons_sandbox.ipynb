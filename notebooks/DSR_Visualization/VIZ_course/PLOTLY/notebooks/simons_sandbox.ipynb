{
 "cells": [
  {
   "cell_type": "code",
   "execution_count": 49,
   "id": "d85f3db2-2d0b-4d2c-9e85-f80803eba060",
   "metadata": {},
   "outputs": [],
   "source": [
    "# Constructing a figure\n",
    "import numpy as np\n",
    "import plotly as py\n",
    "import plotly.graph_objs as go\n",
    "from plotly.subplots import make_subplots\n",
    "\n",
    "fig = make_subplots(\n",
    "    rows=2, \n",
    "    cols=2, \n",
    "    subplot_titles=('f(x) = sin(x)', 'f(x) = cos(x)', 'f(x) = -sin(x)', 'f(x) = -cos(x)'), \n",
    "    shared_yaxes=True,\n",
    "    shared_xaxes=True\n",
    ")\n",
    "\n",
    "x = np.linspace(0,2*np.pi)\n",
    "\n",
    "fig.add_scatter(x=x, y=np.sin(x), name='sin(x)', row=1, col=1)\n",
    "fig.add_scatter(x=x, y=np.cos(x), name='cos(x)', row=1, col=2)\n",
    "fig.add_scatter(x=x, y=-np.sin(x), name='-sin(x)', row=2, col=1)\n",
    "fig.add_scatter(x=x, y=-np.cos(x), name='-cos(x)', row=2, col=2)\n",
    "\n",
    "(\n",
    "    fig.update_layout(\n",
    "        title=\"Trigonometric Functions\",\n",
    "        showlegend=False,\n",
    "        width=1200,\n",
    "        height=900,\n",
    "    )\n",
    ")\n",
    "\n",
    "fig.write_html(\n",
    "    file=\"my_trigo.html\",\n",
    "    include_plotlyjs='cdn',\n",
    "    config=dict(displaylogo=False)\n",
    ")"
   ]
  },
  {
   "cell_type": "code",
   "execution_count": 50,
   "id": "69895cc6-55a6-4cda-ba47-b5d7c6e5864c",
   "metadata": {},
   "outputs": [
    {
     "data": {
      "application/vnd.plotly.v1+json": {
       "config": {
        "plotlyServerURL": "https://plot.ly"
       },
       "data": [
        {
         "name": "sin(x)",
         "type": "scatter",
         "x": [
          0,
          0.1282282715750936,
          0.2564565431501872,
          0.38468481472528077,
          0.5129130863003744,
          0.6411413578754679,
          0.7693696294505615,
          0.8975979010256552,
          1.0258261726007487,
          1.1540544441758422,
          1.2822827157509358,
          1.4105109873260295,
          1.538739258901123,
          1.6669675304762166,
          1.7951958020513104,
          1.9234240736264039,
          2.0516523452014974,
          2.179880616776591,
          2.3081088883516845,
          2.436337159926778,
          2.5645654315018716,
          2.6927937030769655,
          2.821021974652059,
          2.9492502462271526,
          3.077478517802246,
          3.2057067893773397,
          3.333935060952433,
          3.4621633325275267,
          3.5903916041026207,
          3.7186198756777142,
          3.8468481472528078,
          3.9750764188279013,
          4.103304690402995,
          4.231532961978089,
          4.359761233553182,
          4.487989505128276,
          4.616217776703369,
          4.744446048278463,
          4.872674319853556,
          5.00090259142865,
          5.129130863003743,
          5.257359134578837,
          5.385587406153931,
          5.513815677729024,
          5.642043949304118,
          5.770272220879211,
          5.898500492454305,
          6.026728764029398,
          6.154957035604492,
          6.283185307179586
         ],
         "xaxis": "x",
         "y": [
          0,
          0.127877161684506,
          0.25365458390950735,
          0.3752670048793741,
          0.49071755200393785,
          0.5981105304912159,
          0.6956825506034864,
          0.7818314824680298,
          0.8551427630053461,
          0.9144126230158124,
          0.9586678530366606,
          0.9871817834144501,
          0.9994862162006879,
          0.9953791129491982,
          0.9749279121818236,
          0.9384684220497604,
          0.8865993063730001,
          0.8201722545969561,
          0.7402779970753157,
          0.6482283953077888,
          0.545534901210549,
          0.43388373911755823,
          0.3151082180236209,
          0.19115862870137254,
          0.06407021998071323,
          -0.06407021998071255,
          -0.19115862870137187,
          -0.3151082180236202,
          -0.433883739117558,
          -0.5455349012105485,
          -0.6482283953077882,
          -0.7402779970753153,
          -0.8201722545969556,
          -0.886599306373,
          -0.9384684220497602,
          -0.9749279121818236,
          -0.9953791129491981,
          -0.9994862162006879,
          -0.9871817834144503,
          -0.9586678530366608,
          -0.9144126230158128,
          -0.8551427630053464,
          -0.7818314824680299,
          -0.6956825506034869,
          -0.5981105304912162,
          -0.49071755200393863,
          -0.3752670048793746,
          -0.25365458390950835,
          -0.12787716168450664,
          -2.4492935982947064e-16
         ],
         "yaxis": "y"
        },
        {
         "name": "cos(x)",
         "type": "scatter",
         "x": [
          0,
          0.1282282715750936,
          0.2564565431501872,
          0.38468481472528077,
          0.5129130863003744,
          0.6411413578754679,
          0.7693696294505615,
          0.8975979010256552,
          1.0258261726007487,
          1.1540544441758422,
          1.2822827157509358,
          1.4105109873260295,
          1.538739258901123,
          1.6669675304762166,
          1.7951958020513104,
          1.9234240736264039,
          2.0516523452014974,
          2.179880616776591,
          2.3081088883516845,
          2.436337159926778,
          2.5645654315018716,
          2.6927937030769655,
          2.821021974652059,
          2.9492502462271526,
          3.077478517802246,
          3.2057067893773397,
          3.333935060952433,
          3.4621633325275267,
          3.5903916041026207,
          3.7186198756777142,
          3.8468481472528078,
          3.9750764188279013,
          4.103304690402995,
          4.231532961978089,
          4.359761233553182,
          4.487989505128276,
          4.616217776703369,
          4.744446048278463,
          4.872674319853556,
          5.00090259142865,
          5.129130863003743,
          5.257359134578837,
          5.385587406153931,
          5.513815677729024,
          5.642043949304118,
          5.770272220879211,
          5.898500492454305,
          6.026728764029398,
          6.154957035604492,
          6.283185307179586
         ],
         "xaxis": "x2",
         "y": [
          1,
          0.9917900138232462,
          0.9672948630390295,
          0.9269167573460217,
          0.8713187041233894,
          0.8014136218679567,
          0.7183493500977276,
          0.6234898018587336,
          0.5183925683105252,
          0.404783343122394,
          0.28452758663103267,
          0.15959989503337932,
          0.03205157757165533,
          -0.09602302590768154,
          -0.22252093395631434,
          -0.3453650544213075,
          -0.4625382902408351,
          -0.5721166601221694,
          -0.6723008902613166,
          -0.7614459583691342,
          -0.8380881048918404,
          -0.900968867902419,
          -0.9490557470106686,
          -0.9815591569910653,
          -0.9979453927503363,
          -0.9979453927503363,
          -0.9815591569910654,
          -0.9490557470106689,
          -0.9009688679024191,
          -0.8380881048918408,
          -0.7614459583691346,
          -0.672300890261317,
          -0.57211666012217,
          -0.4625382902408353,
          -0.34536505442130816,
          -0.2225209339563146,
          -0.09602302590768244,
          0.03205157757165486,
          0.1595998950333784,
          0.284527586631032,
          0.40478334312239295,
          0.5183925683105245,
          0.6234898018587334,
          0.718349350097727,
          0.8014136218679565,
          0.871318704123389,
          0.9269167573460216,
          0.9672948630390291,
          0.991790013823246,
          1
         ],
         "yaxis": "y2"
        },
        {
         "name": "-sin(x)",
         "type": "scatter",
         "x": [
          0,
          0.1282282715750936,
          0.2564565431501872,
          0.38468481472528077,
          0.5129130863003744,
          0.6411413578754679,
          0.7693696294505615,
          0.8975979010256552,
          1.0258261726007487,
          1.1540544441758422,
          1.2822827157509358,
          1.4105109873260295,
          1.538739258901123,
          1.6669675304762166,
          1.7951958020513104,
          1.9234240736264039,
          2.0516523452014974,
          2.179880616776591,
          2.3081088883516845,
          2.436337159926778,
          2.5645654315018716,
          2.6927937030769655,
          2.821021974652059,
          2.9492502462271526,
          3.077478517802246,
          3.2057067893773397,
          3.333935060952433,
          3.4621633325275267,
          3.5903916041026207,
          3.7186198756777142,
          3.8468481472528078,
          3.9750764188279013,
          4.103304690402995,
          4.231532961978089,
          4.359761233553182,
          4.487989505128276,
          4.616217776703369,
          4.744446048278463,
          4.872674319853556,
          5.00090259142865,
          5.129130863003743,
          5.257359134578837,
          5.385587406153931,
          5.513815677729024,
          5.642043949304118,
          5.770272220879211,
          5.898500492454305,
          6.026728764029398,
          6.154957035604492,
          6.283185307179586
         ],
         "xaxis": "x3",
         "y": [
          0,
          -0.127877161684506,
          -0.25365458390950735,
          -0.3752670048793741,
          -0.49071755200393785,
          -0.5981105304912159,
          -0.6956825506034864,
          -0.7818314824680298,
          -0.8551427630053461,
          -0.9144126230158124,
          -0.9586678530366606,
          -0.9871817834144501,
          -0.9994862162006879,
          -0.9953791129491982,
          -0.9749279121818236,
          -0.9384684220497604,
          -0.8865993063730001,
          -0.8201722545969561,
          -0.7402779970753157,
          -0.6482283953077888,
          -0.545534901210549,
          -0.43388373911755823,
          -0.3151082180236209,
          -0.19115862870137254,
          -0.06407021998071323,
          0.06407021998071255,
          0.19115862870137187,
          0.3151082180236202,
          0.433883739117558,
          0.5455349012105485,
          0.6482283953077882,
          0.7402779970753153,
          0.8201722545969556,
          0.886599306373,
          0.9384684220497602,
          0.9749279121818236,
          0.9953791129491981,
          0.9994862162006879,
          0.9871817834144503,
          0.9586678530366608,
          0.9144126230158128,
          0.8551427630053464,
          0.7818314824680299,
          0.6956825506034869,
          0.5981105304912162,
          0.49071755200393863,
          0.3752670048793746,
          0.25365458390950835,
          0.12787716168450664,
          2.4492935982947064e-16
         ],
         "yaxis": "y3"
        },
        {
         "name": "-cos(x)",
         "type": "scatter",
         "x": [
          0,
          0.1282282715750936,
          0.2564565431501872,
          0.38468481472528077,
          0.5129130863003744,
          0.6411413578754679,
          0.7693696294505615,
          0.8975979010256552,
          1.0258261726007487,
          1.1540544441758422,
          1.2822827157509358,
          1.4105109873260295,
          1.538739258901123,
          1.6669675304762166,
          1.7951958020513104,
          1.9234240736264039,
          2.0516523452014974,
          2.179880616776591,
          2.3081088883516845,
          2.436337159926778,
          2.5645654315018716,
          2.6927937030769655,
          2.821021974652059,
          2.9492502462271526,
          3.077478517802246,
          3.2057067893773397,
          3.333935060952433,
          3.4621633325275267,
          3.5903916041026207,
          3.7186198756777142,
          3.8468481472528078,
          3.9750764188279013,
          4.103304690402995,
          4.231532961978089,
          4.359761233553182,
          4.487989505128276,
          4.616217776703369,
          4.744446048278463,
          4.872674319853556,
          5.00090259142865,
          5.129130863003743,
          5.257359134578837,
          5.385587406153931,
          5.513815677729024,
          5.642043949304118,
          5.770272220879211,
          5.898500492454305,
          6.026728764029398,
          6.154957035604492,
          6.283185307179586
         ],
         "xaxis": "x4",
         "y": [
          -1,
          -0.9917900138232462,
          -0.9672948630390295,
          -0.9269167573460217,
          -0.8713187041233894,
          -0.8014136218679567,
          -0.7183493500977276,
          -0.6234898018587336,
          -0.5183925683105252,
          -0.404783343122394,
          -0.28452758663103267,
          -0.15959989503337932,
          -0.03205157757165533,
          0.09602302590768154,
          0.22252093395631434,
          0.3453650544213075,
          0.4625382902408351,
          0.5721166601221694,
          0.6723008902613166,
          0.7614459583691342,
          0.8380881048918404,
          0.900968867902419,
          0.9490557470106686,
          0.9815591569910653,
          0.9979453927503363,
          0.9979453927503363,
          0.9815591569910654,
          0.9490557470106689,
          0.9009688679024191,
          0.8380881048918408,
          0.7614459583691346,
          0.672300890261317,
          0.57211666012217,
          0.4625382902408353,
          0.34536505442130816,
          0.2225209339563146,
          0.09602302590768244,
          -0.03205157757165486,
          -0.1595998950333784,
          -0.284527586631032,
          -0.40478334312239295,
          -0.5183925683105245,
          -0.6234898018587334,
          -0.718349350097727,
          -0.8014136218679565,
          -0.871318704123389,
          -0.9269167573460216,
          -0.9672948630390291,
          -0.991790013823246,
          -1
         ],
         "yaxis": "y4"
        }
       ],
       "layout": {
        "annotations": [
         {
          "font": {
           "size": 16
          },
          "showarrow": false,
          "text": "f(x) = sin(x)",
          "x": 0.225,
          "xanchor": "center",
          "xref": "paper",
          "y": 1,
          "yanchor": "bottom",
          "yref": "paper"
         },
         {
          "font": {
           "size": 16
          },
          "showarrow": false,
          "text": "f(x) = cos(x)",
          "x": 0.775,
          "xanchor": "center",
          "xref": "paper",
          "y": 1,
          "yanchor": "bottom",
          "yref": "paper"
         },
         {
          "font": {
           "size": 16
          },
          "showarrow": false,
          "text": "f(x) = -sin(x)",
          "x": 0.225,
          "xanchor": "center",
          "xref": "paper",
          "y": 0.375,
          "yanchor": "bottom",
          "yref": "paper"
         },
         {
          "font": {
           "size": 16
          },
          "showarrow": false,
          "text": "f(x) = -cos(x)",
          "x": 0.775,
          "xanchor": "center",
          "xref": "paper",
          "y": 0.375,
          "yanchor": "bottom",
          "yref": "paper"
         }
        ],
        "height": 900,
        "showlegend": false,
        "template": {
         "data": {
          "bar": [
           {
            "error_x": {
             "color": "#2a3f5f"
            },
            "error_y": {
             "color": "#2a3f5f"
            },
            "marker": {
             "line": {
              "color": "#E5ECF6",
              "width": 0.5
             },
             "pattern": {
              "fillmode": "overlay",
              "size": 10,
              "solidity": 0.2
             }
            },
            "type": "bar"
           }
          ],
          "barpolar": [
           {
            "marker": {
             "line": {
              "color": "#E5ECF6",
              "width": 0.5
             },
             "pattern": {
              "fillmode": "overlay",
              "size": 10,
              "solidity": 0.2
             }
            },
            "type": "barpolar"
           }
          ],
          "carpet": [
           {
            "aaxis": {
             "endlinecolor": "#2a3f5f",
             "gridcolor": "white",
             "linecolor": "white",
             "minorgridcolor": "white",
             "startlinecolor": "#2a3f5f"
            },
            "baxis": {
             "endlinecolor": "#2a3f5f",
             "gridcolor": "white",
             "linecolor": "white",
             "minorgridcolor": "white",
             "startlinecolor": "#2a3f5f"
            },
            "type": "carpet"
           }
          ],
          "choropleth": [
           {
            "colorbar": {
             "outlinewidth": 0,
             "ticks": ""
            },
            "type": "choropleth"
           }
          ],
          "contour": [
           {
            "colorbar": {
             "outlinewidth": 0,
             "ticks": ""
            },
            "colorscale": [
             [
              0,
              "#0d0887"
             ],
             [
              0.1111111111111111,
              "#46039f"
             ],
             [
              0.2222222222222222,
              "#7201a8"
             ],
             [
              0.3333333333333333,
              "#9c179e"
             ],
             [
              0.4444444444444444,
              "#bd3786"
             ],
             [
              0.5555555555555556,
              "#d8576b"
             ],
             [
              0.6666666666666666,
              "#ed7953"
             ],
             [
              0.7777777777777778,
              "#fb9f3a"
             ],
             [
              0.8888888888888888,
              "#fdca26"
             ],
             [
              1,
              "#f0f921"
             ]
            ],
            "type": "contour"
           }
          ],
          "contourcarpet": [
           {
            "colorbar": {
             "outlinewidth": 0,
             "ticks": ""
            },
            "type": "contourcarpet"
           }
          ],
          "heatmap": [
           {
            "colorbar": {
             "outlinewidth": 0,
             "ticks": ""
            },
            "colorscale": [
             [
              0,
              "#0d0887"
             ],
             [
              0.1111111111111111,
              "#46039f"
             ],
             [
              0.2222222222222222,
              "#7201a8"
             ],
             [
              0.3333333333333333,
              "#9c179e"
             ],
             [
              0.4444444444444444,
              "#bd3786"
             ],
             [
              0.5555555555555556,
              "#d8576b"
             ],
             [
              0.6666666666666666,
              "#ed7953"
             ],
             [
              0.7777777777777778,
              "#fb9f3a"
             ],
             [
              0.8888888888888888,
              "#fdca26"
             ],
             [
              1,
              "#f0f921"
             ]
            ],
            "type": "heatmap"
           }
          ],
          "heatmapgl": [
           {
            "colorbar": {
             "outlinewidth": 0,
             "ticks": ""
            },
            "colorscale": [
             [
              0,
              "#0d0887"
             ],
             [
              0.1111111111111111,
              "#46039f"
             ],
             [
              0.2222222222222222,
              "#7201a8"
             ],
             [
              0.3333333333333333,
              "#9c179e"
             ],
             [
              0.4444444444444444,
              "#bd3786"
             ],
             [
              0.5555555555555556,
              "#d8576b"
             ],
             [
              0.6666666666666666,
              "#ed7953"
             ],
             [
              0.7777777777777778,
              "#fb9f3a"
             ],
             [
              0.8888888888888888,
              "#fdca26"
             ],
             [
              1,
              "#f0f921"
             ]
            ],
            "type": "heatmapgl"
           }
          ],
          "histogram": [
           {
            "marker": {
             "pattern": {
              "fillmode": "overlay",
              "size": 10,
              "solidity": 0.2
             }
            },
            "type": "histogram"
           }
          ],
          "histogram2d": [
           {
            "colorbar": {
             "outlinewidth": 0,
             "ticks": ""
            },
            "colorscale": [
             [
              0,
              "#0d0887"
             ],
             [
              0.1111111111111111,
              "#46039f"
             ],
             [
              0.2222222222222222,
              "#7201a8"
             ],
             [
              0.3333333333333333,
              "#9c179e"
             ],
             [
              0.4444444444444444,
              "#bd3786"
             ],
             [
              0.5555555555555556,
              "#d8576b"
             ],
             [
              0.6666666666666666,
              "#ed7953"
             ],
             [
              0.7777777777777778,
              "#fb9f3a"
             ],
             [
              0.8888888888888888,
              "#fdca26"
             ],
             [
              1,
              "#f0f921"
             ]
            ],
            "type": "histogram2d"
           }
          ],
          "histogram2dcontour": [
           {
            "colorbar": {
             "outlinewidth": 0,
             "ticks": ""
            },
            "colorscale": [
             [
              0,
              "#0d0887"
             ],
             [
              0.1111111111111111,
              "#46039f"
             ],
             [
              0.2222222222222222,
              "#7201a8"
             ],
             [
              0.3333333333333333,
              "#9c179e"
             ],
             [
              0.4444444444444444,
              "#bd3786"
             ],
             [
              0.5555555555555556,
              "#d8576b"
             ],
             [
              0.6666666666666666,
              "#ed7953"
             ],
             [
              0.7777777777777778,
              "#fb9f3a"
             ],
             [
              0.8888888888888888,
              "#fdca26"
             ],
             [
              1,
              "#f0f921"
             ]
            ],
            "type": "histogram2dcontour"
           }
          ],
          "mesh3d": [
           {
            "colorbar": {
             "outlinewidth": 0,
             "ticks": ""
            },
            "type": "mesh3d"
           }
          ],
          "parcoords": [
           {
            "line": {
             "colorbar": {
              "outlinewidth": 0,
              "ticks": ""
             }
            },
            "type": "parcoords"
           }
          ],
          "pie": [
           {
            "automargin": true,
            "type": "pie"
           }
          ],
          "scatter": [
           {
            "fillpattern": {
             "fillmode": "overlay",
             "size": 10,
             "solidity": 0.2
            },
            "type": "scatter"
           }
          ],
          "scatter3d": [
           {
            "line": {
             "colorbar": {
              "outlinewidth": 0,
              "ticks": ""
             }
            },
            "marker": {
             "colorbar": {
              "outlinewidth": 0,
              "ticks": ""
             }
            },
            "type": "scatter3d"
           }
          ],
          "scattercarpet": [
           {
            "marker": {
             "colorbar": {
              "outlinewidth": 0,
              "ticks": ""
             }
            },
            "type": "scattercarpet"
           }
          ],
          "scattergeo": [
           {
            "marker": {
             "colorbar": {
              "outlinewidth": 0,
              "ticks": ""
             }
            },
            "type": "scattergeo"
           }
          ],
          "scattergl": [
           {
            "marker": {
             "colorbar": {
              "outlinewidth": 0,
              "ticks": ""
             }
            },
            "type": "scattergl"
           }
          ],
          "scattermapbox": [
           {
            "marker": {
             "colorbar": {
              "outlinewidth": 0,
              "ticks": ""
             }
            },
            "type": "scattermapbox"
           }
          ],
          "scatterpolar": [
           {
            "marker": {
             "colorbar": {
              "outlinewidth": 0,
              "ticks": ""
             }
            },
            "type": "scatterpolar"
           }
          ],
          "scatterpolargl": [
           {
            "marker": {
             "colorbar": {
              "outlinewidth": 0,
              "ticks": ""
             }
            },
            "type": "scatterpolargl"
           }
          ],
          "scatterternary": [
           {
            "marker": {
             "colorbar": {
              "outlinewidth": 0,
              "ticks": ""
             }
            },
            "type": "scatterternary"
           }
          ],
          "surface": [
           {
            "colorbar": {
             "outlinewidth": 0,
             "ticks": ""
            },
            "colorscale": [
             [
              0,
              "#0d0887"
             ],
             [
              0.1111111111111111,
              "#46039f"
             ],
             [
              0.2222222222222222,
              "#7201a8"
             ],
             [
              0.3333333333333333,
              "#9c179e"
             ],
             [
              0.4444444444444444,
              "#bd3786"
             ],
             [
              0.5555555555555556,
              "#d8576b"
             ],
             [
              0.6666666666666666,
              "#ed7953"
             ],
             [
              0.7777777777777778,
              "#fb9f3a"
             ],
             [
              0.8888888888888888,
              "#fdca26"
             ],
             [
              1,
              "#f0f921"
             ]
            ],
            "type": "surface"
           }
          ],
          "table": [
           {
            "cells": {
             "fill": {
              "color": "#EBF0F8"
             },
             "line": {
              "color": "white"
             }
            },
            "header": {
             "fill": {
              "color": "#C8D4E3"
             },
             "line": {
              "color": "white"
             }
            },
            "type": "table"
           }
          ]
         },
         "layout": {
          "annotationdefaults": {
           "arrowcolor": "#2a3f5f",
           "arrowhead": 0,
           "arrowwidth": 1
          },
          "autotypenumbers": "strict",
          "coloraxis": {
           "colorbar": {
            "outlinewidth": 0,
            "ticks": ""
           }
          },
          "colorscale": {
           "diverging": [
            [
             0,
             "#8e0152"
            ],
            [
             0.1,
             "#c51b7d"
            ],
            [
             0.2,
             "#de77ae"
            ],
            [
             0.3,
             "#f1b6da"
            ],
            [
             0.4,
             "#fde0ef"
            ],
            [
             0.5,
             "#f7f7f7"
            ],
            [
             0.6,
             "#e6f5d0"
            ],
            [
             0.7,
             "#b8e186"
            ],
            [
             0.8,
             "#7fbc41"
            ],
            [
             0.9,
             "#4d9221"
            ],
            [
             1,
             "#276419"
            ]
           ],
           "sequential": [
            [
             0,
             "#0d0887"
            ],
            [
             0.1111111111111111,
             "#46039f"
            ],
            [
             0.2222222222222222,
             "#7201a8"
            ],
            [
             0.3333333333333333,
             "#9c179e"
            ],
            [
             0.4444444444444444,
             "#bd3786"
            ],
            [
             0.5555555555555556,
             "#d8576b"
            ],
            [
             0.6666666666666666,
             "#ed7953"
            ],
            [
             0.7777777777777778,
             "#fb9f3a"
            ],
            [
             0.8888888888888888,
             "#fdca26"
            ],
            [
             1,
             "#f0f921"
            ]
           ],
           "sequentialminus": [
            [
             0,
             "#0d0887"
            ],
            [
             0.1111111111111111,
             "#46039f"
            ],
            [
             0.2222222222222222,
             "#7201a8"
            ],
            [
             0.3333333333333333,
             "#9c179e"
            ],
            [
             0.4444444444444444,
             "#bd3786"
            ],
            [
             0.5555555555555556,
             "#d8576b"
            ],
            [
             0.6666666666666666,
             "#ed7953"
            ],
            [
             0.7777777777777778,
             "#fb9f3a"
            ],
            [
             0.8888888888888888,
             "#fdca26"
            ],
            [
             1,
             "#f0f921"
            ]
           ]
          },
          "colorway": [
           "#636efa",
           "#EF553B",
           "#00cc96",
           "#ab63fa",
           "#FFA15A",
           "#19d3f3",
           "#FF6692",
           "#B6E880",
           "#FF97FF",
           "#FECB52"
          ],
          "font": {
           "color": "#2a3f5f"
          },
          "geo": {
           "bgcolor": "white",
           "lakecolor": "white",
           "landcolor": "#E5ECF6",
           "showlakes": true,
           "showland": true,
           "subunitcolor": "white"
          },
          "hoverlabel": {
           "align": "left"
          },
          "hovermode": "closest",
          "mapbox": {
           "style": "light"
          },
          "paper_bgcolor": "white",
          "plot_bgcolor": "#E5ECF6",
          "polar": {
           "angularaxis": {
            "gridcolor": "white",
            "linecolor": "white",
            "ticks": ""
           },
           "bgcolor": "#E5ECF6",
           "radialaxis": {
            "gridcolor": "white",
            "linecolor": "white",
            "ticks": ""
           }
          },
          "scene": {
           "xaxis": {
            "backgroundcolor": "#E5ECF6",
            "gridcolor": "white",
            "gridwidth": 2,
            "linecolor": "white",
            "showbackground": true,
            "ticks": "",
            "zerolinecolor": "white"
           },
           "yaxis": {
            "backgroundcolor": "#E5ECF6",
            "gridcolor": "white",
            "gridwidth": 2,
            "linecolor": "white",
            "showbackground": true,
            "ticks": "",
            "zerolinecolor": "white"
           },
           "zaxis": {
            "backgroundcolor": "#E5ECF6",
            "gridcolor": "white",
            "gridwidth": 2,
            "linecolor": "white",
            "showbackground": true,
            "ticks": "",
            "zerolinecolor": "white"
           }
          },
          "shapedefaults": {
           "line": {
            "color": "#2a3f5f"
           }
          },
          "ternary": {
           "aaxis": {
            "gridcolor": "white",
            "linecolor": "white",
            "ticks": ""
           },
           "baxis": {
            "gridcolor": "white",
            "linecolor": "white",
            "ticks": ""
           },
           "bgcolor": "#E5ECF6",
           "caxis": {
            "gridcolor": "white",
            "linecolor": "white",
            "ticks": ""
           }
          },
          "title": {
           "x": 0.05
          },
          "xaxis": {
           "automargin": true,
           "gridcolor": "white",
           "linecolor": "white",
           "ticks": "",
           "title": {
            "standoff": 15
           },
           "zerolinecolor": "white",
           "zerolinewidth": 2
          },
          "yaxis": {
           "automargin": true,
           "gridcolor": "white",
           "linecolor": "white",
           "ticks": "",
           "title": {
            "standoff": 15
           },
           "zerolinecolor": "white",
           "zerolinewidth": 2
          }
         }
        },
        "title": {
         "text": "Trigonometric Functions"
        },
        "width": 1200,
        "xaxis": {
         "anchor": "y",
         "autorange": true,
         "domain": [
          0,
          0.45
         ],
         "matches": "x3",
         "range": [
          0,
          6.283185307179586
         ],
         "showticklabels": false,
         "type": "linear"
        },
        "xaxis2": {
         "anchor": "y2",
         "autorange": true,
         "domain": [
          0.55,
          1
         ],
         "matches": "x4",
         "range": [
          0,
          6.283185307179586
         ],
         "showticklabels": false,
         "type": "linear"
        },
        "xaxis3": {
         "anchor": "y3",
         "autorange": true,
         "domain": [
          0,
          0.45
         ],
         "range": [
          0,
          6.283185307179586
         ],
         "type": "linear"
        },
        "xaxis4": {
         "anchor": "y4",
         "autorange": true,
         "domain": [
          0.55,
          1
         ],
         "range": [
          0,
          6.283185307179586
         ],
         "type": "linear"
        },
        "yaxis": {
         "anchor": "x",
         "autorange": true,
         "domain": [
          0.625,
          1
         ],
         "range": [
          -1.1105687837673928,
          1.1110825675667049
         ],
         "type": "linear"
        },
        "yaxis2": {
         "anchor": "x2",
         "autorange": true,
         "domain": [
          0.625,
          1
         ],
         "matches": "y",
         "range": [
          -1.1105687837673928,
          1.1110825675667049
         ],
         "showticklabels": false,
         "type": "linear"
        },
        "yaxis3": {
         "anchor": "x3",
         "autorange": true,
         "domain": [
          0,
          0.375
         ],
         "range": [
          -1.1110825675667049,
          1.1105687837673928
         ],
         "type": "linear"
        },
        "yaxis4": {
         "anchor": "x4",
         "autorange": true,
         "domain": [
          0,
          0.375
         ],
         "matches": "y3",
         "range": [
          -1.1110825675667049,
          1.1105687837673928
         ],
         "showticklabels": false,
         "type": "linear"
        }
       }
      },
      "image/png": "[encoded data removed]",
      "text/html": [
       "<div>                            <div id=\"a5bb92e2-c0c7-49b7-989d-d5fcd31e73ac\" class=\"plotly-graph-div\" style=\"height:900px; width:1200px;\"></div>            <script type=\"text/javascript\">                require([\"plotly\"], function(Plotly) {                    window.PLOTLYENV=window.PLOTLYENV || {};                                    if (document.getElementById(\"a5bb92e2-c0c7-49b7-989d-d5fcd31e73ac\")) {                    Plotly.newPlot(                        \"a5bb92e2-c0c7-49b7-989d-d5fcd31e73ac\",                        [{\"name\":\"sin(x)\",\"x\":[0.0,0.1282282715750936,0.2564565431501872,0.38468481472528077,0.5129130863003744,0.6411413578754679,0.7693696294505615,0.8975979010256552,1.0258261726007487,1.1540544441758422,1.2822827157509358,1.4105109873260295,1.538739258901123,1.6669675304762166,1.7951958020513104,1.9234240736264039,2.0516523452014974,2.179880616776591,2.3081088883516845,2.436337159926778,2.5645654315018716,2.6927937030769655,2.821021974652059,2.9492502462271526,3.077478517802246,3.2057067893773397,3.333935060952433,3.4621633325275267,3.5903916041026207,3.7186198756777142,3.8468481472528078,3.9750764188279013,4.103304690402995,4.231532961978089,4.359761233553182,4.487989505128276,4.616217776703369,4.744446048278463,4.872674319853556,5.00090259142865,5.129130863003743,5.257359134578837,5.385587406153931,5.513815677729024,5.642043949304118,5.770272220879211,5.898500492454305,6.026728764029398,6.154957035604492,6.283185307179586],\"y\":[0.0,0.127877161684506,0.25365458390950735,0.3752670048793741,0.49071755200393785,0.5981105304912159,0.6956825506034864,0.7818314824680298,0.8551427630053461,0.9144126230158124,0.9586678530366606,0.9871817834144501,0.9994862162006879,0.9953791129491982,0.9749279121818236,0.9384684220497604,0.8865993063730001,0.8201722545969561,0.7402779970753157,0.6482283953077888,0.545534901210549,0.43388373911755823,0.3151082180236209,0.19115862870137254,0.06407021998071323,-0.06407021998071255,-0.19115862870137187,-0.3151082180236202,-0.433883739117558,-0.5455349012105485,-0.6482283953077882,-0.7402779970753153,-0.8201722545969556,-0.886599306373,-0.9384684220497602,-0.9749279121818236,-0.9953791129491981,-0.9994862162006879,-0.9871817834144503,-0.9586678530366608,-0.9144126230158128,-0.8551427630053464,-0.7818314824680299,-0.6956825506034869,-0.5981105304912162,-0.49071755200393863,-0.3752670048793746,-0.25365458390950835,-0.12787716168450664,-2.4492935982947064e-16],\"type\":\"scatter\",\"xaxis\":\"x\",\"yaxis\":\"y\"},{\"name\":\"cos(x)\",\"x\":[0.0,0.1282282715750936,0.2564565431501872,0.38468481472528077,0.5129130863003744,0.6411413578754679,0.7693696294505615,0.8975979010256552,1.0258261726007487,1.1540544441758422,1.2822827157509358,1.4105109873260295,1.538739258901123,1.6669675304762166,1.7951958020513104,1.9234240736264039,2.0516523452014974,2.179880616776591,2.3081088883516845,2.436337159926778,2.5645654315018716,2.6927937030769655,2.821021974652059,2.9492502462271526,3.077478517802246,3.2057067893773397,3.333935060952433,3.4621633325275267,3.5903916041026207,3.7186198756777142,3.8468481472528078,3.9750764188279013,4.103304690402995,4.231532961978089,4.359761233553182,4.487989505128276,4.616217776703369,4.744446048278463,4.872674319853556,5.00090259142865,5.129130863003743,5.257359134578837,5.385587406153931,5.513815677729024,5.642043949304118,5.770272220879211,5.898500492454305,6.026728764029398,6.154957035604492,6.283185307179586],\"y\":[1.0,0.9917900138232462,0.9672948630390295,0.9269167573460217,0.8713187041233894,0.8014136218679567,0.7183493500977276,0.6234898018587336,0.5183925683105252,0.404783343122394,0.28452758663103267,0.15959989503337932,0.03205157757165533,-0.09602302590768154,-0.22252093395631434,-0.3453650544213075,-0.4625382902408351,-0.5721166601221694,-0.6723008902613166,-0.7614459583691342,-0.8380881048918404,-0.900968867902419,-0.9490557470106686,-0.9815591569910653,-0.9979453927503363,-0.9979453927503363,-0.9815591569910654,-0.9490557470106689,-0.9009688679024191,-0.8380881048918408,-0.7614459583691346,-0.672300890261317,-0.57211666012217,-0.4625382902408353,-0.34536505442130816,-0.2225209339563146,-0.09602302590768244,0.03205157757165486,0.1595998950333784,0.284527586631032,0.40478334312239295,0.5183925683105245,0.6234898018587334,0.718349350097727,0.8014136218679565,0.871318704123389,0.9269167573460216,0.9672948630390291,0.991790013823246,1.0],\"type\":\"scatter\",\"xaxis\":\"x2\",\"yaxis\":\"y2\"},{\"name\":\"-sin(x)\",\"x\":[0.0,0.1282282715750936,0.2564565431501872,0.38468481472528077,0.5129130863003744,0.6411413578754679,0.7693696294505615,0.8975979010256552,1.0258261726007487,1.1540544441758422,1.2822827157509358,1.4105109873260295,1.538739258901123,1.6669675304762166,1.7951958020513104,1.9234240736264039,2.0516523452014974,2.179880616776591,2.3081088883516845,2.436337159926778,2.5645654315018716,2.6927937030769655,2.821021974652059,2.9492502462271526,3.077478517802246,3.2057067893773397,3.333935060952433,3.4621633325275267,3.5903916041026207,3.7186198756777142,3.8468481472528078,3.9750764188279013,4.103304690402995,4.231532961978089,4.359761233553182,4.487989505128276,4.616217776703369,4.744446048278463,4.872674319853556,5.00090259142865,5.129130863003743,5.257359134578837,5.385587406153931,5.513815677729024,5.642043949304118,5.770272220879211,5.898500492454305,6.026728764029398,6.154957035604492,6.283185307179586],\"y\":[-0.0,-0.127877161684506,-0.25365458390950735,-0.3752670048793741,-0.49071755200393785,-0.5981105304912159,-0.6956825506034864,-0.7818314824680298,-0.8551427630053461,-0.9144126230158124,-0.9586678530366606,-0.9871817834144501,-0.9994862162006879,-0.9953791129491982,-0.9749279121818236,-0.9384684220497604,-0.8865993063730001,-0.8201722545969561,-0.7402779970753157,-0.6482283953077888,-0.545534901210549,-0.43388373911755823,-0.3151082180236209,-0.19115862870137254,-0.06407021998071323,0.06407021998071255,0.19115862870137187,0.3151082180236202,0.433883739117558,0.5455349012105485,0.6482283953077882,0.7402779970753153,0.8201722545969556,0.886599306373,0.9384684220497602,0.9749279121818236,0.9953791129491981,0.9994862162006879,0.9871817834144503,0.9586678530366608,0.9144126230158128,0.8551427630053464,0.7818314824680299,0.6956825506034869,0.5981105304912162,0.49071755200393863,0.3752670048793746,0.25365458390950835,0.12787716168450664,2.4492935982947064e-16],\"type\":\"scatter\",\"xaxis\":\"x3\",\"yaxis\":\"y3\"},{\"name\":\"-cos(x)\",\"x\":[0.0,0.1282282715750936,0.2564565431501872,0.38468481472528077,0.5129130863003744,0.6411413578754679,0.7693696294505615,0.8975979010256552,1.0258261726007487,1.1540544441758422,1.2822827157509358,1.4105109873260295,1.538739258901123,1.6669675304762166,1.7951958020513104,1.9234240736264039,2.0516523452014974,2.179880616776591,2.3081088883516845,2.436337159926778,2.5645654315018716,2.6927937030769655,2.821021974652059,2.9492502462271526,3.077478517802246,3.2057067893773397,3.333935060952433,3.4621633325275267,3.5903916041026207,3.7186198756777142,3.8468481472528078,3.9750764188279013,4.103304690402995,4.231532961978089,4.359761233553182,4.487989505128276,4.616217776703369,4.744446048278463,4.872674319853556,5.00090259142865,5.129130863003743,5.257359134578837,5.385587406153931,5.513815677729024,5.642043949304118,5.770272220879211,5.898500492454305,6.026728764029398,6.154957035604492,6.283185307179586],\"y\":[-1.0,-0.9917900138232462,-0.9672948630390295,-0.9269167573460217,-0.8713187041233894,-0.8014136218679567,-0.7183493500977276,-0.6234898018587336,-0.5183925683105252,-0.404783343122394,-0.28452758663103267,-0.15959989503337932,-0.03205157757165533,0.09602302590768154,0.22252093395631434,0.3453650544213075,0.4625382902408351,0.5721166601221694,0.6723008902613166,0.7614459583691342,0.8380881048918404,0.900968867902419,0.9490557470106686,0.9815591569910653,0.9979453927503363,0.9979453927503363,0.9815591569910654,0.9490557470106689,0.9009688679024191,0.8380881048918408,0.7614459583691346,0.672300890261317,0.57211666012217,0.4625382902408353,0.34536505442130816,0.2225209339563146,0.09602302590768244,-0.03205157757165486,-0.1595998950333784,-0.284527586631032,-0.40478334312239295,-0.5183925683105245,-0.6234898018587334,-0.718349350097727,-0.8014136218679565,-0.871318704123389,-0.9269167573460216,-0.9672948630390291,-0.991790013823246,-1.0],\"type\":\"scatter\",\"xaxis\":\"x4\",\"yaxis\":\"y4\"}],                        {\"template\":{\"data\":{\"histogram2dcontour\":[{\"type\":\"histogram2dcontour\",\"colorbar\":{\"outlinewidth\":0,\"ticks\":\"\"},\"colorscale\":[[0.0,\"#0d0887\"],[0.1111111111111111,\"#46039f\"],[0.2222222222222222,\"#7201a8\"],[0.3333333333333333,\"#9c179e\"],[0.4444444444444444,\"#bd3786\"],[0.5555555555555556,\"#d8576b\"],[0.6666666666666666,\"#ed7953\"],[0.7777777777777778,\"#fb9f3a\"],[0.8888888888888888,\"#fdca26\"],[1.0,\"#f0f921\"]]}],\"choropleth\":[{\"type\":\"choropleth\",\"colorbar\":{\"outlinewidth\":0,\"ticks\":\"\"}}],\"histogram2d\":[{\"type\":\"histogram2d\",\"colorbar\":{\"outlinewidth\":0,\"ticks\":\"\"},\"colorscale\":[[0.0,\"#0d0887\"],[0.1111111111111111,\"#46039f\"],[0.2222222222222222,\"#7201a8\"],[0.3333333333333333,\"#9c179e\"],[0.4444444444444444,\"#bd3786\"],[0.5555555555555556,\"#d8576b\"],[0.6666666666666666,\"#ed7953\"],[0.7777777777777778,\"#fb9f3a\"],[0.8888888888888888,\"#fdca26\"],[1.0,\"#f0f921\"]]}],\"heatmap\":[{\"type\":\"heatmap\",\"colorbar\":{\"outlinewidth\":0,\"ticks\":\"\"},\"colorscale\":[[0.0,\"#0d0887\"],[0.1111111111111111,\"#46039f\"],[0.2222222222222222,\"#7201a8\"],[0.3333333333333333,\"#9c179e\"],[0.4444444444444444,\"#bd3786\"],[0.5555555555555556,\"#d8576b\"],[0.6666666666666666,\"#ed7953\"],[0.7777777777777778,\"#fb9f3a\"],[0.8888888888888888,\"#fdca26\"],[1.0,\"#f0f921\"]]}],\"heatmapgl\":[{\"type\":\"heatmapgl\",\"colorbar\":{\"outlinewidth\":0,\"ticks\":\"\"},\"colorscale\":[[0.0,\"#0d0887\"],[0.1111111111111111,\"#46039f\"],[0.2222222222222222,\"#7201a8\"],[0.3333333333333333,\"#9c179e\"],[0.4444444444444444,\"#bd3786\"],[0.5555555555555556,\"#d8576b\"],[0.6666666666666666,\"#ed7953\"],[0.7777777777777778,\"#fb9f3a\"],[0.8888888888888888,\"#fdca26\"],[1.0,\"#f0f921\"]]}],\"contourcarpet\":[{\"type\":\"contourcarpet\",\"colorbar\":{\"outlinewidth\":0,\"ticks\":\"\"}}],\"contour\":[{\"type\":\"contour\",\"colorbar\":{\"outlinewidth\":0,\"ticks\":\"\"},\"colorscale\":[[0.0,\"#0d0887\"],[0.1111111111111111,\"#46039f\"],[0.2222222222222222,\"#7201a8\"],[0.3333333333333333,\"#9c179e\"],[0.4444444444444444,\"#bd3786\"],[0.5555555555555556,\"#d8576b\"],[0.6666666666666666,\"#ed7953\"],[0.7777777777777778,\"#fb9f3a\"],[0.8888888888888888,\"#fdca26\"],[1.0,\"#f0f921\"]]}],\"surface\":[{\"type\":\"surface\",\"colorbar\":{\"outlinewidth\":0,\"ticks\":\"\"},\"colorscale\":[[0.0,\"#0d0887\"],[0.1111111111111111,\"#46039f\"],[0.2222222222222222,\"#7201a8\"],[0.3333333333333333,\"#9c179e\"],[0.4444444444444444,\"#bd3786\"],[0.5555555555555556,\"#d8576b\"],[0.6666666666666666,\"#ed7953\"],[0.7777777777777778,\"#fb9f3a\"],[0.8888888888888888,\"#fdca26\"],[1.0,\"#f0f921\"]]}],\"mesh3d\":[{\"type\":\"mesh3d\",\"colorbar\":{\"outlinewidth\":0,\"ticks\":\"\"}}],\"scatter\":[{\"fillpattern\":{\"fillmode\":\"overlay\",\"size\":10,\"solidity\":0.2},\"type\":\"scatter\"}],\"parcoords\":[{\"type\":\"parcoords\",\"line\":{\"colorbar\":{\"outlinewidth\":0,\"ticks\":\"\"}}}],\"scatterpolargl\":[{\"type\":\"scatterpolargl\",\"marker\":{\"colorbar\":{\"outlinewidth\":0,\"ticks\":\"\"}}}],\"bar\":[{\"error_x\":{\"color\":\"#2a3f5f\"},\"error_y\":{\"color\":\"#2a3f5f\"},\"marker\":{\"line\":{\"color\":\"#E5ECF6\",\"width\":0.5},\"pattern\":{\"fillmode\":\"overlay\",\"size\":10,\"solidity\":0.2}},\"type\":\"bar\"}],\"scattergeo\":[{\"type\":\"scattergeo\",\"marker\":{\"colorbar\":{\"outlinewidth\":0,\"ticks\":\"\"}}}],\"scatterpolar\":[{\"type\":\"scatterpolar\",\"marker\":{\"colorbar\":{\"outlinewidth\":0,\"ticks\":\"\"}}}],\"histogram\":[{\"marker\":{\"pattern\":{\"fillmode\":\"overlay\",\"size\":10,\"solidity\":0.2}},\"type\":\"histogram\"}],\"scattergl\":[{\"type\":\"scattergl\",\"marker\":{\"colorbar\":{\"outlinewidth\":0,\"ticks\":\"\"}}}],\"scatter3d\":[{\"type\":\"scatter3d\",\"line\":{\"colorbar\":{\"outlinewidth\":0,\"ticks\":\"\"}},\"marker\":{\"colorbar\":{\"outlinewidth\":0,\"ticks\":\"\"}}}],\"scattermapbox\":[{\"type\":\"scattermapbox\",\"marker\":{\"colorbar\":{\"outlinewidth\":0,\"ticks\":\"\"}}}],\"scatterternary\":[{\"type\":\"scatterternary\",\"marker\":{\"colorbar\":{\"outlinewidth\":0,\"ticks\":\"\"}}}],\"scattercarpet\":[{\"type\":\"scattercarpet\",\"marker\":{\"colorbar\":{\"outlinewidth\":0,\"ticks\":\"\"}}}],\"carpet\":[{\"aaxis\":{\"endlinecolor\":\"#2a3f5f\",\"gridcolor\":\"white\",\"linecolor\":\"white\",\"minorgridcolor\":\"white\",\"startlinecolor\":\"#2a3f5f\"},\"baxis\":{\"endlinecolor\":\"#2a3f5f\",\"gridcolor\":\"white\",\"linecolor\":\"white\",\"minorgridcolor\":\"white\",\"startlinecolor\":\"#2a3f5f\"},\"type\":\"carpet\"}],\"table\":[{\"cells\":{\"fill\":{\"color\":\"#EBF0F8\"},\"line\":{\"color\":\"white\"}},\"header\":{\"fill\":{\"color\":\"#C8D4E3\"},\"line\":{\"color\":\"white\"}},\"type\":\"table\"}],\"barpolar\":[{\"marker\":{\"line\":{\"color\":\"#E5ECF6\",\"width\":0.5},\"pattern\":{\"fillmode\":\"overlay\",\"size\":10,\"solidity\":0.2}},\"type\":\"barpolar\"}],\"pie\":[{\"automargin\":true,\"type\":\"pie\"}]},\"layout\":{\"autotypenumbers\":\"strict\",\"colorway\":[\"#636efa\",\"#EF553B\",\"#00cc96\",\"#ab63fa\",\"#FFA15A\",\"#19d3f3\",\"#FF6692\",\"#B6E880\",\"#FF97FF\",\"#FECB52\"],\"font\":{\"color\":\"#2a3f5f\"},\"hovermode\":\"closest\",\"hoverlabel\":{\"align\":\"left\"},\"paper_bgcolor\":\"white\",\"plot_bgcolor\":\"#E5ECF6\",\"polar\":{\"bgcolor\":\"#E5ECF6\",\"angularaxis\":{\"gridcolor\":\"white\",\"linecolor\":\"white\",\"ticks\":\"\"},\"radialaxis\":{\"gridcolor\":\"white\",\"linecolor\":\"white\",\"ticks\":\"\"}},\"ternary\":{\"bgcolor\":\"#E5ECF6\",\"aaxis\":{\"gridcolor\":\"white\",\"linecolor\":\"white\",\"ticks\":\"\"},\"baxis\":{\"gridcolor\":\"white\",\"linecolor\":\"white\",\"ticks\":\"\"},\"caxis\":{\"gridcolor\":\"white\",\"linecolor\":\"white\",\"ticks\":\"\"}},\"coloraxis\":{\"colorbar\":{\"outlinewidth\":0,\"ticks\":\"\"}},\"colorscale\":{\"sequential\":[[0.0,\"#0d0887\"],[0.1111111111111111,\"#46039f\"],[0.2222222222222222,\"#7201a8\"],[0.3333333333333333,\"#9c179e\"],[0.4444444444444444,\"#bd3786\"],[0.5555555555555556,\"#d8576b\"],[0.6666666666666666,\"#ed7953\"],[0.7777777777777778,\"#fb9f3a\"],[0.8888888888888888,\"#fdca26\"],[1.0,\"#f0f921\"]],\"sequentialminus\":[[0.0,\"#0d0887\"],[0.1111111111111111,\"#46039f\"],[0.2222222222222222,\"#7201a8\"],[0.3333333333333333,\"#9c179e\"],[0.4444444444444444,\"#bd3786\"],[0.5555555555555556,\"#d8576b\"],[0.6666666666666666,\"#ed7953\"],[0.7777777777777778,\"#fb9f3a\"],[0.8888888888888888,\"#fdca26\"],[1.0,\"#f0f921\"]],\"diverging\":[[0,\"#8e0152\"],[0.1,\"#c51b7d\"],[0.2,\"#de77ae\"],[0.3,\"#f1b6da\"],[0.4,\"#fde0ef\"],[0.5,\"#f7f7f7\"],[0.6,\"#e6f5d0\"],[0.7,\"#b8e186\"],[0.8,\"#7fbc41\"],[0.9,\"#4d9221\"],[1,\"#276419\"]]},\"xaxis\":{\"gridcolor\":\"white\",\"linecolor\":\"white\",\"ticks\":\"\",\"title\":{\"standoff\":15},\"zerolinecolor\":\"white\",\"automargin\":true,\"zerolinewidth\":2},\"yaxis\":{\"gridcolor\":\"white\",\"linecolor\":\"white\",\"ticks\":\"\",\"title\":{\"standoff\":15},\"zerolinecolor\":\"white\",\"automargin\":true,\"zerolinewidth\":2},\"scene\":{\"xaxis\":{\"backgroundcolor\":\"#E5ECF6\",\"gridcolor\":\"white\",\"linecolor\":\"white\",\"showbackground\":true,\"ticks\":\"\",\"zerolinecolor\":\"white\",\"gridwidth\":2},\"yaxis\":{\"backgroundcolor\":\"#E5ECF6\",\"gridcolor\":\"white\",\"linecolor\":\"white\",\"showbackground\":true,\"ticks\":\"\",\"zerolinecolor\":\"white\",\"gridwidth\":2},\"zaxis\":{\"backgroundcolor\":\"#E5ECF6\",\"gridcolor\":\"white\",\"linecolor\":\"white\",\"showbackground\":true,\"ticks\":\"\",\"zerolinecolor\":\"white\",\"gridwidth\":2}},\"shapedefaults\":{\"line\":{\"color\":\"#2a3f5f\"}},\"annotationdefaults\":{\"arrowcolor\":\"#2a3f5f\",\"arrowhead\":0,\"arrowwidth\":1},\"geo\":{\"bgcolor\":\"white\",\"landcolor\":\"#E5ECF6\",\"subunitcolor\":\"white\",\"showland\":true,\"showlakes\":true,\"lakecolor\":\"white\"},\"title\":{\"x\":0.05},\"mapbox\":{\"style\":\"light\"}}},\"xaxis\":{\"anchor\":\"y\",\"domain\":[0.0,0.45],\"matches\":\"x3\",\"showticklabels\":false},\"yaxis\":{\"anchor\":\"x\",\"domain\":[0.625,1.0]},\"xaxis2\":{\"anchor\":\"y2\",\"domain\":[0.55,1.0],\"matches\":\"x4\",\"showticklabels\":false},\"yaxis2\":{\"anchor\":\"x2\",\"domain\":[0.625,1.0],\"matches\":\"y\",\"showticklabels\":false},\"xaxis3\":{\"anchor\":\"y3\",\"domain\":[0.0,0.45]},\"yaxis3\":{\"anchor\":\"x3\",\"domain\":[0.0,0.375]},\"xaxis4\":{\"anchor\":\"y4\",\"domain\":[0.55,1.0]},\"yaxis4\":{\"anchor\":\"x4\",\"domain\":[0.0,0.375],\"matches\":\"y3\",\"showticklabels\":false},\"annotations\":[{\"font\":{\"size\":16},\"showarrow\":false,\"text\":\"f(x) = sin(x)\",\"x\":0.225,\"xanchor\":\"center\",\"xref\":\"paper\",\"y\":1.0,\"yanchor\":\"bottom\",\"yref\":\"paper\"},{\"font\":{\"size\":16},\"showarrow\":false,\"text\":\"f(x) = cos(x)\",\"x\":0.775,\"xanchor\":\"center\",\"xref\":\"paper\",\"y\":1.0,\"yanchor\":\"bottom\",\"yref\":\"paper\"},{\"font\":{\"size\":16},\"showarrow\":false,\"text\":\"f(x) = -sin(x)\",\"x\":0.225,\"xanchor\":\"center\",\"xref\":\"paper\",\"y\":0.375,\"yanchor\":\"bottom\",\"yref\":\"paper\"},{\"font\":{\"size\":16},\"showarrow\":false,\"text\":\"f(x) = -cos(x)\",\"x\":0.775,\"xanchor\":\"center\",\"xref\":\"paper\",\"y\":0.375,\"yanchor\":\"bottom\",\"yref\":\"paper\"}],\"title\":{\"text\":\"Trigonometric Functions\"},\"showlegend\":false,\"width\":1200,\"height\":900},                        {\"responsive\": true}                    ).then(function(){\n",
       "                            \n",
       "var gd = document.getElementById('a5bb92e2-c0c7-49b7-989d-d5fcd31e73ac');\n",
       "var x = new MutationObserver(function (mutations, observer) {{\n",
       "        var display = window.getComputedStyle(gd).display;\n",
       "        if (!display || display === 'none') {{\n",
       "            console.log([gd, 'removed!']);\n",
       "            Plotly.purge(gd);\n",
       "            observer.disconnect();\n",
       "        }}\n",
       "}});\n",
       "\n",
       "// Listen for the removal of the full notebook cells\n",
       "var notebookContainer = gd.closest('#notebook-container');\n",
       "if (notebookContainer) {{\n",
       "    x.observe(notebookContainer, {childList: true});\n",
       "}}\n",
       "\n",
       "// Listen for the clearing of the current output cell\n",
       "var outputEl = gd.closest('.output');\n",
       "if (outputEl) {{\n",
       "    x.observe(outputEl, {childList: true});\n",
       "}}\n",
       "\n",
       "                        })                };                });            </script>        </div>"
      ]
     },
     "metadata": {},
     "output_type": "display_data"
    }
   ],
   "source": [
    "fig.show()"
   ]
  },
  {
   "cell_type": "code",
   "execution_count": 44,
   "id": "1e7e00f2-e87b-46b5-aabd-4aaa53af01aa",
   "metadata": {},
   "outputs": [],
   "source": [
    "x = dict(\n",
    "    a=\"12345678901234901234567890\",\n",
    "    b=\"17\",\n",
    ")"
   ]
  }
 ],
 "metadata": {
  "kernelspec": {
   "display_name": "dsr-setup",
   "language": "python",
   "name": "dsr-setup"
  },
  "language_info": {
   "codemirror_mode": {
    "name": "ipython",
    "version": 3
   },
   "file_extension": ".py",
   "mimetype": "text/x-python",
   "name": "python",
   "nbconvert_exporter": "python",
   "pygments_lexer": "ipython3",
   "version": "3.8.13"
  }
 },
 "nbformat": 4,
 "nbformat_minor": 5
}
