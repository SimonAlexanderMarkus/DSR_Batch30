{
 "cells": [
  {
   "cell_type": "code",
   "execution_count": 2,
   "id": "d926527e-91fd-4dca-ab24-f9f79d9a8711",
   "metadata": {},
   "outputs": [],
   "source": [
    "from dash import Dash, html, dcc"
   ]
  },
  {
   "cell_type": "code",
   "execution_count": 3,
   "id": "08704bc8-db13-4e30-a7a9-0934b8df4b63",
   "metadata": {},
   "outputs": [],
   "source": [
    "import plotly.express as px"
   ]
  },
  {
   "cell_type": "code",
   "execution_count": 4,
   "id": "8490560f-d4f9-412b-9dbb-09082e429f17",
   "metadata": {},
   "outputs": [],
   "source": [
    "import pandas as pd"
   ]
  },
  {
   "cell_type": "code",
   "execution_count": null,
   "id": "951bca8f-d75d-4f22-bd85-d8a260a3f9a8",
   "metadata": {},
   "outputs": [],
   "source": []
  }
 ],
 "metadata": {
  "kernelspec": {
   "display_name": "dsr-setup",
   "language": "python",
   "name": "dsr-setup"
  },
  "language_info": {
   "codemirror_mode": {
    "name": "ipython",
    "version": 3
   },
   "file_extension": ".py",
   "mimetype": "text/x-python",
   "name": "python",
   "nbconvert_exporter": "python",
   "pygments_lexer": "ipython3",
   "version": "3.8.13"
  }
 },
 "nbformat": 4,
 "nbformat_minor": 5
}
