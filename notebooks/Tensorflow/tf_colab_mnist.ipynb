{
 "cells": [
  {
   "cell_type": "markdown",
   "id": "670f3862-acd8-4ab8-8158-b582a8fa06ee",
   "metadata": {},
   "source": [
    "# NN Learning MNIST in Google Colab"
   ]
  },
  {
   "cell_type": "code",
   "execution_count": 3,
   "id": "8af24bc7-e348-4d66-a995-c8910121514e",
   "metadata": {},
   "outputs": [],
   "source": [
    "import os\n",
    "from pathlib import Path\n",
    "import json\n",
    "import pandas as pd\n",
    "\n",
    "import tensorflow as tf\n",
    "from tensorflow import keras\n",
    "from tensorflow.keras import layers, models\n",
    "\n",
    "import matplotlib.pyplot as plt\n",
    "import numpy as np"
   ]
  },
  {
   "cell_type": "markdown",
   "id": "3f4334e4-3168-41e0-b526-76b993cd91b6",
   "metadata": {},
   "source": [
    "## Load Data"
   ]
  },
  {
   "cell_type": "code",
   "execution_count": 2,
   "id": "2e776c90-67d4-4775-b014-5bcfb7f53c1f",
   "metadata": {},
   "outputs": [],
   "source": [
    "from tensorflow.keras.datasets import mnist\n",
    "from tensorflow.keras.utils import to_categorical\n",
    "\n",
    "(x_train, y_train), (x_test, y_test) = mnist.load_data()\n",
    "x_train = x_train.astype(\"float32\") / 255.0\n",
    "x_test = x_test.astype(\"float32\") / 255.0\n",
    "\n",
    "# Onehot-Encoding\n",
    "y_train = to_categorical(y_train)\n",
    "y_test = to_categorical(y_test)"
   ]
  },
  {
   "cell_type": "markdown",
   "id": "d1095917-279a-4aef-8865-7803ea5269a7",
   "metadata": {},
   "source": [
    "## Set Hyperparameters"
   ]
  },
  {
   "cell_type": "code",
   "execution_count": 14,
   "id": "42e6b3cd-314b-4e73-8428-0e3565e7e838",
   "metadata": {},
   "outputs": [],
   "source": [
    "session_name = \"test1\"\n",
    "\n",
    "layer_counts = [1, 2]\n",
    "layer_neuron_counts = [16, 32]\n",
    "layer_activation_types = [\"sigmoid\", \"relu\"]\n",
    "\n",
    "epochs = 5"
   ]
  },
  {
   "cell_type": "markdown",
   "id": "563aea53-5681-4e11-a852-7555f640df2c",
   "metadata": {},
   "source": [
    "## Create Model"
   ]
  },
  {
   "cell_type": "code",
   "execution_count": 9,
   "id": "44e0dcb5-2266-49c6-a81f-d4e59ac6d8ff",
   "metadata": {},
   "outputs": [],
   "source": [
    "def create_model(layer_count, layer_neurons, layer_activations):\n",
    "    model = models.Sequential()\n",
    "    \n",
    "    model.add(layers.Flatten(input_shape=(28,28)))\n",
    "    \n",
    "    for n in range(layer_count):\n",
    "        model.add(layers.Dense(layer_neurons[n], activation=layer_activations[n]))\n",
    "    \n",
    "    model.add(layers.Dense(10, activation=\"softmax\"))\n",
    "    \n",
    "    model.compile(\n",
    "            loss=\"categorical_crossentropy\",\n",
    "        metrics=[\"accuracy\"],\n",
    "        optimizer=\"adam\"\n",
    "    )\n",
    "    \n",
    "    return model\n",
    "        "
   ]
  },
  {
   "cell_type": "code",
   "execution_count": 15,
   "id": "0619417b-5bac-4152-9ba1-06123dfeca36",
   "metadata": {},
   "outputs": [],
   "source": [
    "def create_model_dir(model_name):\n",
    "    model_dir = \"../../models/tf_colab_mnist/\"+ session_name + \"/\" + model_name + \"/\"\n",
    "\n",
    "    saved_dir = model_dir + \"saved/\"\n",
    "    checkpoint_dir = model_dir + \"cp/\"\n",
    "    history_dir = model_dir + \"history/\"\n",
    "\n",
    "    checkpoint_path = checkpoint_dir + \"cp-{epoch:02d}.ckpt\"\n",
    "\n",
    "    Path(saved_dir).mkdir(parents=True, exist_ok=True)\n",
    "    Path(checkpoint_dir).mkdir(parents=True, exist_ok=True)\n",
    "    Path(history_dir).mkdir(parents=True, exist_ok=True)\n",
    "    \n",
    "    return saved_dir, checkpoint_dir, history_dir"
   ]
  },
  {
   "cell_type": "code",
   "execution_count": 17,
   "id": "d958e073-90d5-4208-a136-b7999a517f7a",
   "metadata": {},
   "outputs": [
    {
     "name": "stdout",
     "output_type": "stream",
     "text": [
      "1\n",
      "2\n"
     ]
    }
   ],
   "source": [
    "for layer_count in layer_counts:\n",
    "    for layer_neuron_count in layer_neuron_counts:\n",
    "        for layer_activation_type in layer_activation_types"
   ]
  },
  {
   "cell_type": "code",
   "execution_count": 16,
   "id": "631e8c22-dbe6-4b1d-a409-a3ea36638e2d",
   "metadata": {},
   "outputs": [
    {
     "name": "stdout",
     "output_type": "stream",
     "text": [
      "Model: \"sequential_2\"\n",
      "_________________________________________________________________\n",
      " Layer (type)                Output Shape              Param #   \n",
      "=================================================================\n",
      " flatten_2 (Flatten)         (None, 784)               0         \n",
      "                                                                 \n",
      " dense_4 (Dense)             (None, 8)                 6280      \n",
      "                                                                 \n",
      " dense_5 (Dense)             (None, 10)                90        \n",
      "                                                                 \n",
      " dense_6 (Dense)             (None, 10)                110       \n",
      "                                                                 \n",
      "=================================================================\n",
      "Total params: 6,480\n",
      "Trainable params: 6,480\n",
      "Non-trainable params: 0\n",
      "_________________________________________________________________\n"
     ]
    }
   ],
   "source": [
    "model = create_model(2, [8, 10], [\"relu\", \"sigmoid\"])\n",
    "model.summary()"
   ]
  },
  {
   "cell_type": "code",
   "execution_count": null,
   "id": "2222e10f-ac71-4eb2-8012-12c3303172fa",
   "metadata": {},
   "outputs": [],
   "source": []
  }
 ],
 "metadata": {
  "kernelspec": {
   "display_name": "dsr-setup",
   "language": "python",
   "name": "dsr-setup"
  },
  "language_info": {
   "codemirror_mode": {
    "name": "ipython",
    "version": 3
   },
   "file_extension": ".py",
   "mimetype": "text/x-python",
   "name": "python",
   "nbconvert_exporter": "python",
   "pygments_lexer": "ipython3",
   "version": "3.8.13"
  }
 },
 "nbformat": 4,
 "nbformat_minor": 5
}
