{
 "cells": [
  {
   "cell_type": "markdown",
   "id": "eba31e4f-add0-4adf-a518-cc063422c344",
   "metadata": {},
   "source": [
    "# Data Pipeline in Tensorflow\n",
    "Example for splitting, caching, shuffling and batching data.\n",
    "\n",
    "https://www.tensorflow.org/guide/data"
   ]
  },
  {
   "cell_type": "code",
   "execution_count": 3,
   "id": "3624e417-bc22-4d0a-904e-2e5a341e47b3",
   "metadata": {},
   "outputs": [],
   "source": [
    "from os.path import exists\n",
    "\n",
    "import tensorflow as tf\n",
    "from tensorflow.keras import preprocessing\n",
    "from tensorflow.keras import layers, models\n"
   ]
  },
  {
   "cell_type": "markdown",
   "id": "7858c87c-644b-4b3f-86eb-59f95a8418fb",
   "metadata": {},
   "source": [
    "## Simple Example with Numpy Array"
   ]
  },
  {
   "cell_type": "markdown",
   "id": "a2cc53ab-080f-48e1-afae-d191a67bd48f",
   "metadata": {},
   "source": [
    "#### 1. Load Data"
   ]
  },
  {
   "cell_type": "code",
   "execution_count": 31,
   "id": "9c98ccc1-3dc3-439a-bb79-2e536e92fa1d",
   "metadata": {},
   "outputs": [],
   "source": [
    "N = 80_000 # "
   ]
  },
  {
   "cell_type": "code",
   "execution_count": 32,
   "id": "60735e8f-8756-43ec-a9c5-073ba65ac1f2",
   "metadata": {},
   "outputs": [
    {
     "data": {
      "text/plain": [
       "<TakeDataset element_spec=TensorSpec(shape=(), dtype=tf.int64, name=None)>"
      ]
     },
     "execution_count": 32,
     "metadata": {},
     "output_type": "execute_result"
    }
   ],
   "source": [
    "dataset = tf.data.Dataset.random(seed=42).take(N)\n",
    "dataset"
   ]
  },
  {
   "cell_type": "code",
   "execution_count": 39,
   "id": "6e22442c-a7b9-4417-b283-a19ef878ac52",
   "metadata": {},
   "outputs": [
    {
     "name": "stdout",
     "output_type": "stream",
     "text": [
      "tf.Tensor(2985944072, shape=(), dtype=int64)\n",
      "tf.Tensor(4132877644, shape=(), dtype=int64)\n",
      "tf.Tensor(929418493, shape=(), dtype=int64)\n",
      "tf.Tensor(249609589, shape=(), dtype=int64)\n",
      "tf.Tensor(146598941, shape=(), dtype=int64)\n",
      "tf.Tensor(4149265688, shape=(), dtype=int64)\n",
      "tf.Tensor(1024970628, shape=(), dtype=int64)\n"
     ]
    }
   ],
   "source": [
    "for x in dataset.skip(0).take(7):\n",
    "    print(x)"
   ]
  },
  {
   "cell_type": "code",
   "execution_count": 14,
   "id": "b74c4c97-8faa-488c-a7b8-076ab90e88af",
   "metadata": {},
   "outputs": [
    {
     "name": "stdout",
     "output_type": "stream",
     "text": [
      "CPU times: user 3.7 s, sys: 3.85 ms, total: 3.71 s\n",
      "Wall time: 3.7 s\n"
     ]
    }
   ],
   "source": [
    "%%time\n",
    "for x in dataset:\n",
    "    y = x\n",
    "    if N < 10:\n",
    "        print(x.numpy())"
   ]
  },
  {
   "cell_type": "markdown",
   "id": "57542272-9b42-4b44-bf33-22f64237ba53",
   "metadata": {},
   "source": [
    "*N = 80_000*: \n",
    "CPU times: user 6.43 s, sys: 3.97 ms, total: 6.44 s\n",
    "Wall time: 6.43 s"
   ]
  },
  {
   "cell_type": "markdown",
   "id": "9a929293-36e1-471b-8dec-021eac19fbea",
   "metadata": {},
   "source": [
    "#### 2. Cache Data"
   ]
  },
  {
   "cell_type": "code",
   "execution_count": 40,
   "id": "3e700a9c-c792-41b2-8745-a00012743d5b",
   "metadata": {},
   "outputs": [
    {
     "data": {
      "text/plain": [
       "<CacheDataset element_spec=TensorSpec(shape=(), dtype=tf.int64, name=None)>"
      ]
     },
     "execution_count": 40,
     "metadata": {},
     "output_type": "execute_result"
    }
   ],
   "source": [
    "dataset = dataset.cache()\n",
    "dataset"
   ]
  },
  {
   "cell_type": "code",
   "execution_count": 43,
   "id": "6e549501-82b5-4b17-b215-9dd2866d72b6",
   "metadata": {},
   "outputs": [
    {
     "name": "stdout",
     "output_type": "stream",
     "text": [
      "tf.Tensor(2985944072, shape=(), dtype=int64)\n",
      "tf.Tensor(4132877644, shape=(), dtype=int64)\n",
      "tf.Tensor(929418493, shape=(), dtype=int64)\n",
      "tf.Tensor(249609589, shape=(), dtype=int64)\n",
      "tf.Tensor(146598941, shape=(), dtype=int64)\n",
      "tf.Tensor(4149265688, shape=(), dtype=int64)\n",
      "tf.Tensor(1024970628, shape=(), dtype=int64)\n"
     ]
    },
    {
     "name": "stderr",
     "output_type": "stream",
     "text": [
      "2022-05-11 07:11:16.948607: W tensorflow/core/kernels/data/cache_dataset_ops.cc:768] The calling iterator did not fully read the dataset being cached. In order to avoid unexpected truncation of the dataset, the partially cached contents of the dataset  will be discarded. This can happen if you have an input pipeline similar to `dataset.cache().take(k).repeat()`. You should use `dataset.take(k).cache().repeat()` instead.\n"
     ]
    }
   ],
   "source": [
    "for x in dataset.skip(0).take(7):\n",
    "    print(x)"
   ]
  },
  {
   "cell_type": "code",
   "execution_count": 22,
   "id": "03374f0a-9d8d-4439-9029-25d174ee9f51",
   "metadata": {},
   "outputs": [
    {
     "name": "stdout",
     "output_type": "stream",
     "text": [
      "CPU times: user 6.47 s, sys: 11.8 ms, total: 6.49 s\n",
      "Wall time: 6.49 s\n"
     ]
    }
   ],
   "source": [
    "%%time\n",
    "for x in dataset:\n",
    "    y = x**2\n",
    "    if N < 10:\n",
    "        print(x.numpy())"
   ]
  },
  {
   "cell_type": "markdown",
   "id": "2266761f-6253-462f-88f3-46a0fa7682f4",
   "metadata": {},
   "source": [
    "*N = 80_000*: \n",
    "CPU times: user 6.53 s, sys: 4 ms, total: 6.53 s\n",
    "Wall time: 6.53 s"
   ]
  },
  {
   "cell_type": "markdown",
   "id": "aab34965-d427-4567-a80c-390302ef9917",
   "metadata": {},
   "source": [
    "#### 3. Prepare Data (Shuffle)"
   ]
  },
  {
   "cell_type": "code",
   "execution_count": 17,
   "id": "ddc581e0-b636-48f8-a8a6-f9e5a900518d",
   "metadata": {},
   "outputs": [
    {
     "name": "stdout",
     "output_type": "stream",
     "text": [
      "80000\n"
     ]
    }
   ],
   "source": [
    "print(len(dataset))"
   ]
  },
  {
   "cell_type": "code",
   "execution_count": 44,
   "id": "3410e6b2-6453-4ec6-a406-571b8501b3dd",
   "metadata": {},
   "outputs": [
    {
     "data": {
      "text/plain": [
       "<ShuffleDataset element_spec=TensorSpec(shape=(), dtype=tf.int64, name=None)>"
      ]
     },
     "execution_count": 44,
     "metadata": {},
     "output_type": "execute_result"
    }
   ],
   "source": [
    "dataset = dataset.shuffle(N) # For perfect shuffling, a buffer size greater than or equal to the full size of the dataset is required.\n",
    "dataset"
   ]
  },
  {
   "cell_type": "code",
   "execution_count": 53,
   "id": "2f0cfa09-e547-4c11-a0e2-57b491327482",
   "metadata": {},
   "outputs": [
    {
     "name": "stdout",
     "output_type": "stream",
     "text": [
      "tf.Tensor([2003472655  143275239  235426856], shape=(3,), dtype=int64)\n",
      "tf.Tensor([1573696505 3567337857 3229029281], shape=(3,), dtype=int64)\n",
      "tf.Tensor([1226379757 1810802461  746452079], shape=(3,), dtype=int64)\n",
      "tf.Tensor([4230827482 3665857522 2767622597], shape=(3,), dtype=int64)\n",
      "tf.Tensor([2055930460 2232576504 2654478964], shape=(3,), dtype=int64)\n",
      "tf.Tensor([2539911038 4274633663 4278636127], shape=(3,), dtype=int64)\n",
      "tf.Tensor([1469424630 2675207502  399910036], shape=(3,), dtype=int64)\n"
     ]
    }
   ],
   "source": [
    "for x in dataset.skip(0).take(7):\n",
    "    print(x)"
   ]
  },
  {
   "cell_type": "markdown",
   "id": "e69354a3-7b96-4843-a0df-04895d8f4d88",
   "metadata": {},
   "source": [
    "#### 4. Batch Data"
   ]
  },
  {
   "cell_type": "code",
   "execution_count": 46,
   "id": "f71db2f5-0cd8-44f4-a130-4d5787dedfa1",
   "metadata": {},
   "outputs": [
    {
     "data": {
      "text/plain": [
       "<BatchDataset element_spec=TensorSpec(shape=(None,), dtype=tf.int64, name=None)>"
      ]
     },
     "execution_count": 46,
     "metadata": {},
     "output_type": "execute_result"
    }
   ],
   "source": [
    "dataset = dataset.batch(3)\n",
    "dataset"
   ]
  },
  {
   "cell_type": "code",
   "execution_count": 47,
   "id": "75f04138-e726-4636-b434-e6b1a2598e63",
   "metadata": {},
   "outputs": [
    {
     "name": "stdout",
     "output_type": "stream",
     "text": [
      "tf.Tensor([1325902236 3895323289 2154609534], shape=(3,), dtype=int64)\n",
      "tf.Tensor([3870700915  437146545  523678125], shape=(3,), dtype=int64)\n",
      "tf.Tensor([3600099156  693626229 2629645225], shape=(3,), dtype=int64)\n",
      "tf.Tensor([ 735790293 1019133584 1208373853], shape=(3,), dtype=int64)\n"
     ]
    }
   ],
   "source": [
    "for x in dataset.take(4):\n",
    "    print(x)"
   ]
  },
  {
   "cell_type": "markdown",
   "id": "d3586291-adbc-4e07-bceb-1cabf1c59375",
   "metadata": {},
   "source": [
    "## Example with Text File"
   ]
  },
  {
   "cell_type": "markdown",
   "id": "291847bd-0a8f-44a2-8c23-dde700cd134e",
   "metadata": {},
   "source": [
    "#### 1. Load Data"
   ]
  },
  {
   "cell_type": "code",
   "execution_count": null,
   "id": "ab5fa0c8-7d53-4eae-b809-2334423ac1db",
   "metadata": {},
   "outputs": [],
   "source": [
    "!pwd"
   ]
  },
  {
   "cell_type": "code",
   "execution_count": null,
   "id": "7cd35c2c-f241-48d5-9df6-77a829c11fdd",
   "metadata": {},
   "outputs": [],
   "source": [
    "# 150MB Textfile\n",
    "folder_path_raw = \"../../data/raw/SciFi_Stories_Text/\"\n",
    "file_name_raw = \"internet_archive_scifi_v3.txt\""
   ]
  },
  {
   "cell_type": "code",
   "execution_count": null,
   "id": "47f32978-c107-4a3f-a8db-76078b6f3e3d",
   "metadata": {},
   "outputs": [],
   "source": [
    "# small text files with pseudo text\n",
    "folder_path_raw = \"../../data/raw/lorem_ipsum/\"\n",
    "file_name_raw = \"lorem_ipsum_500.txt\""
   ]
  },
  {
   "cell_type": "code",
   "execution_count": null,
   "id": "30775100-c3fb-40d6-b44f-56396dd0c678",
   "metadata": {},
   "outputs": [],
   "source": [
    "file_path_raw = folder_path_raw + file_name_raw"
   ]
  },
  {
   "cell_type": "code",
   "execution_count": null,
   "id": "5fe64462-5144-40b9-af77-de81b03850cb",
   "metadata": {},
   "outputs": [],
   "source": [
    "!ls $folder_path_raw\n",
    "assert exists(file_path_raw)\n"
   ]
  },
  {
   "cell_type": "code",
   "execution_count": null,
   "id": "6be12035-eaaf-4438-9087-054d5c5062dd",
   "metadata": {},
   "outputs": [],
   "source": [
    "# just have a look\n",
    "with open(file_path_raw, \"r\") as file:\n",
    "    for count, line in enumerate(file):\n",
    "        pass\n",
    "    print(\"Total lines: \", count+1)"
   ]
  },
  {
   "cell_type": "code",
   "execution_count": null,
   "id": "e0e87e8e-5ea8-4002-972e-d19cf43f8922",
   "metadata": {},
   "outputs": [],
   "source": [
    "dataset = tf.data.TextLineDataset(file_path_raw)"
   ]
  },
  {
   "cell_type": "code",
   "execution_count": null,
   "id": "6f6a6974-5511-4805-a925-9ee010472de2",
   "metadata": {},
   "outputs": [],
   "source": [
    "batch_size = 2\n",
    "vocabulary_size = 12_000\n",
    "sequence_length = 16\n",
    "seed = 123"
   ]
  },
  {
   "cell_type": "markdown",
   "id": "ad5a87fe-af8f-4dba-964c-db5ddbd7f48d",
   "metadata": {},
   "source": [
    "##### B"
   ]
  },
  {
   "cell_type": "code",
   "execution_count": null,
   "id": "afd05e0b-9c17-4dde-bbde-37a0502cdb9f",
   "metadata": {},
   "outputs": [],
   "source": [
    "dataset\n",
    "info"
   ]
  },
  {
   "cell_type": "code",
   "execution_count": null,
   "id": "a5cdee38-2bf1-4daa-a5f2-5bdaf14a1cee",
   "metadata": {},
   "outputs": [],
   "source": [
    "for line in dataset:\n",
    "    print(line)"
   ]
  },
  {
   "cell_type": "code",
   "execution_count": null,
   "id": "3dc8b0d4-e25a-4ff9-a8b4-c62463b40166",
   "metadata": {},
   "outputs": [],
   "source": [
    "batched_dataset = dataset.batch(2)\n",
    "for line in batched_dataset:\n",
    "    print(line)"
   ]
  },
  {
   "cell_type": "code",
   "execution_count": null,
   "id": "de9e7aaf-8f5d-426c-a343-5ffb94390cd8",
   "metadata": {},
   "outputs": [],
   "source": [
    "for line in dataset.take(3):\n",
    "    print(line.numpy())"
   ]
  },
  {
   "cell_type": "code",
   "execution_count": null,
   "id": "051a5d7d-bb8f-4cb8-92f4-12f2027875bb",
   "metadata": {},
   "outputs": [],
   "source": [
    "dataset = preprocessing.text_dataset_from_directory(\n",
    "    file_path,\n",
    "    labels=None,\n",
    "    batch_size=batch_size,\n",
    "    seed=seed\n",
    ")"
   ]
  },
  {
   "cell_type": "code",
   "execution_count": null,
   "id": "f94dcd43-9bee-4999-bb5f-6a8b30a1f87f",
   "metadata": {
    "tags": []
   },
   "outputs": [],
   "source": [
    "encoder = layers.TextVectorization(\n",
    "    max_tokens=vocabulary_size,\n",
    "    output_sequence_length=sequence_length,\n",
    "    standardize=\"lower_and_strip_punctuation\",\n",
    "    split=\"whitespace\",\n",
    "    output_mode=\"int\"\n",
    ")"
   ]
  },
  {
   "cell_type": "code",
   "execution_count": null,
   "id": "f373fff2-da4f-410c-ba6f-cc88115bafc6",
   "metadata": {},
   "outputs": [],
   "source": [
    "dataset"
   ]
  },
  {
   "cell_type": "code",
   "execution_count": null,
   "id": "14ecd356-e1ed-4921-b1dd-3091ca8a34c2",
   "metadata": {},
   "outputs": [],
   "source": [
    "for x in dataset:\n",
    "    print(x)"
   ]
  },
  {
   "cell_type": "code",
   "execution_count": null,
   "id": "f53f7c95-a971-454b-9366-bd8b96289f84",
   "metadata": {},
   "outputs": [],
   "source": [
    "!ls $file"
   ]
  },
  {
   "cell_type": "code",
   "execution_count": null,
   "id": "fd4d21b7-873b-453f-a9d0-8ae1f018c806",
   "metadata": {},
   "outputs": [],
   "source": [
    "dataset = tf.data.Dataset.from_tensor_slices([0, 9, 2, 5, 6, 8, 7])"
   ]
  },
  {
   "cell_type": "code",
   "execution_count": null,
   "id": "95211a90-4618-4382-921d-c4bb583a6762",
   "metadata": {},
   "outputs": [],
   "source": [
    "dataset"
   ]
  },
  {
   "cell_type": "code",
   "execution_count": null,
   "id": "7c8d44d7-db73-44a5-ae29-06ba9b216a83",
   "metadata": {},
   "outputs": [],
   "source": [
    "for elem in dataset:\n",
    "    print(elem)"
   ]
  },
  {
   "cell_type": "code",
   "execution_count": null,
   "id": "a9e59889-83c0-4f75-8e35-718fd02c46d8",
   "metadata": {},
   "outputs": [],
   "source": [
    "it = iter(dataset)"
   ]
  },
  {
   "cell_type": "code",
   "execution_count": null,
   "id": "df61eed0-df60-4331-94bc-c4393ed95e63",
   "metadata": {},
   "outputs": [],
   "source": [
    "print(next(it))"
   ]
  },
  {
   "cell_type": "code",
   "execution_count": null,
   "id": "56b34a21-9d9d-4c2e-addc-9aa6cc0d273b",
   "metadata": {},
   "outputs": [],
   "source": [
    "dataset = tf.data.Dataset.range(10)"
   ]
  },
  {
   "cell_type": "code",
   "execution_count": null,
   "id": "3caec446-4f88-4300-88c2-43d7595ae4c1",
   "metadata": {},
   "outputs": [],
   "source": [
    "dataset"
   ]
  },
  {
   "cell_type": "code",
   "execution_count": null,
   "id": "b191f487-c9ad-4147-a5d7-5d9af0dc1601",
   "metadata": {},
   "outputs": [],
   "source": [
    "for x in dataset:\n",
    "    print(x)"
   ]
  },
  {
   "cell_type": "code",
   "execution_count": null,
   "id": "0dca47c1-3e28-48aa-9797-20e296bc9e05",
   "metadata": {},
   "outputs": [],
   "source": [
    "dataset.shuffle(1)"
   ]
  },
  {
   "cell_type": "code",
   "execution_count": null,
   "id": "b1a6398c-daa7-4005-b0eb-6d912e99bffd",
   "metadata": {},
   "outputs": [],
   "source": [
    "dataset"
   ]
  },
  {
   "cell_type": "code",
   "execution_count": null,
   "id": "d08c78bc-4dba-4ecf-81ee-e90e08afa970",
   "metadata": {},
   "outputs": [],
   "source": [
    "for x in dataset.shuffle(4):\n",
    "    print(x)"
   ]
  },
  {
   "cell_type": "code",
   "execution_count": null,
   "id": "13bf7911-e855-48ca-a7b9-7b5edf136069",
   "metadata": {},
   "outputs": [],
   "source": [
    "batched_dataset = dataset.batch(3)"
   ]
  },
  {
   "cell_type": "code",
   "execution_count": null,
   "id": "19d101af-5277-4299-8ee0-d4634a1e29d3",
   "metadata": {},
   "outputs": [],
   "source": [
    "for x in batched_dataset:\n",
    "    print(x)"
   ]
  },
  {
   "cell_type": "code",
   "execution_count": null,
   "id": "31caceea-d6e7-43ad-8948-fd809335bb6a",
   "metadata": {},
   "outputs": [],
   "source": [
    "dataset.shuffle(32)"
   ]
  },
  {
   "cell_type": "code",
   "execution_count": null,
   "id": "c08080e4-b0f6-4a6a-b78c-12c03b7cb3b3",
   "metadata": {},
   "outputs": [],
   "source": [
    "batched_dataset.shuffle(32)"
   ]
  },
  {
   "cell_type": "code",
   "execution_count": null,
   "id": "95c48811-a1da-497e-8e02-6e40224ab571",
   "metadata": {},
   "outputs": [],
   "source": [
    "for x in batched_dataset.shuffle(32):\n",
    "    print(x)"
   ]
  },
  {
   "cell_type": "code",
   "execution_count": null,
   "id": "19fd8161-e598-4748-999f-1f82c6299412",
   "metadata": {},
   "outputs": [],
   "source": []
  }
 ],
 "metadata": {
  "kernelspec": {
   "display_name": "dsr-setup",
   "language": "python",
   "name": "dsr-setup"
  },
  "language_info": {
   "codemirror_mode": {
    "name": "ipython",
    "version": 3
   },
   "file_extension": ".py",
   "mimetype": "text/x-python",
   "name": "python",
   "nbconvert_exporter": "python",
   "pygments_lexer": "ipython3",
   "version": "3.8.13"
  }
 },
 "nbformat": 4,
 "nbformat_minor": 5
}
