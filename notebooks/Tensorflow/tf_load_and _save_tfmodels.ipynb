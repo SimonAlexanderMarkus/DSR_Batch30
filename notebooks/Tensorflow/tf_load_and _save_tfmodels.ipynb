{
 "cells": [
  {
   "cell_type": "markdown",
   "id": "1f89c817-0194-4d65-8d2c-e8ab0f4954dc",
   "metadata": {},
   "source": [
    "# Load and Save Tensorflow Models"
   ]
  },
  {
   "cell_type": "markdown",
   "id": "cd698952-e3de-4c69-8286-8c18a478d5bc",
   "metadata": {
    "tags": []
   },
   "source": [
    "### Dependencies for Loading and Saving\n",
    "https://www.tensorflow.org/tutorials/keras/save_and_load \\\n",
    "`pip install pyyaml h5py`  # Required to save models in HDF5 format"
   ]
  },
  {
   "cell_type": "code",
   "execution_count": 3,
   "id": "178d9db6-0f7c-42e3-9bc3-fbe604609223",
   "metadata": {},
   "outputs": [],
   "source": [
    "import os\n",
    "\n",
    "import tensorflow as tf\n",
    "from tensorflow import keras\n",
    "from tensorflow.keras import layers, models\n",
    "\n",
    "import matplotlib.pyplot as plt\n",
    "import numpy as np"
   ]
  },
  {
   "cell_type": "code",
   "execution_count": 4,
   "id": "d884bc70-4dfb-4724-9ccb-03b30c048fea",
   "metadata": {},
   "outputs": [
    {
     "name": "stdout",
     "output_type": "stream",
     "text": [
      "2.8.0\n"
     ]
    }
   ],
   "source": [
    "print(tf.version.VERSION)"
   ]
  },
  {
   "cell_type": "markdown",
   "id": "77c4b22d-8311-4c80-bdd9-5fa0be138e5f",
   "metadata": {},
   "source": [
    "### Load Data\n",
    "https://www.tensorflow.org/datasets/catalog/goemotions"
   ]
  },
  {
   "cell_type": "code",
   "execution_count": 5,
   "id": "7027176c-224d-434d-95d9-62ed4032e57f",
   "metadata": {},
   "outputs": [],
   "source": [
    "import tensorflow_datasets as tfds"
   ]
  },
  {
   "cell_type": "code",
   "execution_count": 7,
   "id": "0d1de2c9-700b-4c9f-886e-657cc3327853",
   "metadata": {},
   "outputs": [],
   "source": [
    "data, info = tfds.load(\n",
    "    \"goemotions\",\n",
    "    with_info=True,\n",
    ")"
   ]
  },
  {
   "cell_type": "code",
   "execution_count": 8,
   "id": "2f0275c4-1bb3-4113-884d-4e1c70bb64c3",
   "metadata": {
    "collapsed": true,
    "jupyter": {
     "outputs_hidden": true
    },
    "tags": []
   },
   "outputs": [
    {
     "data": {
      "text/plain": [
       "tfds.core.DatasetInfo(\n",
       "    name='goemotions',\n",
       "    full_name='goemotions/0.1.0',\n",
       "    description=\"\"\"\n",
       "    The GoEmotions dataset contains 58k carefully curated Reddit comments labeled\n",
       "    for 27 emotion categories or Neutral. The emotion categories are admiration,\n",
       "    amusement, anger, annoyance, approval, caring, confusion, curiosity, desire,\n",
       "    disappointment, disapproval, disgust, embarrassment, excitement, fear,\n",
       "    gratitude, grief, joy, love, nervousness, optimism, pride, realization, relief,\n",
       "    remorse, sadness, surprise.\n",
       "    \"\"\",\n",
       "    homepage='https://github.com/google-research/google-research/tree/master/goemotions',\n",
       "    data_path='/home/sam/tensorflow_datasets/goemotions/0.1.0',\n",
       "    download_size=4.19 MiB,\n",
       "    dataset_size=32.25 MiB,\n",
       "    features=FeaturesDict({\n",
       "        'admiration': tf.bool,\n",
       "        'amusement': tf.bool,\n",
       "        'anger': tf.bool,\n",
       "        'annoyance': tf.bool,\n",
       "        'approval': tf.bool,\n",
       "        'caring': tf.bool,\n",
       "        'comment_text': Text(shape=(), dtype=tf.string),\n",
       "        'confusion': tf.bool,\n",
       "        'curiosity': tf.bool,\n",
       "        'desire': tf.bool,\n",
       "        'disappointment': tf.bool,\n",
       "        'disapproval': tf.bool,\n",
       "        'disgust': tf.bool,\n",
       "        'embarrassment': tf.bool,\n",
       "        'excitement': tf.bool,\n",
       "        'fear': tf.bool,\n",
       "        'gratitude': tf.bool,\n",
       "        'grief': tf.bool,\n",
       "        'joy': tf.bool,\n",
       "        'love': tf.bool,\n",
       "        'nervousness': tf.bool,\n",
       "        'neutral': tf.bool,\n",
       "        'optimism': tf.bool,\n",
       "        'pride': tf.bool,\n",
       "        'realization': tf.bool,\n",
       "        'relief': tf.bool,\n",
       "        'remorse': tf.bool,\n",
       "        'sadness': tf.bool,\n",
       "        'surprise': tf.bool,\n",
       "    }),\n",
       "    supervised_keys=None,\n",
       "    disable_shuffling=False,\n",
       "    splits={\n",
       "        'test': <SplitInfo num_examples=5427, num_shards=1>,\n",
       "        'train': <SplitInfo num_examples=43410, num_shards=1>,\n",
       "        'validation': <SplitInfo num_examples=5426, num_shards=1>,\n",
       "    },\n",
       "    citation=\"\"\"@inproceedings{demszky-2020-goemotions,\n",
       "        title = \"{G}o{E}motions: A Dataset of Fine-Grained Emotions\",\n",
       "        author = \"Demszky, Dorottya  and\n",
       "          Movshovitz-Attias, Dana  and\n",
       "          Ko, Jeongwoo  and\n",
       "          Cowen, Alan  and\n",
       "          Nemade, Gaurav  and\n",
       "          Ravi, Sujith\",\n",
       "        booktitle = \"Proceedings of the 58th Annual Meeting of the Association for Computational Linguistics\",\n",
       "        month = jul,\n",
       "        year = \"2020\",\n",
       "        address = \"Online\",\n",
       "        publisher = \"Association for Computational Linguistics\",\n",
       "        url = \"https://www.aclweb.org/anthology/2020.acl-main.372\",\n",
       "        pages = \"4040--4054\",\n",
       "    }\"\"\",\n",
       ")"
      ]
     },
     "execution_count": 8,
     "metadata": {},
     "output_type": "execute_result"
    }
   ],
   "source": [
    "info"
   ]
  },
  {
   "cell_type": "code",
   "execution_count": 9,
   "id": "d265f4a0-53cb-49a3-9984-959dfb503da7",
   "metadata": {
    "collapsed": true,
    "jupyter": {
     "outputs_hidden": true
    },
    "tags": []
   },
   "outputs": [
    {
     "data": {
      "text/plain": [
       "{'comment_text': Text(shape=(), dtype=tf.string),\n",
       " 'admiration': Tensor(shape=(), dtype=tf.bool),\n",
       " 'amusement': Tensor(shape=(), dtype=tf.bool),\n",
       " 'anger': Tensor(shape=(), dtype=tf.bool),\n",
       " 'annoyance': Tensor(shape=(), dtype=tf.bool),\n",
       " 'approval': Tensor(shape=(), dtype=tf.bool),\n",
       " 'caring': Tensor(shape=(), dtype=tf.bool),\n",
       " 'confusion': Tensor(shape=(), dtype=tf.bool),\n",
       " 'curiosity': Tensor(shape=(), dtype=tf.bool),\n",
       " 'desire': Tensor(shape=(), dtype=tf.bool),\n",
       " 'disappointment': Tensor(shape=(), dtype=tf.bool),\n",
       " 'disapproval': Tensor(shape=(), dtype=tf.bool),\n",
       " 'disgust': Tensor(shape=(), dtype=tf.bool),\n",
       " 'embarrassment': Tensor(shape=(), dtype=tf.bool),\n",
       " 'excitement': Tensor(shape=(), dtype=tf.bool),\n",
       " 'fear': Tensor(shape=(), dtype=tf.bool),\n",
       " 'gratitude': Tensor(shape=(), dtype=tf.bool),\n",
       " 'grief': Tensor(shape=(), dtype=tf.bool),\n",
       " 'joy': Tensor(shape=(), dtype=tf.bool),\n",
       " 'love': Tensor(shape=(), dtype=tf.bool),\n",
       " 'nervousness': Tensor(shape=(), dtype=tf.bool),\n",
       " 'optimism': Tensor(shape=(), dtype=tf.bool),\n",
       " 'pride': Tensor(shape=(), dtype=tf.bool),\n",
       " 'realization': Tensor(shape=(), dtype=tf.bool),\n",
       " 'relief': Tensor(shape=(), dtype=tf.bool),\n",
       " 'remorse': Tensor(shape=(), dtype=tf.bool),\n",
       " 'sadness': Tensor(shape=(), dtype=tf.bool),\n",
       " 'surprise': Tensor(shape=(), dtype=tf.bool),\n",
       " 'neutral': Tensor(shape=(), dtype=tf.bool)}"
      ]
     },
     "execution_count": 9,
     "metadata": {},
     "output_type": "execute_result"
    }
   ],
   "source": [
    "emotions = dict(info.features)\n",
    "emotions"
   ]
  },
  {
   "cell_type": "code",
   "execution_count": 10,
   "id": "96233528-73a3-40fb-b9e5-b23bdcbaf058",
   "metadata": {},
   "outputs": [
    {
     "data": {
      "text/plain": [
       "Text(shape=(), dtype=tf.string)"
      ]
     },
     "execution_count": 10,
     "metadata": {},
     "output_type": "execute_result"
    }
   ],
   "source": [
    "emotions.pop(\"comment_text\")"
   ]
  },
  {
   "cell_type": "code",
   "execution_count": 11,
   "id": "e178d71b-d0c5-4687-b489-1c2a9431cf64",
   "metadata": {
    "collapsed": true,
    "jupyter": {
     "outputs_hidden": true
    },
    "tags": []
   },
   "outputs": [
    {
     "data": {
      "text/plain": [
       "{'admiration': Tensor(shape=(), dtype=tf.bool),\n",
       " 'amusement': Tensor(shape=(), dtype=tf.bool),\n",
       " 'anger': Tensor(shape=(), dtype=tf.bool),\n",
       " 'annoyance': Tensor(shape=(), dtype=tf.bool),\n",
       " 'approval': Tensor(shape=(), dtype=tf.bool),\n",
       " 'caring': Tensor(shape=(), dtype=tf.bool),\n",
       " 'confusion': Tensor(shape=(), dtype=tf.bool),\n",
       " 'curiosity': Tensor(shape=(), dtype=tf.bool),\n",
       " 'desire': Tensor(shape=(), dtype=tf.bool),\n",
       " 'disappointment': Tensor(shape=(), dtype=tf.bool),\n",
       " 'disapproval': Tensor(shape=(), dtype=tf.bool),\n",
       " 'disgust': Tensor(shape=(), dtype=tf.bool),\n",
       " 'embarrassment': Tensor(shape=(), dtype=tf.bool),\n",
       " 'excitement': Tensor(shape=(), dtype=tf.bool),\n",
       " 'fear': Tensor(shape=(), dtype=tf.bool),\n",
       " 'gratitude': Tensor(shape=(), dtype=tf.bool),\n",
       " 'grief': Tensor(shape=(), dtype=tf.bool),\n",
       " 'joy': Tensor(shape=(), dtype=tf.bool),\n",
       " 'love': Tensor(shape=(), dtype=tf.bool),\n",
       " 'nervousness': Tensor(shape=(), dtype=tf.bool),\n",
       " 'optimism': Tensor(shape=(), dtype=tf.bool),\n",
       " 'pride': Tensor(shape=(), dtype=tf.bool),\n",
       " 'realization': Tensor(shape=(), dtype=tf.bool),\n",
       " 'relief': Tensor(shape=(), dtype=tf.bool),\n",
       " 'remorse': Tensor(shape=(), dtype=tf.bool),\n",
       " 'sadness': Tensor(shape=(), dtype=tf.bool),\n",
       " 'surprise': Tensor(shape=(), dtype=tf.bool),\n",
       " 'neutral': Tensor(shape=(), dtype=tf.bool)}"
      ]
     },
     "execution_count": 11,
     "metadata": {},
     "output_type": "execute_result"
    }
   ],
   "source": [
    "emotions"
   ]
  },
  {
   "cell_type": "code",
   "execution_count": 68,
   "id": "8f4f2da6-3295-4bd1-973b-62fd06d1ca59",
   "metadata": {},
   "outputs": [],
   "source": [
    "data_train_original = data[\"train\"]\n",
    "data_valid_original = data[\"validation\"]\n",
    "data_test_original = data[\"test\"]"
   ]
  },
  {
   "cell_type": "markdown",
   "id": "7b4034c4-702a-4820-9191-96a5fe1f88e4",
   "metadata": {
    "tags": []
   },
   "source": [
    "#### Inspect the Dataset"
   ]
  },
  {
   "cell_type": "code",
   "execution_count": 42,
   "id": "874c84b0-9b88-4a8a-966d-0ac49f5d6f8d",
   "metadata": {},
   "outputs": [
    {
     "name": "stdout",
     "output_type": "stream",
     "text": [
      "train: 43410\n",
      "valid: 5426\n",
      "test: 5427\n"
     ]
    }
   ],
   "source": [
    "print(\"train:\", len(data_train_original))\n",
    "print(\"valid:\", len(data_valid_original))\n",
    "print(\"test:\", len(data_test_original))"
   ]
  },
  {
   "cell_type": "code",
   "execution_count": 58,
   "id": "6b1d03c6-08e8-44d8-b0ad-8b2f266ff603",
   "metadata": {},
   "outputs": [
    {
     "name": "stdout",
     "output_type": "stream",
     "text": [
      "b\"It's just wholesome content, from questionable sources\"\n",
      "neutral :  True\n",
      "[0.0, 0.0, 0.0, 0.0, 0.0, 0.0, 0.0, 0.0, 0.0, 0.0, 0.0, 0.0, 0.0, 0.0, 0.0, 0.0, 0.0, 0.0, 0.0, 0.0, 1.0, 0.0, 0.0, 0.0, 0.0, 0.0, 0.0, 0.0]\n",
      "b'This is actually awesome.'\n",
      "admiration :  True\n",
      "[1.0, 0.0, 0.0, 0.0, 0.0, 0.0, 0.0, 0.0, 0.0, 0.0, 0.0, 0.0, 0.0, 0.0, 0.0, 0.0, 0.0, 0.0, 0.0, 0.0, 0.0, 0.0, 0.0, 0.0, 0.0, 0.0, 0.0, 0.0]\n",
      "b\"People really spend more than $10 in an app game? I mean an actual video game I can understand but that's just...sad\"\n",
      "confusion :  True\n",
      "sadness :  True\n",
      "[0.0, 0.0, 0.0, 0.0, 0.0, 0.0, 1.0, 0.0, 0.0, 0.0, 0.0, 0.0, 0.0, 0.0, 0.0, 0.0, 0.0, 0.0, 0.0, 0.0, 0.0, 0.0, 0.0, 0.0, 0.0, 0.0, 1.0, 0.0]\n",
      "b'I grew up on the other side of Ama but live in Tulia now. I will have some El Burrito for you'\n",
      "neutral :  True\n",
      "[0.0, 0.0, 0.0, 0.0, 0.0, 0.0, 0.0, 0.0, 0.0, 0.0, 0.0, 0.0, 0.0, 0.0, 0.0, 0.0, 0.0, 0.0, 0.0, 0.0, 1.0, 0.0, 0.0, 0.0, 0.0, 0.0, 0.0, 0.0]\n"
     ]
    }
   ],
   "source": [
    "for comment in data_train_original.take(4):\n",
    "    print(comment[\"comment_text\"].numpy())\n",
    "    [print(emotion,\": \", comment[emotion].numpy()) for emotion in comment if (emotion!=\"comment_text\") & (str(comment[emotion].numpy())==\"True\")]\n",
    "    label = [float(comment[emotion]) for emotion in comment if emotion!=\"comment_text\"]\n",
    "    print(label)\n",
    "                   "
   ]
  },
  {
   "cell_type": "markdown",
   "id": "993d0c0f-2fd7-4c3e-bae2-9811f573b8c6",
   "metadata": {},
   "source": [
    "### Build Model"
   ]
  },
  {
   "cell_type": "markdown",
   "id": "4a86dbfd-43a0-4e13-8ae8-ae084886a9ff",
   "metadata": {},
   "source": [
    "#### Helper Functions"
   ]
  },
  {
   "cell_type": "markdown",
   "id": "b84e921f-53b6-4829-b921-49faaac70500",
   "metadata": {},
   "source": [
    "##### Plot Model History"
   ]
  },
  {
   "cell_type": "code",
   "execution_count": 15,
   "id": "1bf22fd3-12fc-4891-9441-3cffa2abd0eb",
   "metadata": {
    "tags": []
   },
   "outputs": [],
   "source": [
    "def render_history(history):\n",
    "    plt.plot(history.history[\"loss\"], label=\"loss\")\n",
    "    plt.plot(history.history[\"val_loss\"], label=\"val_loss\")\n",
    "    plt.legend()\n",
    "    plt.show()\n",
    "    plt.close()\n",
    "    \n",
    "    plt.plot(history.history[\"accuracy\"], label=\"accuracy\")\n",
    "    plt.plot(history.history[\"val_accuracy\"], label=\"val_accuracy\")\n",
    "    plt.legend()\n",
    "    plt.show()\n",
    "    plt.close()"
   ]
  },
  {
   "cell_type": "markdown",
   "id": "06c7ee12-939b-47ff-9d0b-77f840df362a",
   "metadata": {},
   "source": [
    "##### Save Checkpoints During Training"
   ]
  },
  {
   "cell_type": "code",
   "execution_count": 16,
   "id": "3ee7fdfc-0b18-4ec2-8925-e0bc49ed8ce2",
   "metadata": {},
   "outputs": [],
   "source": [
    "checkpoint_path = \"models/sandbox\"\n",
    "checkpoint_dir = os.path.dirname(checkpoint_path)\n",
    "\n",
    "cp_callback = tf.keras.callbacks.ModelCheckpoint(\n",
    "    filepath=checkpoint_path,\n",
    "    save_weights_only=True,\n",
    "    verbose=1\n",
    ")\n"
   ]
  },
  {
   "cell_type": "markdown",
   "id": "f7090b0e-7606-48dd-bab6-7cbd85eba47c",
   "metadata": {
    "tags": []
   },
   "source": [
    "#### Set Hyperparameters"
   ]
  },
  {
   "cell_type": "code",
   "execution_count": 17,
   "id": "a6cd6f10-316b-49dd-b571-386f59c0fde6",
   "metadata": {},
   "outputs": [],
   "source": [
    "vocabulary_size = 10_000\n",
    "sequence_length = 32\n",
    "batch_size = 16\n",
    "epochs = 10"
   ]
  },
  {
   "cell_type": "markdown",
   "id": "45b35f2f-9189-49b9-9d69-4cc49fb8752b",
   "metadata": {},
   "source": [
    "#### Define Encoder"
   ]
  },
  {
   "cell_type": "code",
   "execution_count": 18,
   "id": "a448075a-d02b-4c4f-ac60-b35311d2083d",
   "metadata": {
    "tags": []
   },
   "outputs": [],
   "source": [
    "encoder = layers.TextVectorization(\n",
    "    max_tokens=vocabulary_size,\n",
    "    output_sequence_length=sequence_length,\n",
    "    standardize=\"lower_and_strip_punctuation\",\n",
    "    split=\"whitespace\",\n",
    "    output_mode=\"int\",\n",
    ")"
   ]
  },
  {
   "cell_type": "code",
   "execution_count": 19,
   "id": "89757bb5-b3fa-4848-b2c9-60571d13a2c8",
   "metadata": {},
   "outputs": [
    {
     "ename": "NameError",
     "evalue": "name 'data_train_original' is not defined",
     "output_type": "error",
     "traceback": [
      "\u001b[0;31m---------------------------------------------------------------------------\u001b[0m",
      "\u001b[0;31mNameError\u001b[0m                                 Traceback (most recent call last)",
      "Input \u001b[0;32mIn [19]\u001b[0m, in \u001b[0;36m<cell line: 1>\u001b[0;34m()\u001b[0m\n\u001b[0;32m----> 1\u001b[0m encoder\u001b[38;5;241m.\u001b[39madapt(\u001b[43mdata_train_original\u001b[49m\u001b[38;5;241m.\u001b[39mmap(\u001b[38;5;28;01mlambda\u001b[39;00m comment: comment[\u001b[38;5;124m\"\u001b[39m\u001b[38;5;124mcomment_text\u001b[39m\u001b[38;5;124m\"\u001b[39m])\u001b[38;5;241m.\u001b[39mbatch(\u001b[38;5;241m1024\u001b[39m))\n",
      "\u001b[0;31mNameError\u001b[0m: name 'data_train_original' is not defined"
     ]
    }
   ],
   "source": [
    "encoder.adapt(data_train_original.map(lambda comment: comment[\"comment_text\"]).batch(1024))"
   ]
  },
  {
   "cell_type": "code",
   "execution_count": 127,
   "id": "5d656e9a-31fe-4809-b540-3e79674b4d2d",
   "metadata": {},
   "outputs": [
    {
     "name": "stdout",
     "output_type": "stream",
     "text": [
      "10000 ['', '[UNK]', 'the', 'i', 'to', 'a', 'you', 'and', 'is', 'that', 'name', 'it', 'of', 'this', 'in', 'for', 'was', 'my', 'not', 'but', 'be', 'on', 'so', 'just', 'have', 'are', 'like', 'with', 'me', 'they', 'your', 'he', 'what', 'its', 'if', 'as', 'im', 'at', 'all', 'about', 'no', 'do', 'love', 'one', 'get', 'people', 'we', 'would', 'good', 'dont']\n"
     ]
    }
   ],
   "source": [
    "vocabulary = encoder.get_vocabulary()\n",
    "print(encoder.vocabulary_size(), vocabulary[:50])"
   ]
  },
  {
   "cell_type": "code",
   "execution_count": 128,
   "id": "941f73ef-bc78-41ec-acce-3cea14c0bfb9",
   "metadata": {},
   "outputs": [],
   "source": [
    "data_train = data_train_original.map(lambda comment: (comment.pop(\"comment_text\"), [float(comment[emotion]) for emotion in comment]))\n",
    "data_train = data_train.cache()\n",
    "data_train = data_train.shuffle(50_000)\n",
    "data_train = data_train.batch(batch_size)\n",
    "\n",
    "data_valid = data_valid_original.map(lambda comment: (comment.pop(\"comment_text\"), [float(comment[emotion]) for emotion in comment]))\n",
    "data_valid = data_valid.cache()\n",
    "data_valid = data_valid.batch(batch_size)"
   ]
  },
  {
   "cell_type": "code",
   "execution_count": 129,
   "id": "a5480679-7322-445b-8830-ed23f31c70f9",
   "metadata": {
    "tags": []
   },
   "outputs": [
    {
     "name": "stdout",
     "output_type": "stream",
     "text": [
      "tf.Tensor(\n",
      "[b\"Still wish [NAME] hadn't sent him away the way he did.\"\n",
      " b\"Oh definitely. When you work for the gov't you root for the party looking to expand it. Maybe that's how you'll get a raise right?\"\n",
      " b\"What's worse is using self destruct without the pilot DLC. You just die :(\"\n",
      " b'link to the crack tweet?'\n",
      " b'Except that would retcon him trying to get her to have an abortion so still a mess'\n",
      " b'Too much time am running for it'\n",
      " b\"Why don't Maroon 5? Regardless of the quality of the song, its been one of the most popular songs for the past 8 months\"\n",
      " b'I wouldn\\xe2\\x80\\x99t worry, most United fans have never even been to Manchester. '\n",
      " b'Oh my [NAME] I saw the rocks below the dog and feared the worst!'\n",
      " b'Damnit tobias.' b'Just to clarify, do you mean sidebar in game?'\n",
      " b'\"You people\"? I think [NAME] is a moron but I think the [NAME] hysteria is equally if not more so moronic.'\n",
      " b'What does IANAL mean? Thanks!'\n",
      " b'I can\\xe2\\x80\\x99t translate /s to Texan speak well and forgot so my apologies y\\xe2\\x80\\x99all :)'\n",
      " b'Oh thanks, ~~[NAME]~~ Mitt. We all know you won\\xe2\\x80\\x99t provide meaningful opposition to [NAME].'\n",
      " b'Sorry, I\\xe2\\x80\\x99m out of the loop- are they on this season as well? I forgot about them'], shape=(16,), dtype=string)\n",
      "tf.Tensor(\n",
      "[[0. 0. 0. 0. 0. 0. 0. 0. 0. 0. 0. 0. 0. 0. 0. 0. 0. 0. 0. 0. 1. 0. 0. 0.\n",
      "  0. 0. 0. 0.]\n",
      " [0. 0. 0. 0. 1. 0. 0. 0. 0. 0. 0. 0. 0. 0. 0. 0. 0. 0. 0. 0. 0. 0. 0. 0.\n",
      "  0. 0. 0. 0.]\n",
      " [0. 0. 0. 0. 0. 0. 0. 0. 0. 0. 0. 1. 0. 0. 0. 0. 0. 0. 0. 0. 0. 0. 0. 0.\n",
      "  0. 0. 0. 0.]\n",
      " [0. 0. 0. 0. 0. 0. 1. 0. 0. 0. 0. 0. 0. 0. 0. 0. 0. 0. 0. 0. 0. 0. 0. 0.\n",
      "  0. 0. 0. 0.]\n",
      " [0. 0. 0. 0. 0. 0. 0. 0. 0. 0. 0. 0. 0. 0. 0. 0. 0. 0. 0. 0. 1. 0. 0. 0.\n",
      "  0. 0. 0. 0.]\n",
      " [0. 0. 0. 0. 0. 0. 0. 0. 0. 0. 0. 0. 0. 0. 0. 0. 0. 0. 0. 0. 1. 0. 0. 0.\n",
      "  0. 0. 0. 0.]\n",
      " [0. 0. 0. 0. 1. 0. 0. 0. 0. 0. 0. 0. 0. 0. 0. 0. 0. 0. 0. 0. 0. 0. 0. 0.\n",
      "  0. 0. 0. 0.]\n",
      " [0. 0. 0. 0. 0. 0. 0. 0. 0. 0. 1. 0. 0. 0. 0. 0. 0. 0. 0. 0. 0. 0. 0. 0.\n",
      "  0. 0. 0. 0.]\n",
      " [0. 0. 0. 0. 0. 0. 0. 0. 0. 0. 0. 0. 0. 0. 1. 0. 0. 0. 0. 0. 0. 0. 0. 0.\n",
      "  0. 0. 0. 0.]\n",
      " [0. 0. 0. 0. 0. 0. 0. 0. 0. 0. 0. 0. 0. 0. 0. 0. 0. 0. 0. 0. 1. 0. 0. 0.\n",
      "  0. 0. 0. 0.]\n",
      " [0. 0. 0. 0. 0. 0. 1. 0. 0. 0. 0. 0. 0. 0. 0. 0. 0. 0. 0. 0. 0. 0. 0. 0.\n",
      "  0. 0. 0. 0.]\n",
      " [0. 0. 0. 1. 0. 0. 0. 0. 0. 0. 0. 0. 0. 0. 0. 0. 0. 0. 0. 0. 0. 0. 0. 0.\n",
      "  0. 0. 0. 0.]\n",
      " [0. 0. 0. 0. 0. 0. 0. 1. 0. 0. 0. 0. 0. 0. 0. 1. 0. 0. 0. 0. 0. 0. 0. 0.\n",
      "  0. 0. 0. 0.]\n",
      " [0. 0. 0. 0. 0. 0. 0. 0. 0. 0. 0. 0. 0. 0. 0. 0. 0. 0. 0. 0. 0. 0. 0. 0.\n",
      "  0. 0. 1. 0.]\n",
      " [0. 0. 0. 0. 0. 0. 0. 0. 0. 0. 0. 0. 0. 0. 0. 1. 0. 0. 0. 0. 0. 0. 0. 0.\n",
      "  0. 0. 0. 0.]\n",
      " [0. 0. 0. 0. 0. 0. 0. 1. 0. 0. 0. 0. 0. 0. 0. 0. 0. 0. 0. 0. 0. 0. 0. 0.\n",
      "  0. 1. 0. 0.]], shape=(16, 28), dtype=float32)\n"
     ]
    }
   ],
   "source": [
    "for x, y in data_train.take(1):\n",
    "    print(x)\n",
    "    print(y)"
   ]
  },
  {
   "cell_type": "markdown",
   "id": "64790d43-1d18-47a4-a4e5-876fc97c65c0",
   "metadata": {},
   "source": [
    "#### Define Model"
   ]
  },
  {
   "cell_type": "code",
   "execution_count": 130,
   "id": "0ae37aa4-9cef-4336-a548-cda1fcad2b44",
   "metadata": {},
   "outputs": [
    {
     "name": "stdout",
     "output_type": "stream",
     "text": [
      "Model: \"sequential_12\"\n",
      "_________________________________________________________________\n",
      " Layer (type)                Output Shape              Param #   \n",
      "=================================================================\n",
      " text_vectorization_8 (TextV  (None, 32)               0         \n",
      " ectorization)                                                   \n",
      "                                                                 \n",
      " dense_26 (Dense)            (None, 4)                 132       \n",
      "                                                                 \n",
      " dense_27 (Dense)            (None, 28)                140       \n",
      "                                                                 \n",
      "=================================================================\n",
      "Total params: 272\n",
      "Trainable params: 272\n",
      "Non-trainable params: 0\n",
      "_________________________________________________________________\n"
     ]
    }
   ],
   "source": [
    "model = models.Sequential()\n",
    "model.add(encoder)\n",
    "model.add(layers.Dense(4, activation=\"relu\"))\n",
    "#model.add(layers.Dense(8, activation=\"sigmoid\"))\n",
    "model.add(layers.Dense(28, activation=\"softmax\"))\n",
    "\n",
    "\n",
    "model.summary()"
   ]
  },
  {
   "cell_type": "code",
   "execution_count": 131,
   "id": "23dbfa9c-da97-45d2-88cf-7500fb9c1896",
   "metadata": {},
   "outputs": [
    {
     "name": "stdout",
     "output_type": "stream",
     "text": [
      "Epoch 1/10\n",
      "2672/2714 [============================>.] - ETA: 0s - loss: 8.6285 - accuracy: 0.2383\n",
      "Epoch 1: saving model to models/cp.cktp\n",
      "2714/2714 [==============================] - 4s 1ms/step - loss: 8.5015 - accuracy: 0.2389 - val_loss: 0.2177 - val_accuracy: 0.2956\n",
      "Epoch 2/10\n",
      "2673/2714 [============================>.] - ETA: 0s - loss: 0.1866 - accuracy: 0.2859\n",
      "Epoch 2: saving model to models/cp.cktp\n",
      "2714/2714 [==============================] - 3s 1ms/step - loss: 0.1864 - accuracy: 0.2856 - val_loss: 0.1648 - val_accuracy: 0.2940\n",
      "Epoch 3/10\n",
      "2712/2714 [============================>.] - ETA: 0s - loss: 0.1611 - accuracy: 0.2877\n",
      "Epoch 3: saving model to models/cp.cktp\n",
      "2714/2714 [==============================] - 3s 1ms/step - loss: 0.1611 - accuracy: 0.2877 - val_loss: 0.1565 - val_accuracy: 0.2952\n",
      "Epoch 4/10\n",
      "2674/2714 [============================>.] - ETA: 0s - loss: 0.1521 - accuracy: 0.2964\n",
      "Epoch 4: saving model to models/cp.cktp\n",
      "2714/2714 [==============================] - 3s 1ms/step - loss: 0.1520 - accuracy: 0.2964 - val_loss: 0.1496 - val_accuracy: 0.2962\n",
      "Epoch 5/10\n",
      "2674/2714 [============================>.] - ETA: 0s - loss: 0.1493 - accuracy: 0.3004\n",
      "Epoch 5: saving model to models/cp.cktp\n",
      "2714/2714 [==============================] - 3s 1ms/step - loss: 0.1494 - accuracy: 0.3001 - val_loss: 0.1492 - val_accuracy: 0.2960\n",
      "Epoch 6/10\n",
      "2685/2714 [============================>.] - ETA: 0s - loss: 0.1491 - accuracy: 0.3008\n",
      "Epoch 6: saving model to models/cp.cktp\n",
      "2714/2714 [==============================] - 3s 1ms/step - loss: 0.1492 - accuracy: 0.3004 - val_loss: 0.1492 - val_accuracy: 0.2960\n",
      "Epoch 7/10\n",
      "2674/2714 [============================>.] - ETA: 0s - loss: 0.1491 - accuracy: 0.3009\n",
      "Epoch 7: saving model to models/cp.cktp\n",
      "2714/2714 [==============================] - 3s 1ms/step - loss: 0.1492 - accuracy: 0.3003 - val_loss: 0.1492 - val_accuracy: 0.2960\n",
      "Epoch 8/10\n",
      "2705/2714 [============================>.] - ETA: 0s - loss: 0.1492 - accuracy: 0.3002\n",
      "Epoch 8: saving model to models/cp.cktp\n",
      "2714/2714 [==============================] - 3s 1ms/step - loss: 0.1492 - accuracy: 0.3003 - val_loss: 0.1492 - val_accuracy: 0.2960\n",
      "Epoch 9/10\n",
      "2714/2714 [==============================] - ETA: 0s - loss: 0.1492 - accuracy: 0.3003\n",
      "Epoch 9: saving model to models/cp.cktp\n",
      "2714/2714 [==============================] - 3s 1ms/step - loss: 0.1492 - accuracy: 0.3003 - val_loss: 0.1492 - val_accuracy: 0.2960\n",
      "Epoch 10/10\n",
      "2675/2714 [============================>.] - ETA: 0s - loss: 0.1492 - accuracy: 0.3005\n",
      "Epoch 10: saving model to models/cp.cktp\n",
      "2714/2714 [==============================] - 3s 1ms/step - loss: 0.1492 - accuracy: 0.3003 - val_loss: 0.1492 - val_accuracy: 0.2960\n"
     ]
    },
    {
     "data": {
      "image/png": "[encoded data removed]",
      "text/plain": [
       "<Figure size 432x288 with 1 Axes>"
      ]
     },
     "metadata": {
      "needs_background": "light"
     },
     "output_type": "display_data"
    },
    {
     "data": {
      "image/png": "[encoded data removed]",
      "text/plain": [
       "<Figure size 432x288 with 1 Axes>"
      ]
     },
     "metadata": {
      "needs_background": "light"
     },
     "output_type": "display_data"
    }
   ],
   "source": [
    "model.compile(\n",
    "    optimizer=\"adam\",\n",
    "    loss=\"binary_crossentropy\",\n",
    "    metrics=[\"accuracy\"]\n",
    ")\n",
    "\n",
    "history = model.fit(\n",
    "    data_train,\n",
    "    epochs=epochs,\n",
    "    validation_data=data_valid,\n",
    "    callbacks=[cp_callback]\n",
    ")\n",
    "\n",
    "render_history(history)"
   ]
  },
  {
   "cell_type": "code",
   "execution_count": 86,
   "id": "0a18573c-f7dc-4bb9-8b3f-ebb4ea83856b",
   "metadata": {},
   "outputs": [
    {
     "data": {
      "text/plain": [
       "array([[0.07806887, 0.04153374, 0.0272792 , 0.04448616, 0.05303967,\n",
       "        0.01852004, 0.0233292 , 0.03926979, 0.0106782 , 0.02247746,\n",
       "        0.03537749, 0.0134052 , 0.00534098, 0.01452378, 0.0102947 ,\n",
       "        0.04672368, 0.0014353 , 0.02385209, 0.03806362, 0.00289347,\n",
       "        0.3463369 , 0.02841275, 0.00192156, 0.01933908, 0.00259446,\n",
       "        0.0092101 , 0.02268106, 0.01891149]], dtype=float32)"
      ]
     },
     "execution_count": 86,
     "metadata": {},
     "output_type": "execute_result"
    }
   ],
   "source": [
    "model.predict([\"happy funny\"])"
   ]
  },
  {
   "cell_type": "code",
   "execution_count": 121,
   "id": "05cf100d-c8ba-4f99-ab26-0792db0a26b7",
   "metadata": {},
   "outputs": [],
   "source": [
    "model2 = models.Sequential()\n",
    "model2.add(encoder)\n",
    "model2.add(layers.Dense(4, activation=\"relu\"))\n",
    "#model.add(layers.Dense(8, activation=\"sigmoid\"))\n",
    "model2.add(layers.Dense(28, activation=\"softmax\"))\n",
    "\n"
   ]
  },
  {
   "cell_type": "code",
   "execution_count": 122,
   "id": "178b6ee5-14eb-4aad-a1c0-01f0e77d4e16",
   "metadata": {},
   "outputs": [
    {
     "data": {
      "text/plain": [
       "<tensorflow.python.training.tracking.util.CheckpointLoadStatus at 0x7f42be1effa0>"
      ]
     },
     "execution_count": 122,
     "metadata": {},
     "output_type": "execute_result"
    }
   ],
   "source": [
    "model2.load_weights(checkpoint_path)"
   ]
  },
  {
   "cell_type": "code",
   "execution_count": 123,
   "id": "80cea59a-2b63-4d0d-a007-695a8a2c0879",
   "metadata": {},
   "outputs": [
    {
     "name": "stdout",
     "output_type": "stream",
     "text": [
      "Epoch 1/3\n",
      "2687/2714 [============================>.] - ETA: 0s - loss: 0.1495 - accuracy: 0.3002\n",
      "Epoch 1: saving model to models/cp.cktp\n",
      "2714/2714 [==============================] - 4s 1ms/step - loss: 0.1495 - accuracy: 0.3003 - val_loss: 0.1493 - val_accuracy: 0.2960\n",
      "Epoch 2/3\n",
      "2695/2714 [============================>.] - ETA: 0s - loss: 0.1492 - accuracy: 0.3003\n",
      "Epoch 2: saving model to models/cp.cktp\n",
      "2714/2714 [==============================] - 3s 1ms/step - loss: 0.1492 - accuracy: 0.3003 - val_loss: 0.1493 - val_accuracy: 0.2960\n",
      "Epoch 3/3\n",
      "2698/2714 [============================>.] - ETA: 0s - loss: 0.1492 - accuracy: 0.3002\n",
      "Epoch 3: saving model to models/cp.cktp\n",
      "2714/2714 [==============================] - 3s 1ms/step - loss: 0.1492 - accuracy: 0.3003 - val_loss: 0.1492 - val_accuracy: 0.2960\n"
     ]
    },
    {
     "data": {
      "image/png": "[encoded data removed]",
      "text/plain": [
       "<Figure size 432x288 with 1 Axes>"
      ]
     },
     "metadata": {
      "needs_background": "light"
     },
     "output_type": "display_data"
    },
    {
     "data": {
      "image/png": "[encoded data removed]",
      "text/plain": [
       "<Figure size 432x288 with 1 Axes>"
      ]
     },
     "metadata": {
      "needs_background": "light"
     },
     "output_type": "display_data"
    }
   ],
   "source": [
    "model2.compile(\n",
    "    optimizer=\"adam\",\n",
    "    loss=\"binary_crossentropy\",\n",
    "    metrics=[\"accuracy\"]\n",
    ")\n",
    "\n",
    "history2 = model2.fit(\n",
    "    data_train,\n",
    "    epochs=epochs,\n",
    "    validation_data=data_valid,\n",
    "    callbacks=[cp_callback]\n",
    ")\n",
    "\n",
    "render_history(history2)"
   ]
  },
  {
   "cell_type": "code",
   "execution_count": null,
   "id": "e8ab91e4-1f9a-4b15-897d-1bfc0fd142c2",
   "metadata": {},
   "outputs": [],
   "source": []
  }
 ],
 "metadata": {
  "kernelspec": {
   "display_name": "dsr-setup",
   "language": "python",
   "name": "dsr-setup"
  },
  "language_info": {
   "codemirror_mode": {
    "name": "ipython",
    "version": 3
   },
   "file_extension": ".py",
   "mimetype": "text/x-python",
   "name": "python",
   "nbconvert_exporter": "python",
   "pygments_lexer": "ipython3",
   "version": "3.8.13"
  }
 },
 "nbformat": 4,
 "nbformat_minor": 5
}
