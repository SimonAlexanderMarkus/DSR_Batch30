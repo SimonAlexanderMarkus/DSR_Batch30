{
 "cells": [
  {
   "cell_type": "markdown",
   "id": "1f89c817-0194-4d65-8d2c-e8ab0f4954dc",
   "metadata": {},
   "source": [
    "# Load and Save Tensorflow Models"
   ]
  },
  {
   "cell_type": "markdown",
   "id": "cd698952-e3de-4c69-8286-8c18a478d5bc",
   "metadata": {
    "tags": []
   },
   "source": [
    "### Dependencies for Loading and Saving\n",
    "https://www.tensorflow.org/tutorials/keras/save_and_load \\\n",
    "`pip install pyyaml h5py`  # Required to save models in HDF5 format"
   ]
  },
  {
   "cell_type": "code",
   "execution_count": 1,
   "id": "178d9db6-0f7c-42e3-9bc3-fbe604609223",
   "metadata": {},
   "outputs": [
    {
     "name": "stderr",
     "output_type": "stream",
     "text": [
      "2022-05-13 15:16:41.270897: W tensorflow/stream_executor/platform/default/dso_loader.cc:64] Could not load dynamic library 'libcudart.so.11.0'; dlerror: libcudart.so.11.0: cannot open shared object file: No such file or directory\n",
      "2022-05-13 15:16:41.270914: I tensorflow/stream_executor/cuda/cudart_stub.cc:29] Ignore above cudart dlerror if you do not have a GPU set up on your machine.\n"
     ]
    }
   ],
   "source": [
    "import os\n",
    "from pathlib import Path\n",
    "import json\n",
    "import pandas as pd\n",
    "\n",
    "import tensorflow as tf\n",
    "from tensorflow import keras\n",
    "from tensorflow.keras import layers, models\n",
    "\n",
    "import matplotlib.pyplot as plt\n",
    "import numpy as np"
   ]
  },
  {
   "cell_type": "code",
   "execution_count": 2,
   "id": "d884bc70-4dfb-4724-9ccb-03b30c048fea",
   "metadata": {},
   "outputs": [
    {
     "name": "stdout",
     "output_type": "stream",
     "text": [
      "2.8.0\n"
     ]
    }
   ],
   "source": [
    "print(tf.version.VERSION)"
   ]
  },
  {
   "cell_type": "markdown",
   "id": "77c4b22d-8311-4c80-bdd9-5fa0be138e5f",
   "metadata": {},
   "source": [
    "### Load Data\n",
    "https://www.tensorflow.org/datasets/catalog/goemotions"
   ]
  },
  {
   "cell_type": "code",
   "execution_count": 3,
   "id": "7027176c-224d-434d-95d9-62ed4032e57f",
   "metadata": {},
   "outputs": [],
   "source": [
    "import tensorflow_datasets as tfds"
   ]
  },
  {
   "cell_type": "code",
   "execution_count": 4,
   "id": "0d1de2c9-700b-4c9f-886e-657cc3327853",
   "metadata": {},
   "outputs": [
    {
     "name": "stderr",
     "output_type": "stream",
     "text": [
      "2022-05-13 15:16:48.039064: I tensorflow/stream_executor/cuda/cuda_gpu_executor.cc:936] successful NUMA node read from SysFS had negative value (-1), but there must be at least one NUMA node, so returning NUMA node zero\n",
      "2022-05-13 15:16:48.039484: W tensorflow/stream_executor/platform/default/dso_loader.cc:64] Could not load dynamic library 'libcudart.so.11.0'; dlerror: libcudart.so.11.0: cannot open shared object file: No such file or directory\n",
      "2022-05-13 15:16:48.039537: W tensorflow/stream_executor/platform/default/dso_loader.cc:64] Could not load dynamic library 'libcublas.so.11'; dlerror: libcublas.so.11: cannot open shared object file: No such file or directory\n",
      "2022-05-13 15:16:48.039583: W tensorflow/stream_executor/platform/default/dso_loader.cc:64] Could not load dynamic library 'libcublasLt.so.11'; dlerror: libcublasLt.so.11: cannot open shared object file: No such file or directory\n",
      "2022-05-13 15:16:48.039627: W tensorflow/stream_executor/platform/default/dso_loader.cc:64] Could not load dynamic library 'libcufft.so.10'; dlerror: libcufft.so.10: cannot open shared object file: No such file or directory\n",
      "2022-05-13 15:16:48.039672: W tensorflow/stream_executor/platform/default/dso_loader.cc:64] Could not load dynamic library 'libcurand.so.10'; dlerror: libcurand.so.10: cannot open shared object file: No such file or directory\n",
      "2022-05-13 15:16:48.039718: W tensorflow/stream_executor/platform/default/dso_loader.cc:64] Could not load dynamic library 'libcusolver.so.11'; dlerror: libcusolver.so.11: cannot open shared object file: No such file or directory\n",
      "2022-05-13 15:16:48.039763: W tensorflow/stream_executor/platform/default/dso_loader.cc:64] Could not load dynamic library 'libcusparse.so.11'; dlerror: libcusparse.so.11: cannot open shared object file: No such file or directory\n",
      "2022-05-13 15:16:48.039809: W tensorflow/stream_executor/platform/default/dso_loader.cc:64] Could not load dynamic library 'libcudnn.so.8'; dlerror: libcudnn.so.8: cannot open shared object file: No such file or directory\n",
      "2022-05-13 15:16:48.039817: W tensorflow/core/common_runtime/gpu/gpu_device.cc:1850] Cannot dlopen some GPU libraries. Please make sure the missing libraries mentioned above are installed properly if you would like to use GPU. Follow the guide at https://www.tensorflow.org/install/gpu for how to download and setup the required libraries for your platform.\n",
      "Skipping registering GPU devices...\n",
      "2022-05-13 15:16:48.040394: I tensorflow/core/platform/cpu_feature_guard.cc:151] This TensorFlow binary is optimized with oneAPI Deep Neural Network Library (oneDNN) to use the following CPU instructions in performance-critical operations:  AVX2 FMA\n",
      "To enable them in other operations, rebuild TensorFlow with the appropriate compiler flags.\n"
     ]
    }
   ],
   "source": [
    "data, info = tfds.load(\n",
    "    \"goemotions\",\n",
    "    with_info=True,\n",
    ")"
   ]
  },
  {
   "cell_type": "code",
   "execution_count": null,
   "id": "2f0275c4-1bb3-4113-884d-4e1c70bb64c3",
   "metadata": {
    "tags": []
   },
   "outputs": [],
   "source": [
    "info"
   ]
  },
  {
   "cell_type": "code",
   "execution_count": 5,
   "id": "d265f4a0-53cb-49a3-9984-959dfb503da7",
   "metadata": {
    "tags": []
   },
   "outputs": [],
   "source": [
    "emotions = dict(info.features)\n",
    "#emotions"
   ]
  },
  {
   "cell_type": "code",
   "execution_count": 6,
   "id": "96233528-73a3-40fb-b9e5-b23bdcbaf058",
   "metadata": {},
   "outputs": [
    {
     "data": {
      "text/plain": [
       "Text(shape=(), dtype=tf.string)"
      ]
     },
     "execution_count": 6,
     "metadata": {},
     "output_type": "execute_result"
    }
   ],
   "source": [
    "emotions.pop(\"comment_text\")"
   ]
  },
  {
   "cell_type": "code",
   "execution_count": null,
   "id": "e178d71b-d0c5-4687-b489-1c2a9431cf64",
   "metadata": {
    "tags": []
   },
   "outputs": [],
   "source": [
    "#emotions"
   ]
  },
  {
   "cell_type": "code",
   "execution_count": 7,
   "id": "8f4f2da6-3295-4bd1-973b-62fd06d1ca59",
   "metadata": {},
   "outputs": [],
   "source": [
    "data_train_original = data[\"train\"]\n",
    "data_valid_original = data[\"validation\"]\n",
    "data_test_original = data[\"test\"]"
   ]
  },
  {
   "cell_type": "markdown",
   "id": "7b4034c4-702a-4820-9191-96a5fe1f88e4",
   "metadata": {
    "jp-MarkdownHeadingCollapsed": true,
    "tags": []
   },
   "source": [
    "#### Inspect the Dataset"
   ]
  },
  {
   "cell_type": "code",
   "execution_count": null,
   "id": "874c84b0-9b88-4a8a-966d-0ac49f5d6f8d",
   "metadata": {},
   "outputs": [],
   "source": [
    "print(\"train:\", len(data_train_original))\n",
    "print(\"valid:\", len(data_valid_original))\n",
    "print(\"test:\", len(data_test_original))"
   ]
  },
  {
   "cell_type": "code",
   "execution_count": null,
   "id": "6b1d03c6-08e8-44d8-b0ad-8b2f266ff603",
   "metadata": {},
   "outputs": [],
   "source": [
    "for comment in data_train_original.take(4):\n",
    "    print(comment[\"comment_text\"].numpy())\n",
    "    [print(emotion,\": \", comment[emotion].numpy()) for emotion in comment if (emotion!=\"comment_text\") & (str(comment[emotion].numpy())==\"True\")]\n",
    "    label = [float(comment[emotion]) for emotion in comment if emotion!=\"comment_text\"]\n",
    "    print(label)\n",
    "                   "
   ]
  },
  {
   "cell_type": "markdown",
   "id": "993d0c0f-2fd7-4c3e-bae2-9811f573b8c6",
   "metadata": {},
   "source": [
    "### Build Model"
   ]
  },
  {
   "cell_type": "markdown",
   "id": "4a86dbfd-43a0-4e13-8ae8-ae084886a9ff",
   "metadata": {
    "tags": []
   },
   "source": [
    "#### Helper Functions"
   ]
  },
  {
   "cell_type": "markdown",
   "id": "b84e921f-53b6-4829-b921-49faaac70500",
   "metadata": {
    "tags": []
   },
   "source": [
    "##### Plot Model History"
   ]
  },
  {
   "cell_type": "code",
   "execution_count": 8,
   "id": "1bf22fd3-12fc-4891-9441-3cffa2abd0eb",
   "metadata": {
    "tags": []
   },
   "outputs": [],
   "source": [
    "def render_history(history):\n",
    "    plt.plot(history.history[\"loss\"], label=\"loss\")\n",
    "    plt.plot(history.history[\"val_loss\"], label=\"val_loss\")\n",
    "    plt.legend()\n",
    "    plt.show()\n",
    "    plt.close()\n",
    "    \n",
    "    plt.plot(history.history[\"accuracy\"], label=\"accuracy\")\n",
    "    plt.plot(history.history[\"val_accuracy\"], label=\"val_accuracy\")\n",
    "    plt.legend()\n",
    "    plt.show()\n",
    "    plt.close()"
   ]
  },
  {
   "cell_type": "markdown",
   "id": "06c7ee12-939b-47ff-9d0b-77f840df362a",
   "metadata": {
    "tags": []
   },
   "source": [
    "#### Save Checkpoints During Training - Callback Function"
   ]
  },
  {
   "cell_type": "code",
   "execution_count": 9,
   "id": "3ee7fdfc-0b18-4ec2-8925-e0bc49ed8ce2",
   "metadata": {},
   "outputs": [],
   "source": [
    "model_dir = \"../../models/tf_load_and_save_tf/model1/\"\n",
    "\n",
    "saved_dir = model_dir + \"saved/\"\n",
    "checkpoint_dir = model_dir + \"cp/\"\n",
    "history_dir = model_dir + \"history/\"\n",
    "\n",
    "checkpoint_path = checkpoint_dir + \"cp-{epoch:02d}.ckpt\"\n",
    "\n",
    "\n",
    "Path(saved_dir).mkdir(parents=True, exist_ok=True)\n",
    "Path(checkpoint_dir).mkdir(parents=True, exist_ok=True)\n",
    "Path(history_dir).mkdir(parents=True, exist_ok=True)"
   ]
  },
  {
   "cell_type": "code",
   "execution_count": 10,
   "id": "e5eb6757-e322-42a3-b0ba-48628f2429f7",
   "metadata": {},
   "outputs": [],
   "source": [
    "cp_callback = tf.keras.callbacks.ModelCheckpoint(\n",
    "    filepath=checkpoint_path,\n",
    "    save_weights_only=True,\n",
    "    verbose=1\n",
    ")"
   ]
  },
  {
   "cell_type": "code",
   "execution_count": 11,
   "id": "cd0a79e2-6fcb-4bb9-9265-ea5191285fe3",
   "metadata": {},
   "outputs": [
    {
     "name": "stdout",
     "output_type": "stream",
     "text": [
      "../../models/tf_load_and_save_tf/model1/cp/cp-{epoch:02d}.ckpt\n",
      "../../models/tf_load_and_save_tf/model1/cp/\n",
      ".  ..\n"
     ]
    }
   ],
   "source": [
    "# Test if directory is accessible\n",
    "print(checkpoint_path)\n",
    "print(checkpoint_dir)\n",
    "!ls -a $checkpoint_dir"
   ]
  },
  {
   "cell_type": "markdown",
   "id": "f7090b0e-7606-48dd-bab6-7cbd85eba47c",
   "metadata": {
    "tags": []
   },
   "source": [
    "#### Set Hyperparameters"
   ]
  },
  {
   "cell_type": "code",
   "execution_count": 12,
   "id": "a6cd6f10-316b-49dd-b571-386f59c0fde6",
   "metadata": {},
   "outputs": [],
   "source": [
    "vocabulary_size = 10_000\n",
    "sequence_length = 32\n",
    "batch_size = 16\n",
    "epochs = 5"
   ]
  },
  {
   "cell_type": "markdown",
   "id": "45b35f2f-9189-49b9-9d69-4cc49fb8752b",
   "metadata": {},
   "source": [
    "#### Define Encoder"
   ]
  },
  {
   "cell_type": "code",
   "execution_count": 13,
   "id": "a448075a-d02b-4c4f-ac60-b35311d2083d",
   "metadata": {
    "tags": []
   },
   "outputs": [],
   "source": [
    "encoder = layers.TextVectorization(\n",
    "    max_tokens=vocabulary_size,\n",
    "    output_sequence_length=sequence_length,\n",
    "    standardize=\"lower_and_strip_punctuation\",\n",
    "    split=\"whitespace\",\n",
    "    output_mode=\"int\",\n",
    ")"
   ]
  },
  {
   "cell_type": "code",
   "execution_count": 14,
   "id": "89757bb5-b3fa-4848-b2c9-60571d13a2c8",
   "metadata": {},
   "outputs": [],
   "source": [
    "encoder.adapt(data_train_original.map(lambda comment: comment[\"comment_text\"]).batch(1024))"
   ]
  },
  {
   "cell_type": "code",
   "execution_count": 15,
   "id": "5d656e9a-31fe-4809-b540-3e79674b4d2d",
   "metadata": {
    "tags": []
   },
   "outputs": [
    {
     "name": "stdout",
     "output_type": "stream",
     "text": [
      "10000 ['', '[UNK]', 'the', 'i', 'to', 'a', 'you', 'and', 'is', 'that', 'name', 'it', 'of', 'this', 'in', 'for', 'was', 'my', 'not', 'but', 'be', 'on', 'so', 'just', 'have', 'are', 'like', 'with', 'me', 'they', 'your', 'he', 'what', 'its', 'if', 'as', 'im', 'at', 'all', 'about', 'no', 'do', 'love', 'one', 'get', 'people', 'we', 'would', 'good', 'dont']\n"
     ]
    }
   ],
   "source": [
    "vocabulary = encoder.get_vocabulary()\n",
    "print(encoder.vocabulary_size(), vocabulary[:50])"
   ]
  },
  {
   "cell_type": "code",
   "execution_count": 16,
   "id": "941f73ef-bc78-41ec-acce-3cea14c0bfb9",
   "metadata": {},
   "outputs": [],
   "source": [
    "data_train = data_train_original.map(lambda comment: (comment.pop(\"comment_text\"), [float(comment[emotion]) for emotion in comment]))\n",
    "data_train = data_train.cache()\n",
    "data_train = data_train.shuffle(50_000)\n",
    "data_train = data_train.batch(batch_size)\n",
    "\n",
    "data_valid = data_valid_original.map(lambda comment: (comment.pop(\"comment_text\"), [float(comment[emotion]) for emotion in comment]))\n",
    "data_valid = data_valid.cache()\n",
    "data_valid = data_valid.batch(batch_size)\n",
    "\n",
    "data_test = data_test_original.map(lambda comment: (comment.pop(\"comment_text\"), [float(comment[emotion]) for emotion in comment]))\n",
    "data_test = data_test.cache()\n",
    "data_test = data_test.batch(batch_size)"
   ]
  },
  {
   "cell_type": "code",
   "execution_count": null,
   "id": "a5480679-7322-445b-8830-ed23f31c70f9",
   "metadata": {
    "jupyter": {
     "source_hidden": true
    },
    "tags": []
   },
   "outputs": [],
   "source": [
    "for x, y in data_train.take(1):\n",
    "    print(x)\n",
    "    print(y)"
   ]
  },
  {
   "cell_type": "markdown",
   "id": "64790d43-1d18-47a4-a4e5-876fc97c65c0",
   "metadata": {},
   "source": [
    "#### Define Model"
   ]
  },
  {
   "cell_type": "code",
   "execution_count": 17,
   "id": "11129387-2304-440c-bdc0-c53743727348",
   "metadata": {},
   "outputs": [],
   "source": [
    "def create_model():\n",
    "    model = models.Sequential()\n",
    "    \n",
    "    model.add(encoder)\n",
    "    model.add(layers.Dense(16, activation=\"relu\"))\n",
    "    model.add(layers.Dense(28, activation=\"sigmoid\"))\n",
    "    \n",
    "    model.compile(\n",
    "        optimizer=\"adam\",\n",
    "        loss=\"binary_crossentropy\",\n",
    "        metrics=[\"accuracy\"],\n",
    "    )\n",
    "        \n",
    "    return model"
   ]
  },
  {
   "cell_type": "code",
   "execution_count": 18,
   "id": "0ae37aa4-9cef-4336-a548-cda1fcad2b44",
   "metadata": {},
   "outputs": [
    {
     "name": "stdout",
     "output_type": "stream",
     "text": [
      "Model: \"sequential\"\n",
      "_________________________________________________________________\n",
      " Layer (type)                Output Shape              Param #   \n",
      "=================================================================\n",
      " text_vectorization (TextVec  (None, 32)               0         \n",
      " torization)                                                     \n",
      "                                                                 \n",
      " dense (Dense)               (None, 16)                528       \n",
      "                                                                 \n",
      " dense_1 (Dense)             (None, 28)                476       \n",
      "                                                                 \n",
      "=================================================================\n",
      "Total params: 1,004\n",
      "Trainable params: 1,004\n",
      "Non-trainable params: 0\n",
      "_________________________________________________________________\n"
     ]
    }
   ],
   "source": [
    "model1 = create_model()\n",
    "model1.summary()"
   ]
  },
  {
   "cell_type": "markdown",
   "id": "22343bd9-152c-46ed-ba5b-8fae5c809b5c",
   "metadata": {},
   "source": [
    "#### Train Model 1"
   ]
  },
  {
   "cell_type": "code",
   "execution_count": 19,
   "id": "23dbfa9c-da97-45d2-88cf-7500fb9c1896",
   "metadata": {},
   "outputs": [
    {
     "name": "stdout",
     "output_type": "stream",
     "text": [
      "Epoch 1/5\n",
      "2687/2714 [============================>.] - ETA: 0s - loss: 8.3162 - accuracy: 0.1999\n",
      "Epoch 1: saving model to ../../models/tf_load_and_save_tf/model1/cp/cp-01.ckpt\n",
      "2714/2714 [==============================] - 6s 2ms/step - loss: 8.2395 - accuracy: 0.2009 - val_loss: 0.3363 - val_accuracy: 0.2857\n",
      "Epoch 2/5\n",
      "2701/2714 [============================>.] - ETA: 0s - loss: 0.2151 - accuracy: 0.2929\n",
      "Epoch 2: saving model to ../../models/tf_load_and_save_tf/model1/cp/cp-02.ckpt\n",
      "2714/2714 [==============================] - 4s 1ms/step - loss: 0.2149 - accuracy: 0.2927 - val_loss: 0.1693 - val_accuracy: 0.2879\n",
      "Epoch 3/5\n",
      "2684/2714 [============================>.] - ETA: 0s - loss: 0.1570 - accuracy: 0.2982\n",
      "Epoch 3: saving model to ../../models/tf_load_and_save_tf/model1/cp/cp-03.ckpt\n",
      "2714/2714 [==============================] - 4s 2ms/step - loss: 0.1569 - accuracy: 0.2982 - val_loss: 0.1532 - val_accuracy: 0.2962\n",
      "Epoch 4/5\n",
      "2698/2714 [============================>.] - ETA: 0s - loss: 0.1504 - accuracy: 0.2999\n",
      "Epoch 4: saving model to ../../models/tf_load_and_save_tf/model1/cp/cp-04.ckpt\n",
      "2714/2714 [==============================] - 3s 1ms/step - loss: 0.1503 - accuracy: 0.2999 - val_loss: 0.1515 - val_accuracy: 0.2960\n",
      "Epoch 5/5\n",
      "2712/2714 [============================>.] - ETA: 0s - loss: 0.1494 - accuracy: 0.3003\n",
      "Epoch 5: saving model to ../../models/tf_load_and_save_tf/model1/cp/cp-05.ckpt\n",
      "2714/2714 [==============================] - 3s 1ms/step - loss: 0.1494 - accuracy: 0.3003 - val_loss: 0.1498 - val_accuracy: 0.2958\n"
     ]
    },
    {
     "data": {
      "image/png": "[encoded data removed]",
      "text/plain": [
       "<Figure size 432x288 with 1 Axes>"
      ]
     },
     "metadata": {
      "needs_background": "light"
     },
     "output_type": "display_data"
    },
    {
     "data": {
      "image/png": "[encoded data removed]",
      "text/plain": [
       "<Figure size 432x288 with 1 Axes>"
      ]
     },
     "metadata": {
      "needs_background": "light"
     },
     "output_type": "display_data"
    }
   ],
   "source": [
    "history = model1.fit(\n",
    "    data_train,\n",
    "    epochs=epochs,\n",
    "    validation_data=data_valid,\n",
    "    callbacks=[cp_callback]\n",
    ")\n",
    "\n",
    "render_history(history)"
   ]
  },
  {
   "cell_type": "markdown",
   "id": "7a8b74a5-cfb9-4e63-af92-7f73c0b7825e",
   "metadata": {},
   "source": [
    "#### Test Model 1 on Test Data"
   ]
  },
  {
   "cell_type": "code",
   "execution_count": 20,
   "id": "d177041e-0b9f-4b34-9ac1-df4b2078aeb7",
   "metadata": {},
   "outputs": [
    {
     "name": "stdout",
     "output_type": "stream",
     "text": [
      "340/340 [==============================] - 1s 2ms/step - loss: 0.1478 - accuracy: 0.3004\n"
     ]
    },
    {
     "data": {
      "text/plain": [
       "[0.14780865609645844, 0.3003500998020172]"
      ]
     },
     "execution_count": 20,
     "metadata": {},
     "output_type": "execute_result"
    }
   ],
   "source": [
    "model1.evaluate(data_test)"
   ]
  },
  {
   "cell_type": "markdown",
   "id": "ff8c9538-015c-45b7-9f2e-467a912b5b1b",
   "metadata": {},
   "source": [
    "### Saving"
   ]
  },
  {
   "cell_type": "markdown",
   "id": "ec2a16bb-fe05-479e-822b-51eae74db9b7",
   "metadata": {},
   "source": [
    "#### Safe the Model"
   ]
  },
  {
   "cell_type": "code",
   "execution_count": 21,
   "id": "18bfbaf1-f6f2-4613-89fb-0f7886dec5ba",
   "metadata": {},
   "outputs": [
    {
     "name": "stderr",
     "output_type": "stream",
     "text": [
      "2022-05-13 15:18:17.990322: W tensorflow/python/util/util.cc:368] Sets are not currently considered sequences, but this may change in the future, so consider avoiding using them.\n"
     ]
    },
    {
     "name": "stdout",
     "output_type": "stream",
     "text": [
      "INFO:tensorflow:Assets written to: ../../models/tf_load_and_save_tf/model1/saved/assets\n"
     ]
    },
    {
     "name": "stderr",
     "output_type": "stream",
     "text": [
      "INFO:tensorflow:Assets written to: ../../models/tf_load_and_save_tf/model1/saved/assets\n"
     ]
    }
   ],
   "source": [
    "model1.save(saved_dir)"
   ]
  },
  {
   "cell_type": "markdown",
   "id": "b98a65aa-c383-4400-a4e2-c1200d191ada",
   "metadata": {},
   "source": [
    "#### Safe Model History - as JSON"
   ]
  },
  {
   "cell_type": "code",
   "execution_count": 37,
   "id": "f27276b9-0eea-4c20-82f4-3d54fec4f27e",
   "metadata": {},
   "outputs": [],
   "source": [
    "history_path_json = history_dir + \"model1_history.json\"\n",
    "json.dump(history.history, open(history_path_json, 'w'))"
   ]
  },
  {
   "cell_type": "markdown",
   "id": "b23b478b-63fc-40b6-a66e-e5b50af98b5e",
   "metadata": {},
   "source": [
    "#### Safe Model History - as CSV with Pandas"
   ]
  },
  {
   "cell_type": "code",
   "execution_count": 38,
   "id": "a12ede38-ed07-4b6f-87c2-9a38653cc57d",
   "metadata": {},
   "outputs": [],
   "source": [
    "history_path_csv = history_dir + \"model1_history.csv\"\n",
    "pd.DataFrame.from_dict(history.history).to_csv(history_path_csv, index=False)"
   ]
  },
  {
   "cell_type": "markdown",
   "id": "e461532d-ffb7-4a26-90a8-304584b1dee7",
   "metadata": {},
   "source": [
    "### Loading"
   ]
  },
  {
   "cell_type": "markdown",
   "id": "f91baa9a-88ee-464d-adbd-c33b60856e78",
   "metadata": {},
   "source": [
    "#### Create a New Model with the same Architecture as Model 1"
   ]
  },
  {
   "cell_type": "code",
   "execution_count": 24,
   "id": "05cf100d-c8ba-4f99-ab26-0792db0a26b7",
   "metadata": {},
   "outputs": [
    {
     "name": "stdout",
     "output_type": "stream",
     "text": [
      "Model: \"sequential_1\"\n",
      "_________________________________________________________________\n",
      " Layer (type)                Output Shape              Param #   \n",
      "=================================================================\n",
      " text_vectorization (TextVec  (None, 32)               0         \n",
      " torization)                                                     \n",
      "                                                                 \n",
      " dense_2 (Dense)             (None, 16)                528       \n",
      "                                                                 \n",
      " dense_3 (Dense)             (None, 28)                476       \n",
      "                                                                 \n",
      "=================================================================\n",
      "Total params: 1,004\n",
      "Trainable params: 1,004\n",
      "Non-trainable params: 0\n",
      "_________________________________________________________________\n"
     ]
    }
   ],
   "source": [
    "model2 = create_model()\n",
    "\n",
    "model2.summary()"
   ]
  },
  {
   "cell_type": "markdown",
   "id": "a7e5477f-7e98-4b91-b6d7-aee61bc79773",
   "metadata": {},
   "source": [
    "#### Test the Untrained Model"
   ]
  },
  {
   "cell_type": "code",
   "execution_count": 25,
   "id": "8ab4c7f0-6458-4679-9704-aaa2fd0ccd23",
   "metadata": {},
   "outputs": [
    {
     "name": "stdout",
     "output_type": "stream",
     "text": [
      "340/340 [==============================] - 1s 949us/step - loss: 150.5754 - accuracy: 0.0223\n"
     ]
    },
    {
     "data": {
      "text/plain": [
       "[150.5753936767578, 0.02229592762887478]"
      ]
     },
     "execution_count": 25,
     "metadata": {},
     "output_type": "execute_result"
    }
   ],
   "source": [
    "model2.evaluate(data_test)"
   ]
  },
  {
   "cell_type": "markdown",
   "id": "83f6b172-60bd-4760-8813-44599051b779",
   "metadata": {},
   "source": [
    "#### Load Weights from First Model"
   ]
  },
  {
   "cell_type": "code",
   "execution_count": 26,
   "id": "403176ee-2005-4e00-88fa-69f9680755fb",
   "metadata": {},
   "outputs": [
    {
     "name": "stdout",
     "output_type": "stream",
     "text": [
      "checkpoint\t\t\tcp-03.ckpt.index\n",
      "cp-01.ckpt.data-00000-of-00001\tcp-04.ckpt.data-00000-of-00001\n",
      "cp-01.ckpt.index\t\tcp-04.ckpt.index\n",
      "cp-02.ckpt.data-00000-of-00001\tcp-05.ckpt.data-00000-of-00001\n",
      "cp-02.ckpt.index\t\tcp-05.ckpt.index\n",
      "cp-03.ckpt.data-00000-of-00001\n"
     ]
    }
   ],
   "source": [
    "!ls $checkpoint_dir"
   ]
  },
  {
   "cell_type": "code",
   "execution_count": 27,
   "id": "cd3ec19b-acdb-4cb0-a33a-1ce7592c71a1",
   "metadata": {},
   "outputs": [
    {
     "data": {
      "text/plain": [
       "'../../models/tf_load_and_save_tf/model1/cp/cp-05.ckpt'"
      ]
     },
     "execution_count": 27,
     "metadata": {},
     "output_type": "execute_result"
    }
   ],
   "source": [
    "latest = tf.train.latest_checkpoint(checkpoint_dir)\n",
    "latest"
   ]
  },
  {
   "cell_type": "code",
   "execution_count": 29,
   "id": "178b6ee5-14eb-4aad-a1c0-01f0e77d4e16",
   "metadata": {},
   "outputs": [
    {
     "data": {
      "text/plain": [
       "<tensorflow.python.training.tracking.util.CheckpointLoadStatus at 0x7ff578cf0c10>"
      ]
     },
     "execution_count": 29,
     "metadata": {},
     "output_type": "execute_result"
    }
   ],
   "source": [
    "# model2.load_weights(checkpoint_dir + \"/cp-03.ckpt\")\n",
    "model2.load_weights(latest)"
   ]
  },
  {
   "cell_type": "markdown",
   "id": "06f7c4b0-6c63-4032-ba02-ff366703f5af",
   "metadata": {},
   "source": [
    "#### And Test Again"
   ]
  },
  {
   "cell_type": "code",
   "execution_count": 30,
   "id": "e8ab91e4-1f9a-4b15-897d-1bfc0fd142c2",
   "metadata": {},
   "outputs": [
    {
     "name": "stdout",
     "output_type": "stream",
     "text": [
      "340/340 [==============================] - 0s 986us/step - loss: 0.1478 - accuracy: 0.3004\n"
     ]
    },
    {
     "data": {
      "text/plain": [
       "[0.14780865609645844, 0.3003500998020172]"
      ]
     },
     "execution_count": 30,
     "metadata": {},
     "output_type": "execute_result"
    }
   ],
   "source": [
    "model2.evaluate(data_test)"
   ]
  },
  {
   "cell_type": "markdown",
   "id": "372890f0-8be8-4985-998e-ff6a90018fb7",
   "metadata": {},
   "source": [
    "#### Load Complete Model"
   ]
  },
  {
   "cell_type": "code",
   "execution_count": 31,
   "id": "6bc005da-7b59-4bcc-9df1-c22aa47c83f8",
   "metadata": {},
   "outputs": [],
   "source": [
    "model3 = tf.keras.models.load_model(saved_dir)"
   ]
  },
  {
   "cell_type": "code",
   "execution_count": 32,
   "id": "14202f43-75c3-4134-84dd-21399663c6e1",
   "metadata": {},
   "outputs": [
    {
     "name": "stdout",
     "output_type": "stream",
     "text": [
      "340/340 [==============================] - 0s 967us/step - loss: 0.1478 - accuracy: 0.3004\n"
     ]
    },
    {
     "data": {
      "text/plain": [
       "[0.14780865609645844, 0.3003500998020172]"
      ]
     },
     "execution_count": 32,
     "metadata": {},
     "output_type": "execute_result"
    }
   ],
   "source": [
    "model3.evaluate(data_test)"
   ]
  },
  {
   "cell_type": "markdown",
   "id": "d749557e-332c-48b8-ad80-b81ef1022a40",
   "metadata": {},
   "source": [
    "#### Load and Plot History"
   ]
  },
  {
   "cell_type": "code",
   "execution_count": 39,
   "id": "812bf1a3-3b48-4ec6-ba61-242eb766f3ff",
   "metadata": {},
   "outputs": [],
   "source": [
    "history_loaded = json.load(open(history_path_json, \"r\"))"
   ]
  },
  {
   "cell_type": "code",
   "execution_count": 41,
   "id": "737641e5-3c94-41eb-98c8-2523b8e18c70",
   "metadata": {},
   "outputs": [],
   "source": [
    "model2.history.history = history_loaded"
   ]
  },
  {
   "cell_type": "code",
   "execution_count": 42,
   "id": "142654ac-c01d-4831-94bc-d7628a137a6c",
   "metadata": {},
   "outputs": [
    {
     "data": {
      "image/png": "[encoded data removed]",
      "text/plain": [
       "<Figure size 432x288 with 1 Axes>"
      ]
     },
     "metadata": {
      "needs_background": "light"
     },
     "output_type": "display_data"
    },
    {
     "data": {
      "image/png": "[encoded data removed]",
      "text/plain": [
       "<Figure size 432x288 with 1 Axes>"
      ]
     },
     "metadata": {
      "needs_background": "light"
     },
     "output_type": "display_data"
    }
   ],
   "source": [
    "render_history(model2.history)"
   ]
  }
 ],
 "metadata": {
  "kernelspec": {
   "display_name": "dsr-setup",
   "language": "python",
   "name": "dsr-setup"
  },
  "language_info": {
   "codemirror_mode": {
    "name": "ipython",
    "version": 3
   },
   "file_extension": ".py",
   "mimetype": "text/x-python",
   "name": "python",
   "nbconvert_exporter": "python",
   "pygments_lexer": "ipython3",
   "version": "3.8.13"
  }
 },
 "nbformat": 4,
 "nbformat_minor": 5
}
